{
 "cells": [
  {
   "cell_type": "markdown",
   "metadata": {
    "id": "zVKlotolhmEa"
   },
   "source": [
    "# IML - MID TERM ASSIGNMENT - FACTORS AFFECTING ATTRITION"
   ]
  },
  {
   "cell_type": "markdown",
   "metadata": {
    "id": "uGIO_pGEmKs6"
   },
   "source": [
    "### Team Members    \n",
    "##### 1) D22017 - P. Gowtham Kumar    \n",
    "##### 2) D22041 - R. Sai Sasi Sekhar\n",
    "##### 3) D22049 - B. Vinay Kumar "
   ]
  },
  {
   "cell_type": "markdown",
   "metadata": {
    "id": "flLScFjCmKyM"
   },
   "source": [
    "#### **Problem Statement : Exploratory Data Analysis (EDA) on the given Attrition data set for finding the factors that might affect the attrition**   "
   ]
  },
  {
   "cell_type": "code",
   "execution_count": 5,
   "metadata": {
    "executionInfo": {
     "elapsed": 343,
     "status": "ok",
     "timestamp": 1665312919235,
     "user": {
      "displayName": "SAI.SASI.SEKHAR RALLABANDI",
      "userId": "03962991214365984155"
     },
     "user_tz": -330
    },
    "id": "6VL1Rtg6hHTL"
   },
   "outputs": [],
   "source": [
    "# Importing libraries required for the analysis\n",
    "import pandas as pd\n",
    "import numpy as np\n",
    "import seaborn as sns\n",
    "import matplotlib.pyplot as plt"
   ]
  },
  {
   "cell_type": "code",
   "execution_count": 6,
   "metadata": {
    "colab": {
     "base_uri": "https://localhost:8080/",
     "height": 74
    },
    "executionInfo": {
     "elapsed": 70541,
     "status": "ok",
     "timestamp": 1665312990607,
     "user": {
      "displayName": "SAI.SASI.SEKHAR RALLABANDI",
      "userId": "03962991214365984155"
     },
     "user_tz": -330
    },
    "id": "hdjSF2bQjgHq",
    "outputId": "4a1618f9-bd15-4c81-b660-7567d9042b3f"
   },
   "outputs": [
    {
     "data": {
      "text/html": [
       "\n",
       "     <input type=\"file\" id=\"files-27fd4751-a6ac-427d-867a-bda8483d8b74\" name=\"files[]\" multiple disabled\n",
       "        style=\"border:none\" />\n",
       "     <output id=\"result-27fd4751-a6ac-427d-867a-bda8483d8b74\">\n",
       "      Upload widget is only available when the cell has been executed in the\n",
       "      current browser session. Please rerun this cell to enable.\n",
       "      </output>\n",
       "      <script>// Copyright 2017 Google LLC\n",
       "//\n",
       "// Licensed under the Apache License, Version 2.0 (the \"License\");\n",
       "// you may not use this file except in compliance with the License.\n",
       "// You may obtain a copy of the License at\n",
       "//\n",
       "//      http://www.apache.org/licenses/LICENSE-2.0\n",
       "//\n",
       "// Unless required by applicable law or agreed to in writing, software\n",
       "// distributed under the License is distributed on an \"AS IS\" BASIS,\n",
       "// WITHOUT WARRANTIES OR CONDITIONS OF ANY KIND, either express or implied.\n",
       "// See the License for the specific language governing permissions and\n",
       "// limitations under the License.\n",
       "\n",
       "/**\n",
       " * @fileoverview Helpers for google.colab Python module.\n",
       " */\n",
       "(function(scope) {\n",
       "function span(text, styleAttributes = {}) {\n",
       "  const element = document.createElement('span');\n",
       "  element.textContent = text;\n",
       "  for (const key of Object.keys(styleAttributes)) {\n",
       "    element.style[key] = styleAttributes[key];\n",
       "  }\n",
       "  return element;\n",
       "}\n",
       "\n",
       "// Max number of bytes which will be uploaded at a time.\n",
       "const MAX_PAYLOAD_SIZE = 100 * 1024;\n",
       "\n",
       "function _uploadFiles(inputId, outputId) {\n",
       "  const steps = uploadFilesStep(inputId, outputId);\n",
       "  const outputElement = document.getElementById(outputId);\n",
       "  // Cache steps on the outputElement to make it available for the next call\n",
       "  // to uploadFilesContinue from Python.\n",
       "  outputElement.steps = steps;\n",
       "\n",
       "  return _uploadFilesContinue(outputId);\n",
       "}\n",
       "\n",
       "// This is roughly an async generator (not supported in the browser yet),\n",
       "// where there are multiple asynchronous steps and the Python side is going\n",
       "// to poll for completion of each step.\n",
       "// This uses a Promise to block the python side on completion of each step,\n",
       "// then passes the result of the previous step as the input to the next step.\n",
       "function _uploadFilesContinue(outputId) {\n",
       "  const outputElement = document.getElementById(outputId);\n",
       "  const steps = outputElement.steps;\n",
       "\n",
       "  const next = steps.next(outputElement.lastPromiseValue);\n",
       "  return Promise.resolve(next.value.promise).then((value) => {\n",
       "    // Cache the last promise value to make it available to the next\n",
       "    // step of the generator.\n",
       "    outputElement.lastPromiseValue = value;\n",
       "    return next.value.response;\n",
       "  });\n",
       "}\n",
       "\n",
       "/**\n",
       " * Generator function which is called between each async step of the upload\n",
       " * process.\n",
       " * @param {string} inputId Element ID of the input file picker element.\n",
       " * @param {string} outputId Element ID of the output display.\n",
       " * @return {!Iterable<!Object>} Iterable of next steps.\n",
       " */\n",
       "function* uploadFilesStep(inputId, outputId) {\n",
       "  const inputElement = document.getElementById(inputId);\n",
       "  inputElement.disabled = false;\n",
       "\n",
       "  const outputElement = document.getElementById(outputId);\n",
       "  outputElement.innerHTML = '';\n",
       "\n",
       "  const pickedPromise = new Promise((resolve) => {\n",
       "    inputElement.addEventListener('change', (e) => {\n",
       "      resolve(e.target.files);\n",
       "    });\n",
       "  });\n",
       "\n",
       "  const cancel = document.createElement('button');\n",
       "  inputElement.parentElement.appendChild(cancel);\n",
       "  cancel.textContent = 'Cancel upload';\n",
       "  const cancelPromise = new Promise((resolve) => {\n",
       "    cancel.onclick = () => {\n",
       "      resolve(null);\n",
       "    };\n",
       "  });\n",
       "\n",
       "  // Wait for the user to pick the files.\n",
       "  const files = yield {\n",
       "    promise: Promise.race([pickedPromise, cancelPromise]),\n",
       "    response: {\n",
       "      action: 'starting',\n",
       "    }\n",
       "  };\n",
       "\n",
       "  cancel.remove();\n",
       "\n",
       "  // Disable the input element since further picks are not allowed.\n",
       "  inputElement.disabled = true;\n",
       "\n",
       "  if (!files) {\n",
       "    return {\n",
       "      response: {\n",
       "        action: 'complete',\n",
       "      }\n",
       "    };\n",
       "  }\n",
       "\n",
       "  for (const file of files) {\n",
       "    const li = document.createElement('li');\n",
       "    li.append(span(file.name, {fontWeight: 'bold'}));\n",
       "    li.append(span(\n",
       "        `(${file.type || 'n/a'}) - ${file.size} bytes, ` +\n",
       "        `last modified: ${\n",
       "            file.lastModifiedDate ? file.lastModifiedDate.toLocaleDateString() :\n",
       "                                    'n/a'} - `));\n",
       "    const percent = span('0% done');\n",
       "    li.appendChild(percent);\n",
       "\n",
       "    outputElement.appendChild(li);\n",
       "\n",
       "    const fileDataPromise = new Promise((resolve) => {\n",
       "      const reader = new FileReader();\n",
       "      reader.onload = (e) => {\n",
       "        resolve(e.target.result);\n",
       "      };\n",
       "      reader.readAsArrayBuffer(file);\n",
       "    });\n",
       "    // Wait for the data to be ready.\n",
       "    let fileData = yield {\n",
       "      promise: fileDataPromise,\n",
       "      response: {\n",
       "        action: 'continue',\n",
       "      }\n",
       "    };\n",
       "\n",
       "    // Use a chunked sending to avoid message size limits. See b/62115660.\n",
       "    let position = 0;\n",
       "    do {\n",
       "      const length = Math.min(fileData.byteLength - position, MAX_PAYLOAD_SIZE);\n",
       "      const chunk = new Uint8Array(fileData, position, length);\n",
       "      position += length;\n",
       "\n",
       "      const base64 = btoa(String.fromCharCode.apply(null, chunk));\n",
       "      yield {\n",
       "        response: {\n",
       "          action: 'append',\n",
       "          file: file.name,\n",
       "          data: base64,\n",
       "        },\n",
       "      };\n",
       "\n",
       "      let percentDone = fileData.byteLength === 0 ?\n",
       "          100 :\n",
       "          Math.round((position / fileData.byteLength) * 100);\n",
       "      percent.textContent = `${percentDone}% done`;\n",
       "\n",
       "    } while (position < fileData.byteLength);\n",
       "  }\n",
       "\n",
       "  // All done.\n",
       "  yield {\n",
       "    response: {\n",
       "      action: 'complete',\n",
       "    }\n",
       "  };\n",
       "}\n",
       "\n",
       "scope.google = scope.google || {};\n",
       "scope.google.colab = scope.google.colab || {};\n",
       "scope.google.colab._files = {\n",
       "  _uploadFiles,\n",
       "  _uploadFilesContinue,\n",
       "};\n",
       "})(self);\n",
       "</script> "
      ],
      "text/plain": [
       "<IPython.core.display.HTML object>"
      ]
     },
     "metadata": {},
     "output_type": "display_data"
    },
    {
     "name": "stdout",
     "output_type": "stream",
     "text": [
      "Saving attrition.csv to attrition.csv\n"
     ]
    }
   ],
   "source": [
    "# Importing the csv file\n",
    "from google.colab import files\n",
    " \n",
    " \n",
    "uploaded = files.upload()"
   ]
  },
  {
   "cell_type": "code",
   "execution_count": 7,
   "metadata": {
    "colab": {
     "base_uri": "https://localhost:8080/"
    },
    "executionInfo": {
     "elapsed": 10,
     "status": "ok",
     "timestamp": 1665312990608,
     "user": {
      "displayName": "SAI.SASI.SEKHAR RALLABANDI",
      "userId": "03962991214365984155"
     },
     "user_tz": -330
    },
    "id": "ulSQQU9ehuaq",
    "outputId": "f457d52c-b988-457f-c55f-174f92c09f6d"
   },
   "outputs": [
    {
     "name": "stdout",
     "output_type": "stream",
     "text": [
      "      Age  Attrition     BusinessTravel              Department  \\\n",
      "0      41          1      Travel_Rarely                   Sales   \n",
      "1      49          0  Travel_Frequently  Research & Development   \n",
      "2      37          1      Travel_Rarely  Research & Development   \n",
      "3      33          0  Travel_Frequently  Research & Development   \n",
      "4      27          0      Travel_Rarely  Research & Development   \n",
      "...   ...        ...                ...                     ...   \n",
      "1465   36          0  Travel_Frequently  Research & Development   \n",
      "1466   39          0      Travel_Rarely  Research & Development   \n",
      "1467   27          0      Travel_Rarely  Research & Development   \n",
      "1468   49          0  Travel_Frequently                   Sales   \n",
      "1469   34          0      Travel_Rarely  Research & Development   \n",
      "\n",
      "     EducationField  EnvironmentSatisfaction  Gender  JobInvolvement  \\\n",
      "0     Life Sciences                        2  Female               3   \n",
      "1     Life Sciences                        3    Male               2   \n",
      "2             Other                        4    Male               2   \n",
      "3     Life Sciences                        4  Female               3   \n",
      "4           Medical                        1    Male               3   \n",
      "...             ...                      ...     ...             ...   \n",
      "1465        Medical                        3    Male               4   \n",
      "1466        Medical                        4    Male               2   \n",
      "1467  Life Sciences                        2    Male               4   \n",
      "1468        Medical                        4    Male               2   \n",
      "1469        Medical                        2    Male               4   \n",
      "\n",
      "      JobLevel  JobSatisfaction MaritalStatus  MonthlyIncome OverTime  \\\n",
      "0            2                4        Single           5993      Yes   \n",
      "1            2                2       Married           5130       No   \n",
      "2            1                3        Single           2090      Yes   \n",
      "3            1                3       Married           2909      Yes   \n",
      "4            1                2       Married           3468       No   \n",
      "...        ...              ...           ...            ...      ...   \n",
      "1465         2                4       Married           2571       No   \n",
      "1466         3                1       Married           9991       No   \n",
      "1467         2                2       Married           6142      Yes   \n",
      "1468         2                2       Married           5390       No   \n",
      "1469         2                3       Married           4404       No   \n",
      "\n",
      "      TotalWorkingYears  WorkLifeBalance  YearsAtCompany  YearsInCurrentRole  \\\n",
      "0                     8                1               6                   4   \n",
      "1                    10                3              10                   7   \n",
      "2                     7                3               0                   0   \n",
      "3                     8                3               8                   7   \n",
      "4                     6                3               2                   2   \n",
      "...                 ...              ...             ...                 ...   \n",
      "1465                 17                3               5                   2   \n",
      "1466                  9                3               7                   7   \n",
      "1467                  6                3               6                   2   \n",
      "1468                 17                2               9                   6   \n",
      "1469                  6                4               4                   3   \n",
      "\n",
      "      YearsSinceLastPromotion  YearsWithCurrManager  DistanceFromHome  \n",
      "0                           0                     5                 1  \n",
      "1                           1                     7                 8  \n",
      "2                           0                     0                 2  \n",
      "3                           3                     0                 3  \n",
      "4                           2                     2                 2  \n",
      "...                       ...                   ...               ...  \n",
      "1465                        0                     3                23  \n",
      "1466                        1                     7                 6  \n",
      "1467                        0                     3                 4  \n",
      "1468                        0                     8                 2  \n",
      "1469                        1                     2                 8  \n",
      "\n",
      "[1470 rows x 20 columns]\n"
     ]
    }
   ],
   "source": [
    "# Reading the attrition.csv file\n",
    "import pandas as pd\n",
    "import io\n",
    " \n",
    "attrition = pd.read_csv(io.BytesIO(uploaded['attrition.csv']))\n",
    "print(attrition)"
   ]
  },
  {
   "cell_type": "code",
   "execution_count": 8,
   "metadata": {
    "colab": {
     "base_uri": "https://localhost:8080/"
    },
    "executionInfo": {
     "elapsed": 9,
     "status": "ok",
     "timestamp": 1665312990609,
     "user": {
      "displayName": "SAI.SASI.SEKHAR RALLABANDI",
      "userId": "03962991214365984155"
     },
     "user_tz": -330
    },
    "id": "K3n1zk5Fs7Yu",
    "outputId": "1bc528ec-5651-4494-e0d3-704228e5d2a1"
   },
   "outputs": [
    {
     "data": {
      "text/plain": [
       "(1470, 20)"
      ]
     },
     "execution_count": 8,
     "metadata": {},
     "output_type": "execute_result"
    }
   ],
   "source": [
    "#Getting the number of rows and columns \n",
    "attrition.shape"
   ]
  },
  {
   "cell_type": "code",
   "execution_count": 9,
   "metadata": {
    "colab": {
     "base_uri": "https://localhost:8080/"
    },
    "executionInfo": {
     "elapsed": 6,
     "status": "ok",
     "timestamp": 1665312990609,
     "user": {
      "displayName": "SAI.SASI.SEKHAR RALLABANDI",
      "userId": "03962991214365984155"
     },
     "user_tz": -330
    },
    "id": "ruBdqp7ps7nW",
    "outputId": "ab455406-2e8f-4c46-8430-3e8ebc580d80"
   },
   "outputs": [
    {
     "data": {
      "text/plain": [
       "Age                         int64\n",
       "Attrition                   int64\n",
       "BusinessTravel             object\n",
       "Department                 object\n",
       "EducationField             object\n",
       "EnvironmentSatisfaction     int64\n",
       "Gender                     object\n",
       "JobInvolvement              int64\n",
       "JobLevel                    int64\n",
       "JobSatisfaction             int64\n",
       "MaritalStatus              object\n",
       "MonthlyIncome               int64\n",
       "OverTime                   object\n",
       "TotalWorkingYears           int64\n",
       "WorkLifeBalance             int64\n",
       "YearsAtCompany              int64\n",
       "YearsInCurrentRole          int64\n",
       "YearsSinceLastPromotion     int64\n",
       "YearsWithCurrManager        int64\n",
       "DistanceFromHome            int64\n",
       "dtype: object"
      ]
     },
     "execution_count": 9,
     "metadata": {},
     "output_type": "execute_result"
    }
   ],
   "source": [
    "#Column name and data types of all the columns\n",
    "attrition.dtypes"
   ]
  },
  {
   "cell_type": "code",
   "execution_count": 10,
   "metadata": {
    "colab": {
     "base_uri": "https://localhost:8080/",
     "height": 357
    },
    "executionInfo": {
     "elapsed": 817,
     "status": "ok",
     "timestamp": 1665312991421,
     "user": {
      "displayName": "SAI.SASI.SEKHAR RALLABANDI",
      "userId": "03962991214365984155"
     },
     "user_tz": -330
    },
    "id": "PpAOOPkwjuWD",
    "outputId": "5c9236b7-5eb3-465c-817d-aa3aec1f5ab6"
   },
   "outputs": [
    {
     "data": {
      "text/html": [
       "\n",
       "  <div id=\"df-cfe4c5a3-d32b-46d2-95ff-de2e28a704ed\">\n",
       "    <div class=\"colab-df-container\">\n",
       "      <div>\n",
       "<style scoped>\n",
       "    .dataframe tbody tr th:only-of-type {\n",
       "        vertical-align: middle;\n",
       "    }\n",
       "\n",
       "    .dataframe tbody tr th {\n",
       "        vertical-align: top;\n",
       "    }\n",
       "\n",
       "    .dataframe thead th {\n",
       "        text-align: right;\n",
       "    }\n",
       "</style>\n",
       "<table border=\"1\" class=\"dataframe\">\n",
       "  <thead>\n",
       "    <tr style=\"text-align: right;\">\n",
       "      <th></th>\n",
       "      <th>Age</th>\n",
       "      <th>Attrition</th>\n",
       "      <th>BusinessTravel</th>\n",
       "      <th>Department</th>\n",
       "      <th>EducationField</th>\n",
       "      <th>EnvironmentSatisfaction</th>\n",
       "      <th>Gender</th>\n",
       "      <th>JobInvolvement</th>\n",
       "      <th>JobLevel</th>\n",
       "      <th>JobSatisfaction</th>\n",
       "      <th>MaritalStatus</th>\n",
       "      <th>MonthlyIncome</th>\n",
       "      <th>OverTime</th>\n",
       "      <th>TotalWorkingYears</th>\n",
       "      <th>WorkLifeBalance</th>\n",
       "      <th>YearsAtCompany</th>\n",
       "      <th>YearsInCurrentRole</th>\n",
       "      <th>YearsSinceLastPromotion</th>\n",
       "      <th>YearsWithCurrManager</th>\n",
       "      <th>DistanceFromHome</th>\n",
       "    </tr>\n",
       "  </thead>\n",
       "  <tbody>\n",
       "    <tr>\n",
       "      <th>388</th>\n",
       "      <td>42</td>\n",
       "      <td>0</td>\n",
       "      <td>Travel_Rarely</td>\n",
       "      <td>Research &amp; Development</td>\n",
       "      <td>Life Sciences</td>\n",
       "      <td>2</td>\n",
       "      <td>Female</td>\n",
       "      <td>3</td>\n",
       "      <td>1</td>\n",
       "      <td>1</td>\n",
       "      <td>Divorced</td>\n",
       "      <td>2576</td>\n",
       "      <td>No</td>\n",
       "      <td>8</td>\n",
       "      <td>3</td>\n",
       "      <td>5</td>\n",
       "      <td>2</td>\n",
       "      <td>1</td>\n",
       "      <td>2</td>\n",
       "      <td>1</td>\n",
       "    </tr>\n",
       "    <tr>\n",
       "      <th>796</th>\n",
       "      <td>25</td>\n",
       "      <td>1</td>\n",
       "      <td>Travel_Rarely</td>\n",
       "      <td>Research &amp; Development</td>\n",
       "      <td>Technical Degree</td>\n",
       "      <td>4</td>\n",
       "      <td>Male</td>\n",
       "      <td>3</td>\n",
       "      <td>1</td>\n",
       "      <td>4</td>\n",
       "      <td>Married</td>\n",
       "      <td>3691</td>\n",
       "      <td>Yes</td>\n",
       "      <td>7</td>\n",
       "      <td>4</td>\n",
       "      <td>7</td>\n",
       "      <td>7</td>\n",
       "      <td>5</td>\n",
       "      <td>6</td>\n",
       "      <td>4</td>\n",
       "    </tr>\n",
       "    <tr>\n",
       "      <th>333</th>\n",
       "      <td>43</td>\n",
       "      <td>0</td>\n",
       "      <td>Travel_Rarely</td>\n",
       "      <td>Research &amp; Development</td>\n",
       "      <td>Life Sciences</td>\n",
       "      <td>3</td>\n",
       "      <td>Female</td>\n",
       "      <td>3</td>\n",
       "      <td>3</td>\n",
       "      <td>1</td>\n",
       "      <td>Married</td>\n",
       "      <td>9985</td>\n",
       "      <td>No</td>\n",
       "      <td>10</td>\n",
       "      <td>2</td>\n",
       "      <td>1</td>\n",
       "      <td>0</td>\n",
       "      <td>0</td>\n",
       "      <td>0</td>\n",
       "      <td>7</td>\n",
       "    </tr>\n",
       "    <tr>\n",
       "      <th>654</th>\n",
       "      <td>39</td>\n",
       "      <td>0</td>\n",
       "      <td>Travel_Rarely</td>\n",
       "      <td>Human Resources</td>\n",
       "      <td>Life Sciences</td>\n",
       "      <td>4</td>\n",
       "      <td>Female</td>\n",
       "      <td>2</td>\n",
       "      <td>2</td>\n",
       "      <td>4</td>\n",
       "      <td>Married</td>\n",
       "      <td>5204</td>\n",
       "      <td>No</td>\n",
       "      <td>13</td>\n",
       "      <td>3</td>\n",
       "      <td>5</td>\n",
       "      <td>4</td>\n",
       "      <td>0</td>\n",
       "      <td>4</td>\n",
       "      <td>2</td>\n",
       "    </tr>\n",
       "    <tr>\n",
       "      <th>1060</th>\n",
       "      <td>24</td>\n",
       "      <td>1</td>\n",
       "      <td>Travel_Frequently</td>\n",
       "      <td>Research &amp; Development</td>\n",
       "      <td>Medical</td>\n",
       "      <td>2</td>\n",
       "      <td>Male</td>\n",
       "      <td>3</td>\n",
       "      <td>1</td>\n",
       "      <td>1</td>\n",
       "      <td>Single</td>\n",
       "      <td>3172</td>\n",
       "      <td>Yes</td>\n",
       "      <td>4</td>\n",
       "      <td>2</td>\n",
       "      <td>0</td>\n",
       "      <td>0</td>\n",
       "      <td>0</td>\n",
       "      <td>0</td>\n",
       "      <td>9</td>\n",
       "    </tr>\n",
       "  </tbody>\n",
       "</table>\n",
       "</div>\n",
       "      <button class=\"colab-df-convert\" onclick=\"convertToInteractive('df-cfe4c5a3-d32b-46d2-95ff-de2e28a704ed')\"\n",
       "              title=\"Convert this dataframe to an interactive table.\"\n",
       "              style=\"display:none;\">\n",
       "        \n",
       "  <svg xmlns=\"http://www.w3.org/2000/svg\" height=\"24px\"viewBox=\"0 0 24 24\"\n",
       "       width=\"24px\">\n",
       "    <path d=\"M0 0h24v24H0V0z\" fill=\"none\"/>\n",
       "    <path d=\"M18.56 5.44l.94 2.06.94-2.06 2.06-.94-2.06-.94-.94-2.06-.94 2.06-2.06.94zm-11 1L8.5 8.5l.94-2.06 2.06-.94-2.06-.94L8.5 2.5l-.94 2.06-2.06.94zm10 10l.94 2.06.94-2.06 2.06-.94-2.06-.94-.94-2.06-.94 2.06-2.06.94z\"/><path d=\"M17.41 7.96l-1.37-1.37c-.4-.4-.92-.59-1.43-.59-.52 0-1.04.2-1.43.59L10.3 9.45l-7.72 7.72c-.78.78-.78 2.05 0 2.83L4 21.41c.39.39.9.59 1.41.59.51 0 1.02-.2 1.41-.59l7.78-7.78 2.81-2.81c.8-.78.8-2.07 0-2.86zM5.41 20L4 18.59l7.72-7.72 1.47 1.35L5.41 20z\"/>\n",
       "  </svg>\n",
       "      </button>\n",
       "      \n",
       "  <style>\n",
       "    .colab-df-container {\n",
       "      display:flex;\n",
       "      flex-wrap:wrap;\n",
       "      gap: 12px;\n",
       "    }\n",
       "\n",
       "    .colab-df-convert {\n",
       "      background-color: #E8F0FE;\n",
       "      border: none;\n",
       "      border-radius: 50%;\n",
       "      cursor: pointer;\n",
       "      display: none;\n",
       "      fill: #1967D2;\n",
       "      height: 32px;\n",
       "      padding: 0 0 0 0;\n",
       "      width: 32px;\n",
       "    }\n",
       "\n",
       "    .colab-df-convert:hover {\n",
       "      background-color: #E2EBFA;\n",
       "      box-shadow: 0px 1px 2px rgba(60, 64, 67, 0.3), 0px 1px 3px 1px rgba(60, 64, 67, 0.15);\n",
       "      fill: #174EA6;\n",
       "    }\n",
       "\n",
       "    [theme=dark] .colab-df-convert {\n",
       "      background-color: #3B4455;\n",
       "      fill: #D2E3FC;\n",
       "    }\n",
       "\n",
       "    [theme=dark] .colab-df-convert:hover {\n",
       "      background-color: #434B5C;\n",
       "      box-shadow: 0px 1px 3px 1px rgba(0, 0, 0, 0.15);\n",
       "      filter: drop-shadow(0px 1px 2px rgba(0, 0, 0, 0.3));\n",
       "      fill: #FFFFFF;\n",
       "    }\n",
       "  </style>\n",
       "\n",
       "      <script>\n",
       "        const buttonEl =\n",
       "          document.querySelector('#df-cfe4c5a3-d32b-46d2-95ff-de2e28a704ed button.colab-df-convert');\n",
       "        buttonEl.style.display =\n",
       "          google.colab.kernel.accessAllowed ? 'block' : 'none';\n",
       "\n",
       "        async function convertToInteractive(key) {\n",
       "          const element = document.querySelector('#df-cfe4c5a3-d32b-46d2-95ff-de2e28a704ed');\n",
       "          const dataTable =\n",
       "            await google.colab.kernel.invokeFunction('convertToInteractive',\n",
       "                                                     [key], {});\n",
       "          if (!dataTable) return;\n",
       "\n",
       "          const docLinkHtml = 'Like what you see? Visit the ' +\n",
       "            '<a target=\"_blank\" href=https://colab.research.google.com/notebooks/data_table.ipynb>data table notebook</a>'\n",
       "            + ' to learn more about interactive tables.';\n",
       "          element.innerHTML = '';\n",
       "          dataTable['output_type'] = 'display_data';\n",
       "          await google.colab.output.renderOutput(dataTable, element);\n",
       "          const docLink = document.createElement('div');\n",
       "          docLink.innerHTML = docLinkHtml;\n",
       "          element.appendChild(docLink);\n",
       "        }\n",
       "      </script>\n",
       "    </div>\n",
       "  </div>\n",
       "  "
      ],
      "text/plain": [
       "      Age  Attrition     BusinessTravel              Department  \\\n",
       "388    42          0      Travel_Rarely  Research & Development   \n",
       "796    25          1      Travel_Rarely  Research & Development   \n",
       "333    43          0      Travel_Rarely  Research & Development   \n",
       "654    39          0      Travel_Rarely         Human Resources   \n",
       "1060   24          1  Travel_Frequently  Research & Development   \n",
       "\n",
       "        EducationField  EnvironmentSatisfaction  Gender  JobInvolvement  \\\n",
       "388      Life Sciences                        2  Female               3   \n",
       "796   Technical Degree                        4    Male               3   \n",
       "333      Life Sciences                        3  Female               3   \n",
       "654      Life Sciences                        4  Female               2   \n",
       "1060           Medical                        2    Male               3   \n",
       "\n",
       "      JobLevel  JobSatisfaction MaritalStatus  MonthlyIncome OverTime  \\\n",
       "388          1                1      Divorced           2576       No   \n",
       "796          1                4       Married           3691      Yes   \n",
       "333          3                1       Married           9985       No   \n",
       "654          2                4       Married           5204       No   \n",
       "1060         1                1        Single           3172      Yes   \n",
       "\n",
       "      TotalWorkingYears  WorkLifeBalance  YearsAtCompany  YearsInCurrentRole  \\\n",
       "388                   8                3               5                   2   \n",
       "796                   7                4               7                   7   \n",
       "333                  10                2               1                   0   \n",
       "654                  13                3               5                   4   \n",
       "1060                  4                2               0                   0   \n",
       "\n",
       "      YearsSinceLastPromotion  YearsWithCurrManager  DistanceFromHome  \n",
       "388                         1                     2                 1  \n",
       "796                         5                     6                 4  \n",
       "333                         0                     0                 7  \n",
       "654                         0                     4                 2  \n",
       "1060                        0                     0                 9  "
      ]
     },
     "execution_count": 10,
     "metadata": {},
     "output_type": "execute_result"
    }
   ],
   "source": [
    "#Observing the sample variables and entities of the data set\n",
    "attrition.sample(5)"
   ]
  },
  {
   "cell_type": "markdown",
   "metadata": {
    "id": "ysmRFyVOtMin"
   },
   "source": [
    "Understanding the data into two types of variables       \n",
    "1) Integer type Variables           \n",
    "2) Object type Variables             "
   ]
  },
  {
   "cell_type": "markdown",
   "metadata": {
    "id": "hEJ9yjzKtM5U"
   },
   "source": [
    "### Describing Integer type Variables"
   ]
  },
  {
   "cell_type": "code",
   "execution_count": 11,
   "metadata": {
    "colab": {
     "base_uri": "https://localhost:8080/",
     "height": 364
    },
    "executionInfo": {
     "elapsed": 14,
     "status": "ok",
     "timestamp": 1665312991423,
     "user": {
      "displayName": "SAI.SASI.SEKHAR RALLABANDI",
      "userId": "03962991214365984155"
     },
     "user_tz": -330
    },
    "id": "eWMhflCVj_2w",
    "outputId": "4719e44f-b43e-4139-b395-13a0a33c82a0"
   },
   "outputs": [
    {
     "data": {
      "text/html": [
       "\n",
       "  <div id=\"df-ebce8a10-eaf0-48a2-bdae-cd06b14c02de\">\n",
       "    <div class=\"colab-df-container\">\n",
       "      <div>\n",
       "<style scoped>\n",
       "    .dataframe tbody tr th:only-of-type {\n",
       "        vertical-align: middle;\n",
       "    }\n",
       "\n",
       "    .dataframe tbody tr th {\n",
       "        vertical-align: top;\n",
       "    }\n",
       "\n",
       "    .dataframe thead th {\n",
       "        text-align: right;\n",
       "    }\n",
       "</style>\n",
       "<table border=\"1\" class=\"dataframe\">\n",
       "  <thead>\n",
       "    <tr style=\"text-align: right;\">\n",
       "      <th></th>\n",
       "      <th>Age</th>\n",
       "      <th>Attrition</th>\n",
       "      <th>EnvironmentSatisfaction</th>\n",
       "      <th>JobInvolvement</th>\n",
       "      <th>JobLevel</th>\n",
       "      <th>JobSatisfaction</th>\n",
       "      <th>MonthlyIncome</th>\n",
       "      <th>TotalWorkingYears</th>\n",
       "      <th>WorkLifeBalance</th>\n",
       "      <th>YearsAtCompany</th>\n",
       "      <th>YearsInCurrentRole</th>\n",
       "      <th>YearsSinceLastPromotion</th>\n",
       "      <th>YearsWithCurrManager</th>\n",
       "      <th>DistanceFromHome</th>\n",
       "    </tr>\n",
       "  </thead>\n",
       "  <tbody>\n",
       "    <tr>\n",
       "      <th>count</th>\n",
       "      <td>1470.000000</td>\n",
       "      <td>1470.000000</td>\n",
       "      <td>1470.000000</td>\n",
       "      <td>1470.000000</td>\n",
       "      <td>1470.000000</td>\n",
       "      <td>1470.000000</td>\n",
       "      <td>1470.000000</td>\n",
       "      <td>1470.000000</td>\n",
       "      <td>1470.000000</td>\n",
       "      <td>1470.000000</td>\n",
       "      <td>1470.000000</td>\n",
       "      <td>1470.000000</td>\n",
       "      <td>1470.000000</td>\n",
       "      <td>1470.000000</td>\n",
       "    </tr>\n",
       "    <tr>\n",
       "      <th>mean</th>\n",
       "      <td>36.923810</td>\n",
       "      <td>0.161224</td>\n",
       "      <td>2.721769</td>\n",
       "      <td>2.729932</td>\n",
       "      <td>2.063946</td>\n",
       "      <td>2.728571</td>\n",
       "      <td>6502.931293</td>\n",
       "      <td>11.279592</td>\n",
       "      <td>2.761224</td>\n",
       "      <td>7.008163</td>\n",
       "      <td>4.229252</td>\n",
       "      <td>2.187755</td>\n",
       "      <td>4.123129</td>\n",
       "      <td>9.192517</td>\n",
       "    </tr>\n",
       "    <tr>\n",
       "      <th>std</th>\n",
       "      <td>9.135373</td>\n",
       "      <td>0.367863</td>\n",
       "      <td>1.093082</td>\n",
       "      <td>0.711561</td>\n",
       "      <td>1.106940</td>\n",
       "      <td>1.102846</td>\n",
       "      <td>4707.956783</td>\n",
       "      <td>7.780782</td>\n",
       "      <td>0.706476</td>\n",
       "      <td>6.126525</td>\n",
       "      <td>3.623137</td>\n",
       "      <td>3.222430</td>\n",
       "      <td>3.568136</td>\n",
       "      <td>8.106864</td>\n",
       "    </tr>\n",
       "    <tr>\n",
       "      <th>min</th>\n",
       "      <td>18.000000</td>\n",
       "      <td>0.000000</td>\n",
       "      <td>1.000000</td>\n",
       "      <td>1.000000</td>\n",
       "      <td>1.000000</td>\n",
       "      <td>1.000000</td>\n",
       "      <td>1009.000000</td>\n",
       "      <td>0.000000</td>\n",
       "      <td>1.000000</td>\n",
       "      <td>0.000000</td>\n",
       "      <td>0.000000</td>\n",
       "      <td>0.000000</td>\n",
       "      <td>0.000000</td>\n",
       "      <td>1.000000</td>\n",
       "    </tr>\n",
       "    <tr>\n",
       "      <th>25%</th>\n",
       "      <td>30.000000</td>\n",
       "      <td>0.000000</td>\n",
       "      <td>2.000000</td>\n",
       "      <td>2.000000</td>\n",
       "      <td>1.000000</td>\n",
       "      <td>2.000000</td>\n",
       "      <td>2911.000000</td>\n",
       "      <td>6.000000</td>\n",
       "      <td>2.000000</td>\n",
       "      <td>3.000000</td>\n",
       "      <td>2.000000</td>\n",
       "      <td>0.000000</td>\n",
       "      <td>2.000000</td>\n",
       "      <td>2.000000</td>\n",
       "    </tr>\n",
       "    <tr>\n",
       "      <th>50%</th>\n",
       "      <td>36.000000</td>\n",
       "      <td>0.000000</td>\n",
       "      <td>3.000000</td>\n",
       "      <td>3.000000</td>\n",
       "      <td>2.000000</td>\n",
       "      <td>3.000000</td>\n",
       "      <td>4919.000000</td>\n",
       "      <td>10.000000</td>\n",
       "      <td>3.000000</td>\n",
       "      <td>5.000000</td>\n",
       "      <td>3.000000</td>\n",
       "      <td>1.000000</td>\n",
       "      <td>3.000000</td>\n",
       "      <td>7.000000</td>\n",
       "    </tr>\n",
       "    <tr>\n",
       "      <th>75%</th>\n",
       "      <td>43.000000</td>\n",
       "      <td>0.000000</td>\n",
       "      <td>4.000000</td>\n",
       "      <td>3.000000</td>\n",
       "      <td>3.000000</td>\n",
       "      <td>4.000000</td>\n",
       "      <td>8379.000000</td>\n",
       "      <td>15.000000</td>\n",
       "      <td>3.000000</td>\n",
       "      <td>9.000000</td>\n",
       "      <td>7.000000</td>\n",
       "      <td>3.000000</td>\n",
       "      <td>7.000000</td>\n",
       "      <td>14.000000</td>\n",
       "    </tr>\n",
       "    <tr>\n",
       "      <th>max</th>\n",
       "      <td>60.000000</td>\n",
       "      <td>1.000000</td>\n",
       "      <td>4.000000</td>\n",
       "      <td>4.000000</td>\n",
       "      <td>5.000000</td>\n",
       "      <td>4.000000</td>\n",
       "      <td>19999.000000</td>\n",
       "      <td>40.000000</td>\n",
       "      <td>4.000000</td>\n",
       "      <td>40.000000</td>\n",
       "      <td>18.000000</td>\n",
       "      <td>15.000000</td>\n",
       "      <td>17.000000</td>\n",
       "      <td>29.000000</td>\n",
       "    </tr>\n",
       "  </tbody>\n",
       "</table>\n",
       "</div>\n",
       "      <button class=\"colab-df-convert\" onclick=\"convertToInteractive('df-ebce8a10-eaf0-48a2-bdae-cd06b14c02de')\"\n",
       "              title=\"Convert this dataframe to an interactive table.\"\n",
       "              style=\"display:none;\">\n",
       "        \n",
       "  <svg xmlns=\"http://www.w3.org/2000/svg\" height=\"24px\"viewBox=\"0 0 24 24\"\n",
       "       width=\"24px\">\n",
       "    <path d=\"M0 0h24v24H0V0z\" fill=\"none\"/>\n",
       "    <path d=\"M18.56 5.44l.94 2.06.94-2.06 2.06-.94-2.06-.94-.94-2.06-.94 2.06-2.06.94zm-11 1L8.5 8.5l.94-2.06 2.06-.94-2.06-.94L8.5 2.5l-.94 2.06-2.06.94zm10 10l.94 2.06.94-2.06 2.06-.94-2.06-.94-.94-2.06-.94 2.06-2.06.94z\"/><path d=\"M17.41 7.96l-1.37-1.37c-.4-.4-.92-.59-1.43-.59-.52 0-1.04.2-1.43.59L10.3 9.45l-7.72 7.72c-.78.78-.78 2.05 0 2.83L4 21.41c.39.39.9.59 1.41.59.51 0 1.02-.2 1.41-.59l7.78-7.78 2.81-2.81c.8-.78.8-2.07 0-2.86zM5.41 20L4 18.59l7.72-7.72 1.47 1.35L5.41 20z\"/>\n",
       "  </svg>\n",
       "      </button>\n",
       "      \n",
       "  <style>\n",
       "    .colab-df-container {\n",
       "      display:flex;\n",
       "      flex-wrap:wrap;\n",
       "      gap: 12px;\n",
       "    }\n",
       "\n",
       "    .colab-df-convert {\n",
       "      background-color: #E8F0FE;\n",
       "      border: none;\n",
       "      border-radius: 50%;\n",
       "      cursor: pointer;\n",
       "      display: none;\n",
       "      fill: #1967D2;\n",
       "      height: 32px;\n",
       "      padding: 0 0 0 0;\n",
       "      width: 32px;\n",
       "    }\n",
       "\n",
       "    .colab-df-convert:hover {\n",
       "      background-color: #E2EBFA;\n",
       "      box-shadow: 0px 1px 2px rgba(60, 64, 67, 0.3), 0px 1px 3px 1px rgba(60, 64, 67, 0.15);\n",
       "      fill: #174EA6;\n",
       "    }\n",
       "\n",
       "    [theme=dark] .colab-df-convert {\n",
       "      background-color: #3B4455;\n",
       "      fill: #D2E3FC;\n",
       "    }\n",
       "\n",
       "    [theme=dark] .colab-df-convert:hover {\n",
       "      background-color: #434B5C;\n",
       "      box-shadow: 0px 1px 3px 1px rgba(0, 0, 0, 0.15);\n",
       "      filter: drop-shadow(0px 1px 2px rgba(0, 0, 0, 0.3));\n",
       "      fill: #FFFFFF;\n",
       "    }\n",
       "  </style>\n",
       "\n",
       "      <script>\n",
       "        const buttonEl =\n",
       "          document.querySelector('#df-ebce8a10-eaf0-48a2-bdae-cd06b14c02de button.colab-df-convert');\n",
       "        buttonEl.style.display =\n",
       "          google.colab.kernel.accessAllowed ? 'block' : 'none';\n",
       "\n",
       "        async function convertToInteractive(key) {\n",
       "          const element = document.querySelector('#df-ebce8a10-eaf0-48a2-bdae-cd06b14c02de');\n",
       "          const dataTable =\n",
       "            await google.colab.kernel.invokeFunction('convertToInteractive',\n",
       "                                                     [key], {});\n",
       "          if (!dataTable) return;\n",
       "\n",
       "          const docLinkHtml = 'Like what you see? Visit the ' +\n",
       "            '<a target=\"_blank\" href=https://colab.research.google.com/notebooks/data_table.ipynb>data table notebook</a>'\n",
       "            + ' to learn more about interactive tables.';\n",
       "          element.innerHTML = '';\n",
       "          dataTable['output_type'] = 'display_data';\n",
       "          await google.colab.output.renderOutput(dataTable, element);\n",
       "          const docLink = document.createElement('div');\n",
       "          docLink.innerHTML = docLinkHtml;\n",
       "          element.appendChild(docLink);\n",
       "        }\n",
       "      </script>\n",
       "    </div>\n",
       "  </div>\n",
       "  "
      ],
      "text/plain": [
       "               Age    Attrition  EnvironmentSatisfaction  JobInvolvement  \\\n",
       "count  1470.000000  1470.000000              1470.000000     1470.000000   \n",
       "mean     36.923810     0.161224                 2.721769        2.729932   \n",
       "std       9.135373     0.367863                 1.093082        0.711561   \n",
       "min      18.000000     0.000000                 1.000000        1.000000   \n",
       "25%      30.000000     0.000000                 2.000000        2.000000   \n",
       "50%      36.000000     0.000000                 3.000000        3.000000   \n",
       "75%      43.000000     0.000000                 4.000000        3.000000   \n",
       "max      60.000000     1.000000                 4.000000        4.000000   \n",
       "\n",
       "          JobLevel  JobSatisfaction  MonthlyIncome  TotalWorkingYears  \\\n",
       "count  1470.000000      1470.000000    1470.000000        1470.000000   \n",
       "mean      2.063946         2.728571    6502.931293          11.279592   \n",
       "std       1.106940         1.102846    4707.956783           7.780782   \n",
       "min       1.000000         1.000000    1009.000000           0.000000   \n",
       "25%       1.000000         2.000000    2911.000000           6.000000   \n",
       "50%       2.000000         3.000000    4919.000000          10.000000   \n",
       "75%       3.000000         4.000000    8379.000000          15.000000   \n",
       "max       5.000000         4.000000   19999.000000          40.000000   \n",
       "\n",
       "       WorkLifeBalance  YearsAtCompany  YearsInCurrentRole  \\\n",
       "count      1470.000000     1470.000000         1470.000000   \n",
       "mean          2.761224        7.008163            4.229252   \n",
       "std           0.706476        6.126525            3.623137   \n",
       "min           1.000000        0.000000            0.000000   \n",
       "25%           2.000000        3.000000            2.000000   \n",
       "50%           3.000000        5.000000            3.000000   \n",
       "75%           3.000000        9.000000            7.000000   \n",
       "max           4.000000       40.000000           18.000000   \n",
       "\n",
       "       YearsSinceLastPromotion  YearsWithCurrManager  DistanceFromHome  \n",
       "count              1470.000000           1470.000000       1470.000000  \n",
       "mean                  2.187755              4.123129          9.192517  \n",
       "std                   3.222430              3.568136          8.106864  \n",
       "min                   0.000000              0.000000          1.000000  \n",
       "25%                   0.000000              2.000000          2.000000  \n",
       "50%                   1.000000              3.000000          7.000000  \n",
       "75%                   3.000000              7.000000         14.000000  \n",
       "max                  15.000000             17.000000         29.000000  "
      ]
     },
     "execution_count": 11,
     "metadata": {},
     "output_type": "execute_result"
    }
   ],
   "source": [
    "attrition.describe()"
   ]
  },
  {
   "cell_type": "markdown",
   "metadata": {
    "id": "8i53avS7InNI"
   },
   "source": [
    "### Describing Object type Variables"
   ]
  },
  {
   "cell_type": "code",
   "execution_count": 12,
   "metadata": {
    "colab": {
     "base_uri": "https://localhost:8080/",
     "height": 175
    },
    "executionInfo": {
     "elapsed": 14,
     "status": "ok",
     "timestamp": 1665312991424,
     "user": {
      "displayName": "SAI.SASI.SEKHAR RALLABANDI",
      "userId": "03962991214365984155"
     },
     "user_tz": -330
    },
    "id": "NLm0HKhRtmsF",
    "outputId": "53dfcab1-3d33-4603-f82b-bc8977d9f065"
   },
   "outputs": [
    {
     "data": {
      "text/html": [
       "\n",
       "  <div id=\"df-84e87bb8-c386-4acf-b501-56a33b46583d\">\n",
       "    <div class=\"colab-df-container\">\n",
       "      <div>\n",
       "<style scoped>\n",
       "    .dataframe tbody tr th:only-of-type {\n",
       "        vertical-align: middle;\n",
       "    }\n",
       "\n",
       "    .dataframe tbody tr th {\n",
       "        vertical-align: top;\n",
       "    }\n",
       "\n",
       "    .dataframe thead th {\n",
       "        text-align: right;\n",
       "    }\n",
       "</style>\n",
       "<table border=\"1\" class=\"dataframe\">\n",
       "  <thead>\n",
       "    <tr style=\"text-align: right;\">\n",
       "      <th></th>\n",
       "      <th>BusinessTravel</th>\n",
       "      <th>Department</th>\n",
       "      <th>EducationField</th>\n",
       "      <th>Gender</th>\n",
       "      <th>MaritalStatus</th>\n",
       "      <th>OverTime</th>\n",
       "    </tr>\n",
       "  </thead>\n",
       "  <tbody>\n",
       "    <tr>\n",
       "      <th>count</th>\n",
       "      <td>1470</td>\n",
       "      <td>1470</td>\n",
       "      <td>1470</td>\n",
       "      <td>1470</td>\n",
       "      <td>1470</td>\n",
       "      <td>1470</td>\n",
       "    </tr>\n",
       "    <tr>\n",
       "      <th>unique</th>\n",
       "      <td>3</td>\n",
       "      <td>3</td>\n",
       "      <td>6</td>\n",
       "      <td>2</td>\n",
       "      <td>3</td>\n",
       "      <td>2</td>\n",
       "    </tr>\n",
       "    <tr>\n",
       "      <th>top</th>\n",
       "      <td>Travel_Rarely</td>\n",
       "      <td>Research &amp; Development</td>\n",
       "      <td>Life Sciences</td>\n",
       "      <td>Male</td>\n",
       "      <td>Married</td>\n",
       "      <td>No</td>\n",
       "    </tr>\n",
       "    <tr>\n",
       "      <th>freq</th>\n",
       "      <td>1043</td>\n",
       "      <td>961</td>\n",
       "      <td>606</td>\n",
       "      <td>882</td>\n",
       "      <td>673</td>\n",
       "      <td>1054</td>\n",
       "    </tr>\n",
       "  </tbody>\n",
       "</table>\n",
       "</div>\n",
       "      <button class=\"colab-df-convert\" onclick=\"convertToInteractive('df-84e87bb8-c386-4acf-b501-56a33b46583d')\"\n",
       "              title=\"Convert this dataframe to an interactive table.\"\n",
       "              style=\"display:none;\">\n",
       "        \n",
       "  <svg xmlns=\"http://www.w3.org/2000/svg\" height=\"24px\"viewBox=\"0 0 24 24\"\n",
       "       width=\"24px\">\n",
       "    <path d=\"M0 0h24v24H0V0z\" fill=\"none\"/>\n",
       "    <path d=\"M18.56 5.44l.94 2.06.94-2.06 2.06-.94-2.06-.94-.94-2.06-.94 2.06-2.06.94zm-11 1L8.5 8.5l.94-2.06 2.06-.94-2.06-.94L8.5 2.5l-.94 2.06-2.06.94zm10 10l.94 2.06.94-2.06 2.06-.94-2.06-.94-.94-2.06-.94 2.06-2.06.94z\"/><path d=\"M17.41 7.96l-1.37-1.37c-.4-.4-.92-.59-1.43-.59-.52 0-1.04.2-1.43.59L10.3 9.45l-7.72 7.72c-.78.78-.78 2.05 0 2.83L4 21.41c.39.39.9.59 1.41.59.51 0 1.02-.2 1.41-.59l7.78-7.78 2.81-2.81c.8-.78.8-2.07 0-2.86zM5.41 20L4 18.59l7.72-7.72 1.47 1.35L5.41 20z\"/>\n",
       "  </svg>\n",
       "      </button>\n",
       "      \n",
       "  <style>\n",
       "    .colab-df-container {\n",
       "      display:flex;\n",
       "      flex-wrap:wrap;\n",
       "      gap: 12px;\n",
       "    }\n",
       "\n",
       "    .colab-df-convert {\n",
       "      background-color: #E8F0FE;\n",
       "      border: none;\n",
       "      border-radius: 50%;\n",
       "      cursor: pointer;\n",
       "      display: none;\n",
       "      fill: #1967D2;\n",
       "      height: 32px;\n",
       "      padding: 0 0 0 0;\n",
       "      width: 32px;\n",
       "    }\n",
       "\n",
       "    .colab-df-convert:hover {\n",
       "      background-color: #E2EBFA;\n",
       "      box-shadow: 0px 1px 2px rgba(60, 64, 67, 0.3), 0px 1px 3px 1px rgba(60, 64, 67, 0.15);\n",
       "      fill: #174EA6;\n",
       "    }\n",
       "\n",
       "    [theme=dark] .colab-df-convert {\n",
       "      background-color: #3B4455;\n",
       "      fill: #D2E3FC;\n",
       "    }\n",
       "\n",
       "    [theme=dark] .colab-df-convert:hover {\n",
       "      background-color: #434B5C;\n",
       "      box-shadow: 0px 1px 3px 1px rgba(0, 0, 0, 0.15);\n",
       "      filter: drop-shadow(0px 1px 2px rgba(0, 0, 0, 0.3));\n",
       "      fill: #FFFFFF;\n",
       "    }\n",
       "  </style>\n",
       "\n",
       "      <script>\n",
       "        const buttonEl =\n",
       "          document.querySelector('#df-84e87bb8-c386-4acf-b501-56a33b46583d button.colab-df-convert');\n",
       "        buttonEl.style.display =\n",
       "          google.colab.kernel.accessAllowed ? 'block' : 'none';\n",
       "\n",
       "        async function convertToInteractive(key) {\n",
       "          const element = document.querySelector('#df-84e87bb8-c386-4acf-b501-56a33b46583d');\n",
       "          const dataTable =\n",
       "            await google.colab.kernel.invokeFunction('convertToInteractive',\n",
       "                                                     [key], {});\n",
       "          if (!dataTable) return;\n",
       "\n",
       "          const docLinkHtml = 'Like what you see? Visit the ' +\n",
       "            '<a target=\"_blank\" href=https://colab.research.google.com/notebooks/data_table.ipynb>data table notebook</a>'\n",
       "            + ' to learn more about interactive tables.';\n",
       "          element.innerHTML = '';\n",
       "          dataTable['output_type'] = 'display_data';\n",
       "          await google.colab.output.renderOutput(dataTable, element);\n",
       "          const docLink = document.createElement('div');\n",
       "          docLink.innerHTML = docLinkHtml;\n",
       "          element.appendChild(docLink);\n",
       "        }\n",
       "      </script>\n",
       "    </div>\n",
       "  </div>\n",
       "  "
      ],
      "text/plain": [
       "       BusinessTravel              Department EducationField Gender  \\\n",
       "count            1470                    1470           1470   1470   \n",
       "unique              3                       3              6      2   \n",
       "top     Travel_Rarely  Research & Development  Life Sciences   Male   \n",
       "freq             1043                     961            606    882   \n",
       "\n",
       "       MaritalStatus OverTime  \n",
       "count           1470     1470  \n",
       "unique             3        2  \n",
       "top          Married       No  \n",
       "freq             673     1054  "
      ]
     },
     "execution_count": 12,
     "metadata": {},
     "output_type": "execute_result"
    }
   ],
   "source": [
    "#Describing categorical variable\n",
    "attrition.describe(include=['O'])"
   ]
  },
  {
   "cell_type": "code",
   "execution_count": 13,
   "metadata": {
    "colab": {
     "base_uri": "https://localhost:8080/"
    },
    "executionInfo": {
     "elapsed": 13,
     "status": "ok",
     "timestamp": 1665312991424,
     "user": {
      "displayName": "SAI.SASI.SEKHAR RALLABANDI",
      "userId": "03962991214365984155"
     },
     "user_tz": -330
    },
    "id": "4S5uaeDAt8UJ",
    "outputId": "81b320cd-c73e-44ff-d4be-f96f4d5568e4"
   },
   "outputs": [
    {
     "data": {
      "text/plain": [
       "Age                        0\n",
       "Attrition                  0\n",
       "BusinessTravel             0\n",
       "Department                 0\n",
       "EducationField             0\n",
       "EnvironmentSatisfaction    0\n",
       "Gender                     0\n",
       "JobInvolvement             0\n",
       "JobLevel                   0\n",
       "JobSatisfaction            0\n",
       "MaritalStatus              0\n",
       "MonthlyIncome              0\n",
       "OverTime                   0\n",
       "TotalWorkingYears          0\n",
       "WorkLifeBalance            0\n",
       "YearsAtCompany             0\n",
       "YearsInCurrentRole         0\n",
       "YearsSinceLastPromotion    0\n",
       "YearsWithCurrManager       0\n",
       "DistanceFromHome           0\n",
       "dtype: int64"
      ]
     },
     "execution_count": 13,
     "metadata": {},
     "output_type": "execute_result"
    }
   ],
   "source": [
    "# Checking for null values\n",
    "attrition.isnull().sum()"
   ]
  },
  {
   "cell_type": "code",
   "execution_count": 14,
   "metadata": {
    "colab": {
     "base_uri": "https://localhost:8080/"
    },
    "executionInfo": {
     "elapsed": 8,
     "status": "ok",
     "timestamp": 1665312991424,
     "user": {
      "displayName": "SAI.SASI.SEKHAR RALLABANDI",
      "userId": "03962991214365984155"
     },
     "user_tz": -330
    },
    "id": "k8UV3FUGuDIU",
    "outputId": "a8e426c7-6fd5-49ae-c7e0-4a6a5fdd4f05"
   },
   "outputs": [
    {
     "data": {
      "text/plain": [
       "0"
      ]
     },
     "execution_count": 14,
     "metadata": {},
     "output_type": "execute_result"
    }
   ],
   "source": [
    "# Checking for data duplication\n",
    "attrition.duplicated().sum()"
   ]
  },
  {
   "cell_type": "code",
   "execution_count": 15,
   "metadata": {
    "colab": {
     "base_uri": "https://localhost:8080/",
     "height": 574
    },
    "executionInfo": {
     "elapsed": 7,
     "status": "ok",
     "timestamp": 1665312991425,
     "user": {
      "displayName": "SAI.SASI.SEKHAR RALLABANDI",
      "userId": "03962991214365984155"
     },
     "user_tz": -330
    },
    "id": "xfwMpnkYp_fM",
    "outputId": "92cebc57-fca3-4dfa-a6d7-6bded67ff065"
   },
   "outputs": [
    {
     "data": {
      "text/html": [
       "\n",
       "  <div id=\"df-ccd2c103-469b-4a11-b7c1-f9497f00e517\">\n",
       "    <div class=\"colab-df-container\">\n",
       "      <div>\n",
       "<style scoped>\n",
       "    .dataframe tbody tr th:only-of-type {\n",
       "        vertical-align: middle;\n",
       "    }\n",
       "\n",
       "    .dataframe tbody tr th {\n",
       "        vertical-align: top;\n",
       "    }\n",
       "\n",
       "    .dataframe thead th {\n",
       "        text-align: right;\n",
       "    }\n",
       "</style>\n",
       "<table border=\"1\" class=\"dataframe\">\n",
       "  <thead>\n",
       "    <tr style=\"text-align: right;\">\n",
       "      <th></th>\n",
       "      <th>Age</th>\n",
       "      <th>Attrition</th>\n",
       "      <th>BusinessTravel</th>\n",
       "      <th>Department</th>\n",
       "      <th>EducationField</th>\n",
       "      <th>EnvironmentSatisfaction</th>\n",
       "      <th>Gender</th>\n",
       "      <th>JobInvolvement</th>\n",
       "      <th>JobLevel</th>\n",
       "      <th>JobSatisfaction</th>\n",
       "      <th>MaritalStatus</th>\n",
       "      <th>MonthlyIncome</th>\n",
       "      <th>OverTime</th>\n",
       "      <th>TotalWorkingYears</th>\n",
       "      <th>WorkLifeBalance</th>\n",
       "      <th>YearsAtCompany</th>\n",
       "      <th>YearsInCurrentRole</th>\n",
       "      <th>YearsSinceLastPromotion</th>\n",
       "      <th>YearsWithCurrManager</th>\n",
       "      <th>DistanceFromHome</th>\n",
       "    </tr>\n",
       "  </thead>\n",
       "  <tbody>\n",
       "    <tr>\n",
       "      <th>0</th>\n",
       "      <td>41</td>\n",
       "      <td>1</td>\n",
       "      <td>Travel_Rarely</td>\n",
       "      <td>Sales</td>\n",
       "      <td>Life Sciences</td>\n",
       "      <td>2</td>\n",
       "      <td>Female</td>\n",
       "      <td>3</td>\n",
       "      <td>2</td>\n",
       "      <td>4</td>\n",
       "      <td>Single</td>\n",
       "      <td>5993</td>\n",
       "      <td>Yes</td>\n",
       "      <td>8</td>\n",
       "      <td>1</td>\n",
       "      <td>6</td>\n",
       "      <td>4</td>\n",
       "      <td>0</td>\n",
       "      <td>5</td>\n",
       "      <td>1</td>\n",
       "    </tr>\n",
       "    <tr>\n",
       "      <th>2</th>\n",
       "      <td>37</td>\n",
       "      <td>1</td>\n",
       "      <td>Travel_Rarely</td>\n",
       "      <td>Research &amp; Development</td>\n",
       "      <td>Other</td>\n",
       "      <td>4</td>\n",
       "      <td>Male</td>\n",
       "      <td>2</td>\n",
       "      <td>1</td>\n",
       "      <td>3</td>\n",
       "      <td>Single</td>\n",
       "      <td>2090</td>\n",
       "      <td>Yes</td>\n",
       "      <td>7</td>\n",
       "      <td>3</td>\n",
       "      <td>0</td>\n",
       "      <td>0</td>\n",
       "      <td>0</td>\n",
       "      <td>0</td>\n",
       "      <td>2</td>\n",
       "    </tr>\n",
       "    <tr>\n",
       "      <th>14</th>\n",
       "      <td>28</td>\n",
       "      <td>1</td>\n",
       "      <td>Travel_Rarely</td>\n",
       "      <td>Research &amp; Development</td>\n",
       "      <td>Life Sciences</td>\n",
       "      <td>3</td>\n",
       "      <td>Male</td>\n",
       "      <td>2</td>\n",
       "      <td>1</td>\n",
       "      <td>3</td>\n",
       "      <td>Single</td>\n",
       "      <td>2028</td>\n",
       "      <td>Yes</td>\n",
       "      <td>6</td>\n",
       "      <td>3</td>\n",
       "      <td>4</td>\n",
       "      <td>2</td>\n",
       "      <td>0</td>\n",
       "      <td>3</td>\n",
       "      <td>24</td>\n",
       "    </tr>\n",
       "    <tr>\n",
       "      <th>21</th>\n",
       "      <td>36</td>\n",
       "      <td>1</td>\n",
       "      <td>Travel_Rarely</td>\n",
       "      <td>Sales</td>\n",
       "      <td>Life Sciences</td>\n",
       "      <td>3</td>\n",
       "      <td>Male</td>\n",
       "      <td>2</td>\n",
       "      <td>1</td>\n",
       "      <td>1</td>\n",
       "      <td>Single</td>\n",
       "      <td>3407</td>\n",
       "      <td>No</td>\n",
       "      <td>10</td>\n",
       "      <td>3</td>\n",
       "      <td>5</td>\n",
       "      <td>3</td>\n",
       "      <td>0</td>\n",
       "      <td>3</td>\n",
       "      <td>9</td>\n",
       "    </tr>\n",
       "    <tr>\n",
       "      <th>24</th>\n",
       "      <td>34</td>\n",
       "      <td>1</td>\n",
       "      <td>Travel_Rarely</td>\n",
       "      <td>Research &amp; Development</td>\n",
       "      <td>Medical</td>\n",
       "      <td>2</td>\n",
       "      <td>Male</td>\n",
       "      <td>3</td>\n",
       "      <td>1</td>\n",
       "      <td>1</td>\n",
       "      <td>Single</td>\n",
       "      <td>2960</td>\n",
       "      <td>No</td>\n",
       "      <td>8</td>\n",
       "      <td>3</td>\n",
       "      <td>4</td>\n",
       "      <td>2</td>\n",
       "      <td>1</td>\n",
       "      <td>3</td>\n",
       "      <td>6</td>\n",
       "    </tr>\n",
       "    <tr>\n",
       "      <th>...</th>\n",
       "      <td>...</td>\n",
       "      <td>...</td>\n",
       "      <td>...</td>\n",
       "      <td>...</td>\n",
       "      <td>...</td>\n",
       "      <td>...</td>\n",
       "      <td>...</td>\n",
       "      <td>...</td>\n",
       "      <td>...</td>\n",
       "      <td>...</td>\n",
       "      <td>...</td>\n",
       "      <td>...</td>\n",
       "      <td>...</td>\n",
       "      <td>...</td>\n",
       "      <td>...</td>\n",
       "      <td>...</td>\n",
       "      <td>...</td>\n",
       "      <td>...</td>\n",
       "      <td>...</td>\n",
       "      <td>...</td>\n",
       "    </tr>\n",
       "    <tr>\n",
       "      <th>1438</th>\n",
       "      <td>23</td>\n",
       "      <td>1</td>\n",
       "      <td>Travel_Frequently</td>\n",
       "      <td>Sales</td>\n",
       "      <td>Marketing</td>\n",
       "      <td>4</td>\n",
       "      <td>Male</td>\n",
       "      <td>3</td>\n",
       "      <td>1</td>\n",
       "      <td>1</td>\n",
       "      <td>Married</td>\n",
       "      <td>1790</td>\n",
       "      <td>No</td>\n",
       "      <td>1</td>\n",
       "      <td>2</td>\n",
       "      <td>1</td>\n",
       "      <td>0</td>\n",
       "      <td>1</td>\n",
       "      <td>0</td>\n",
       "      <td>9</td>\n",
       "    </tr>\n",
       "    <tr>\n",
       "      <th>1442</th>\n",
       "      <td>29</td>\n",
       "      <td>1</td>\n",
       "      <td>Travel_Rarely</td>\n",
       "      <td>Research &amp; Development</td>\n",
       "      <td>Medical</td>\n",
       "      <td>1</td>\n",
       "      <td>Male</td>\n",
       "      <td>3</td>\n",
       "      <td>1</td>\n",
       "      <td>4</td>\n",
       "      <td>Married</td>\n",
       "      <td>4787</td>\n",
       "      <td>Yes</td>\n",
       "      <td>4</td>\n",
       "      <td>4</td>\n",
       "      <td>2</td>\n",
       "      <td>2</td>\n",
       "      <td>2</td>\n",
       "      <td>2</td>\n",
       "      <td>1</td>\n",
       "    </tr>\n",
       "    <tr>\n",
       "      <th>1444</th>\n",
       "      <td>56</td>\n",
       "      <td>1</td>\n",
       "      <td>Travel_Rarely</td>\n",
       "      <td>Research &amp; Development</td>\n",
       "      <td>Technical Degree</td>\n",
       "      <td>4</td>\n",
       "      <td>Male</td>\n",
       "      <td>3</td>\n",
       "      <td>1</td>\n",
       "      <td>3</td>\n",
       "      <td>Married</td>\n",
       "      <td>2339</td>\n",
       "      <td>No</td>\n",
       "      <td>14</td>\n",
       "      <td>1</td>\n",
       "      <td>10</td>\n",
       "      <td>9</td>\n",
       "      <td>9</td>\n",
       "      <td>8</td>\n",
       "      <td>7</td>\n",
       "    </tr>\n",
       "    <tr>\n",
       "      <th>1452</th>\n",
       "      <td>50</td>\n",
       "      <td>1</td>\n",
       "      <td>Travel_Frequently</td>\n",
       "      <td>Sales</td>\n",
       "      <td>Life Sciences</td>\n",
       "      <td>2</td>\n",
       "      <td>Male</td>\n",
       "      <td>3</td>\n",
       "      <td>2</td>\n",
       "      <td>3</td>\n",
       "      <td>Divorced</td>\n",
       "      <td>6728</td>\n",
       "      <td>No</td>\n",
       "      <td>12</td>\n",
       "      <td>3</td>\n",
       "      <td>6</td>\n",
       "      <td>3</td>\n",
       "      <td>0</td>\n",
       "      <td>1</td>\n",
       "      <td>1</td>\n",
       "    </tr>\n",
       "    <tr>\n",
       "      <th>1461</th>\n",
       "      <td>50</td>\n",
       "      <td>1</td>\n",
       "      <td>Travel_Rarely</td>\n",
       "      <td>Sales</td>\n",
       "      <td>Marketing</td>\n",
       "      <td>4</td>\n",
       "      <td>Male</td>\n",
       "      <td>2</td>\n",
       "      <td>3</td>\n",
       "      <td>1</td>\n",
       "      <td>Divorced</td>\n",
       "      <td>10854</td>\n",
       "      <td>Yes</td>\n",
       "      <td>20</td>\n",
       "      <td>3</td>\n",
       "      <td>3</td>\n",
       "      <td>2</td>\n",
       "      <td>2</td>\n",
       "      <td>0</td>\n",
       "      <td>28</td>\n",
       "    </tr>\n",
       "  </tbody>\n",
       "</table>\n",
       "<p>237 rows × 20 columns</p>\n",
       "</div>\n",
       "      <button class=\"colab-df-convert\" onclick=\"convertToInteractive('df-ccd2c103-469b-4a11-b7c1-f9497f00e517')\"\n",
       "              title=\"Convert this dataframe to an interactive table.\"\n",
       "              style=\"display:none;\">\n",
       "        \n",
       "  <svg xmlns=\"http://www.w3.org/2000/svg\" height=\"24px\"viewBox=\"0 0 24 24\"\n",
       "       width=\"24px\">\n",
       "    <path d=\"M0 0h24v24H0V0z\" fill=\"none\"/>\n",
       "    <path d=\"M18.56 5.44l.94 2.06.94-2.06 2.06-.94-2.06-.94-.94-2.06-.94 2.06-2.06.94zm-11 1L8.5 8.5l.94-2.06 2.06-.94-2.06-.94L8.5 2.5l-.94 2.06-2.06.94zm10 10l.94 2.06.94-2.06 2.06-.94-2.06-.94-.94-2.06-.94 2.06-2.06.94z\"/><path d=\"M17.41 7.96l-1.37-1.37c-.4-.4-.92-.59-1.43-.59-.52 0-1.04.2-1.43.59L10.3 9.45l-7.72 7.72c-.78.78-.78 2.05 0 2.83L4 21.41c.39.39.9.59 1.41.59.51 0 1.02-.2 1.41-.59l7.78-7.78 2.81-2.81c.8-.78.8-2.07 0-2.86zM5.41 20L4 18.59l7.72-7.72 1.47 1.35L5.41 20z\"/>\n",
       "  </svg>\n",
       "      </button>\n",
       "      \n",
       "  <style>\n",
       "    .colab-df-container {\n",
       "      display:flex;\n",
       "      flex-wrap:wrap;\n",
       "      gap: 12px;\n",
       "    }\n",
       "\n",
       "    .colab-df-convert {\n",
       "      background-color: #E8F0FE;\n",
       "      border: none;\n",
       "      border-radius: 50%;\n",
       "      cursor: pointer;\n",
       "      display: none;\n",
       "      fill: #1967D2;\n",
       "      height: 32px;\n",
       "      padding: 0 0 0 0;\n",
       "      width: 32px;\n",
       "    }\n",
       "\n",
       "    .colab-df-convert:hover {\n",
       "      background-color: #E2EBFA;\n",
       "      box-shadow: 0px 1px 2px rgba(60, 64, 67, 0.3), 0px 1px 3px 1px rgba(60, 64, 67, 0.15);\n",
       "      fill: #174EA6;\n",
       "    }\n",
       "\n",
       "    [theme=dark] .colab-df-convert {\n",
       "      background-color: #3B4455;\n",
       "      fill: #D2E3FC;\n",
       "    }\n",
       "\n",
       "    [theme=dark] .colab-df-convert:hover {\n",
       "      background-color: #434B5C;\n",
       "      box-shadow: 0px 1px 3px 1px rgba(0, 0, 0, 0.15);\n",
       "      filter: drop-shadow(0px 1px 2px rgba(0, 0, 0, 0.3));\n",
       "      fill: #FFFFFF;\n",
       "    }\n",
       "  </style>\n",
       "\n",
       "      <script>\n",
       "        const buttonEl =\n",
       "          document.querySelector('#df-ccd2c103-469b-4a11-b7c1-f9497f00e517 button.colab-df-convert');\n",
       "        buttonEl.style.display =\n",
       "          google.colab.kernel.accessAllowed ? 'block' : 'none';\n",
       "\n",
       "        async function convertToInteractive(key) {\n",
       "          const element = document.querySelector('#df-ccd2c103-469b-4a11-b7c1-f9497f00e517');\n",
       "          const dataTable =\n",
       "            await google.colab.kernel.invokeFunction('convertToInteractive',\n",
       "                                                     [key], {});\n",
       "          if (!dataTable) return;\n",
       "\n",
       "          const docLinkHtml = 'Like what you see? Visit the ' +\n",
       "            '<a target=\"_blank\" href=https://colab.research.google.com/notebooks/data_table.ipynb>data table notebook</a>'\n",
       "            + ' to learn more about interactive tables.';\n",
       "          element.innerHTML = '';\n",
       "          dataTable['output_type'] = 'display_data';\n",
       "          await google.colab.output.renderOutput(dataTable, element);\n",
       "          const docLink = document.createElement('div');\n",
       "          docLink.innerHTML = docLinkHtml;\n",
       "          element.appendChild(docLink);\n",
       "        }\n",
       "      </script>\n",
       "    </div>\n",
       "  </div>\n",
       "  "
      ],
      "text/plain": [
       "      Age  Attrition     BusinessTravel              Department  \\\n",
       "0      41          1      Travel_Rarely                   Sales   \n",
       "2      37          1      Travel_Rarely  Research & Development   \n",
       "14     28          1      Travel_Rarely  Research & Development   \n",
       "21     36          1      Travel_Rarely                   Sales   \n",
       "24     34          1      Travel_Rarely  Research & Development   \n",
       "...   ...        ...                ...                     ...   \n",
       "1438   23          1  Travel_Frequently                   Sales   \n",
       "1442   29          1      Travel_Rarely  Research & Development   \n",
       "1444   56          1      Travel_Rarely  Research & Development   \n",
       "1452   50          1  Travel_Frequently                   Sales   \n",
       "1461   50          1      Travel_Rarely                   Sales   \n",
       "\n",
       "        EducationField  EnvironmentSatisfaction  Gender  JobInvolvement  \\\n",
       "0        Life Sciences                        2  Female               3   \n",
       "2                Other                        4    Male               2   \n",
       "14       Life Sciences                        3    Male               2   \n",
       "21       Life Sciences                        3    Male               2   \n",
       "24             Medical                        2    Male               3   \n",
       "...                ...                      ...     ...             ...   \n",
       "1438         Marketing                        4    Male               3   \n",
       "1442           Medical                        1    Male               3   \n",
       "1444  Technical Degree                        4    Male               3   \n",
       "1452     Life Sciences                        2    Male               3   \n",
       "1461         Marketing                        4    Male               2   \n",
       "\n",
       "      JobLevel  JobSatisfaction MaritalStatus  MonthlyIncome OverTime  \\\n",
       "0            2                4        Single           5993      Yes   \n",
       "2            1                3        Single           2090      Yes   \n",
       "14           1                3        Single           2028      Yes   \n",
       "21           1                1        Single           3407       No   \n",
       "24           1                1        Single           2960       No   \n",
       "...        ...              ...           ...            ...      ...   \n",
       "1438         1                1       Married           1790       No   \n",
       "1442         1                4       Married           4787      Yes   \n",
       "1444         1                3       Married           2339       No   \n",
       "1452         2                3      Divorced           6728       No   \n",
       "1461         3                1      Divorced          10854      Yes   \n",
       "\n",
       "      TotalWorkingYears  WorkLifeBalance  YearsAtCompany  YearsInCurrentRole  \\\n",
       "0                     8                1               6                   4   \n",
       "2                     7                3               0                   0   \n",
       "14                    6                3               4                   2   \n",
       "21                   10                3               5                   3   \n",
       "24                    8                3               4                   2   \n",
       "...                 ...              ...             ...                 ...   \n",
       "1438                  1                2               1                   0   \n",
       "1442                  4                4               2                   2   \n",
       "1444                 14                1              10                   9   \n",
       "1452                 12                3               6                   3   \n",
       "1461                 20                3               3                   2   \n",
       "\n",
       "      YearsSinceLastPromotion  YearsWithCurrManager  DistanceFromHome  \n",
       "0                           0                     5                 1  \n",
       "2                           0                     0                 2  \n",
       "14                          0                     3                24  \n",
       "21                          0                     3                 9  \n",
       "24                          1                     3                 6  \n",
       "...                       ...                   ...               ...  \n",
       "1438                        1                     0                 9  \n",
       "1442                        2                     2                 1  \n",
       "1444                        9                     8                 7  \n",
       "1452                        0                     1                 1  \n",
       "1461                        2                     0                28  \n",
       "\n",
       "[237 rows x 20 columns]"
      ]
     },
     "execution_count": 15,
     "metadata": {},
     "output_type": "execute_result"
    }
   ],
   "source": [
    "#Analysing the data of those employees who left the company out of overall employees\n",
    "a = attrition.loc[(attrition.Attrition == 1),:]\n",
    "a"
   ]
  },
  {
   "cell_type": "code",
   "execution_count": 16,
   "metadata": {
    "colab": {
     "base_uri": "https://localhost:8080/",
     "height": 364
    },
    "executionInfo": {
     "elapsed": 461,
     "status": "ok",
     "timestamp": 1665312991880,
     "user": {
      "displayName": "SAI.SASI.SEKHAR RALLABANDI",
      "userId": "03962991214365984155"
     },
     "user_tz": -330
    },
    "id": "sFETjJSBp_h3",
    "outputId": "1af20295-9b46-42e6-9209-55905ad8f25d"
   },
   "outputs": [
    {
     "data": {
      "text/html": [
       "\n",
       "  <div id=\"df-792a067d-7bee-40a3-a2d0-dfc089cee297\">\n",
       "    <div class=\"colab-df-container\">\n",
       "      <div>\n",
       "<style scoped>\n",
       "    .dataframe tbody tr th:only-of-type {\n",
       "        vertical-align: middle;\n",
       "    }\n",
       "\n",
       "    .dataframe tbody tr th {\n",
       "        vertical-align: top;\n",
       "    }\n",
       "\n",
       "    .dataframe thead th {\n",
       "        text-align: right;\n",
       "    }\n",
       "</style>\n",
       "<table border=\"1\" class=\"dataframe\">\n",
       "  <thead>\n",
       "    <tr style=\"text-align: right;\">\n",
       "      <th></th>\n",
       "      <th>Age</th>\n",
       "      <th>Attrition</th>\n",
       "      <th>EnvironmentSatisfaction</th>\n",
       "      <th>JobInvolvement</th>\n",
       "      <th>JobLevel</th>\n",
       "      <th>JobSatisfaction</th>\n",
       "      <th>MonthlyIncome</th>\n",
       "      <th>TotalWorkingYears</th>\n",
       "      <th>WorkLifeBalance</th>\n",
       "      <th>YearsAtCompany</th>\n",
       "      <th>YearsInCurrentRole</th>\n",
       "      <th>YearsSinceLastPromotion</th>\n",
       "      <th>YearsWithCurrManager</th>\n",
       "      <th>DistanceFromHome</th>\n",
       "    </tr>\n",
       "  </thead>\n",
       "  <tbody>\n",
       "    <tr>\n",
       "      <th>count</th>\n",
       "      <td>237.000000</td>\n",
       "      <td>237.0</td>\n",
       "      <td>237.000000</td>\n",
       "      <td>237.000000</td>\n",
       "      <td>237.000000</td>\n",
       "      <td>237.000000</td>\n",
       "      <td>237.000000</td>\n",
       "      <td>237.000000</td>\n",
       "      <td>237.000000</td>\n",
       "      <td>237.000000</td>\n",
       "      <td>237.000000</td>\n",
       "      <td>237.000000</td>\n",
       "      <td>237.000000</td>\n",
       "      <td>237.000000</td>\n",
       "    </tr>\n",
       "    <tr>\n",
       "      <th>mean</th>\n",
       "      <td>33.607595</td>\n",
       "      <td>1.0</td>\n",
       "      <td>2.464135</td>\n",
       "      <td>2.518987</td>\n",
       "      <td>1.637131</td>\n",
       "      <td>2.468354</td>\n",
       "      <td>4787.092827</td>\n",
       "      <td>8.244726</td>\n",
       "      <td>2.658228</td>\n",
       "      <td>5.130802</td>\n",
       "      <td>2.902954</td>\n",
       "      <td>1.945148</td>\n",
       "      <td>2.852321</td>\n",
       "      <td>10.632911</td>\n",
       "    </tr>\n",
       "    <tr>\n",
       "      <th>std</th>\n",
       "      <td>9.689350</td>\n",
       "      <td>0.0</td>\n",
       "      <td>1.169791</td>\n",
       "      <td>0.773405</td>\n",
       "      <td>0.940594</td>\n",
       "      <td>1.118058</td>\n",
       "      <td>3640.210367</td>\n",
       "      <td>7.169204</td>\n",
       "      <td>0.816453</td>\n",
       "      <td>5.949984</td>\n",
       "      <td>3.174827</td>\n",
       "      <td>3.153077</td>\n",
       "      <td>3.143349</td>\n",
       "      <td>8.452525</td>\n",
       "    </tr>\n",
       "    <tr>\n",
       "      <th>min</th>\n",
       "      <td>18.000000</td>\n",
       "      <td>1.0</td>\n",
       "      <td>1.000000</td>\n",
       "      <td>1.000000</td>\n",
       "      <td>1.000000</td>\n",
       "      <td>1.000000</td>\n",
       "      <td>1009.000000</td>\n",
       "      <td>0.000000</td>\n",
       "      <td>1.000000</td>\n",
       "      <td>0.000000</td>\n",
       "      <td>0.000000</td>\n",
       "      <td>0.000000</td>\n",
       "      <td>0.000000</td>\n",
       "      <td>1.000000</td>\n",
       "    </tr>\n",
       "    <tr>\n",
       "      <th>25%</th>\n",
       "      <td>28.000000</td>\n",
       "      <td>1.0</td>\n",
       "      <td>1.000000</td>\n",
       "      <td>2.000000</td>\n",
       "      <td>1.000000</td>\n",
       "      <td>1.000000</td>\n",
       "      <td>2373.000000</td>\n",
       "      <td>3.000000</td>\n",
       "      <td>2.000000</td>\n",
       "      <td>1.000000</td>\n",
       "      <td>0.000000</td>\n",
       "      <td>0.000000</td>\n",
       "      <td>0.000000</td>\n",
       "      <td>3.000000</td>\n",
       "    </tr>\n",
       "    <tr>\n",
       "      <th>50%</th>\n",
       "      <td>32.000000</td>\n",
       "      <td>1.0</td>\n",
       "      <td>3.000000</td>\n",
       "      <td>3.000000</td>\n",
       "      <td>1.000000</td>\n",
       "      <td>3.000000</td>\n",
       "      <td>3202.000000</td>\n",
       "      <td>7.000000</td>\n",
       "      <td>3.000000</td>\n",
       "      <td>3.000000</td>\n",
       "      <td>2.000000</td>\n",
       "      <td>1.000000</td>\n",
       "      <td>2.000000</td>\n",
       "      <td>9.000000</td>\n",
       "    </tr>\n",
       "    <tr>\n",
       "      <th>75%</th>\n",
       "      <td>39.000000</td>\n",
       "      <td>1.0</td>\n",
       "      <td>4.000000</td>\n",
       "      <td>3.000000</td>\n",
       "      <td>2.000000</td>\n",
       "      <td>3.000000</td>\n",
       "      <td>5916.000000</td>\n",
       "      <td>10.000000</td>\n",
       "      <td>3.000000</td>\n",
       "      <td>7.000000</td>\n",
       "      <td>4.000000</td>\n",
       "      <td>2.000000</td>\n",
       "      <td>5.000000</td>\n",
       "      <td>17.000000</td>\n",
       "    </tr>\n",
       "    <tr>\n",
       "      <th>max</th>\n",
       "      <td>58.000000</td>\n",
       "      <td>1.0</td>\n",
       "      <td>4.000000</td>\n",
       "      <td>4.000000</td>\n",
       "      <td>5.000000</td>\n",
       "      <td>4.000000</td>\n",
       "      <td>19859.000000</td>\n",
       "      <td>40.000000</td>\n",
       "      <td>4.000000</td>\n",
       "      <td>40.000000</td>\n",
       "      <td>15.000000</td>\n",
       "      <td>15.000000</td>\n",
       "      <td>14.000000</td>\n",
       "      <td>29.000000</td>\n",
       "    </tr>\n",
       "  </tbody>\n",
       "</table>\n",
       "</div>\n",
       "      <button class=\"colab-df-convert\" onclick=\"convertToInteractive('df-792a067d-7bee-40a3-a2d0-dfc089cee297')\"\n",
       "              title=\"Convert this dataframe to an interactive table.\"\n",
       "              style=\"display:none;\">\n",
       "        \n",
       "  <svg xmlns=\"http://www.w3.org/2000/svg\" height=\"24px\"viewBox=\"0 0 24 24\"\n",
       "       width=\"24px\">\n",
       "    <path d=\"M0 0h24v24H0V0z\" fill=\"none\"/>\n",
       "    <path d=\"M18.56 5.44l.94 2.06.94-2.06 2.06-.94-2.06-.94-.94-2.06-.94 2.06-2.06.94zm-11 1L8.5 8.5l.94-2.06 2.06-.94-2.06-.94L8.5 2.5l-.94 2.06-2.06.94zm10 10l.94 2.06.94-2.06 2.06-.94-2.06-.94-.94-2.06-.94 2.06-2.06.94z\"/><path d=\"M17.41 7.96l-1.37-1.37c-.4-.4-.92-.59-1.43-.59-.52 0-1.04.2-1.43.59L10.3 9.45l-7.72 7.72c-.78.78-.78 2.05 0 2.83L4 21.41c.39.39.9.59 1.41.59.51 0 1.02-.2 1.41-.59l7.78-7.78 2.81-2.81c.8-.78.8-2.07 0-2.86zM5.41 20L4 18.59l7.72-7.72 1.47 1.35L5.41 20z\"/>\n",
       "  </svg>\n",
       "      </button>\n",
       "      \n",
       "  <style>\n",
       "    .colab-df-container {\n",
       "      display:flex;\n",
       "      flex-wrap:wrap;\n",
       "      gap: 12px;\n",
       "    }\n",
       "\n",
       "    .colab-df-convert {\n",
       "      background-color: #E8F0FE;\n",
       "      border: none;\n",
       "      border-radius: 50%;\n",
       "      cursor: pointer;\n",
       "      display: none;\n",
       "      fill: #1967D2;\n",
       "      height: 32px;\n",
       "      padding: 0 0 0 0;\n",
       "      width: 32px;\n",
       "    }\n",
       "\n",
       "    .colab-df-convert:hover {\n",
       "      background-color: #E2EBFA;\n",
       "      box-shadow: 0px 1px 2px rgba(60, 64, 67, 0.3), 0px 1px 3px 1px rgba(60, 64, 67, 0.15);\n",
       "      fill: #174EA6;\n",
       "    }\n",
       "\n",
       "    [theme=dark] .colab-df-convert {\n",
       "      background-color: #3B4455;\n",
       "      fill: #D2E3FC;\n",
       "    }\n",
       "\n",
       "    [theme=dark] .colab-df-convert:hover {\n",
       "      background-color: #434B5C;\n",
       "      box-shadow: 0px 1px 3px 1px rgba(0, 0, 0, 0.15);\n",
       "      filter: drop-shadow(0px 1px 2px rgba(0, 0, 0, 0.3));\n",
       "      fill: #FFFFFF;\n",
       "    }\n",
       "  </style>\n",
       "\n",
       "      <script>\n",
       "        const buttonEl =\n",
       "          document.querySelector('#df-792a067d-7bee-40a3-a2d0-dfc089cee297 button.colab-df-convert');\n",
       "        buttonEl.style.display =\n",
       "          google.colab.kernel.accessAllowed ? 'block' : 'none';\n",
       "\n",
       "        async function convertToInteractive(key) {\n",
       "          const element = document.querySelector('#df-792a067d-7bee-40a3-a2d0-dfc089cee297');\n",
       "          const dataTable =\n",
       "            await google.colab.kernel.invokeFunction('convertToInteractive',\n",
       "                                                     [key], {});\n",
       "          if (!dataTable) return;\n",
       "\n",
       "          const docLinkHtml = 'Like what you see? Visit the ' +\n",
       "            '<a target=\"_blank\" href=https://colab.research.google.com/notebooks/data_table.ipynb>data table notebook</a>'\n",
       "            + ' to learn more about interactive tables.';\n",
       "          element.innerHTML = '';\n",
       "          dataTable['output_type'] = 'display_data';\n",
       "          await google.colab.output.renderOutput(dataTable, element);\n",
       "          const docLink = document.createElement('div');\n",
       "          docLink.innerHTML = docLinkHtml;\n",
       "          element.appendChild(docLink);\n",
       "        }\n",
       "      </script>\n",
       "    </div>\n",
       "  </div>\n",
       "  "
      ],
      "text/plain": [
       "              Age  Attrition  EnvironmentSatisfaction  JobInvolvement  \\\n",
       "count  237.000000      237.0               237.000000      237.000000   \n",
       "mean    33.607595        1.0                 2.464135        2.518987   \n",
       "std      9.689350        0.0                 1.169791        0.773405   \n",
       "min     18.000000        1.0                 1.000000        1.000000   \n",
       "25%     28.000000        1.0                 1.000000        2.000000   \n",
       "50%     32.000000        1.0                 3.000000        3.000000   \n",
       "75%     39.000000        1.0                 4.000000        3.000000   \n",
       "max     58.000000        1.0                 4.000000        4.000000   \n",
       "\n",
       "         JobLevel  JobSatisfaction  MonthlyIncome  TotalWorkingYears  \\\n",
       "count  237.000000       237.000000     237.000000         237.000000   \n",
       "mean     1.637131         2.468354    4787.092827           8.244726   \n",
       "std      0.940594         1.118058    3640.210367           7.169204   \n",
       "min      1.000000         1.000000    1009.000000           0.000000   \n",
       "25%      1.000000         1.000000    2373.000000           3.000000   \n",
       "50%      1.000000         3.000000    3202.000000           7.000000   \n",
       "75%      2.000000         3.000000    5916.000000          10.000000   \n",
       "max      5.000000         4.000000   19859.000000          40.000000   \n",
       "\n",
       "       WorkLifeBalance  YearsAtCompany  YearsInCurrentRole  \\\n",
       "count       237.000000      237.000000          237.000000   \n",
       "mean          2.658228        5.130802            2.902954   \n",
       "std           0.816453        5.949984            3.174827   \n",
       "min           1.000000        0.000000            0.000000   \n",
       "25%           2.000000        1.000000            0.000000   \n",
       "50%           3.000000        3.000000            2.000000   \n",
       "75%           3.000000        7.000000            4.000000   \n",
       "max           4.000000       40.000000           15.000000   \n",
       "\n",
       "       YearsSinceLastPromotion  YearsWithCurrManager  DistanceFromHome  \n",
       "count               237.000000            237.000000        237.000000  \n",
       "mean                  1.945148              2.852321         10.632911  \n",
       "std                   3.153077              3.143349          8.452525  \n",
       "min                   0.000000              0.000000          1.000000  \n",
       "25%                   0.000000              0.000000          3.000000  \n",
       "50%                   1.000000              2.000000          9.000000  \n",
       "75%                   2.000000              5.000000         17.000000  \n",
       "max                  15.000000             14.000000         29.000000  "
      ]
     },
     "execution_count": 16,
     "metadata": {},
     "output_type": "execute_result"
    }
   ],
   "source": [
    "a.describe()"
   ]
  },
  {
   "cell_type": "code",
   "execution_count": 17,
   "metadata": {
    "colab": {
     "base_uri": "https://localhost:8080/",
     "height": 644
    },
    "executionInfo": {
     "elapsed": 9,
     "status": "ok",
     "timestamp": 1665312991880,
     "user": {
      "displayName": "SAI.SASI.SEKHAR RALLABANDI",
      "userId": "03962991214365984155"
     },
     "user_tz": -330
    },
    "id": "t9yEcA6hp_ko",
    "outputId": "51446b8b-552f-4341-ee76-7754fd501519"
   },
   "outputs": [
    {
     "data": {
      "text/html": [
       "\n",
       "  <div id=\"df-6d57c7ff-242a-4065-a72d-35379f9ef816\">\n",
       "    <div class=\"colab-df-container\">\n",
       "      <div>\n",
       "<style scoped>\n",
       "    .dataframe tbody tr th:only-of-type {\n",
       "        vertical-align: middle;\n",
       "    }\n",
       "\n",
       "    .dataframe tbody tr th {\n",
       "        vertical-align: top;\n",
       "    }\n",
       "\n",
       "    .dataframe thead th {\n",
       "        text-align: right;\n",
       "    }\n",
       "</style>\n",
       "<table border=\"1\" class=\"dataframe\">\n",
       "  <thead>\n",
       "    <tr style=\"text-align: right;\">\n",
       "      <th></th>\n",
       "      <th>Age</th>\n",
       "      <th>Attrition</th>\n",
       "      <th>BusinessTravel</th>\n",
       "      <th>Department</th>\n",
       "      <th>EducationField</th>\n",
       "      <th>EnvironmentSatisfaction</th>\n",
       "      <th>Gender</th>\n",
       "      <th>JobInvolvement</th>\n",
       "      <th>JobLevel</th>\n",
       "      <th>JobSatisfaction</th>\n",
       "      <th>MaritalStatus</th>\n",
       "      <th>MonthlyIncome</th>\n",
       "      <th>OverTime</th>\n",
       "      <th>TotalWorkingYears</th>\n",
       "      <th>WorkLifeBalance</th>\n",
       "      <th>YearsAtCompany</th>\n",
       "      <th>YearsInCurrentRole</th>\n",
       "      <th>YearsSinceLastPromotion</th>\n",
       "      <th>YearsWithCurrManager</th>\n",
       "      <th>DistanceFromHome</th>\n",
       "    </tr>\n",
       "  </thead>\n",
       "  <tbody>\n",
       "    <tr>\n",
       "      <th>1</th>\n",
       "      <td>49</td>\n",
       "      <td>0</td>\n",
       "      <td>Travel_Frequently</td>\n",
       "      <td>Research &amp; Development</td>\n",
       "      <td>Life Sciences</td>\n",
       "      <td>3</td>\n",
       "      <td>Male</td>\n",
       "      <td>2</td>\n",
       "      <td>2</td>\n",
       "      <td>2</td>\n",
       "      <td>Married</td>\n",
       "      <td>5130</td>\n",
       "      <td>No</td>\n",
       "      <td>10</td>\n",
       "      <td>3</td>\n",
       "      <td>10</td>\n",
       "      <td>7</td>\n",
       "      <td>1</td>\n",
       "      <td>7</td>\n",
       "      <td>8</td>\n",
       "    </tr>\n",
       "    <tr>\n",
       "      <th>3</th>\n",
       "      <td>33</td>\n",
       "      <td>0</td>\n",
       "      <td>Travel_Frequently</td>\n",
       "      <td>Research &amp; Development</td>\n",
       "      <td>Life Sciences</td>\n",
       "      <td>4</td>\n",
       "      <td>Female</td>\n",
       "      <td>3</td>\n",
       "      <td>1</td>\n",
       "      <td>3</td>\n",
       "      <td>Married</td>\n",
       "      <td>2909</td>\n",
       "      <td>Yes</td>\n",
       "      <td>8</td>\n",
       "      <td>3</td>\n",
       "      <td>8</td>\n",
       "      <td>7</td>\n",
       "      <td>3</td>\n",
       "      <td>0</td>\n",
       "      <td>3</td>\n",
       "    </tr>\n",
       "    <tr>\n",
       "      <th>4</th>\n",
       "      <td>27</td>\n",
       "      <td>0</td>\n",
       "      <td>Travel_Rarely</td>\n",
       "      <td>Research &amp; Development</td>\n",
       "      <td>Medical</td>\n",
       "      <td>1</td>\n",
       "      <td>Male</td>\n",
       "      <td>3</td>\n",
       "      <td>1</td>\n",
       "      <td>2</td>\n",
       "      <td>Married</td>\n",
       "      <td>3468</td>\n",
       "      <td>No</td>\n",
       "      <td>6</td>\n",
       "      <td>3</td>\n",
       "      <td>2</td>\n",
       "      <td>2</td>\n",
       "      <td>2</td>\n",
       "      <td>2</td>\n",
       "      <td>2</td>\n",
       "    </tr>\n",
       "    <tr>\n",
       "      <th>5</th>\n",
       "      <td>32</td>\n",
       "      <td>0</td>\n",
       "      <td>Travel_Frequently</td>\n",
       "      <td>Research &amp; Development</td>\n",
       "      <td>Life Sciences</td>\n",
       "      <td>4</td>\n",
       "      <td>Male</td>\n",
       "      <td>3</td>\n",
       "      <td>1</td>\n",
       "      <td>4</td>\n",
       "      <td>Single</td>\n",
       "      <td>3068</td>\n",
       "      <td>No</td>\n",
       "      <td>8</td>\n",
       "      <td>2</td>\n",
       "      <td>7</td>\n",
       "      <td>7</td>\n",
       "      <td>3</td>\n",
       "      <td>6</td>\n",
       "      <td>2</td>\n",
       "    </tr>\n",
       "    <tr>\n",
       "      <th>6</th>\n",
       "      <td>59</td>\n",
       "      <td>0</td>\n",
       "      <td>Travel_Rarely</td>\n",
       "      <td>Research &amp; Development</td>\n",
       "      <td>Medical</td>\n",
       "      <td>3</td>\n",
       "      <td>Female</td>\n",
       "      <td>4</td>\n",
       "      <td>1</td>\n",
       "      <td>1</td>\n",
       "      <td>Married</td>\n",
       "      <td>2670</td>\n",
       "      <td>Yes</td>\n",
       "      <td>12</td>\n",
       "      <td>2</td>\n",
       "      <td>1</td>\n",
       "      <td>0</td>\n",
       "      <td>0</td>\n",
       "      <td>0</td>\n",
       "      <td>3</td>\n",
       "    </tr>\n",
       "    <tr>\n",
       "      <th>...</th>\n",
       "      <td>...</td>\n",
       "      <td>...</td>\n",
       "      <td>...</td>\n",
       "      <td>...</td>\n",
       "      <td>...</td>\n",
       "      <td>...</td>\n",
       "      <td>...</td>\n",
       "      <td>...</td>\n",
       "      <td>...</td>\n",
       "      <td>...</td>\n",
       "      <td>...</td>\n",
       "      <td>...</td>\n",
       "      <td>...</td>\n",
       "      <td>...</td>\n",
       "      <td>...</td>\n",
       "      <td>...</td>\n",
       "      <td>...</td>\n",
       "      <td>...</td>\n",
       "      <td>...</td>\n",
       "      <td>...</td>\n",
       "    </tr>\n",
       "    <tr>\n",
       "      <th>1465</th>\n",
       "      <td>36</td>\n",
       "      <td>0</td>\n",
       "      <td>Travel_Frequently</td>\n",
       "      <td>Research &amp; Development</td>\n",
       "      <td>Medical</td>\n",
       "      <td>3</td>\n",
       "      <td>Male</td>\n",
       "      <td>4</td>\n",
       "      <td>2</td>\n",
       "      <td>4</td>\n",
       "      <td>Married</td>\n",
       "      <td>2571</td>\n",
       "      <td>No</td>\n",
       "      <td>17</td>\n",
       "      <td>3</td>\n",
       "      <td>5</td>\n",
       "      <td>2</td>\n",
       "      <td>0</td>\n",
       "      <td>3</td>\n",
       "      <td>23</td>\n",
       "    </tr>\n",
       "    <tr>\n",
       "      <th>1466</th>\n",
       "      <td>39</td>\n",
       "      <td>0</td>\n",
       "      <td>Travel_Rarely</td>\n",
       "      <td>Research &amp; Development</td>\n",
       "      <td>Medical</td>\n",
       "      <td>4</td>\n",
       "      <td>Male</td>\n",
       "      <td>2</td>\n",
       "      <td>3</td>\n",
       "      <td>1</td>\n",
       "      <td>Married</td>\n",
       "      <td>9991</td>\n",
       "      <td>No</td>\n",
       "      <td>9</td>\n",
       "      <td>3</td>\n",
       "      <td>7</td>\n",
       "      <td>7</td>\n",
       "      <td>1</td>\n",
       "      <td>7</td>\n",
       "      <td>6</td>\n",
       "    </tr>\n",
       "    <tr>\n",
       "      <th>1467</th>\n",
       "      <td>27</td>\n",
       "      <td>0</td>\n",
       "      <td>Travel_Rarely</td>\n",
       "      <td>Research &amp; Development</td>\n",
       "      <td>Life Sciences</td>\n",
       "      <td>2</td>\n",
       "      <td>Male</td>\n",
       "      <td>4</td>\n",
       "      <td>2</td>\n",
       "      <td>2</td>\n",
       "      <td>Married</td>\n",
       "      <td>6142</td>\n",
       "      <td>Yes</td>\n",
       "      <td>6</td>\n",
       "      <td>3</td>\n",
       "      <td>6</td>\n",
       "      <td>2</td>\n",
       "      <td>0</td>\n",
       "      <td>3</td>\n",
       "      <td>4</td>\n",
       "    </tr>\n",
       "    <tr>\n",
       "      <th>1468</th>\n",
       "      <td>49</td>\n",
       "      <td>0</td>\n",
       "      <td>Travel_Frequently</td>\n",
       "      <td>Sales</td>\n",
       "      <td>Medical</td>\n",
       "      <td>4</td>\n",
       "      <td>Male</td>\n",
       "      <td>2</td>\n",
       "      <td>2</td>\n",
       "      <td>2</td>\n",
       "      <td>Married</td>\n",
       "      <td>5390</td>\n",
       "      <td>No</td>\n",
       "      <td>17</td>\n",
       "      <td>2</td>\n",
       "      <td>9</td>\n",
       "      <td>6</td>\n",
       "      <td>0</td>\n",
       "      <td>8</td>\n",
       "      <td>2</td>\n",
       "    </tr>\n",
       "    <tr>\n",
       "      <th>1469</th>\n",
       "      <td>34</td>\n",
       "      <td>0</td>\n",
       "      <td>Travel_Rarely</td>\n",
       "      <td>Research &amp; Development</td>\n",
       "      <td>Medical</td>\n",
       "      <td>2</td>\n",
       "      <td>Male</td>\n",
       "      <td>4</td>\n",
       "      <td>2</td>\n",
       "      <td>3</td>\n",
       "      <td>Married</td>\n",
       "      <td>4404</td>\n",
       "      <td>No</td>\n",
       "      <td>6</td>\n",
       "      <td>4</td>\n",
       "      <td>4</td>\n",
       "      <td>3</td>\n",
       "      <td>1</td>\n",
       "      <td>2</td>\n",
       "      <td>8</td>\n",
       "    </tr>\n",
       "  </tbody>\n",
       "</table>\n",
       "<p>1233 rows × 20 columns</p>\n",
       "</div>\n",
       "      <button class=\"colab-df-convert\" onclick=\"convertToInteractive('df-6d57c7ff-242a-4065-a72d-35379f9ef816')\"\n",
       "              title=\"Convert this dataframe to an interactive table.\"\n",
       "              style=\"display:none;\">\n",
       "        \n",
       "  <svg xmlns=\"http://www.w3.org/2000/svg\" height=\"24px\"viewBox=\"0 0 24 24\"\n",
       "       width=\"24px\">\n",
       "    <path d=\"M0 0h24v24H0V0z\" fill=\"none\"/>\n",
       "    <path d=\"M18.56 5.44l.94 2.06.94-2.06 2.06-.94-2.06-.94-.94-2.06-.94 2.06-2.06.94zm-11 1L8.5 8.5l.94-2.06 2.06-.94-2.06-.94L8.5 2.5l-.94 2.06-2.06.94zm10 10l.94 2.06.94-2.06 2.06-.94-2.06-.94-.94-2.06-.94 2.06-2.06.94z\"/><path d=\"M17.41 7.96l-1.37-1.37c-.4-.4-.92-.59-1.43-.59-.52 0-1.04.2-1.43.59L10.3 9.45l-7.72 7.72c-.78.78-.78 2.05 0 2.83L4 21.41c.39.39.9.59 1.41.59.51 0 1.02-.2 1.41-.59l7.78-7.78 2.81-2.81c.8-.78.8-2.07 0-2.86zM5.41 20L4 18.59l7.72-7.72 1.47 1.35L5.41 20z\"/>\n",
       "  </svg>\n",
       "      </button>\n",
       "      \n",
       "  <style>\n",
       "    .colab-df-container {\n",
       "      display:flex;\n",
       "      flex-wrap:wrap;\n",
       "      gap: 12px;\n",
       "    }\n",
       "\n",
       "    .colab-df-convert {\n",
       "      background-color: #E8F0FE;\n",
       "      border: none;\n",
       "      border-radius: 50%;\n",
       "      cursor: pointer;\n",
       "      display: none;\n",
       "      fill: #1967D2;\n",
       "      height: 32px;\n",
       "      padding: 0 0 0 0;\n",
       "      width: 32px;\n",
       "    }\n",
       "\n",
       "    .colab-df-convert:hover {\n",
       "      background-color: #E2EBFA;\n",
       "      box-shadow: 0px 1px 2px rgba(60, 64, 67, 0.3), 0px 1px 3px 1px rgba(60, 64, 67, 0.15);\n",
       "      fill: #174EA6;\n",
       "    }\n",
       "\n",
       "    [theme=dark] .colab-df-convert {\n",
       "      background-color: #3B4455;\n",
       "      fill: #D2E3FC;\n",
       "    }\n",
       "\n",
       "    [theme=dark] .colab-df-convert:hover {\n",
       "      background-color: #434B5C;\n",
       "      box-shadow: 0px 1px 3px 1px rgba(0, 0, 0, 0.15);\n",
       "      filter: drop-shadow(0px 1px 2px rgba(0, 0, 0, 0.3));\n",
       "      fill: #FFFFFF;\n",
       "    }\n",
       "  </style>\n",
       "\n",
       "      <script>\n",
       "        const buttonEl =\n",
       "          document.querySelector('#df-6d57c7ff-242a-4065-a72d-35379f9ef816 button.colab-df-convert');\n",
       "        buttonEl.style.display =\n",
       "          google.colab.kernel.accessAllowed ? 'block' : 'none';\n",
       "\n",
       "        async function convertToInteractive(key) {\n",
       "          const element = document.querySelector('#df-6d57c7ff-242a-4065-a72d-35379f9ef816');\n",
       "          const dataTable =\n",
       "            await google.colab.kernel.invokeFunction('convertToInteractive',\n",
       "                                                     [key], {});\n",
       "          if (!dataTable) return;\n",
       "\n",
       "          const docLinkHtml = 'Like what you see? Visit the ' +\n",
       "            '<a target=\"_blank\" href=https://colab.research.google.com/notebooks/data_table.ipynb>data table notebook</a>'\n",
       "            + ' to learn more about interactive tables.';\n",
       "          element.innerHTML = '';\n",
       "          dataTable['output_type'] = 'display_data';\n",
       "          await google.colab.output.renderOutput(dataTable, element);\n",
       "          const docLink = document.createElement('div');\n",
       "          docLink.innerHTML = docLinkHtml;\n",
       "          element.appendChild(docLink);\n",
       "        }\n",
       "      </script>\n",
       "    </div>\n",
       "  </div>\n",
       "  "
      ],
      "text/plain": [
       "      Age  Attrition     BusinessTravel              Department  \\\n",
       "1      49          0  Travel_Frequently  Research & Development   \n",
       "3      33          0  Travel_Frequently  Research & Development   \n",
       "4      27          0      Travel_Rarely  Research & Development   \n",
       "5      32          0  Travel_Frequently  Research & Development   \n",
       "6      59          0      Travel_Rarely  Research & Development   \n",
       "...   ...        ...                ...                     ...   \n",
       "1465   36          0  Travel_Frequently  Research & Development   \n",
       "1466   39          0      Travel_Rarely  Research & Development   \n",
       "1467   27          0      Travel_Rarely  Research & Development   \n",
       "1468   49          0  Travel_Frequently                   Sales   \n",
       "1469   34          0      Travel_Rarely  Research & Development   \n",
       "\n",
       "     EducationField  EnvironmentSatisfaction  Gender  JobInvolvement  \\\n",
       "1     Life Sciences                        3    Male               2   \n",
       "3     Life Sciences                        4  Female               3   \n",
       "4           Medical                        1    Male               3   \n",
       "5     Life Sciences                        4    Male               3   \n",
       "6           Medical                        3  Female               4   \n",
       "...             ...                      ...     ...             ...   \n",
       "1465        Medical                        3    Male               4   \n",
       "1466        Medical                        4    Male               2   \n",
       "1467  Life Sciences                        2    Male               4   \n",
       "1468        Medical                        4    Male               2   \n",
       "1469        Medical                        2    Male               4   \n",
       "\n",
       "      JobLevel  JobSatisfaction MaritalStatus  MonthlyIncome OverTime  \\\n",
       "1            2                2       Married           5130       No   \n",
       "3            1                3       Married           2909      Yes   \n",
       "4            1                2       Married           3468       No   \n",
       "5            1                4        Single           3068       No   \n",
       "6            1                1       Married           2670      Yes   \n",
       "...        ...              ...           ...            ...      ...   \n",
       "1465         2                4       Married           2571       No   \n",
       "1466         3                1       Married           9991       No   \n",
       "1467         2                2       Married           6142      Yes   \n",
       "1468         2                2       Married           5390       No   \n",
       "1469         2                3       Married           4404       No   \n",
       "\n",
       "      TotalWorkingYears  WorkLifeBalance  YearsAtCompany  YearsInCurrentRole  \\\n",
       "1                    10                3              10                   7   \n",
       "3                     8                3               8                   7   \n",
       "4                     6                3               2                   2   \n",
       "5                     8                2               7                   7   \n",
       "6                    12                2               1                   0   \n",
       "...                 ...              ...             ...                 ...   \n",
       "1465                 17                3               5                   2   \n",
       "1466                  9                3               7                   7   \n",
       "1467                  6                3               6                   2   \n",
       "1468                 17                2               9                   6   \n",
       "1469                  6                4               4                   3   \n",
       "\n",
       "      YearsSinceLastPromotion  YearsWithCurrManager  DistanceFromHome  \n",
       "1                           1                     7                 8  \n",
       "3                           3                     0                 3  \n",
       "4                           2                     2                 2  \n",
       "5                           3                     6                 2  \n",
       "6                           0                     0                 3  \n",
       "...                       ...                   ...               ...  \n",
       "1465                        0                     3                23  \n",
       "1466                        1                     7                 6  \n",
       "1467                        0                     3                 4  \n",
       "1468                        0                     8                 2  \n",
       "1469                        1                     2                 8  \n",
       "\n",
       "[1233 rows x 20 columns]"
      ]
     },
     "execution_count": 17,
     "metadata": {},
     "output_type": "execute_result"
    }
   ],
   "source": [
    "#Analysing the data of those employees who are working in the company out of overall employees\n",
    "b = attrition.loc[(attrition.Attrition == 0),:]\n",
    "b"
   ]
  },
  {
   "cell_type": "code",
   "execution_count": 18,
   "metadata": {
    "colab": {
     "base_uri": "https://localhost:8080/",
     "height": 364
    },
    "executionInfo": {
     "elapsed": 7,
     "status": "ok",
     "timestamp": 1665312991880,
     "user": {
      "displayName": "SAI.SASI.SEKHAR RALLABANDI",
      "userId": "03962991214365984155"
     },
     "user_tz": -330
    },
    "id": "akUea1bWp_nJ",
    "outputId": "48582233-2c49-44a7-a1fe-35823ddc6951"
   },
   "outputs": [
    {
     "data": {
      "text/html": [
       "\n",
       "  <div id=\"df-3e5da827-dd7b-43c4-885f-368e943d3934\">\n",
       "    <div class=\"colab-df-container\">\n",
       "      <div>\n",
       "<style scoped>\n",
       "    .dataframe tbody tr th:only-of-type {\n",
       "        vertical-align: middle;\n",
       "    }\n",
       "\n",
       "    .dataframe tbody tr th {\n",
       "        vertical-align: top;\n",
       "    }\n",
       "\n",
       "    .dataframe thead th {\n",
       "        text-align: right;\n",
       "    }\n",
       "</style>\n",
       "<table border=\"1\" class=\"dataframe\">\n",
       "  <thead>\n",
       "    <tr style=\"text-align: right;\">\n",
       "      <th></th>\n",
       "      <th>Age</th>\n",
       "      <th>Attrition</th>\n",
       "      <th>EnvironmentSatisfaction</th>\n",
       "      <th>JobInvolvement</th>\n",
       "      <th>JobLevel</th>\n",
       "      <th>JobSatisfaction</th>\n",
       "      <th>MonthlyIncome</th>\n",
       "      <th>TotalWorkingYears</th>\n",
       "      <th>WorkLifeBalance</th>\n",
       "      <th>YearsAtCompany</th>\n",
       "      <th>YearsInCurrentRole</th>\n",
       "      <th>YearsSinceLastPromotion</th>\n",
       "      <th>YearsWithCurrManager</th>\n",
       "      <th>DistanceFromHome</th>\n",
       "    </tr>\n",
       "  </thead>\n",
       "  <tbody>\n",
       "    <tr>\n",
       "      <th>count</th>\n",
       "      <td>1233.000000</td>\n",
       "      <td>1233.0</td>\n",
       "      <td>1233.000000</td>\n",
       "      <td>1233.000000</td>\n",
       "      <td>1233.000000</td>\n",
       "      <td>1233.000000</td>\n",
       "      <td>1233.000000</td>\n",
       "      <td>1233.000000</td>\n",
       "      <td>1233.000000</td>\n",
       "      <td>1233.000000</td>\n",
       "      <td>1233.000000</td>\n",
       "      <td>1233.000000</td>\n",
       "      <td>1233.000000</td>\n",
       "      <td>1233.000000</td>\n",
       "    </tr>\n",
       "    <tr>\n",
       "      <th>mean</th>\n",
       "      <td>37.561233</td>\n",
       "      <td>0.0</td>\n",
       "      <td>2.771290</td>\n",
       "      <td>2.770479</td>\n",
       "      <td>2.145985</td>\n",
       "      <td>2.778589</td>\n",
       "      <td>6832.739659</td>\n",
       "      <td>11.862936</td>\n",
       "      <td>2.781022</td>\n",
       "      <td>7.369019</td>\n",
       "      <td>4.484185</td>\n",
       "      <td>2.234388</td>\n",
       "      <td>4.367397</td>\n",
       "      <td>8.915653</td>\n",
       "    </tr>\n",
       "    <tr>\n",
       "      <th>std</th>\n",
       "      <td>8.888360</td>\n",
       "      <td>0.0</td>\n",
       "      <td>1.071132</td>\n",
       "      <td>0.692050</td>\n",
       "      <td>1.117933</td>\n",
       "      <td>1.093277</td>\n",
       "      <td>4818.208001</td>\n",
       "      <td>7.760719</td>\n",
       "      <td>0.681907</td>\n",
       "      <td>6.096298</td>\n",
       "      <td>3.649402</td>\n",
       "      <td>3.234762</td>\n",
       "      <td>3.594116</td>\n",
       "      <td>8.012633</td>\n",
       "    </tr>\n",
       "    <tr>\n",
       "      <th>min</th>\n",
       "      <td>18.000000</td>\n",
       "      <td>0.0</td>\n",
       "      <td>1.000000</td>\n",
       "      <td>1.000000</td>\n",
       "      <td>1.000000</td>\n",
       "      <td>1.000000</td>\n",
       "      <td>1051.000000</td>\n",
       "      <td>0.000000</td>\n",
       "      <td>1.000000</td>\n",
       "      <td>0.000000</td>\n",
       "      <td>0.000000</td>\n",
       "      <td>0.000000</td>\n",
       "      <td>0.000000</td>\n",
       "      <td>1.000000</td>\n",
       "    </tr>\n",
       "    <tr>\n",
       "      <th>25%</th>\n",
       "      <td>31.000000</td>\n",
       "      <td>0.0</td>\n",
       "      <td>2.000000</td>\n",
       "      <td>2.000000</td>\n",
       "      <td>1.000000</td>\n",
       "      <td>2.000000</td>\n",
       "      <td>3211.000000</td>\n",
       "      <td>6.000000</td>\n",
       "      <td>2.000000</td>\n",
       "      <td>3.000000</td>\n",
       "      <td>2.000000</td>\n",
       "      <td>0.000000</td>\n",
       "      <td>2.000000</td>\n",
       "      <td>2.000000</td>\n",
       "    </tr>\n",
       "    <tr>\n",
       "      <th>50%</th>\n",
       "      <td>36.000000</td>\n",
       "      <td>0.0</td>\n",
       "      <td>3.000000</td>\n",
       "      <td>3.000000</td>\n",
       "      <td>2.000000</td>\n",
       "      <td>3.000000</td>\n",
       "      <td>5204.000000</td>\n",
       "      <td>10.000000</td>\n",
       "      <td>3.000000</td>\n",
       "      <td>6.000000</td>\n",
       "      <td>3.000000</td>\n",
       "      <td>1.000000</td>\n",
       "      <td>3.000000</td>\n",
       "      <td>7.000000</td>\n",
       "    </tr>\n",
       "    <tr>\n",
       "      <th>75%</th>\n",
       "      <td>43.000000</td>\n",
       "      <td>0.0</td>\n",
       "      <td>4.000000</td>\n",
       "      <td>3.000000</td>\n",
       "      <td>3.000000</td>\n",
       "      <td>4.000000</td>\n",
       "      <td>8834.000000</td>\n",
       "      <td>16.000000</td>\n",
       "      <td>3.000000</td>\n",
       "      <td>10.000000</td>\n",
       "      <td>7.000000</td>\n",
       "      <td>3.000000</td>\n",
       "      <td>7.000000</td>\n",
       "      <td>13.000000</td>\n",
       "    </tr>\n",
       "    <tr>\n",
       "      <th>max</th>\n",
       "      <td>60.000000</td>\n",
       "      <td>0.0</td>\n",
       "      <td>4.000000</td>\n",
       "      <td>4.000000</td>\n",
       "      <td>5.000000</td>\n",
       "      <td>4.000000</td>\n",
       "      <td>19999.000000</td>\n",
       "      <td>38.000000</td>\n",
       "      <td>4.000000</td>\n",
       "      <td>37.000000</td>\n",
       "      <td>18.000000</td>\n",
       "      <td>15.000000</td>\n",
       "      <td>17.000000</td>\n",
       "      <td>29.000000</td>\n",
       "    </tr>\n",
       "  </tbody>\n",
       "</table>\n",
       "</div>\n",
       "      <button class=\"colab-df-convert\" onclick=\"convertToInteractive('df-3e5da827-dd7b-43c4-885f-368e943d3934')\"\n",
       "              title=\"Convert this dataframe to an interactive table.\"\n",
       "              style=\"display:none;\">\n",
       "        \n",
       "  <svg xmlns=\"http://www.w3.org/2000/svg\" height=\"24px\"viewBox=\"0 0 24 24\"\n",
       "       width=\"24px\">\n",
       "    <path d=\"M0 0h24v24H0V0z\" fill=\"none\"/>\n",
       "    <path d=\"M18.56 5.44l.94 2.06.94-2.06 2.06-.94-2.06-.94-.94-2.06-.94 2.06-2.06.94zm-11 1L8.5 8.5l.94-2.06 2.06-.94-2.06-.94L8.5 2.5l-.94 2.06-2.06.94zm10 10l.94 2.06.94-2.06 2.06-.94-2.06-.94-.94-2.06-.94 2.06-2.06.94z\"/><path d=\"M17.41 7.96l-1.37-1.37c-.4-.4-.92-.59-1.43-.59-.52 0-1.04.2-1.43.59L10.3 9.45l-7.72 7.72c-.78.78-.78 2.05 0 2.83L4 21.41c.39.39.9.59 1.41.59.51 0 1.02-.2 1.41-.59l7.78-7.78 2.81-2.81c.8-.78.8-2.07 0-2.86zM5.41 20L4 18.59l7.72-7.72 1.47 1.35L5.41 20z\"/>\n",
       "  </svg>\n",
       "      </button>\n",
       "      \n",
       "  <style>\n",
       "    .colab-df-container {\n",
       "      display:flex;\n",
       "      flex-wrap:wrap;\n",
       "      gap: 12px;\n",
       "    }\n",
       "\n",
       "    .colab-df-convert {\n",
       "      background-color: #E8F0FE;\n",
       "      border: none;\n",
       "      border-radius: 50%;\n",
       "      cursor: pointer;\n",
       "      display: none;\n",
       "      fill: #1967D2;\n",
       "      height: 32px;\n",
       "      padding: 0 0 0 0;\n",
       "      width: 32px;\n",
       "    }\n",
       "\n",
       "    .colab-df-convert:hover {\n",
       "      background-color: #E2EBFA;\n",
       "      box-shadow: 0px 1px 2px rgba(60, 64, 67, 0.3), 0px 1px 3px 1px rgba(60, 64, 67, 0.15);\n",
       "      fill: #174EA6;\n",
       "    }\n",
       "\n",
       "    [theme=dark] .colab-df-convert {\n",
       "      background-color: #3B4455;\n",
       "      fill: #D2E3FC;\n",
       "    }\n",
       "\n",
       "    [theme=dark] .colab-df-convert:hover {\n",
       "      background-color: #434B5C;\n",
       "      box-shadow: 0px 1px 3px 1px rgba(0, 0, 0, 0.15);\n",
       "      filter: drop-shadow(0px 1px 2px rgba(0, 0, 0, 0.3));\n",
       "      fill: #FFFFFF;\n",
       "    }\n",
       "  </style>\n",
       "\n",
       "      <script>\n",
       "        const buttonEl =\n",
       "          document.querySelector('#df-3e5da827-dd7b-43c4-885f-368e943d3934 button.colab-df-convert');\n",
       "        buttonEl.style.display =\n",
       "          google.colab.kernel.accessAllowed ? 'block' : 'none';\n",
       "\n",
       "        async function convertToInteractive(key) {\n",
       "          const element = document.querySelector('#df-3e5da827-dd7b-43c4-885f-368e943d3934');\n",
       "          const dataTable =\n",
       "            await google.colab.kernel.invokeFunction('convertToInteractive',\n",
       "                                                     [key], {});\n",
       "          if (!dataTable) return;\n",
       "\n",
       "          const docLinkHtml = 'Like what you see? Visit the ' +\n",
       "            '<a target=\"_blank\" href=https://colab.research.google.com/notebooks/data_table.ipynb>data table notebook</a>'\n",
       "            + ' to learn more about interactive tables.';\n",
       "          element.innerHTML = '';\n",
       "          dataTable['output_type'] = 'display_data';\n",
       "          await google.colab.output.renderOutput(dataTable, element);\n",
       "          const docLink = document.createElement('div');\n",
       "          docLink.innerHTML = docLinkHtml;\n",
       "          element.appendChild(docLink);\n",
       "        }\n",
       "      </script>\n",
       "    </div>\n",
       "  </div>\n",
       "  "
      ],
      "text/plain": [
       "               Age  Attrition  EnvironmentSatisfaction  JobInvolvement  \\\n",
       "count  1233.000000     1233.0              1233.000000     1233.000000   \n",
       "mean     37.561233        0.0                 2.771290        2.770479   \n",
       "std       8.888360        0.0                 1.071132        0.692050   \n",
       "min      18.000000        0.0                 1.000000        1.000000   \n",
       "25%      31.000000        0.0                 2.000000        2.000000   \n",
       "50%      36.000000        0.0                 3.000000        3.000000   \n",
       "75%      43.000000        0.0                 4.000000        3.000000   \n",
       "max      60.000000        0.0                 4.000000        4.000000   \n",
       "\n",
       "          JobLevel  JobSatisfaction  MonthlyIncome  TotalWorkingYears  \\\n",
       "count  1233.000000      1233.000000    1233.000000        1233.000000   \n",
       "mean      2.145985         2.778589    6832.739659          11.862936   \n",
       "std       1.117933         1.093277    4818.208001           7.760719   \n",
       "min       1.000000         1.000000    1051.000000           0.000000   \n",
       "25%       1.000000         2.000000    3211.000000           6.000000   \n",
       "50%       2.000000         3.000000    5204.000000          10.000000   \n",
       "75%       3.000000         4.000000    8834.000000          16.000000   \n",
       "max       5.000000         4.000000   19999.000000          38.000000   \n",
       "\n",
       "       WorkLifeBalance  YearsAtCompany  YearsInCurrentRole  \\\n",
       "count      1233.000000     1233.000000         1233.000000   \n",
       "mean          2.781022        7.369019            4.484185   \n",
       "std           0.681907        6.096298            3.649402   \n",
       "min           1.000000        0.000000            0.000000   \n",
       "25%           2.000000        3.000000            2.000000   \n",
       "50%           3.000000        6.000000            3.000000   \n",
       "75%           3.000000       10.000000            7.000000   \n",
       "max           4.000000       37.000000           18.000000   \n",
       "\n",
       "       YearsSinceLastPromotion  YearsWithCurrManager  DistanceFromHome  \n",
       "count              1233.000000           1233.000000       1233.000000  \n",
       "mean                  2.234388              4.367397          8.915653  \n",
       "std                   3.234762              3.594116          8.012633  \n",
       "min                   0.000000              0.000000          1.000000  \n",
       "25%                   0.000000              2.000000          2.000000  \n",
       "50%                   1.000000              3.000000          7.000000  \n",
       "75%                   3.000000              7.000000         13.000000  \n",
       "max                  15.000000             17.000000         29.000000  "
      ]
     },
     "execution_count": 18,
     "metadata": {},
     "output_type": "execute_result"
    }
   ],
   "source": [
    "b.describe()"
   ]
  },
  {
   "cell_type": "markdown",
   "metadata": {
    "id": "Soehsi8CGfaj"
   },
   "source": [
    "Basic Observations of the given Data set:   \n",
    "1) Our Target variable / Label - Attrition has two values,     \n",
    "0 - staying in the company(No attrition) , 1 - Leaving the company(Attrition)   \n",
    "2) The total size of the data set is 1470 rows x 20 Columns    \n",
    "3) The given data set is having composition of both 'int' type variables and 'object' type variables. Out of the total variables, there are 14 integer variables and 6 object type variables.    \n",
    "4) There are no Null values and duplicate values in the dataset   \n",
    "\n",
    "Under our analysis of the given data set, Describing Integer type Variables:    \n",
    "1) Age:                \n",
    "The average age of all the employees is little less than 37.     \n",
    "The variance of age about the mean is nearly 9.      \n",
    "The minimum age of employee is 18.      \n",
    "Around 367 out of 1470 employees are having age less than 30. \n",
    "50% of the employees i.e., 735 employees are having age less than 36, Remaining 735 employees having age greater than 36.    \n",
    "Around 367 out of 1470 employees are having age greater than 43. While the maximum age of employees being 60.\n",
    "\n",
    "2) Monthly Income:   \n",
    "The average monthly income of all the employees is nearly 6503.   \n",
    "The variance of monthly income about the mean is nearly 4707.   \n",
    "The lowest monthly income of all the employees is 1009.   \n",
    "Around 367 out of 1470 employees are having monthly income less than 2911. \n",
    "50% of the employees i.e., 735 employees are having monthly income less than 4919, Remaining 735 employees having monthly income greater than 4919.    \n",
    "Around 367 out of 1470 employees are having monthly income greater than 8379. While the maximum age of employees being 19999.\n",
    "\n",
    "3) Total Working Years:   \n",
    "The average Total Working Years of all the employees is nearly 11.   \n",
    "The variance of Total Working Years about the mean is nearly 8.   \n",
    "The lowest Total Working Years of all the employees is 0.   \n",
    "Around 367 out of 1470 employees are having Total Working Years less than 6. \n",
    "50% of the employees i.e., 735 employees are having Total Working Years less than 10, Remaining 735 employees having Total Working Years greater than 10.    \n",
    "Around 367 out of 1470 employees are having Total Working Years greater than 15. While the maximum Total Working Years of employees being 40.\n",
    "\n",
    "4) Years at Company:\n",
    "The average Years at Company of all the employees is nearly 7.   \n",
    "The variance of Years at Company about the mean is nearly 6.   \n",
    "The lowest Years at Company of all the employees is 0.   \n",
    "Around 367 out of 1470 employees are having Years at Company less than 3. \n",
    "50% of the employees i.e., 735 employees are having Years at Company less than 5, Remaining 735 employees having Years at Company greater than 5.    \n",
    "Around 367 out of 1470 employees are having Years at Company greater than 9. While the maximum Years at Company of employees being 40.  \n",
    "\n",
    "5) Years in Current Role:   \n",
    "The average Years in Current Role of all the employees is nearly 4.   \n",
    "The variance of Years in Current Role about the mean is nearly 3.5.   \n",
    "The lowest Years in Current Role of all the employees is 0.   \n",
    "Around 367 out of 1470 employees are having Years in Current Role less than 2. \n",
    "50% of the employees i.e., 735 employees are having Years in Current Role less than 3, Remaining 735 employees having Years in Current Role greater than 3.    \n",
    "Around 367 out of 1470 employees are having Years in Current Role greater than 7. While the maximum Years in Current Role of employees being 18.  \n",
    "\n",
    "\n",
    "6)Years since last promotion    \n",
    "The average Years since last promotion of all the employees is nearly 2.   \n",
    "The variance of Years since last promotion about the mean is nearly 3.   \n",
    "The lowest Years since last promotion of all the employees is 0.   \n",
    "Around 367 out of 1470 employees are having Years since last promotion less than 0. \n",
    "50% of the employees i.e., 735 employees are having Years since last promotion less than 1, Remaining 735 employees having Years since last promotion greater than 1.    \n",
    "Around 367 out of 1470 employees are having Years since last promotion greater than 3. While the maximum Years since last promotion of employees being 15. \n",
    "\n",
    "7) Years with Current Manager     \n",
    "The average Years with Current Manager of all the employees is nearly 4.   \n",
    "The variance of Years with Current Manager about the mean is nearly 3.5.   \n",
    "The lowest Years with Current Manager of all the employees is 0.   \n",
    "Around 367 out of 1470 employees are having Years with Current Manager less than 2. \n",
    "50% of the employees i.e., 735 employees are having Years with Current Manager less than 3, Remaining 735 employees having Years with Current Manager greater than 3.    \n",
    "Around 367 out of 1470 employees are having Years with Current Manager greater than 7. While the maximum Years with Current Manager of employees being 17. \n",
    "\n",
    "8) Distance From Home          \n",
    "The average Distance From Home of all the employees is nearly 9.   \n",
    "The variance of Distance From Home about the mean is nearly 8.   \n",
    "The lowest Distance From Home of all the employees is 1.   \n",
    "Around 367 out of 1470 employees are having Distance From Home less than 2. \n",
    "50% of the employees i.e., 735 employees are having Distance From Home less than 7, Remaining 735 employees having Distance From Home greater than 7.    \n",
    "Around 367 out of 1470 employees are having Distance From Home greater than 14. While the maximum Distance From Home of employees being 29.\n"
   ]
  },
  {
   "cell_type": "markdown",
   "metadata": {
    "id": "JZ7k0_-bkGw9"
   },
   "source": [
    "The describe() method gives the 8 point summary of the descriptive statistics   \n",
    "It is for all the numerical variables in the data     "
   ]
  },
  {
   "cell_type": "markdown",
   "metadata": {
    "id": "xBrrtemLkUp-"
   },
   "source": [
    "1. Age"
   ]
  },
  {
   "cell_type": "code",
   "execution_count": 19,
   "metadata": {
    "colab": {
     "base_uri": "https://localhost:8080/",
     "height": 175
    },
    "executionInfo": {
     "elapsed": 439,
     "status": "ok",
     "timestamp": 1665312992313,
     "user": {
      "displayName": "SAI.SASI.SEKHAR RALLABANDI",
      "userId": "03962991214365984155"
     },
     "user_tz": -330
    },
    "id": "U2wqN3fakD1r",
    "outputId": "a1be1b47-3d90-4694-b28a-37555f1eeb1a"
   },
   "outputs": [
    {
     "data": {
      "text/html": [
       "\n",
       "  <div id=\"df-198383f4-2d3a-4938-91e8-39a672f15b96\">\n",
       "    <div class=\"colab-df-container\">\n",
       "      <div>\n",
       "<style scoped>\n",
       "    .dataframe tbody tr th:only-of-type {\n",
       "        vertical-align: middle;\n",
       "    }\n",
       "\n",
       "    .dataframe tbody tr th {\n",
       "        vertical-align: top;\n",
       "    }\n",
       "\n",
       "    .dataframe thead tr th {\n",
       "        text-align: left;\n",
       "    }\n",
       "\n",
       "    .dataframe thead tr:last-of-type th {\n",
       "        text-align: right;\n",
       "    }\n",
       "</style>\n",
       "<table border=\"1\" class=\"dataframe\">\n",
       "  <thead>\n",
       "    <tr>\n",
       "      <th></th>\n",
       "      <th colspan=\"8\" halign=\"left\">Age</th>\n",
       "    </tr>\n",
       "    <tr>\n",
       "      <th></th>\n",
       "      <th>count</th>\n",
       "      <th>mean</th>\n",
       "      <th>std</th>\n",
       "      <th>min</th>\n",
       "      <th>25%</th>\n",
       "      <th>50%</th>\n",
       "      <th>75%</th>\n",
       "      <th>max</th>\n",
       "    </tr>\n",
       "    <tr>\n",
       "      <th>Attrition</th>\n",
       "      <th></th>\n",
       "      <th></th>\n",
       "      <th></th>\n",
       "      <th></th>\n",
       "      <th></th>\n",
       "      <th></th>\n",
       "      <th></th>\n",
       "      <th></th>\n",
       "    </tr>\n",
       "  </thead>\n",
       "  <tbody>\n",
       "    <tr>\n",
       "      <th>0</th>\n",
       "      <td>1233.0</td>\n",
       "      <td>37.561233</td>\n",
       "      <td>8.88836</td>\n",
       "      <td>18.0</td>\n",
       "      <td>31.0</td>\n",
       "      <td>36.0</td>\n",
       "      <td>43.0</td>\n",
       "      <td>60.0</td>\n",
       "    </tr>\n",
       "    <tr>\n",
       "      <th>1</th>\n",
       "      <td>237.0</td>\n",
       "      <td>33.607595</td>\n",
       "      <td>9.68935</td>\n",
       "      <td>18.0</td>\n",
       "      <td>28.0</td>\n",
       "      <td>32.0</td>\n",
       "      <td>39.0</td>\n",
       "      <td>58.0</td>\n",
       "    </tr>\n",
       "  </tbody>\n",
       "</table>\n",
       "</div>\n",
       "      <button class=\"colab-df-convert\" onclick=\"convertToInteractive('df-198383f4-2d3a-4938-91e8-39a672f15b96')\"\n",
       "              title=\"Convert this dataframe to an interactive table.\"\n",
       "              style=\"display:none;\">\n",
       "        \n",
       "  <svg xmlns=\"http://www.w3.org/2000/svg\" height=\"24px\"viewBox=\"0 0 24 24\"\n",
       "       width=\"24px\">\n",
       "    <path d=\"M0 0h24v24H0V0z\" fill=\"none\"/>\n",
       "    <path d=\"M18.56 5.44l.94 2.06.94-2.06 2.06-.94-2.06-.94-.94-2.06-.94 2.06-2.06.94zm-11 1L8.5 8.5l.94-2.06 2.06-.94-2.06-.94L8.5 2.5l-.94 2.06-2.06.94zm10 10l.94 2.06.94-2.06 2.06-.94-2.06-.94-.94-2.06-.94 2.06-2.06.94z\"/><path d=\"M17.41 7.96l-1.37-1.37c-.4-.4-.92-.59-1.43-.59-.52 0-1.04.2-1.43.59L10.3 9.45l-7.72 7.72c-.78.78-.78 2.05 0 2.83L4 21.41c.39.39.9.59 1.41.59.51 0 1.02-.2 1.41-.59l7.78-7.78 2.81-2.81c.8-.78.8-2.07 0-2.86zM5.41 20L4 18.59l7.72-7.72 1.47 1.35L5.41 20z\"/>\n",
       "  </svg>\n",
       "      </button>\n",
       "      \n",
       "  <style>\n",
       "    .colab-df-container {\n",
       "      display:flex;\n",
       "      flex-wrap:wrap;\n",
       "      gap: 12px;\n",
       "    }\n",
       "\n",
       "    .colab-df-convert {\n",
       "      background-color: #E8F0FE;\n",
       "      border: none;\n",
       "      border-radius: 50%;\n",
       "      cursor: pointer;\n",
       "      display: none;\n",
       "      fill: #1967D2;\n",
       "      height: 32px;\n",
       "      padding: 0 0 0 0;\n",
       "      width: 32px;\n",
       "    }\n",
       "\n",
       "    .colab-df-convert:hover {\n",
       "      background-color: #E2EBFA;\n",
       "      box-shadow: 0px 1px 2px rgba(60, 64, 67, 0.3), 0px 1px 3px 1px rgba(60, 64, 67, 0.15);\n",
       "      fill: #174EA6;\n",
       "    }\n",
       "\n",
       "    [theme=dark] .colab-df-convert {\n",
       "      background-color: #3B4455;\n",
       "      fill: #D2E3FC;\n",
       "    }\n",
       "\n",
       "    [theme=dark] .colab-df-convert:hover {\n",
       "      background-color: #434B5C;\n",
       "      box-shadow: 0px 1px 3px 1px rgba(0, 0, 0, 0.15);\n",
       "      filter: drop-shadow(0px 1px 2px rgba(0, 0, 0, 0.3));\n",
       "      fill: #FFFFFF;\n",
       "    }\n",
       "  </style>\n",
       "\n",
       "      <script>\n",
       "        const buttonEl =\n",
       "          document.querySelector('#df-198383f4-2d3a-4938-91e8-39a672f15b96 button.colab-df-convert');\n",
       "        buttonEl.style.display =\n",
       "          google.colab.kernel.accessAllowed ? 'block' : 'none';\n",
       "\n",
       "        async function convertToInteractive(key) {\n",
       "          const element = document.querySelector('#df-198383f4-2d3a-4938-91e8-39a672f15b96');\n",
       "          const dataTable =\n",
       "            await google.colab.kernel.invokeFunction('convertToInteractive',\n",
       "                                                     [key], {});\n",
       "          if (!dataTable) return;\n",
       "\n",
       "          const docLinkHtml = 'Like what you see? Visit the ' +\n",
       "            '<a target=\"_blank\" href=https://colab.research.google.com/notebooks/data_table.ipynb>data table notebook</a>'\n",
       "            + ' to learn more about interactive tables.';\n",
       "          element.innerHTML = '';\n",
       "          dataTable['output_type'] = 'display_data';\n",
       "          await google.colab.output.renderOutput(dataTable, element);\n",
       "          const docLink = document.createElement('div');\n",
       "          docLink.innerHTML = docLinkHtml;\n",
       "          element.appendChild(docLink);\n",
       "        }\n",
       "      </script>\n",
       "    </div>\n",
       "  </div>\n",
       "  "
      ],
      "text/plain": [
       "              Age                                                  \n",
       "            count       mean      std   min   25%   50%   75%   max\n",
       "Attrition                                                          \n",
       "0          1233.0  37.561233  8.88836  18.0  31.0  36.0  43.0  60.0\n",
       "1           237.0  33.607595  9.68935  18.0  28.0  32.0  39.0  58.0"
      ]
     },
     "execution_count": 19,
     "metadata": {},
     "output_type": "execute_result"
    }
   ],
   "source": [
    "attrition[['Attrition','Age']].groupby(['Attrition']).describe()"
   ]
  },
  {
   "cell_type": "code",
   "execution_count": 20,
   "metadata": {
    "colab": {
     "base_uri": "https://localhost:8080/",
     "height": 351
    },
    "executionInfo": {
     "elapsed": 9,
     "status": "ok",
     "timestamp": 1665312992313,
     "user": {
      "displayName": "SAI.SASI.SEKHAR RALLABANDI",
      "userId": "03962991214365984155"
     },
     "user_tz": -330
    },
    "id": "estLCgQbasrD",
    "outputId": "80f258d9-d304-411b-cb37-83117b01da66"
   },
   "outputs": [
    {
     "name": "stderr",
     "output_type": "stream",
     "text": [
      "/usr/local/lib/python3.7/dist-packages/seaborn/distributions.py:2619: FutureWarning: `distplot` is a deprecated function and will be removed in a future version. Please adapt your code to use either `displot` (a figure-level function with similar flexibility) or `histplot` (an axes-level function for histograms).\n",
      "  warnings.warn(msg, FutureWarning)\n"
     ]
    },
    {
     "data": {
      "text/plain": [
       "<matplotlib.axes._subplots.AxesSubplot at 0x7fe9d7983c10>"
      ]
     },
     "execution_count": 20,
     "metadata": {},
     "output_type": "execute_result"
    },
    {
     "data": {
      "image/png": "[encoded data removed]",
      "text/plain": [
       "<Figure size 432x288 with 1 Axes>"
      ]
     },
     "metadata": {
      "needs_background": "light"
     },
     "output_type": "display_data"
    }
   ],
   "source": [
    "sns.distplot(attrition['Age'], kde=True) "
   ]
  },
  {
   "cell_type": "code",
   "execution_count": 21,
   "metadata": {
    "colab": {
     "base_uri": "https://localhost:8080/",
     "height": 475
    },
    "executionInfo": {
     "elapsed": 382,
     "status": "ok",
     "timestamp": 1665312992692,
     "user": {
      "displayName": "SAI.SASI.SEKHAR RALLABANDI",
      "userId": "03962991214365984155"
     },
     "user_tz": -330
    },
    "id": "cBmCc3mhdVRN",
    "outputId": "b9f321bd-f1d1-4641-e893-76b689452488"
   },
   "outputs": [
    {
     "name": "stderr",
     "output_type": "stream",
     "text": [
      "/usr/local/lib/python3.7/dist-packages/matplotlib/cbook/__init__.py:1376: VisibleDeprecationWarning: Creating an ndarray from ragged nested sequences (which is a list-or-tuple of lists-or-tuples-or ndarrays with different lengths or shapes) is deprecated. If you meant to do this, you must specify 'dtype=object' when creating the ndarray.\n",
      "  X = np.atleast_1d(X.T if isinstance(X, np.ndarray) else np.asarray(X))\n"
     ]
    },
    {
     "data": {
      "image/png": "[encoded data removed]",
      "text/plain": [
       "<Figure size 288x432 with 1 Axes>"
      ]
     },
     "metadata": {
      "needs_background": "light"
     },
     "output_type": "display_data"
    }
   ],
   "source": [
    "attrition.boxplot(column=\"Age\", grid=False,by=\"Attrition\",figsize=(4,6))\n",
    "plt.show()"
   ]
  },
  {
   "cell_type": "markdown",
   "metadata": {
    "id": "AgVWfieTdsYa"
   },
   "source": [
    "1) Age:   \n",
    "-The average age of employees leaving the company is nearly 33.while the minimum and maximum ages of the employees leaving the company are 18 and 58 respectively.      \n",
    "-The mean age of employees is slightly greater than median.so the distribution can be approximated as normally distributed.     \n",
    "-Around 50% of the employees leaving the company are having age less than 32. It implies that attrition is significant in younger people.    \n",
    " \n"
   ]
  },
  {
   "cell_type": "markdown",
   "metadata": {
    "id": "MnZ0ADcwfT9F"
   },
   "source": [
    "2.MonthlyIncome"
   ]
  },
  {
   "cell_type": "code",
   "execution_count": 22,
   "metadata": {
    "colab": {
     "base_uri": "https://localhost:8080/",
     "height": 175
    },
    "executionInfo": {
     "elapsed": 8,
     "status": "ok",
     "timestamp": 1665312992692,
     "user": {
      "displayName": "SAI.SASI.SEKHAR RALLABANDI",
      "userId": "03962991214365984155"
     },
     "user_tz": -330
    },
    "id": "7-1Ak155kZPY",
    "outputId": "91caada0-152d-4b09-82cc-9dd39fa1eebb"
   },
   "outputs": [
    {
     "data": {
      "text/html": [
       "\n",
       "  <div id=\"df-916ee481-a42a-4115-8881-1bc17c4a3f89\">\n",
       "    <div class=\"colab-df-container\">\n",
       "      <div>\n",
       "<style scoped>\n",
       "    .dataframe tbody tr th:only-of-type {\n",
       "        vertical-align: middle;\n",
       "    }\n",
       "\n",
       "    .dataframe tbody tr th {\n",
       "        vertical-align: top;\n",
       "    }\n",
       "\n",
       "    .dataframe thead tr th {\n",
       "        text-align: left;\n",
       "    }\n",
       "\n",
       "    .dataframe thead tr:last-of-type th {\n",
       "        text-align: right;\n",
       "    }\n",
       "</style>\n",
       "<table border=\"1\" class=\"dataframe\">\n",
       "  <thead>\n",
       "    <tr>\n",
       "      <th></th>\n",
       "      <th colspan=\"8\" halign=\"left\">MonthlyIncome</th>\n",
       "    </tr>\n",
       "    <tr>\n",
       "      <th></th>\n",
       "      <th>count</th>\n",
       "      <th>mean</th>\n",
       "      <th>std</th>\n",
       "      <th>min</th>\n",
       "      <th>25%</th>\n",
       "      <th>50%</th>\n",
       "      <th>75%</th>\n",
       "      <th>max</th>\n",
       "    </tr>\n",
       "    <tr>\n",
       "      <th>Attrition</th>\n",
       "      <th></th>\n",
       "      <th></th>\n",
       "      <th></th>\n",
       "      <th></th>\n",
       "      <th></th>\n",
       "      <th></th>\n",
       "      <th></th>\n",
       "      <th></th>\n",
       "    </tr>\n",
       "  </thead>\n",
       "  <tbody>\n",
       "    <tr>\n",
       "      <th>0</th>\n",
       "      <td>1233.0</td>\n",
       "      <td>6832.739659</td>\n",
       "      <td>4818.208001</td>\n",
       "      <td>1051.0</td>\n",
       "      <td>3211.0</td>\n",
       "      <td>5204.0</td>\n",
       "      <td>8834.0</td>\n",
       "      <td>19999.0</td>\n",
       "    </tr>\n",
       "    <tr>\n",
       "      <th>1</th>\n",
       "      <td>237.0</td>\n",
       "      <td>4787.092827</td>\n",
       "      <td>3640.210367</td>\n",
       "      <td>1009.0</td>\n",
       "      <td>2373.0</td>\n",
       "      <td>3202.0</td>\n",
       "      <td>5916.0</td>\n",
       "      <td>19859.0</td>\n",
       "    </tr>\n",
       "  </tbody>\n",
       "</table>\n",
       "</div>\n",
       "      <button class=\"colab-df-convert\" onclick=\"convertToInteractive('df-916ee481-a42a-4115-8881-1bc17c4a3f89')\"\n",
       "              title=\"Convert this dataframe to an interactive table.\"\n",
       "              style=\"display:none;\">\n",
       "        \n",
       "  <svg xmlns=\"http://www.w3.org/2000/svg\" height=\"24px\"viewBox=\"0 0 24 24\"\n",
       "       width=\"24px\">\n",
       "    <path d=\"M0 0h24v24H0V0z\" fill=\"none\"/>\n",
       "    <path d=\"M18.56 5.44l.94 2.06.94-2.06 2.06-.94-2.06-.94-.94-2.06-.94 2.06-2.06.94zm-11 1L8.5 8.5l.94-2.06 2.06-.94-2.06-.94L8.5 2.5l-.94 2.06-2.06.94zm10 10l.94 2.06.94-2.06 2.06-.94-2.06-.94-.94-2.06-.94 2.06-2.06.94z\"/><path d=\"M17.41 7.96l-1.37-1.37c-.4-.4-.92-.59-1.43-.59-.52 0-1.04.2-1.43.59L10.3 9.45l-7.72 7.72c-.78.78-.78 2.05 0 2.83L4 21.41c.39.39.9.59 1.41.59.51 0 1.02-.2 1.41-.59l7.78-7.78 2.81-2.81c.8-.78.8-2.07 0-2.86zM5.41 20L4 18.59l7.72-7.72 1.47 1.35L5.41 20z\"/>\n",
       "  </svg>\n",
       "      </button>\n",
       "      \n",
       "  <style>\n",
       "    .colab-df-container {\n",
       "      display:flex;\n",
       "      flex-wrap:wrap;\n",
       "      gap: 12px;\n",
       "    }\n",
       "\n",
       "    .colab-df-convert {\n",
       "      background-color: #E8F0FE;\n",
       "      border: none;\n",
       "      border-radius: 50%;\n",
       "      cursor: pointer;\n",
       "      display: none;\n",
       "      fill: #1967D2;\n",
       "      height: 32px;\n",
       "      padding: 0 0 0 0;\n",
       "      width: 32px;\n",
       "    }\n",
       "\n",
       "    .colab-df-convert:hover {\n",
       "      background-color: #E2EBFA;\n",
       "      box-shadow: 0px 1px 2px rgba(60, 64, 67, 0.3), 0px 1px 3px 1px rgba(60, 64, 67, 0.15);\n",
       "      fill: #174EA6;\n",
       "    }\n",
       "\n",
       "    [theme=dark] .colab-df-convert {\n",
       "      background-color: #3B4455;\n",
       "      fill: #D2E3FC;\n",
       "    }\n",
       "\n",
       "    [theme=dark] .colab-df-convert:hover {\n",
       "      background-color: #434B5C;\n",
       "      box-shadow: 0px 1px 3px 1px rgba(0, 0, 0, 0.15);\n",
       "      filter: drop-shadow(0px 1px 2px rgba(0, 0, 0, 0.3));\n",
       "      fill: #FFFFFF;\n",
       "    }\n",
       "  </style>\n",
       "\n",
       "      <script>\n",
       "        const buttonEl =\n",
       "          document.querySelector('#df-916ee481-a42a-4115-8881-1bc17c4a3f89 button.colab-df-convert');\n",
       "        buttonEl.style.display =\n",
       "          google.colab.kernel.accessAllowed ? 'block' : 'none';\n",
       "\n",
       "        async function convertToInteractive(key) {\n",
       "          const element = document.querySelector('#df-916ee481-a42a-4115-8881-1bc17c4a3f89');\n",
       "          const dataTable =\n",
       "            await google.colab.kernel.invokeFunction('convertToInteractive',\n",
       "                                                     [key], {});\n",
       "          if (!dataTable) return;\n",
       "\n",
       "          const docLinkHtml = 'Like what you see? Visit the ' +\n",
       "            '<a target=\"_blank\" href=https://colab.research.google.com/notebooks/data_table.ipynb>data table notebook</a>'\n",
       "            + ' to learn more about interactive tables.';\n",
       "          element.innerHTML = '';\n",
       "          dataTable['output_type'] = 'display_data';\n",
       "          await google.colab.output.renderOutput(dataTable, element);\n",
       "          const docLink = document.createElement('div');\n",
       "          docLink.innerHTML = docLinkHtml;\n",
       "          element.appendChild(docLink);\n",
       "        }\n",
       "      </script>\n",
       "    </div>\n",
       "  </div>\n",
       "  "
      ],
      "text/plain": [
       "          MonthlyIncome                                                    \\\n",
       "                  count         mean          std     min     25%     50%   \n",
       "Attrition                                                                   \n",
       "0                1233.0  6832.739659  4818.208001  1051.0  3211.0  5204.0   \n",
       "1                 237.0  4787.092827  3640.210367  1009.0  2373.0  3202.0   \n",
       "\n",
       "                            \n",
       "              75%      max  \n",
       "Attrition                   \n",
       "0          8834.0  19999.0  \n",
       "1          5916.0  19859.0  "
      ]
     },
     "execution_count": 22,
     "metadata": {},
     "output_type": "execute_result"
    }
   ],
   "source": [
    "attrition[['Attrition','MonthlyIncome']].groupby(['Attrition']).describe()"
   ]
  },
  {
   "cell_type": "code",
   "execution_count": 23,
   "metadata": {
    "colab": {
     "base_uri": "https://localhost:8080/",
     "height": 351
    },
    "executionInfo": {
     "elapsed": 1120,
     "status": "ok",
     "timestamp": 1665312993804,
     "user": {
      "displayName": "SAI.SASI.SEKHAR RALLABANDI",
      "userId": "03962991214365984155"
     },
     "user_tz": -330
    },
    "id": "QHyoZc08bMSh",
    "outputId": "32c3fd57-e3cb-4d5a-a503-c25b6e303f52"
   },
   "outputs": [
    {
     "name": "stderr",
     "output_type": "stream",
     "text": [
      "/usr/local/lib/python3.7/dist-packages/seaborn/distributions.py:2619: FutureWarning: `distplot` is a deprecated function and will be removed in a future version. Please adapt your code to use either `displot` (a figure-level function with similar flexibility) or `histplot` (an axes-level function for histograms).\n",
      "  warnings.warn(msg, FutureWarning)\n"
     ]
    },
    {
     "data": {
      "text/plain": [
       "<matplotlib.axes._subplots.AxesSubplot at 0x7fe9d7359a50>"
      ]
     },
     "execution_count": 23,
     "metadata": {},
     "output_type": "execute_result"
    },
    {
     "data": {
      "image/png": "[encoded data removed]",
      "text/plain": [
       "<Figure size 432x288 with 1 Axes>"
      ]
     },
     "metadata": {
      "needs_background": "light"
     },
     "output_type": "display_data"
    }
   ],
   "source": [
    "sns.distplot(attrition['MonthlyIncome'], kde=True)"
   ]
  },
  {
   "cell_type": "code",
   "execution_count": 24,
   "metadata": {
    "colab": {
     "base_uri": "https://localhost:8080/",
     "height": 475
    },
    "executionInfo": {
     "elapsed": 12,
     "status": "ok",
     "timestamp": 1665312993804,
     "user": {
      "displayName": "SAI.SASI.SEKHAR RALLABANDI",
      "userId": "03962991214365984155"
     },
     "user_tz": -330
    },
    "id": "M058tGFkfkWZ",
    "outputId": "dfd3a9fe-729e-4b45-d340-17eed7ac7869"
   },
   "outputs": [
    {
     "name": "stderr",
     "output_type": "stream",
     "text": [
      "/usr/local/lib/python3.7/dist-packages/matplotlib/cbook/__init__.py:1376: VisibleDeprecationWarning: Creating an ndarray from ragged nested sequences (which is a list-or-tuple of lists-or-tuples-or ndarrays with different lengths or shapes) is deprecated. If you meant to do this, you must specify 'dtype=object' when creating the ndarray.\n",
      "  X = np.atleast_1d(X.T if isinstance(X, np.ndarray) else np.asarray(X))\n"
     ]
    },
    {
     "data": {
      "image/png": "[encoded data removed]",
      "text/plain": [
       "<Figure size 288x432 with 1 Axes>"
      ]
     },
     "metadata": {
      "needs_background": "light"
     },
     "output_type": "display_data"
    }
   ],
   "source": [
    "attrition.boxplot(column=\"MonthlyIncome\", grid=False,by=\"Attrition\",figsize=(4,6))\n",
    "plt.show()"
   ]
  },
  {
   "cell_type": "markdown",
   "metadata": {
    "id": "0Ye0SBNGfqIf"
   },
   "source": [
    "2) Monthly Income:   \n",
    "-The average monthly income of employees leaving the company is nearly 4787. While the lowest monthly income of the employee leaving the company is 1009.     \n",
    "-The mean monthly income of all the employees is greater than the median which means that the distribution is positively skewed.  \n",
    "-Employee who earn less than mean are much more than employee who earn more than mean.  \n",
    "-Most of the employees are earning low salary. The reason for this might be the employees at lower job level are more. (This can be explode further)  \n"
   ]
  },
  {
   "cell_type": "markdown",
   "metadata": {
    "id": "wQyM_Jx1hlf1"
   },
   "source": [
    "3.TotalWorkingYears"
   ]
  },
  {
   "cell_type": "code",
   "execution_count": 25,
   "metadata": {
    "colab": {
     "base_uri": "https://localhost:8080/",
     "height": 175
    },
    "executionInfo": {
     "elapsed": 9,
     "status": "ok",
     "timestamp": 1665312993805,
     "user": {
      "displayName": "SAI.SASI.SEKHAR RALLABANDI",
      "userId": "03962991214365984155"
     },
     "user_tz": -330
    },
    "id": "9pcSlXbxZLqW",
    "outputId": "bb611a0b-b90d-4183-bd67-a449afc798f9"
   },
   "outputs": [
    {
     "data": {
      "text/html": [
       "\n",
       "  <div id=\"df-bc6deb0f-0b36-4530-bc7b-3a3d5012f556\">\n",
       "    <div class=\"colab-df-container\">\n",
       "      <div>\n",
       "<style scoped>\n",
       "    .dataframe tbody tr th:only-of-type {\n",
       "        vertical-align: middle;\n",
       "    }\n",
       "\n",
       "    .dataframe tbody tr th {\n",
       "        vertical-align: top;\n",
       "    }\n",
       "\n",
       "    .dataframe thead tr th {\n",
       "        text-align: left;\n",
       "    }\n",
       "\n",
       "    .dataframe thead tr:last-of-type th {\n",
       "        text-align: right;\n",
       "    }\n",
       "</style>\n",
       "<table border=\"1\" class=\"dataframe\">\n",
       "  <thead>\n",
       "    <tr>\n",
       "      <th></th>\n",
       "      <th colspan=\"8\" halign=\"left\">TotalWorkingYears</th>\n",
       "    </tr>\n",
       "    <tr>\n",
       "      <th></th>\n",
       "      <th>count</th>\n",
       "      <th>mean</th>\n",
       "      <th>std</th>\n",
       "      <th>min</th>\n",
       "      <th>25%</th>\n",
       "      <th>50%</th>\n",
       "      <th>75%</th>\n",
       "      <th>max</th>\n",
       "    </tr>\n",
       "    <tr>\n",
       "      <th>Attrition</th>\n",
       "      <th></th>\n",
       "      <th></th>\n",
       "      <th></th>\n",
       "      <th></th>\n",
       "      <th></th>\n",
       "      <th></th>\n",
       "      <th></th>\n",
       "      <th></th>\n",
       "    </tr>\n",
       "  </thead>\n",
       "  <tbody>\n",
       "    <tr>\n",
       "      <th>0</th>\n",
       "      <td>1233.0</td>\n",
       "      <td>11.862936</td>\n",
       "      <td>7.760719</td>\n",
       "      <td>0.0</td>\n",
       "      <td>6.0</td>\n",
       "      <td>10.0</td>\n",
       "      <td>16.0</td>\n",
       "      <td>38.0</td>\n",
       "    </tr>\n",
       "    <tr>\n",
       "      <th>1</th>\n",
       "      <td>237.0</td>\n",
       "      <td>8.244726</td>\n",
       "      <td>7.169204</td>\n",
       "      <td>0.0</td>\n",
       "      <td>3.0</td>\n",
       "      <td>7.0</td>\n",
       "      <td>10.0</td>\n",
       "      <td>40.0</td>\n",
       "    </tr>\n",
       "  </tbody>\n",
       "</table>\n",
       "</div>\n",
       "      <button class=\"colab-df-convert\" onclick=\"convertToInteractive('df-bc6deb0f-0b36-4530-bc7b-3a3d5012f556')\"\n",
       "              title=\"Convert this dataframe to an interactive table.\"\n",
       "              style=\"display:none;\">\n",
       "        \n",
       "  <svg xmlns=\"http://www.w3.org/2000/svg\" height=\"24px\"viewBox=\"0 0 24 24\"\n",
       "       width=\"24px\">\n",
       "    <path d=\"M0 0h24v24H0V0z\" fill=\"none\"/>\n",
       "    <path d=\"M18.56 5.44l.94 2.06.94-2.06 2.06-.94-2.06-.94-.94-2.06-.94 2.06-2.06.94zm-11 1L8.5 8.5l.94-2.06 2.06-.94-2.06-.94L8.5 2.5l-.94 2.06-2.06.94zm10 10l.94 2.06.94-2.06 2.06-.94-2.06-.94-.94-2.06-.94 2.06-2.06.94z\"/><path d=\"M17.41 7.96l-1.37-1.37c-.4-.4-.92-.59-1.43-.59-.52 0-1.04.2-1.43.59L10.3 9.45l-7.72 7.72c-.78.78-.78 2.05 0 2.83L4 21.41c.39.39.9.59 1.41.59.51 0 1.02-.2 1.41-.59l7.78-7.78 2.81-2.81c.8-.78.8-2.07 0-2.86zM5.41 20L4 18.59l7.72-7.72 1.47 1.35L5.41 20z\"/>\n",
       "  </svg>\n",
       "      </button>\n",
       "      \n",
       "  <style>\n",
       "    .colab-df-container {\n",
       "      display:flex;\n",
       "      flex-wrap:wrap;\n",
       "      gap: 12px;\n",
       "    }\n",
       "\n",
       "    .colab-df-convert {\n",
       "      background-color: #E8F0FE;\n",
       "      border: none;\n",
       "      border-radius: 50%;\n",
       "      cursor: pointer;\n",
       "      display: none;\n",
       "      fill: #1967D2;\n",
       "      height: 32px;\n",
       "      padding: 0 0 0 0;\n",
       "      width: 32px;\n",
       "    }\n",
       "\n",
       "    .colab-df-convert:hover {\n",
       "      background-color: #E2EBFA;\n",
       "      box-shadow: 0px 1px 2px rgba(60, 64, 67, 0.3), 0px 1px 3px 1px rgba(60, 64, 67, 0.15);\n",
       "      fill: #174EA6;\n",
       "    }\n",
       "\n",
       "    [theme=dark] .colab-df-convert {\n",
       "      background-color: #3B4455;\n",
       "      fill: #D2E3FC;\n",
       "    }\n",
       "\n",
       "    [theme=dark] .colab-df-convert:hover {\n",
       "      background-color: #434B5C;\n",
       "      box-shadow: 0px 1px 3px 1px rgba(0, 0, 0, 0.15);\n",
       "      filter: drop-shadow(0px 1px 2px rgba(0, 0, 0, 0.3));\n",
       "      fill: #FFFFFF;\n",
       "    }\n",
       "  </style>\n",
       "\n",
       "      <script>\n",
       "        const buttonEl =\n",
       "          document.querySelector('#df-bc6deb0f-0b36-4530-bc7b-3a3d5012f556 button.colab-df-convert');\n",
       "        buttonEl.style.display =\n",
       "          google.colab.kernel.accessAllowed ? 'block' : 'none';\n",
       "\n",
       "        async function convertToInteractive(key) {\n",
       "          const element = document.querySelector('#df-bc6deb0f-0b36-4530-bc7b-3a3d5012f556');\n",
       "          const dataTable =\n",
       "            await google.colab.kernel.invokeFunction('convertToInteractive',\n",
       "                                                     [key], {});\n",
       "          if (!dataTable) return;\n",
       "\n",
       "          const docLinkHtml = 'Like what you see? Visit the ' +\n",
       "            '<a target=\"_blank\" href=https://colab.research.google.com/notebooks/data_table.ipynb>data table notebook</a>'\n",
       "            + ' to learn more about interactive tables.';\n",
       "          element.innerHTML = '';\n",
       "          dataTable['output_type'] = 'display_data';\n",
       "          await google.colab.output.renderOutput(dataTable, element);\n",
       "          const docLink = document.createElement('div');\n",
       "          docLink.innerHTML = docLinkHtml;\n",
       "          element.appendChild(docLink);\n",
       "        }\n",
       "      </script>\n",
       "    </div>\n",
       "  </div>\n",
       "  "
      ],
      "text/plain": [
       "          TotalWorkingYears                                                 \n",
       "                      count       mean       std  min  25%   50%   75%   max\n",
       "Attrition                                                                   \n",
       "0                    1233.0  11.862936  7.760719  0.0  6.0  10.0  16.0  38.0\n",
       "1                     237.0   8.244726  7.169204  0.0  3.0   7.0  10.0  40.0"
      ]
     },
     "execution_count": 25,
     "metadata": {},
     "output_type": "execute_result"
    }
   ],
   "source": [
    "attrition[['Attrition','TotalWorkingYears']].groupby(['Attrition']).describe()"
   ]
  },
  {
   "cell_type": "code",
   "execution_count": 26,
   "metadata": {
    "colab": {
     "base_uri": "https://localhost:8080/",
     "height": 351
    },
    "executionInfo": {
     "elapsed": 917,
     "status": "ok",
     "timestamp": 1665312994713,
     "user": {
      "displayName": "SAI.SASI.SEKHAR RALLABANDI",
      "userId": "03962991214365984155"
     },
     "user_tz": -330
    },
    "id": "qG8MGpq6bR8p",
    "outputId": "2fc0d89f-5736-4198-8175-903199b7e028"
   },
   "outputs": [
    {
     "name": "stderr",
     "output_type": "stream",
     "text": [
      "/usr/local/lib/python3.7/dist-packages/seaborn/distributions.py:2619: FutureWarning: `distplot` is a deprecated function and will be removed in a future version. Please adapt your code to use either `displot` (a figure-level function with similar flexibility) or `histplot` (an axes-level function for histograms).\n",
      "  warnings.warn(msg, FutureWarning)\n"
     ]
    },
    {
     "data": {
      "text/plain": [
       "<matplotlib.axes._subplots.AxesSubplot at 0x7fe9d71c76d0>"
      ]
     },
     "execution_count": 26,
     "metadata": {},
     "output_type": "execute_result"
    },
    {
     "data": {
      "image/png": "[encoded data removed]",
      "text/plain": [
       "<Figure size 432x288 with 1 Axes>"
      ]
     },
     "metadata": {
      "needs_background": "light"
     },
     "output_type": "display_data"
    }
   ],
   "source": [
    "sns.distplot(attrition['TotalWorkingYears'], kde=True)"
   ]
  },
  {
   "cell_type": "code",
   "execution_count": 27,
   "metadata": {
    "colab": {
     "base_uri": "https://localhost:8080/",
     "height": 475
    },
    "executionInfo": {
     "elapsed": 8,
     "status": "ok",
     "timestamp": 1665312994713,
     "user": {
      "displayName": "SAI.SASI.SEKHAR RALLABANDI",
      "userId": "03962991214365984155"
     },
     "user_tz": -330
    },
    "id": "UQGF7XXIhwSK",
    "outputId": "fa482108-6fea-4769-d5d3-289ded6d904c"
   },
   "outputs": [
    {
     "name": "stderr",
     "output_type": "stream",
     "text": [
      "/usr/local/lib/python3.7/dist-packages/matplotlib/cbook/__init__.py:1376: VisibleDeprecationWarning: Creating an ndarray from ragged nested sequences (which is a list-or-tuple of lists-or-tuples-or ndarrays with different lengths or shapes) is deprecated. If you meant to do this, you must specify 'dtype=object' when creating the ndarray.\n",
      "  X = np.atleast_1d(X.T if isinstance(X, np.ndarray) else np.asarray(X))\n"
     ]
    },
    {
     "data": {
      "image/png": "[encoded data removed]",
      "text/plain": [
       "<Figure size 288x432 with 1 Axes>"
      ]
     },
     "metadata": {
      "needs_background": "light"
     },
     "output_type": "display_data"
    }
   ],
   "source": [
    "attrition.boxplot(column=\"TotalWorkingYears\", grid=False,by=\"Attrition\",figsize=(4,6))\n",
    "plt.show()"
   ]
  },
  {
   "cell_type": "markdown",
   "metadata": {
    "id": "t3PmWl8khyNt"
   },
   "source": [
    "3) Total Working Years:   \n",
    "-The average Total Working Years of all the employees is nearly 11. While is is 7 years for employees leaving the company.  \n"
   ]
  },
  {
   "cell_type": "markdown",
   "metadata": {
    "id": "FKdmTtogkKyi"
   },
   "source": [
    "4.YearsAtCompany"
   ]
  },
  {
   "cell_type": "code",
   "execution_count": 28,
   "metadata": {
    "colab": {
     "base_uri": "https://localhost:8080/",
     "height": 175
    },
    "executionInfo": {
     "elapsed": 972,
     "status": "ok",
     "timestamp": 1665312995680,
     "user": {
      "displayName": "SAI.SASI.SEKHAR RALLABANDI",
      "userId": "03962991214365984155"
     },
     "user_tz": -330
    },
    "id": "CeAdCD4dZLtV",
    "outputId": "c3ac58a1-3df1-44ed-c78b-65744602b68d"
   },
   "outputs": [
    {
     "data": {
      "text/html": [
       "\n",
       "  <div id=\"df-3ac6946e-0f54-419b-96b3-f649f7feaf09\">\n",
       "    <div class=\"colab-df-container\">\n",
       "      <div>\n",
       "<style scoped>\n",
       "    .dataframe tbody tr th:only-of-type {\n",
       "        vertical-align: middle;\n",
       "    }\n",
       "\n",
       "    .dataframe tbody tr th {\n",
       "        vertical-align: top;\n",
       "    }\n",
       "\n",
       "    .dataframe thead tr th {\n",
       "        text-align: left;\n",
       "    }\n",
       "\n",
       "    .dataframe thead tr:last-of-type th {\n",
       "        text-align: right;\n",
       "    }\n",
       "</style>\n",
       "<table border=\"1\" class=\"dataframe\">\n",
       "  <thead>\n",
       "    <tr>\n",
       "      <th></th>\n",
       "      <th colspan=\"8\" halign=\"left\">YearsAtCompany</th>\n",
       "    </tr>\n",
       "    <tr>\n",
       "      <th></th>\n",
       "      <th>count</th>\n",
       "      <th>mean</th>\n",
       "      <th>std</th>\n",
       "      <th>min</th>\n",
       "      <th>25%</th>\n",
       "      <th>50%</th>\n",
       "      <th>75%</th>\n",
       "      <th>max</th>\n",
       "    </tr>\n",
       "    <tr>\n",
       "      <th>Attrition</th>\n",
       "      <th></th>\n",
       "      <th></th>\n",
       "      <th></th>\n",
       "      <th></th>\n",
       "      <th></th>\n",
       "      <th></th>\n",
       "      <th></th>\n",
       "      <th></th>\n",
       "    </tr>\n",
       "  </thead>\n",
       "  <tbody>\n",
       "    <tr>\n",
       "      <th>0</th>\n",
       "      <td>1233.0</td>\n",
       "      <td>7.369019</td>\n",
       "      <td>6.096298</td>\n",
       "      <td>0.0</td>\n",
       "      <td>3.0</td>\n",
       "      <td>6.0</td>\n",
       "      <td>10.0</td>\n",
       "      <td>37.0</td>\n",
       "    </tr>\n",
       "    <tr>\n",
       "      <th>1</th>\n",
       "      <td>237.0</td>\n",
       "      <td>5.130802</td>\n",
       "      <td>5.949984</td>\n",
       "      <td>0.0</td>\n",
       "      <td>1.0</td>\n",
       "      <td>3.0</td>\n",
       "      <td>7.0</td>\n",
       "      <td>40.0</td>\n",
       "    </tr>\n",
       "  </tbody>\n",
       "</table>\n",
       "</div>\n",
       "      <button class=\"colab-df-convert\" onclick=\"convertToInteractive('df-3ac6946e-0f54-419b-96b3-f649f7feaf09')\"\n",
       "              title=\"Convert this dataframe to an interactive table.\"\n",
       "              style=\"display:none;\">\n",
       "        \n",
       "  <svg xmlns=\"http://www.w3.org/2000/svg\" height=\"24px\"viewBox=\"0 0 24 24\"\n",
       "       width=\"24px\">\n",
       "    <path d=\"M0 0h24v24H0V0z\" fill=\"none\"/>\n",
       "    <path d=\"M18.56 5.44l.94 2.06.94-2.06 2.06-.94-2.06-.94-.94-2.06-.94 2.06-2.06.94zm-11 1L8.5 8.5l.94-2.06 2.06-.94-2.06-.94L8.5 2.5l-.94 2.06-2.06.94zm10 10l.94 2.06.94-2.06 2.06-.94-2.06-.94-.94-2.06-.94 2.06-2.06.94z\"/><path d=\"M17.41 7.96l-1.37-1.37c-.4-.4-.92-.59-1.43-.59-.52 0-1.04.2-1.43.59L10.3 9.45l-7.72 7.72c-.78.78-.78 2.05 0 2.83L4 21.41c.39.39.9.59 1.41.59.51 0 1.02-.2 1.41-.59l7.78-7.78 2.81-2.81c.8-.78.8-2.07 0-2.86zM5.41 20L4 18.59l7.72-7.72 1.47 1.35L5.41 20z\"/>\n",
       "  </svg>\n",
       "      </button>\n",
       "      \n",
       "  <style>\n",
       "    .colab-df-container {\n",
       "      display:flex;\n",
       "      flex-wrap:wrap;\n",
       "      gap: 12px;\n",
       "    }\n",
       "\n",
       "    .colab-df-convert {\n",
       "      background-color: #E8F0FE;\n",
       "      border: none;\n",
       "      border-radius: 50%;\n",
       "      cursor: pointer;\n",
       "      display: none;\n",
       "      fill: #1967D2;\n",
       "      height: 32px;\n",
       "      padding: 0 0 0 0;\n",
       "      width: 32px;\n",
       "    }\n",
       "\n",
       "    .colab-df-convert:hover {\n",
       "      background-color: #E2EBFA;\n",
       "      box-shadow: 0px 1px 2px rgba(60, 64, 67, 0.3), 0px 1px 3px 1px rgba(60, 64, 67, 0.15);\n",
       "      fill: #174EA6;\n",
       "    }\n",
       "\n",
       "    [theme=dark] .colab-df-convert {\n",
       "      background-color: #3B4455;\n",
       "      fill: #D2E3FC;\n",
       "    }\n",
       "\n",
       "    [theme=dark] .colab-df-convert:hover {\n",
       "      background-color: #434B5C;\n",
       "      box-shadow: 0px 1px 3px 1px rgba(0, 0, 0, 0.15);\n",
       "      filter: drop-shadow(0px 1px 2px rgba(0, 0, 0, 0.3));\n",
       "      fill: #FFFFFF;\n",
       "    }\n",
       "  </style>\n",
       "\n",
       "      <script>\n",
       "        const buttonEl =\n",
       "          document.querySelector('#df-3ac6946e-0f54-419b-96b3-f649f7feaf09 button.colab-df-convert');\n",
       "        buttonEl.style.display =\n",
       "          google.colab.kernel.accessAllowed ? 'block' : 'none';\n",
       "\n",
       "        async function convertToInteractive(key) {\n",
       "          const element = document.querySelector('#df-3ac6946e-0f54-419b-96b3-f649f7feaf09');\n",
       "          const dataTable =\n",
       "            await google.colab.kernel.invokeFunction('convertToInteractive',\n",
       "                                                     [key], {});\n",
       "          if (!dataTable) return;\n",
       "\n",
       "          const docLinkHtml = 'Like what you see? Visit the ' +\n",
       "            '<a target=\"_blank\" href=https://colab.research.google.com/notebooks/data_table.ipynb>data table notebook</a>'\n",
       "            + ' to learn more about interactive tables.';\n",
       "          element.innerHTML = '';\n",
       "          dataTable['output_type'] = 'display_data';\n",
       "          await google.colab.output.renderOutput(dataTable, element);\n",
       "          const docLink = document.createElement('div');\n",
       "          docLink.innerHTML = docLinkHtml;\n",
       "          element.appendChild(docLink);\n",
       "        }\n",
       "      </script>\n",
       "    </div>\n",
       "  </div>\n",
       "  "
      ],
      "text/plain": [
       "          YearsAtCompany                                               \n",
       "                   count      mean       std  min  25%  50%   75%   max\n",
       "Attrition                                                              \n",
       "0                 1233.0  7.369019  6.096298  0.0  3.0  6.0  10.0  37.0\n",
       "1                  237.0  5.130802  5.949984  0.0  1.0  3.0   7.0  40.0"
      ]
     },
     "execution_count": 28,
     "metadata": {},
     "output_type": "execute_result"
    }
   ],
   "source": [
    "attrition[['Attrition','YearsAtCompany']].groupby(['Attrition']).describe()"
   ]
  },
  {
   "cell_type": "code",
   "execution_count": 29,
   "metadata": {
    "colab": {
     "base_uri": "https://localhost:8080/",
     "height": 351
    },
    "executionInfo": {
     "elapsed": 14,
     "status": "ok",
     "timestamp": 1665312995680,
     "user": {
      "displayName": "SAI.SASI.SEKHAR RALLABANDI",
      "userId": "03962991214365984155"
     },
     "user_tz": -330
    },
    "id": "7l3hF5zMbWfk",
    "outputId": "c1252df1-e227-40ca-cde1-041739da708a"
   },
   "outputs": [
    {
     "name": "stderr",
     "output_type": "stream",
     "text": [
      "/usr/local/lib/python3.7/dist-packages/seaborn/distributions.py:2619: FutureWarning: `distplot` is a deprecated function and will be removed in a future version. Please adapt your code to use either `displot` (a figure-level function with similar flexibility) or `histplot` (an axes-level function for histograms).\n",
      "  warnings.warn(msg, FutureWarning)\n"
     ]
    },
    {
     "data": {
      "text/plain": [
       "<matplotlib.axes._subplots.AxesSubplot at 0x7fe9d7065050>"
      ]
     },
     "execution_count": 29,
     "metadata": {},
     "output_type": "execute_result"
    },
    {
     "data": {
      "image/png": "[encoded data removed]",
      "text/plain": [
       "<Figure size 432x288 with 1 Axes>"
      ]
     },
     "metadata": {
      "needs_background": "light"
     },
     "output_type": "display_data"
    }
   ],
   "source": [
    "sns.distplot(attrition['YearsAtCompany'], kde=True)"
   ]
  },
  {
   "cell_type": "code",
   "execution_count": 30,
   "metadata": {
    "colab": {
     "base_uri": "https://localhost:8080/",
     "height": 475
    },
    "executionInfo": {
     "elapsed": 13,
     "status": "ok",
     "timestamp": 1665312995681,
     "user": {
      "displayName": "SAI.SASI.SEKHAR RALLABANDI",
      "userId": "03962991214365984155"
     },
     "user_tz": -330
    },
    "id": "mBySZxYhkXU3",
    "outputId": "a0b638ab-b42e-4582-de49-0a635de4cc8d"
   },
   "outputs": [
    {
     "name": "stderr",
     "output_type": "stream",
     "text": [
      "/usr/local/lib/python3.7/dist-packages/matplotlib/cbook/__init__.py:1376: VisibleDeprecationWarning: Creating an ndarray from ragged nested sequences (which is a list-or-tuple of lists-or-tuples-or ndarrays with different lengths or shapes) is deprecated. If you meant to do this, you must specify 'dtype=object' when creating the ndarray.\n",
      "  X = np.atleast_1d(X.T if isinstance(X, np.ndarray) else np.asarray(X))\n"
     ]
    },
    {
     "data": {
      "image/png": "[encoded data removed]",
      "text/plain": [
       "<Figure size 288x432 with 1 Axes>"
      ]
     },
     "metadata": {
      "needs_background": "light"
     },
     "output_type": "display_data"
    }
   ],
   "source": [
    "attrition.boxplot(column=\"YearsAtCompany\", grid=False,by=\"Attrition\",figsize=(4,6))\n",
    "plt.show()"
   ]
  },
  {
   "cell_type": "markdown",
   "metadata": {
    "id": "2ElgIfNlkcyq"
   },
   "source": [
    "4) Years at Company:   \n",
    "-The average Years at Company of all the employees is nearly 7.  \n",
    "-Most people don't spend more than 10 years in this company.   \n",
    "-75% of the employees leaving the company are spending less than 7 years in this company.   \n"
   ]
  },
  {
   "cell_type": "markdown",
   "metadata": {
    "id": "k86n-MYGlZSq"
   },
   "source": [
    "5.YearsInCurrentRole"
   ]
  },
  {
   "cell_type": "code",
   "execution_count": 31,
   "metadata": {
    "colab": {
     "base_uri": "https://localhost:8080/",
     "height": 175
    },
    "executionInfo": {
     "elapsed": 11,
     "status": "ok",
     "timestamp": 1665312995681,
     "user": {
      "displayName": "SAI.SASI.SEKHAR RALLABANDI",
      "userId": "03962991214365984155"
     },
     "user_tz": -330
    },
    "id": "5esnBBAUZLvx",
    "outputId": "6e8f6b2d-8b45-46a5-8ec1-6fc033239e90"
   },
   "outputs": [
    {
     "data": {
      "text/html": [
       "\n",
       "  <div id=\"df-e059c4b0-fec7-4a47-8120-2af43a5ca457\">\n",
       "    <div class=\"colab-df-container\">\n",
       "      <div>\n",
       "<style scoped>\n",
       "    .dataframe tbody tr th:only-of-type {\n",
       "        vertical-align: middle;\n",
       "    }\n",
       "\n",
       "    .dataframe tbody tr th {\n",
       "        vertical-align: top;\n",
       "    }\n",
       "\n",
       "    .dataframe thead tr th {\n",
       "        text-align: left;\n",
       "    }\n",
       "\n",
       "    .dataframe thead tr:last-of-type th {\n",
       "        text-align: right;\n",
       "    }\n",
       "</style>\n",
       "<table border=\"1\" class=\"dataframe\">\n",
       "  <thead>\n",
       "    <tr>\n",
       "      <th></th>\n",
       "      <th colspan=\"8\" halign=\"left\">YearsInCurrentRole</th>\n",
       "    </tr>\n",
       "    <tr>\n",
       "      <th></th>\n",
       "      <th>count</th>\n",
       "      <th>mean</th>\n",
       "      <th>std</th>\n",
       "      <th>min</th>\n",
       "      <th>25%</th>\n",
       "      <th>50%</th>\n",
       "      <th>75%</th>\n",
       "      <th>max</th>\n",
       "    </tr>\n",
       "    <tr>\n",
       "      <th>Attrition</th>\n",
       "      <th></th>\n",
       "      <th></th>\n",
       "      <th></th>\n",
       "      <th></th>\n",
       "      <th></th>\n",
       "      <th></th>\n",
       "      <th></th>\n",
       "      <th></th>\n",
       "    </tr>\n",
       "  </thead>\n",
       "  <tbody>\n",
       "    <tr>\n",
       "      <th>0</th>\n",
       "      <td>1233.0</td>\n",
       "      <td>4.484185</td>\n",
       "      <td>3.649402</td>\n",
       "      <td>0.0</td>\n",
       "      <td>2.0</td>\n",
       "      <td>3.0</td>\n",
       "      <td>7.0</td>\n",
       "      <td>18.0</td>\n",
       "    </tr>\n",
       "    <tr>\n",
       "      <th>1</th>\n",
       "      <td>237.0</td>\n",
       "      <td>2.902954</td>\n",
       "      <td>3.174827</td>\n",
       "      <td>0.0</td>\n",
       "      <td>0.0</td>\n",
       "      <td>2.0</td>\n",
       "      <td>4.0</td>\n",
       "      <td>15.0</td>\n",
       "    </tr>\n",
       "  </tbody>\n",
       "</table>\n",
       "</div>\n",
       "      <button class=\"colab-df-convert\" onclick=\"convertToInteractive('df-e059c4b0-fec7-4a47-8120-2af43a5ca457')\"\n",
       "              title=\"Convert this dataframe to an interactive table.\"\n",
       "              style=\"display:none;\">\n",
       "        \n",
       "  <svg xmlns=\"http://www.w3.org/2000/svg\" height=\"24px\"viewBox=\"0 0 24 24\"\n",
       "       width=\"24px\">\n",
       "    <path d=\"M0 0h24v24H0V0z\" fill=\"none\"/>\n",
       "    <path d=\"M18.56 5.44l.94 2.06.94-2.06 2.06-.94-2.06-.94-.94-2.06-.94 2.06-2.06.94zm-11 1L8.5 8.5l.94-2.06 2.06-.94-2.06-.94L8.5 2.5l-.94 2.06-2.06.94zm10 10l.94 2.06.94-2.06 2.06-.94-2.06-.94-.94-2.06-.94 2.06-2.06.94z\"/><path d=\"M17.41 7.96l-1.37-1.37c-.4-.4-.92-.59-1.43-.59-.52 0-1.04.2-1.43.59L10.3 9.45l-7.72 7.72c-.78.78-.78 2.05 0 2.83L4 21.41c.39.39.9.59 1.41.59.51 0 1.02-.2 1.41-.59l7.78-7.78 2.81-2.81c.8-.78.8-2.07 0-2.86zM5.41 20L4 18.59l7.72-7.72 1.47 1.35L5.41 20z\"/>\n",
       "  </svg>\n",
       "      </button>\n",
       "      \n",
       "  <style>\n",
       "    .colab-df-container {\n",
       "      display:flex;\n",
       "      flex-wrap:wrap;\n",
       "      gap: 12px;\n",
       "    }\n",
       "\n",
       "    .colab-df-convert {\n",
       "      background-color: #E8F0FE;\n",
       "      border: none;\n",
       "      border-radius: 50%;\n",
       "      cursor: pointer;\n",
       "      display: none;\n",
       "      fill: #1967D2;\n",
       "      height: 32px;\n",
       "      padding: 0 0 0 0;\n",
       "      width: 32px;\n",
       "    }\n",
       "\n",
       "    .colab-df-convert:hover {\n",
       "      background-color: #E2EBFA;\n",
       "      box-shadow: 0px 1px 2px rgba(60, 64, 67, 0.3), 0px 1px 3px 1px rgba(60, 64, 67, 0.15);\n",
       "      fill: #174EA6;\n",
       "    }\n",
       "\n",
       "    [theme=dark] .colab-df-convert {\n",
       "      background-color: #3B4455;\n",
       "      fill: #D2E3FC;\n",
       "    }\n",
       "\n",
       "    [theme=dark] .colab-df-convert:hover {\n",
       "      background-color: #434B5C;\n",
       "      box-shadow: 0px 1px 3px 1px rgba(0, 0, 0, 0.15);\n",
       "      filter: drop-shadow(0px 1px 2px rgba(0, 0, 0, 0.3));\n",
       "      fill: #FFFFFF;\n",
       "    }\n",
       "  </style>\n",
       "\n",
       "      <script>\n",
       "        const buttonEl =\n",
       "          document.querySelector('#df-e059c4b0-fec7-4a47-8120-2af43a5ca457 button.colab-df-convert');\n",
       "        buttonEl.style.display =\n",
       "          google.colab.kernel.accessAllowed ? 'block' : 'none';\n",
       "\n",
       "        async function convertToInteractive(key) {\n",
       "          const element = document.querySelector('#df-e059c4b0-fec7-4a47-8120-2af43a5ca457');\n",
       "          const dataTable =\n",
       "            await google.colab.kernel.invokeFunction('convertToInteractive',\n",
       "                                                     [key], {});\n",
       "          if (!dataTable) return;\n",
       "\n",
       "          const docLinkHtml = 'Like what you see? Visit the ' +\n",
       "            '<a target=\"_blank\" href=https://colab.research.google.com/notebooks/data_table.ipynb>data table notebook</a>'\n",
       "            + ' to learn more about interactive tables.';\n",
       "          element.innerHTML = '';\n",
       "          dataTable['output_type'] = 'display_data';\n",
       "          await google.colab.output.renderOutput(dataTable, element);\n",
       "          const docLink = document.createElement('div');\n",
       "          docLink.innerHTML = docLinkHtml;\n",
       "          element.appendChild(docLink);\n",
       "        }\n",
       "      </script>\n",
       "    </div>\n",
       "  </div>\n",
       "  "
      ],
      "text/plain": [
       "          YearsInCurrentRole                                              \n",
       "                       count      mean       std  min  25%  50%  75%   max\n",
       "Attrition                                                                 \n",
       "0                     1233.0  4.484185  3.649402  0.0  2.0  3.0  7.0  18.0\n",
       "1                      237.0  2.902954  3.174827  0.0  0.0  2.0  4.0  15.0"
      ]
     },
     "execution_count": 31,
     "metadata": {},
     "output_type": "execute_result"
    }
   ],
   "source": [
    "attrition[['Attrition','YearsInCurrentRole']].groupby(['Attrition']).describe()"
   ]
  },
  {
   "cell_type": "code",
   "execution_count": 32,
   "metadata": {
    "colab": {
     "base_uri": "https://localhost:8080/",
     "height": 351
    },
    "executionInfo": {
     "elapsed": 11,
     "status": "ok",
     "timestamp": 1665312995681,
     "user": {
      "displayName": "SAI.SASI.SEKHAR RALLABANDI",
      "userId": "03962991214365984155"
     },
     "user_tz": -330
    },
    "id": "Tx_yJb9Pbg7w",
    "outputId": "d5df460f-ca34-4ca5-dd86-e81a2cbc9824"
   },
   "outputs": [
    {
     "name": "stderr",
     "output_type": "stream",
     "text": [
      "/usr/local/lib/python3.7/dist-packages/seaborn/distributions.py:2619: FutureWarning: `distplot` is a deprecated function and will be removed in a future version. Please adapt your code to use either `displot` (a figure-level function with similar flexibility) or `histplot` (an axes-level function for histograms).\n",
      "  warnings.warn(msg, FutureWarning)\n"
     ]
    },
    {
     "data": {
      "text/plain": [
       "<matplotlib.axes._subplots.AxesSubplot at 0x7fe9d6f1c910>"
      ]
     },
     "execution_count": 32,
     "metadata": {},
     "output_type": "execute_result"
    },
    {
     "data": {
      "image/png": "[encoded data removed]",
      "text/plain": [
       "<Figure size 432x288 with 1 Axes>"
      ]
     },
     "metadata": {
      "needs_background": "light"
     },
     "output_type": "display_data"
    }
   ],
   "source": [
    "sns.distplot(attrition['YearsInCurrentRole'], kde=True)"
   ]
  },
  {
   "cell_type": "code",
   "execution_count": 33,
   "metadata": {
    "colab": {
     "base_uri": "https://localhost:8080/",
     "height": 475
    },
    "executionInfo": {
     "elapsed": 1151,
     "status": "ok",
     "timestamp": 1665312996823,
     "user": {
      "displayName": "SAI.SASI.SEKHAR RALLABANDI",
      "userId": "03962991214365984155"
     },
     "user_tz": -330
    },
    "id": "bxGKPcaolj8k",
    "outputId": "e0d2191b-9c76-4948-c64e-1571d67a5e85"
   },
   "outputs": [
    {
     "name": "stderr",
     "output_type": "stream",
     "text": [
      "/usr/local/lib/python3.7/dist-packages/matplotlib/cbook/__init__.py:1376: VisibleDeprecationWarning: Creating an ndarray from ragged nested sequences (which is a list-or-tuple of lists-or-tuples-or ndarrays with different lengths or shapes) is deprecated. If you meant to do this, you must specify 'dtype=object' when creating the ndarray.\n",
      "  X = np.atleast_1d(X.T if isinstance(X, np.ndarray) else np.asarray(X))\n"
     ]
    },
    {
     "data": {
      "image/png": "[encoded data removed]",
      "text/plain": [
       "<Figure size 288x432 with 1 Axes>"
      ]
     },
     "metadata": {
      "needs_background": "light"
     },
     "output_type": "display_data"
    }
   ],
   "source": [
    "attrition.boxplot(column=\"YearsInCurrentRole\", grid=False,by=\"Attrition\",figsize=(4,6))\n",
    "plt.show()"
   ]
  },
  {
   "cell_type": "markdown",
   "metadata": {
    "id": "q3-JdJ-klqLt"
   },
   "source": [
    "5) Years in Current Role:  \n",
    "-The average Years in Current Role of all the employees is nearly 4.  \n",
    "-75% of the employees leaving the company are spending typically 4 years in current role.  \n"
   ]
  },
  {
   "cell_type": "markdown",
   "metadata": {
    "id": "_LTUAwFdml98"
   },
   "source": [
    "6.YearsSinceLastPromotion"
   ]
  },
  {
   "cell_type": "code",
   "execution_count": 34,
   "metadata": {
    "colab": {
     "base_uri": "https://localhost:8080/",
     "height": 175
    },
    "executionInfo": {
     "elapsed": 18,
     "status": "ok",
     "timestamp": 1665312996824,
     "user": {
      "displayName": "SAI.SASI.SEKHAR RALLABANDI",
      "userId": "03962991214365984155"
     },
     "user_tz": -330
    },
    "id": "4l0bhiBIZLyd",
    "outputId": "b6fac4b1-7061-452f-bd0d-80aa060bf2e7"
   },
   "outputs": [
    {
     "data": {
      "text/html": [
       "\n",
       "  <div id=\"df-1124248c-2aa2-48ca-9ebf-93c31763b763\">\n",
       "    <div class=\"colab-df-container\">\n",
       "      <div>\n",
       "<style scoped>\n",
       "    .dataframe tbody tr th:only-of-type {\n",
       "        vertical-align: middle;\n",
       "    }\n",
       "\n",
       "    .dataframe tbody tr th {\n",
       "        vertical-align: top;\n",
       "    }\n",
       "\n",
       "    .dataframe thead tr th {\n",
       "        text-align: left;\n",
       "    }\n",
       "\n",
       "    .dataframe thead tr:last-of-type th {\n",
       "        text-align: right;\n",
       "    }\n",
       "</style>\n",
       "<table border=\"1\" class=\"dataframe\">\n",
       "  <thead>\n",
       "    <tr>\n",
       "      <th></th>\n",
       "      <th colspan=\"8\" halign=\"left\">YearsSinceLastPromotion</th>\n",
       "    </tr>\n",
       "    <tr>\n",
       "      <th></th>\n",
       "      <th>count</th>\n",
       "      <th>mean</th>\n",
       "      <th>std</th>\n",
       "      <th>min</th>\n",
       "      <th>25%</th>\n",
       "      <th>50%</th>\n",
       "      <th>75%</th>\n",
       "      <th>max</th>\n",
       "    </tr>\n",
       "    <tr>\n",
       "      <th>Attrition</th>\n",
       "      <th></th>\n",
       "      <th></th>\n",
       "      <th></th>\n",
       "      <th></th>\n",
       "      <th></th>\n",
       "      <th></th>\n",
       "      <th></th>\n",
       "      <th></th>\n",
       "    </tr>\n",
       "  </thead>\n",
       "  <tbody>\n",
       "    <tr>\n",
       "      <th>0</th>\n",
       "      <td>1233.0</td>\n",
       "      <td>2.234388</td>\n",
       "      <td>3.234762</td>\n",
       "      <td>0.0</td>\n",
       "      <td>0.0</td>\n",
       "      <td>1.0</td>\n",
       "      <td>3.0</td>\n",
       "      <td>15.0</td>\n",
       "    </tr>\n",
       "    <tr>\n",
       "      <th>1</th>\n",
       "      <td>237.0</td>\n",
       "      <td>1.945148</td>\n",
       "      <td>3.153077</td>\n",
       "      <td>0.0</td>\n",
       "      <td>0.0</td>\n",
       "      <td>1.0</td>\n",
       "      <td>2.0</td>\n",
       "      <td>15.0</td>\n",
       "    </tr>\n",
       "  </tbody>\n",
       "</table>\n",
       "</div>\n",
       "      <button class=\"colab-df-convert\" onclick=\"convertToInteractive('df-1124248c-2aa2-48ca-9ebf-93c31763b763')\"\n",
       "              title=\"Convert this dataframe to an interactive table.\"\n",
       "              style=\"display:none;\">\n",
       "        \n",
       "  <svg xmlns=\"http://www.w3.org/2000/svg\" height=\"24px\"viewBox=\"0 0 24 24\"\n",
       "       width=\"24px\">\n",
       "    <path d=\"M0 0h24v24H0V0z\" fill=\"none\"/>\n",
       "    <path d=\"M18.56 5.44l.94 2.06.94-2.06 2.06-.94-2.06-.94-.94-2.06-.94 2.06-2.06.94zm-11 1L8.5 8.5l.94-2.06 2.06-.94-2.06-.94L8.5 2.5l-.94 2.06-2.06.94zm10 10l.94 2.06.94-2.06 2.06-.94-2.06-.94-.94-2.06-.94 2.06-2.06.94z\"/><path d=\"M17.41 7.96l-1.37-1.37c-.4-.4-.92-.59-1.43-.59-.52 0-1.04.2-1.43.59L10.3 9.45l-7.72 7.72c-.78.78-.78 2.05 0 2.83L4 21.41c.39.39.9.59 1.41.59.51 0 1.02-.2 1.41-.59l7.78-7.78 2.81-2.81c.8-.78.8-2.07 0-2.86zM5.41 20L4 18.59l7.72-7.72 1.47 1.35L5.41 20z\"/>\n",
       "  </svg>\n",
       "      </button>\n",
       "      \n",
       "  <style>\n",
       "    .colab-df-container {\n",
       "      display:flex;\n",
       "      flex-wrap:wrap;\n",
       "      gap: 12px;\n",
       "    }\n",
       "\n",
       "    .colab-df-convert {\n",
       "      background-color: #E8F0FE;\n",
       "      border: none;\n",
       "      border-radius: 50%;\n",
       "      cursor: pointer;\n",
       "      display: none;\n",
       "      fill: #1967D2;\n",
       "      height: 32px;\n",
       "      padding: 0 0 0 0;\n",
       "      width: 32px;\n",
       "    }\n",
       "\n",
       "    .colab-df-convert:hover {\n",
       "      background-color: #E2EBFA;\n",
       "      box-shadow: 0px 1px 2px rgba(60, 64, 67, 0.3), 0px 1px 3px 1px rgba(60, 64, 67, 0.15);\n",
       "      fill: #174EA6;\n",
       "    }\n",
       "\n",
       "    [theme=dark] .colab-df-convert {\n",
       "      background-color: #3B4455;\n",
       "      fill: #D2E3FC;\n",
       "    }\n",
       "\n",
       "    [theme=dark] .colab-df-convert:hover {\n",
       "      background-color: #434B5C;\n",
       "      box-shadow: 0px 1px 3px 1px rgba(0, 0, 0, 0.15);\n",
       "      filter: drop-shadow(0px 1px 2px rgba(0, 0, 0, 0.3));\n",
       "      fill: #FFFFFF;\n",
       "    }\n",
       "  </style>\n",
       "\n",
       "      <script>\n",
       "        const buttonEl =\n",
       "          document.querySelector('#df-1124248c-2aa2-48ca-9ebf-93c31763b763 button.colab-df-convert');\n",
       "        buttonEl.style.display =\n",
       "          google.colab.kernel.accessAllowed ? 'block' : 'none';\n",
       "\n",
       "        async function convertToInteractive(key) {\n",
       "          const element = document.querySelector('#df-1124248c-2aa2-48ca-9ebf-93c31763b763');\n",
       "          const dataTable =\n",
       "            await google.colab.kernel.invokeFunction('convertToInteractive',\n",
       "                                                     [key], {});\n",
       "          if (!dataTable) return;\n",
       "\n",
       "          const docLinkHtml = 'Like what you see? Visit the ' +\n",
       "            '<a target=\"_blank\" href=https://colab.research.google.com/notebooks/data_table.ipynb>data table notebook</a>'\n",
       "            + ' to learn more about interactive tables.';\n",
       "          element.innerHTML = '';\n",
       "          dataTable['output_type'] = 'display_data';\n",
       "          await google.colab.output.renderOutput(dataTable, element);\n",
       "          const docLink = document.createElement('div');\n",
       "          docLink.innerHTML = docLinkHtml;\n",
       "          element.appendChild(docLink);\n",
       "        }\n",
       "      </script>\n",
       "    </div>\n",
       "  </div>\n",
       "  "
      ],
      "text/plain": [
       "          YearsSinceLastPromotion                                          \\\n",
       "                            count      mean       std  min  25%  50%  75%   \n",
       "Attrition                                                                   \n",
       "0                          1233.0  2.234388  3.234762  0.0  0.0  1.0  3.0   \n",
       "1                           237.0  1.945148  3.153077  0.0  0.0  1.0  2.0   \n",
       "\n",
       "                 \n",
       "            max  \n",
       "Attrition        \n",
       "0          15.0  \n",
       "1          15.0  "
      ]
     },
     "execution_count": 34,
     "metadata": {},
     "output_type": "execute_result"
    }
   ],
   "source": [
    "attrition[['Attrition','YearsSinceLastPromotion']].groupby(['Attrition']).describe()"
   ]
  },
  {
   "cell_type": "code",
   "execution_count": 35,
   "metadata": {
    "colab": {
     "base_uri": "https://localhost:8080/",
     "height": 355
    },
    "executionInfo": {
     "elapsed": 17,
     "status": "ok",
     "timestamp": 1665312996824,
     "user": {
      "displayName": "SAI.SASI.SEKHAR RALLABANDI",
      "userId": "03962991214365984155"
     },
     "user_tz": -330
    },
    "id": "14CA91QdbnGt",
    "outputId": "7616e70b-23aa-4f1c-d35b-c0345e3b9481"
   },
   "outputs": [
    {
     "name": "stderr",
     "output_type": "stream",
     "text": [
      "/usr/local/lib/python3.7/dist-packages/seaborn/distributions.py:2619: FutureWarning: `distplot` is a deprecated function and will be removed in a future version. Please adapt your code to use either `displot` (a figure-level function with similar flexibility) or `histplot` (an axes-level function for histograms).\n",
      "  warnings.warn(msg, FutureWarning)\n"
     ]
    },
    {
     "data": {
      "text/plain": [
       "<matplotlib.axes._subplots.AxesSubplot at 0x7fe9d6dc9e90>"
      ]
     },
     "execution_count": 35,
     "metadata": {},
     "output_type": "execute_result"
    },
    {
     "data": {
      "image/png": "[encoded data removed]",
      "text/plain": [
       "<Figure size 432x288 with 1 Axes>"
      ]
     },
     "metadata": {
      "needs_background": "light"
     },
     "output_type": "display_data"
    }
   ],
   "source": [
    "sns.distplot(attrition['YearsSinceLastPromotion'], kde=True)"
   ]
  },
  {
   "cell_type": "code",
   "execution_count": 36,
   "metadata": {
    "colab": {
     "base_uri": "https://localhost:8080/",
     "height": 475
    },
    "executionInfo": {
     "elapsed": 12,
     "status": "ok",
     "timestamp": 1665312996824,
     "user": {
      "displayName": "SAI.SASI.SEKHAR RALLABANDI",
      "userId": "03962991214365984155"
     },
     "user_tz": -330
    },
    "id": "w0QlhHvQnEJ5",
    "outputId": "e8c8484d-996a-418a-96cf-1cf6b35f5ebb"
   },
   "outputs": [
    {
     "name": "stderr",
     "output_type": "stream",
     "text": [
      "/usr/local/lib/python3.7/dist-packages/matplotlib/cbook/__init__.py:1376: VisibleDeprecationWarning: Creating an ndarray from ragged nested sequences (which is a list-or-tuple of lists-or-tuples-or ndarrays with different lengths or shapes) is deprecated. If you meant to do this, you must specify 'dtype=object' when creating the ndarray.\n",
      "  X = np.atleast_1d(X.T if isinstance(X, np.ndarray) else np.asarray(X))\n"
     ]
    },
    {
     "data": {
      "image/png": "[encoded data removed]",
      "text/plain": [
       "<Figure size 288x432 with 1 Axes>"
      ]
     },
     "metadata": {
      "needs_background": "light"
     },
     "output_type": "display_data"
    }
   ],
   "source": [
    "attrition.boxplot(column=\"YearsSinceLastPromotion\", grid=False,by=\"Attrition\",figsize=(4,6))\n",
    "plt.show()"
   ]
  },
  {
   "cell_type": "markdown",
   "metadata": {
    "id": "S-WE15iEnFp2"
   },
   "source": [
    "6)Years since last promotion:  \n",
    "-The average Years since last promotion of all the employees is nearly 2.  \n",
    "-Most of the employees got recently promoted i.e., last one year.  \n"
   ]
  },
  {
   "cell_type": "markdown",
   "metadata": {
    "id": "01rGKp7Enf87"
   },
   "source": [
    "7.YearsWithCurrManager"
   ]
  },
  {
   "cell_type": "code",
   "execution_count": 37,
   "metadata": {
    "colab": {
     "base_uri": "https://localhost:8080/",
     "height": 175
    },
    "executionInfo": {
     "elapsed": 11,
     "status": "ok",
     "timestamp": 1665312996825,
     "user": {
      "displayName": "SAI.SASI.SEKHAR RALLABANDI",
      "userId": "03962991214365984155"
     },
     "user_tz": -330
    },
    "id": "HinpkN3BZL1C",
    "outputId": "ba8bcdb1-e1be-46e0-be91-dad0e6c82af9"
   },
   "outputs": [
    {
     "data": {
      "text/html": [
       "\n",
       "  <div id=\"df-9275669a-e454-4ae1-9082-d50162871e83\">\n",
       "    <div class=\"colab-df-container\">\n",
       "      <div>\n",
       "<style scoped>\n",
       "    .dataframe tbody tr th:only-of-type {\n",
       "        vertical-align: middle;\n",
       "    }\n",
       "\n",
       "    .dataframe tbody tr th {\n",
       "        vertical-align: top;\n",
       "    }\n",
       "\n",
       "    .dataframe thead tr th {\n",
       "        text-align: left;\n",
       "    }\n",
       "\n",
       "    .dataframe thead tr:last-of-type th {\n",
       "        text-align: right;\n",
       "    }\n",
       "</style>\n",
       "<table border=\"1\" class=\"dataframe\">\n",
       "  <thead>\n",
       "    <tr>\n",
       "      <th></th>\n",
       "      <th colspan=\"8\" halign=\"left\">YearsWithCurrManager</th>\n",
       "    </tr>\n",
       "    <tr>\n",
       "      <th></th>\n",
       "      <th>count</th>\n",
       "      <th>mean</th>\n",
       "      <th>std</th>\n",
       "      <th>min</th>\n",
       "      <th>25%</th>\n",
       "      <th>50%</th>\n",
       "      <th>75%</th>\n",
       "      <th>max</th>\n",
       "    </tr>\n",
       "    <tr>\n",
       "      <th>Attrition</th>\n",
       "      <th></th>\n",
       "      <th></th>\n",
       "      <th></th>\n",
       "      <th></th>\n",
       "      <th></th>\n",
       "      <th></th>\n",
       "      <th></th>\n",
       "      <th></th>\n",
       "    </tr>\n",
       "  </thead>\n",
       "  <tbody>\n",
       "    <tr>\n",
       "      <th>0</th>\n",
       "      <td>1233.0</td>\n",
       "      <td>4.367397</td>\n",
       "      <td>3.594116</td>\n",
       "      <td>0.0</td>\n",
       "      <td>2.0</td>\n",
       "      <td>3.0</td>\n",
       "      <td>7.0</td>\n",
       "      <td>17.0</td>\n",
       "    </tr>\n",
       "    <tr>\n",
       "      <th>1</th>\n",
       "      <td>237.0</td>\n",
       "      <td>2.852321</td>\n",
       "      <td>3.143349</td>\n",
       "      <td>0.0</td>\n",
       "      <td>0.0</td>\n",
       "      <td>2.0</td>\n",
       "      <td>5.0</td>\n",
       "      <td>14.0</td>\n",
       "    </tr>\n",
       "  </tbody>\n",
       "</table>\n",
       "</div>\n",
       "      <button class=\"colab-df-convert\" onclick=\"convertToInteractive('df-9275669a-e454-4ae1-9082-d50162871e83')\"\n",
       "              title=\"Convert this dataframe to an interactive table.\"\n",
       "              style=\"display:none;\">\n",
       "        \n",
       "  <svg xmlns=\"http://www.w3.org/2000/svg\" height=\"24px\"viewBox=\"0 0 24 24\"\n",
       "       width=\"24px\">\n",
       "    <path d=\"M0 0h24v24H0V0z\" fill=\"none\"/>\n",
       "    <path d=\"M18.56 5.44l.94 2.06.94-2.06 2.06-.94-2.06-.94-.94-2.06-.94 2.06-2.06.94zm-11 1L8.5 8.5l.94-2.06 2.06-.94-2.06-.94L8.5 2.5l-.94 2.06-2.06.94zm10 10l.94 2.06.94-2.06 2.06-.94-2.06-.94-.94-2.06-.94 2.06-2.06.94z\"/><path d=\"M17.41 7.96l-1.37-1.37c-.4-.4-.92-.59-1.43-.59-.52 0-1.04.2-1.43.59L10.3 9.45l-7.72 7.72c-.78.78-.78 2.05 0 2.83L4 21.41c.39.39.9.59 1.41.59.51 0 1.02-.2 1.41-.59l7.78-7.78 2.81-2.81c.8-.78.8-2.07 0-2.86zM5.41 20L4 18.59l7.72-7.72 1.47 1.35L5.41 20z\"/>\n",
       "  </svg>\n",
       "      </button>\n",
       "      \n",
       "  <style>\n",
       "    .colab-df-container {\n",
       "      display:flex;\n",
       "      flex-wrap:wrap;\n",
       "      gap: 12px;\n",
       "    }\n",
       "\n",
       "    .colab-df-convert {\n",
       "      background-color: #E8F0FE;\n",
       "      border: none;\n",
       "      border-radius: 50%;\n",
       "      cursor: pointer;\n",
       "      display: none;\n",
       "      fill: #1967D2;\n",
       "      height: 32px;\n",
       "      padding: 0 0 0 0;\n",
       "      width: 32px;\n",
       "    }\n",
       "\n",
       "    .colab-df-convert:hover {\n",
       "      background-color: #E2EBFA;\n",
       "      box-shadow: 0px 1px 2px rgba(60, 64, 67, 0.3), 0px 1px 3px 1px rgba(60, 64, 67, 0.15);\n",
       "      fill: #174EA6;\n",
       "    }\n",
       "\n",
       "    [theme=dark] .colab-df-convert {\n",
       "      background-color: #3B4455;\n",
       "      fill: #D2E3FC;\n",
       "    }\n",
       "\n",
       "    [theme=dark] .colab-df-convert:hover {\n",
       "      background-color: #434B5C;\n",
       "      box-shadow: 0px 1px 3px 1px rgba(0, 0, 0, 0.15);\n",
       "      filter: drop-shadow(0px 1px 2px rgba(0, 0, 0, 0.3));\n",
       "      fill: #FFFFFF;\n",
       "    }\n",
       "  </style>\n",
       "\n",
       "      <script>\n",
       "        const buttonEl =\n",
       "          document.querySelector('#df-9275669a-e454-4ae1-9082-d50162871e83 button.colab-df-convert');\n",
       "        buttonEl.style.display =\n",
       "          google.colab.kernel.accessAllowed ? 'block' : 'none';\n",
       "\n",
       "        async function convertToInteractive(key) {\n",
       "          const element = document.querySelector('#df-9275669a-e454-4ae1-9082-d50162871e83');\n",
       "          const dataTable =\n",
       "            await google.colab.kernel.invokeFunction('convertToInteractive',\n",
       "                                                     [key], {});\n",
       "          if (!dataTable) return;\n",
       "\n",
       "          const docLinkHtml = 'Like what you see? Visit the ' +\n",
       "            '<a target=\"_blank\" href=https://colab.research.google.com/notebooks/data_table.ipynb>data table notebook</a>'\n",
       "            + ' to learn more about interactive tables.';\n",
       "          element.innerHTML = '';\n",
       "          dataTable['output_type'] = 'display_data';\n",
       "          await google.colab.output.renderOutput(dataTable, element);\n",
       "          const docLink = document.createElement('div');\n",
       "          docLink.innerHTML = docLinkHtml;\n",
       "          element.appendChild(docLink);\n",
       "        }\n",
       "      </script>\n",
       "    </div>\n",
       "  </div>\n",
       "  "
      ],
      "text/plain": [
       "          YearsWithCurrManager                                              \n",
       "                         count      mean       std  min  25%  50%  75%   max\n",
       "Attrition                                                                   \n",
       "0                       1233.0  4.367397  3.594116  0.0  2.0  3.0  7.0  17.0\n",
       "1                        237.0  2.852321  3.143349  0.0  0.0  2.0  5.0  14.0"
      ]
     },
     "execution_count": 37,
     "metadata": {},
     "output_type": "execute_result"
    }
   ],
   "source": [
    "attrition[['Attrition','YearsWithCurrManager']].groupby(['Attrition']).describe()"
   ]
  },
  {
   "cell_type": "code",
   "execution_count": 38,
   "metadata": {
    "colab": {
     "base_uri": "https://localhost:8080/",
     "height": 351
    },
    "executionInfo": {
     "elapsed": 11,
     "status": "ok",
     "timestamp": 1665312996825,
     "user": {
      "displayName": "SAI.SASI.SEKHAR RALLABANDI",
      "userId": "03962991214365984155"
     },
     "user_tz": -330
    },
    "id": "gt1t5T_Vbw43",
    "outputId": "83a662b9-dea1-4397-cea5-36283f72ce9c"
   },
   "outputs": [
    {
     "name": "stderr",
     "output_type": "stream",
     "text": [
      "/usr/local/lib/python3.7/dist-packages/seaborn/distributions.py:2619: FutureWarning: `distplot` is a deprecated function and will be removed in a future version. Please adapt your code to use either `displot` (a figure-level function with similar flexibility) or `histplot` (an axes-level function for histograms).\n",
      "  warnings.warn(msg, FutureWarning)\n"
     ]
    },
    {
     "data": {
      "text/plain": [
       "<matplotlib.axes._subplots.AxesSubplot at 0x7fe9d7a66e10>"
      ]
     },
     "execution_count": 38,
     "metadata": {},
     "output_type": "execute_result"
    },
    {
     "data": {
      "image/png": "[encoded data removed]",
      "text/plain": [
       "<Figure size 432x288 with 1 Axes>"
      ]
     },
     "metadata": {
      "needs_background": "light"
     },
     "output_type": "display_data"
    }
   ],
   "source": [
    "sns.distplot(attrition['YearsWithCurrManager'], kde=True)"
   ]
  },
  {
   "cell_type": "code",
   "execution_count": 39,
   "metadata": {
    "colab": {
     "base_uri": "https://localhost:8080/",
     "height": 475
    },
    "executionInfo": {
     "elapsed": 959,
     "status": "ok",
     "timestamp": 1665312997775,
     "user": {
      "displayName": "SAI.SASI.SEKHAR RALLABANDI",
      "userId": "03962991214365984155"
     },
     "user_tz": -330
    },
    "id": "TWq1VQeMnqMB",
    "outputId": "03afbaff-7885-4f16-b1d7-996f73997440"
   },
   "outputs": [
    {
     "name": "stderr",
     "output_type": "stream",
     "text": [
      "/usr/local/lib/python3.7/dist-packages/matplotlib/cbook/__init__.py:1376: VisibleDeprecationWarning: Creating an ndarray from ragged nested sequences (which is a list-or-tuple of lists-or-tuples-or ndarrays with different lengths or shapes) is deprecated. If you meant to do this, you must specify 'dtype=object' when creating the ndarray.\n",
      "  X = np.atleast_1d(X.T if isinstance(X, np.ndarray) else np.asarray(X))\n"
     ]
    },
    {
     "data": {
      "image/png": "[encoded data removed]",
      "text/plain": [
       "<Figure size 288x432 with 1 Axes>"
      ]
     },
     "metadata": {
      "needs_background": "light"
     },
     "output_type": "display_data"
    }
   ],
   "source": [
    "attrition.boxplot(column=\"YearsWithCurrManager\", grid=False,by=\"Attrition\",figsize=(4,6))\n",
    "plt.show()"
   ]
  },
  {
   "cell_type": "markdown",
   "metadata": {
    "id": "3Bj3pf2cns4T"
   },
   "source": [
    "7) Years with Current Manager:  \n",
    "-The average Years with Current Manager of all the employees is nearly 4.  "
   ]
  },
  {
   "cell_type": "markdown",
   "metadata": {
    "id": "awRyiFlFoORK"
   },
   "source": [
    "8.DistanceFromHome"
   ]
  },
  {
   "cell_type": "code",
   "execution_count": 40,
   "metadata": {
    "colab": {
     "base_uri": "https://localhost:8080/",
     "height": 175
    },
    "executionInfo": {
     "elapsed": 24,
     "status": "ok",
     "timestamp": 1665312997775,
     "user": {
      "displayName": "SAI.SASI.SEKHAR RALLABANDI",
      "userId": "03962991214365984155"
     },
     "user_tz": -330
    },
    "id": "rERI-_A6ZL31",
    "outputId": "6733396b-dcd0-4fe9-e3f8-cd28ab4b0691"
   },
   "outputs": [
    {
     "data": {
      "text/html": [
       "\n",
       "  <div id=\"df-5f1391b1-08e1-4a59-a57b-29ce4df030d0\">\n",
       "    <div class=\"colab-df-container\">\n",
       "      <div>\n",
       "<style scoped>\n",
       "    .dataframe tbody tr th:only-of-type {\n",
       "        vertical-align: middle;\n",
       "    }\n",
       "\n",
       "    .dataframe tbody tr th {\n",
       "        vertical-align: top;\n",
       "    }\n",
       "\n",
       "    .dataframe thead tr th {\n",
       "        text-align: left;\n",
       "    }\n",
       "\n",
       "    .dataframe thead tr:last-of-type th {\n",
       "        text-align: right;\n",
       "    }\n",
       "</style>\n",
       "<table border=\"1\" class=\"dataframe\">\n",
       "  <thead>\n",
       "    <tr>\n",
       "      <th></th>\n",
       "      <th colspan=\"8\" halign=\"left\">DistanceFromHome</th>\n",
       "    </tr>\n",
       "    <tr>\n",
       "      <th></th>\n",
       "      <th>count</th>\n",
       "      <th>mean</th>\n",
       "      <th>std</th>\n",
       "      <th>min</th>\n",
       "      <th>25%</th>\n",
       "      <th>50%</th>\n",
       "      <th>75%</th>\n",
       "      <th>max</th>\n",
       "    </tr>\n",
       "    <tr>\n",
       "      <th>Attrition</th>\n",
       "      <th></th>\n",
       "      <th></th>\n",
       "      <th></th>\n",
       "      <th></th>\n",
       "      <th></th>\n",
       "      <th></th>\n",
       "      <th></th>\n",
       "      <th></th>\n",
       "    </tr>\n",
       "  </thead>\n",
       "  <tbody>\n",
       "    <tr>\n",
       "      <th>0</th>\n",
       "      <td>1233.0</td>\n",
       "      <td>8.915653</td>\n",
       "      <td>8.012633</td>\n",
       "      <td>1.0</td>\n",
       "      <td>2.0</td>\n",
       "      <td>7.0</td>\n",
       "      <td>13.0</td>\n",
       "      <td>29.0</td>\n",
       "    </tr>\n",
       "    <tr>\n",
       "      <th>1</th>\n",
       "      <td>237.0</td>\n",
       "      <td>10.632911</td>\n",
       "      <td>8.452525</td>\n",
       "      <td>1.0</td>\n",
       "      <td>3.0</td>\n",
       "      <td>9.0</td>\n",
       "      <td>17.0</td>\n",
       "      <td>29.0</td>\n",
       "    </tr>\n",
       "  </tbody>\n",
       "</table>\n",
       "</div>\n",
       "      <button class=\"colab-df-convert\" onclick=\"convertToInteractive('df-5f1391b1-08e1-4a59-a57b-29ce4df030d0')\"\n",
       "              title=\"Convert this dataframe to an interactive table.\"\n",
       "              style=\"display:none;\">\n",
       "        \n",
       "  <svg xmlns=\"http://www.w3.org/2000/svg\" height=\"24px\"viewBox=\"0 0 24 24\"\n",
       "       width=\"24px\">\n",
       "    <path d=\"M0 0h24v24H0V0z\" fill=\"none\"/>\n",
       "    <path d=\"M18.56 5.44l.94 2.06.94-2.06 2.06-.94-2.06-.94-.94-2.06-.94 2.06-2.06.94zm-11 1L8.5 8.5l.94-2.06 2.06-.94-2.06-.94L8.5 2.5l-.94 2.06-2.06.94zm10 10l.94 2.06.94-2.06 2.06-.94-2.06-.94-.94-2.06-.94 2.06-2.06.94z\"/><path d=\"M17.41 7.96l-1.37-1.37c-.4-.4-.92-.59-1.43-.59-.52 0-1.04.2-1.43.59L10.3 9.45l-7.72 7.72c-.78.78-.78 2.05 0 2.83L4 21.41c.39.39.9.59 1.41.59.51 0 1.02-.2 1.41-.59l7.78-7.78 2.81-2.81c.8-.78.8-2.07 0-2.86zM5.41 20L4 18.59l7.72-7.72 1.47 1.35L5.41 20z\"/>\n",
       "  </svg>\n",
       "      </button>\n",
       "      \n",
       "  <style>\n",
       "    .colab-df-container {\n",
       "      display:flex;\n",
       "      flex-wrap:wrap;\n",
       "      gap: 12px;\n",
       "    }\n",
       "\n",
       "    .colab-df-convert {\n",
       "      background-color: #E8F0FE;\n",
       "      border: none;\n",
       "      border-radius: 50%;\n",
       "      cursor: pointer;\n",
       "      display: none;\n",
       "      fill: #1967D2;\n",
       "      height: 32px;\n",
       "      padding: 0 0 0 0;\n",
       "      width: 32px;\n",
       "    }\n",
       "\n",
       "    .colab-df-convert:hover {\n",
       "      background-color: #E2EBFA;\n",
       "      box-shadow: 0px 1px 2px rgba(60, 64, 67, 0.3), 0px 1px 3px 1px rgba(60, 64, 67, 0.15);\n",
       "      fill: #174EA6;\n",
       "    }\n",
       "\n",
       "    [theme=dark] .colab-df-convert {\n",
       "      background-color: #3B4455;\n",
       "      fill: #D2E3FC;\n",
       "    }\n",
       "\n",
       "    [theme=dark] .colab-df-convert:hover {\n",
       "      background-color: #434B5C;\n",
       "      box-shadow: 0px 1px 3px 1px rgba(0, 0, 0, 0.15);\n",
       "      filter: drop-shadow(0px 1px 2px rgba(0, 0, 0, 0.3));\n",
       "      fill: #FFFFFF;\n",
       "    }\n",
       "  </style>\n",
       "\n",
       "      <script>\n",
       "        const buttonEl =\n",
       "          document.querySelector('#df-5f1391b1-08e1-4a59-a57b-29ce4df030d0 button.colab-df-convert');\n",
       "        buttonEl.style.display =\n",
       "          google.colab.kernel.accessAllowed ? 'block' : 'none';\n",
       "\n",
       "        async function convertToInteractive(key) {\n",
       "          const element = document.querySelector('#df-5f1391b1-08e1-4a59-a57b-29ce4df030d0');\n",
       "          const dataTable =\n",
       "            await google.colab.kernel.invokeFunction('convertToInteractive',\n",
       "                                                     [key], {});\n",
       "          if (!dataTable) return;\n",
       "\n",
       "          const docLinkHtml = 'Like what you see? Visit the ' +\n",
       "            '<a target=\"_blank\" href=https://colab.research.google.com/notebooks/data_table.ipynb>data table notebook</a>'\n",
       "            + ' to learn more about interactive tables.';\n",
       "          element.innerHTML = '';\n",
       "          dataTable['output_type'] = 'display_data';\n",
       "          await google.colab.output.renderOutput(dataTable, element);\n",
       "          const docLink = document.createElement('div');\n",
       "          docLink.innerHTML = docLinkHtml;\n",
       "          element.appendChild(docLink);\n",
       "        }\n",
       "      </script>\n",
       "    </div>\n",
       "  </div>\n",
       "  "
      ],
      "text/plain": [
       "          DistanceFromHome                                                \n",
       "                     count       mean       std  min  25%  50%   75%   max\n",
       "Attrition                                                                 \n",
       "0                   1233.0   8.915653  8.012633  1.0  2.0  7.0  13.0  29.0\n",
       "1                    237.0  10.632911  8.452525  1.0  3.0  9.0  17.0  29.0"
      ]
     },
     "execution_count": 40,
     "metadata": {},
     "output_type": "execute_result"
    }
   ],
   "source": [
    "attrition[['Attrition','DistanceFromHome']].groupby(['Attrition']).describe()"
   ]
  },
  {
   "cell_type": "code",
   "execution_count": 41,
   "metadata": {
    "colab": {
     "base_uri": "https://localhost:8080/",
     "height": 351
    },
    "executionInfo": {
     "elapsed": 24,
     "status": "ok",
     "timestamp": 1665312997775,
     "user": {
      "displayName": "SAI.SASI.SEKHAR RALLABANDI",
      "userId": "03962991214365984155"
     },
     "user_tz": -330
    },
    "id": "BEUxS-C2b3qT",
    "outputId": "05737af8-3c23-4c45-e504-6a5fa7a3b565"
   },
   "outputs": [
    {
     "name": "stderr",
     "output_type": "stream",
     "text": [
      "/usr/local/lib/python3.7/dist-packages/seaborn/distributions.py:2619: FutureWarning: `distplot` is a deprecated function and will be removed in a future version. Please adapt your code to use either `displot` (a figure-level function with similar flexibility) or `histplot` (an axes-level function for histograms).\n",
      "  warnings.warn(msg, FutureWarning)\n"
     ]
    },
    {
     "data": {
      "text/plain": [
       "<matplotlib.axes._subplots.AxesSubplot at 0x7fe9d7080310>"
      ]
     },
     "execution_count": 41,
     "metadata": {},
     "output_type": "execute_result"
    },
    {
     "data": {
      "image/png": "[encoded data removed]",
      "text/plain": [
       "<Figure size 432x288 with 1 Axes>"
      ]
     },
     "metadata": {
      "needs_background": "light"
     },
     "output_type": "display_data"
    }
   ],
   "source": [
    "sns.distplot(attrition['DistanceFromHome'], kde=True)"
   ]
  },
  {
   "cell_type": "code",
   "execution_count": 42,
   "metadata": {
    "colab": {
     "base_uri": "https://localhost:8080/",
     "height": 475
    },
    "executionInfo": {
     "elapsed": 21,
     "status": "ok",
     "timestamp": 1665312997776,
     "user": {
      "displayName": "SAI.SASI.SEKHAR RALLABANDI",
      "userId": "03962991214365984155"
     },
     "user_tz": -330
    },
    "id": "XYMWfHpDoZKV",
    "outputId": "9199921e-07aa-4237-f1a9-a594aee9030d"
   },
   "outputs": [
    {
     "name": "stderr",
     "output_type": "stream",
     "text": [
      "/usr/local/lib/python3.7/dist-packages/matplotlib/cbook/__init__.py:1376: VisibleDeprecationWarning: Creating an ndarray from ragged nested sequences (which is a list-or-tuple of lists-or-tuples-or ndarrays with different lengths or shapes) is deprecated. If you meant to do this, you must specify 'dtype=object' when creating the ndarray.\n",
      "  X = np.atleast_1d(X.T if isinstance(X, np.ndarray) else np.asarray(X))\n"
     ]
    },
    {
     "data": {
      "image/png": "[encoded data removed]",
      "text/plain": [
       "<Figure size 288x432 with 1 Axes>"
      ]
     },
     "metadata": {
      "needs_background": "light"
     },
     "output_type": "display_data"
    }
   ],
   "source": [
    "attrition.boxplot(column=\"DistanceFromHome\", grid=False,by=\"Attrition\",figsize=(4,6))\n",
    "plt.show()"
   ]
  },
  {
   "cell_type": "markdown",
   "metadata": {
    "id": "izlBKg0noahP"
   },
   "source": [
    "8) Distance From Home:  \n",
    "-The average Distance From Home of all the employees is nearly 9.  \n",
    "-The distribution is positively skewed.   \n",
    "-From the distribution it can be infered that most of the employees stayed near to the office.  "
   ]
  },
  {
   "cell_type": "markdown",
   "metadata": {
    "id": "3dzPPkREgIaq"
   },
   "source": [
    "### Categorical variables"
   ]
  },
  {
   "cell_type": "markdown",
   "metadata": {
    "id": "HXOQFPLHiv8f"
   },
   "source": [
    "### 9) EnvironmentSatisfaction"
   ]
  },
  {
   "cell_type": "code",
   "execution_count": 43,
   "metadata": {
    "colab": {
     "base_uri": "https://localhost:8080/",
     "height": 175
    },
    "executionInfo": {
     "elapsed": 19,
     "status": "ok",
     "timestamp": 1665312997776,
     "user": {
      "displayName": "SAI.SASI.SEKHAR RALLABANDI",
      "userId": "03962991214365984155"
     },
     "user_tz": -330
    },
    "id": "sW4R53d0ZzO7",
    "outputId": "cb0daac5-d1cf-4f1f-e92f-3e470294ee9b"
   },
   "outputs": [
    {
     "data": {
      "text/html": [
       "\n",
       "  <div id=\"df-42556fc6-1525-4ce3-940d-b62da83b8fda\">\n",
       "    <div class=\"colab-df-container\">\n",
       "      <div>\n",
       "<style scoped>\n",
       "    .dataframe tbody tr th:only-of-type {\n",
       "        vertical-align: middle;\n",
       "    }\n",
       "\n",
       "    .dataframe tbody tr th {\n",
       "        vertical-align: top;\n",
       "    }\n",
       "\n",
       "    .dataframe thead tr th {\n",
       "        text-align: left;\n",
       "    }\n",
       "\n",
       "    .dataframe thead tr:last-of-type th {\n",
       "        text-align: right;\n",
       "    }\n",
       "</style>\n",
       "<table border=\"1\" class=\"dataframe\">\n",
       "  <thead>\n",
       "    <tr>\n",
       "      <th></th>\n",
       "      <th colspan=\"8\" halign=\"left\">EnvironmentSatisfaction</th>\n",
       "    </tr>\n",
       "    <tr>\n",
       "      <th></th>\n",
       "      <th>count</th>\n",
       "      <th>mean</th>\n",
       "      <th>std</th>\n",
       "      <th>min</th>\n",
       "      <th>25%</th>\n",
       "      <th>50%</th>\n",
       "      <th>75%</th>\n",
       "      <th>max</th>\n",
       "    </tr>\n",
       "    <tr>\n",
       "      <th>Attrition</th>\n",
       "      <th></th>\n",
       "      <th></th>\n",
       "      <th></th>\n",
       "      <th></th>\n",
       "      <th></th>\n",
       "      <th></th>\n",
       "      <th></th>\n",
       "      <th></th>\n",
       "    </tr>\n",
       "  </thead>\n",
       "  <tbody>\n",
       "    <tr>\n",
       "      <th>0</th>\n",
       "      <td>1233.0</td>\n",
       "      <td>2.771290</td>\n",
       "      <td>1.071132</td>\n",
       "      <td>1.0</td>\n",
       "      <td>2.0</td>\n",
       "      <td>3.0</td>\n",
       "      <td>4.0</td>\n",
       "      <td>4.0</td>\n",
       "    </tr>\n",
       "    <tr>\n",
       "      <th>1</th>\n",
       "      <td>237.0</td>\n",
       "      <td>2.464135</td>\n",
       "      <td>1.169791</td>\n",
       "      <td>1.0</td>\n",
       "      <td>1.0</td>\n",
       "      <td>3.0</td>\n",
       "      <td>4.0</td>\n",
       "      <td>4.0</td>\n",
       "    </tr>\n",
       "  </tbody>\n",
       "</table>\n",
       "</div>\n",
       "      <button class=\"colab-df-convert\" onclick=\"convertToInteractive('df-42556fc6-1525-4ce3-940d-b62da83b8fda')\"\n",
       "              title=\"Convert this dataframe to an interactive table.\"\n",
       "              style=\"display:none;\">\n",
       "        \n",
       "  <svg xmlns=\"http://www.w3.org/2000/svg\" height=\"24px\"viewBox=\"0 0 24 24\"\n",
       "       width=\"24px\">\n",
       "    <path d=\"M0 0h24v24H0V0z\" fill=\"none\"/>\n",
       "    <path d=\"M18.56 5.44l.94 2.06.94-2.06 2.06-.94-2.06-.94-.94-2.06-.94 2.06-2.06.94zm-11 1L8.5 8.5l.94-2.06 2.06-.94-2.06-.94L8.5 2.5l-.94 2.06-2.06.94zm10 10l.94 2.06.94-2.06 2.06-.94-2.06-.94-.94-2.06-.94 2.06-2.06.94z\"/><path d=\"M17.41 7.96l-1.37-1.37c-.4-.4-.92-.59-1.43-.59-.52 0-1.04.2-1.43.59L10.3 9.45l-7.72 7.72c-.78.78-.78 2.05 0 2.83L4 21.41c.39.39.9.59 1.41.59.51 0 1.02-.2 1.41-.59l7.78-7.78 2.81-2.81c.8-.78.8-2.07 0-2.86zM5.41 20L4 18.59l7.72-7.72 1.47 1.35L5.41 20z\"/>\n",
       "  </svg>\n",
       "      </button>\n",
       "      \n",
       "  <style>\n",
       "    .colab-df-container {\n",
       "      display:flex;\n",
       "      flex-wrap:wrap;\n",
       "      gap: 12px;\n",
       "    }\n",
       "\n",
       "    .colab-df-convert {\n",
       "      background-color: #E8F0FE;\n",
       "      border: none;\n",
       "      border-radius: 50%;\n",
       "      cursor: pointer;\n",
       "      display: none;\n",
       "      fill: #1967D2;\n",
       "      height: 32px;\n",
       "      padding: 0 0 0 0;\n",
       "      width: 32px;\n",
       "    }\n",
       "\n",
       "    .colab-df-convert:hover {\n",
       "      background-color: #E2EBFA;\n",
       "      box-shadow: 0px 1px 2px rgba(60, 64, 67, 0.3), 0px 1px 3px 1px rgba(60, 64, 67, 0.15);\n",
       "      fill: #174EA6;\n",
       "    }\n",
       "\n",
       "    [theme=dark] .colab-df-convert {\n",
       "      background-color: #3B4455;\n",
       "      fill: #D2E3FC;\n",
       "    }\n",
       "\n",
       "    [theme=dark] .colab-df-convert:hover {\n",
       "      background-color: #434B5C;\n",
       "      box-shadow: 0px 1px 3px 1px rgba(0, 0, 0, 0.15);\n",
       "      filter: drop-shadow(0px 1px 2px rgba(0, 0, 0, 0.3));\n",
       "      fill: #FFFFFF;\n",
       "    }\n",
       "  </style>\n",
       "\n",
       "      <script>\n",
       "        const buttonEl =\n",
       "          document.querySelector('#df-42556fc6-1525-4ce3-940d-b62da83b8fda button.colab-df-convert');\n",
       "        buttonEl.style.display =\n",
       "          google.colab.kernel.accessAllowed ? 'block' : 'none';\n",
       "\n",
       "        async function convertToInteractive(key) {\n",
       "          const element = document.querySelector('#df-42556fc6-1525-4ce3-940d-b62da83b8fda');\n",
       "          const dataTable =\n",
       "            await google.colab.kernel.invokeFunction('convertToInteractive',\n",
       "                                                     [key], {});\n",
       "          if (!dataTable) return;\n",
       "\n",
       "          const docLinkHtml = 'Like what you see? Visit the ' +\n",
       "            '<a target=\"_blank\" href=https://colab.research.google.com/notebooks/data_table.ipynb>data table notebook</a>'\n",
       "            + ' to learn more about interactive tables.';\n",
       "          element.innerHTML = '';\n",
       "          dataTable['output_type'] = 'display_data';\n",
       "          await google.colab.output.renderOutput(dataTable, element);\n",
       "          const docLink = document.createElement('div');\n",
       "          docLink.innerHTML = docLinkHtml;\n",
       "          element.appendChild(docLink);\n",
       "        }\n",
       "      </script>\n",
       "    </div>\n",
       "  </div>\n",
       "  "
      ],
      "text/plain": [
       "          EnvironmentSatisfaction                                             \n",
       "                            count      mean       std  min  25%  50%  75%  max\n",
       "Attrition                                                                     \n",
       "0                          1233.0  2.771290  1.071132  1.0  2.0  3.0  4.0  4.0\n",
       "1                           237.0  2.464135  1.169791  1.0  1.0  3.0  4.0  4.0"
      ]
     },
     "execution_count": 43,
     "metadata": {},
     "output_type": "execute_result"
    }
   ],
   "source": [
    "attrition[['Attrition','EnvironmentSatisfaction']].groupby(['Attrition']).describe()"
   ]
  },
  {
   "cell_type": "code",
   "execution_count": 44,
   "metadata": {
    "colab": {
     "base_uri": "https://localhost:8080/",
     "height": 351
    },
    "executionInfo": {
     "elapsed": 19,
     "status": "ok",
     "timestamp": 1665312997776,
     "user": {
      "displayName": "SAI.SASI.SEKHAR RALLABANDI",
      "userId": "03962991214365984155"
     },
     "user_tz": -330
    },
    "id": "xnUdxiZPfSOp",
    "outputId": "69e7861a-6d42-4798-8826-884571960aec"
   },
   "outputs": [
    {
     "name": "stderr",
     "output_type": "stream",
     "text": [
      "/usr/local/lib/python3.7/dist-packages/seaborn/_decorators.py:43: FutureWarning: Pass the following variable as a keyword arg: x. From version 0.12, the only valid positional argument will be `data`, and passing other arguments without an explicit keyword will result in an error or misinterpretation.\n",
      "  FutureWarning\n"
     ]
    },
    {
     "data": {
      "text/plain": [
       "<matplotlib.axes._subplots.AxesSubplot at 0x7fe9d6cc5b90>"
      ]
     },
     "execution_count": 44,
     "metadata": {},
     "output_type": "execute_result"
    },
    {
     "data": {
      "image/png": "[encoded data removed]",
      "text/plain": [
       "<Figure size 432x288 with 1 Axes>"
      ]
     },
     "metadata": {
      "needs_background": "light"
     },
     "output_type": "display_data"
    }
   ],
   "source": [
    "sns.countplot('EnvironmentSatisfaction',data=attrition)"
   ]
  },
  {
   "cell_type": "code",
   "execution_count": 45,
   "metadata": {
    "colab": {
     "base_uri": "https://localhost:8080/",
     "height": 293
    },
    "executionInfo": {
     "elapsed": 18,
     "status": "ok",
     "timestamp": 1665312997777,
     "user": {
      "displayName": "SAI.SASI.SEKHAR RALLABANDI",
      "userId": "03962991214365984155"
     },
     "user_tz": -330
    },
    "id": "ebi4FFPf34e5",
    "outputId": "8f156052-8fb1-4e6d-ecd3-f2beb3aa0936"
   },
   "outputs": [
    {
     "data": {
      "text/plain": [
       "<matplotlib.axes._subplots.AxesSubplot at 0x7fe9d70c0290>"
      ]
     },
     "execution_count": 45,
     "metadata": {},
     "output_type": "execute_result"
    },
    {
     "data": {
      "image/png": "[encoded data removed]",
      "text/plain": [
       "<Figure size 432x288 with 1 Axes>"
      ]
     },
     "metadata": {
      "needs_background": "light"
     },
     "output_type": "display_data"
    }
   ],
   "source": [
    "ct=pd.crosstab(attrition['EnvironmentSatisfaction'],attrition['Attrition'], normalize='index')\n",
    "ct.plot.bar(stacked=True)"
   ]
  },
  {
   "cell_type": "code",
   "execution_count": 46,
   "metadata": {
    "colab": {
     "base_uri": "https://localhost:8080/"
    },
    "executionInfo": {
     "elapsed": 16,
     "status": "ok",
     "timestamp": 1665312997777,
     "user": {
      "displayName": "SAI.SASI.SEKHAR RALLABANDI",
      "userId": "03962991214365984155"
     },
     "user_tz": -330
    },
    "id": "mNumkBKSpZUx",
    "outputId": "c330fd7b-3541-4e6b-fc09-c9d2e15fe991"
   },
   "outputs": [
    {
     "name": "stdout",
     "output_type": "stream",
     "text": [
      "1)Total: 1470 \n",
      " 3    453\n",
      "4    446\n",
      "2    287\n",
      "1    284\n",
      "Name: EnvironmentSatisfaction, dtype: int64 \n",
      "\n",
      "2)table of joint proportion\n",
      " EnvironmentSatisfaction    1    2    3    4\n",
      "Attrition                                  \n",
      "0                        212  244  391  386\n",
      "1                         72   43   62   60 \n",
      "\n",
      "3)conditional probability conditioned on columns \n",
      " EnvironmentSatisfaction         1         2         3         4\n",
      "Attrition                                                      \n",
      "0                        0.746479  0.850174  0.863135  0.865471\n",
      "1                        0.253521  0.149826  0.136865  0.134529 \n",
      "\n",
      "4)conditional probability conditioned on rows \n",
      " EnvironmentSatisfaction         1         2         3         4\n",
      "Attrition                                                      \n",
      "0                        0.171938  0.197891  0.317113  0.313058\n",
      "1                        0.303797  0.181435  0.261603  0.253165\n"
     ]
    }
   ],
   "source": [
    "print('1)Total:',attrition['EnvironmentSatisfaction'].count(),'\\n',attrition['EnvironmentSatisfaction'].value_counts(),'\\n')\n",
    "table = pd.crosstab(attrition.Attrition,columns= attrition.EnvironmentSatisfaction)\n",
    "print('2)table of joint proportion\\n',table,'\\n')\n",
    "coltotal = table.sum(axis = 0)\n",
    "print('3)conditional probability conditioned on columns \\n',table.div(coltotal,axis = 1),'\\n')\n",
    "rowtotal = table.sum(axis=1)\n",
    "print('4)conditional probability conditioned on rows \\n',table.div(rowtotal,axis = 0))"
   ]
  },
  {
   "cell_type": "markdown",
   "metadata": {
    "id": "qr1py_uGpnPz"
   },
   "source": [
    "-From the bar plot we can observe that around 60% of the employees are having higher environment satisfaction  i.e., levels 3 and 4.  \n",
    "-Where as around 40% of the employees are having lower environment satisfaction i.e., levels 1 and 2.  \n"
   ]
  },
  {
   "cell_type": "markdown",
   "metadata": {
    "id": "mDgv7GYli7b8"
   },
   "source": [
    "### 10) JobInvolvement"
   ]
  },
  {
   "cell_type": "code",
   "execution_count": 47,
   "metadata": {
    "colab": {
     "base_uri": "https://localhost:8080/",
     "height": 175
    },
    "executionInfo": {
     "elapsed": 15,
     "status": "ok",
     "timestamp": 1665312997777,
     "user": {
      "displayName": "SAI.SASI.SEKHAR RALLABANDI",
      "userId": "03962991214365984155"
     },
     "user_tz": -330
    },
    "id": "PHeJsVaNgVXQ",
    "outputId": "60f3f594-3391-43ff-e808-197a2057e4ef"
   },
   "outputs": [
    {
     "data": {
      "text/html": [
       "\n",
       "  <div id=\"df-af95fb9e-be8f-4d78-8df5-0986d5bb769d\">\n",
       "    <div class=\"colab-df-container\">\n",
       "      <div>\n",
       "<style scoped>\n",
       "    .dataframe tbody tr th:only-of-type {\n",
       "        vertical-align: middle;\n",
       "    }\n",
       "\n",
       "    .dataframe tbody tr th {\n",
       "        vertical-align: top;\n",
       "    }\n",
       "\n",
       "    .dataframe thead tr th {\n",
       "        text-align: left;\n",
       "    }\n",
       "\n",
       "    .dataframe thead tr:last-of-type th {\n",
       "        text-align: right;\n",
       "    }\n",
       "</style>\n",
       "<table border=\"1\" class=\"dataframe\">\n",
       "  <thead>\n",
       "    <tr>\n",
       "      <th></th>\n",
       "      <th colspan=\"8\" halign=\"left\">JobInvolvement</th>\n",
       "    </tr>\n",
       "    <tr>\n",
       "      <th></th>\n",
       "      <th>count</th>\n",
       "      <th>mean</th>\n",
       "      <th>std</th>\n",
       "      <th>min</th>\n",
       "      <th>25%</th>\n",
       "      <th>50%</th>\n",
       "      <th>75%</th>\n",
       "      <th>max</th>\n",
       "    </tr>\n",
       "    <tr>\n",
       "      <th>Attrition</th>\n",
       "      <th></th>\n",
       "      <th></th>\n",
       "      <th></th>\n",
       "      <th></th>\n",
       "      <th></th>\n",
       "      <th></th>\n",
       "      <th></th>\n",
       "      <th></th>\n",
       "    </tr>\n",
       "  </thead>\n",
       "  <tbody>\n",
       "    <tr>\n",
       "      <th>0</th>\n",
       "      <td>1233.0</td>\n",
       "      <td>2.770479</td>\n",
       "      <td>0.692050</td>\n",
       "      <td>1.0</td>\n",
       "      <td>2.0</td>\n",
       "      <td>3.0</td>\n",
       "      <td>3.0</td>\n",
       "      <td>4.0</td>\n",
       "    </tr>\n",
       "    <tr>\n",
       "      <th>1</th>\n",
       "      <td>237.0</td>\n",
       "      <td>2.518987</td>\n",
       "      <td>0.773405</td>\n",
       "      <td>1.0</td>\n",
       "      <td>2.0</td>\n",
       "      <td>3.0</td>\n",
       "      <td>3.0</td>\n",
       "      <td>4.0</td>\n",
       "    </tr>\n",
       "  </tbody>\n",
       "</table>\n",
       "</div>\n",
       "      <button class=\"colab-df-convert\" onclick=\"convertToInteractive('df-af95fb9e-be8f-4d78-8df5-0986d5bb769d')\"\n",
       "              title=\"Convert this dataframe to an interactive table.\"\n",
       "              style=\"display:none;\">\n",
       "        \n",
       "  <svg xmlns=\"http://www.w3.org/2000/svg\" height=\"24px\"viewBox=\"0 0 24 24\"\n",
       "       width=\"24px\">\n",
       "    <path d=\"M0 0h24v24H0V0z\" fill=\"none\"/>\n",
       "    <path d=\"M18.56 5.44l.94 2.06.94-2.06 2.06-.94-2.06-.94-.94-2.06-.94 2.06-2.06.94zm-11 1L8.5 8.5l.94-2.06 2.06-.94-2.06-.94L8.5 2.5l-.94 2.06-2.06.94zm10 10l.94 2.06.94-2.06 2.06-.94-2.06-.94-.94-2.06-.94 2.06-2.06.94z\"/><path d=\"M17.41 7.96l-1.37-1.37c-.4-.4-.92-.59-1.43-.59-.52 0-1.04.2-1.43.59L10.3 9.45l-7.72 7.72c-.78.78-.78 2.05 0 2.83L4 21.41c.39.39.9.59 1.41.59.51 0 1.02-.2 1.41-.59l7.78-7.78 2.81-2.81c.8-.78.8-2.07 0-2.86zM5.41 20L4 18.59l7.72-7.72 1.47 1.35L5.41 20z\"/>\n",
       "  </svg>\n",
       "      </button>\n",
       "      \n",
       "  <style>\n",
       "    .colab-df-container {\n",
       "      display:flex;\n",
       "      flex-wrap:wrap;\n",
       "      gap: 12px;\n",
       "    }\n",
       "\n",
       "    .colab-df-convert {\n",
       "      background-color: #E8F0FE;\n",
       "      border: none;\n",
       "      border-radius: 50%;\n",
       "      cursor: pointer;\n",
       "      display: none;\n",
       "      fill: #1967D2;\n",
       "      height: 32px;\n",
       "      padding: 0 0 0 0;\n",
       "      width: 32px;\n",
       "    }\n",
       "\n",
       "    .colab-df-convert:hover {\n",
       "      background-color: #E2EBFA;\n",
       "      box-shadow: 0px 1px 2px rgba(60, 64, 67, 0.3), 0px 1px 3px 1px rgba(60, 64, 67, 0.15);\n",
       "      fill: #174EA6;\n",
       "    }\n",
       "\n",
       "    [theme=dark] .colab-df-convert {\n",
       "      background-color: #3B4455;\n",
       "      fill: #D2E3FC;\n",
       "    }\n",
       "\n",
       "    [theme=dark] .colab-df-convert:hover {\n",
       "      background-color: #434B5C;\n",
       "      box-shadow: 0px 1px 3px 1px rgba(0, 0, 0, 0.15);\n",
       "      filter: drop-shadow(0px 1px 2px rgba(0, 0, 0, 0.3));\n",
       "      fill: #FFFFFF;\n",
       "    }\n",
       "  </style>\n",
       "\n",
       "      <script>\n",
       "        const buttonEl =\n",
       "          document.querySelector('#df-af95fb9e-be8f-4d78-8df5-0986d5bb769d button.colab-df-convert');\n",
       "        buttonEl.style.display =\n",
       "          google.colab.kernel.accessAllowed ? 'block' : 'none';\n",
       "\n",
       "        async function convertToInteractive(key) {\n",
       "          const element = document.querySelector('#df-af95fb9e-be8f-4d78-8df5-0986d5bb769d');\n",
       "          const dataTable =\n",
       "            await google.colab.kernel.invokeFunction('convertToInteractive',\n",
       "                                                     [key], {});\n",
       "          if (!dataTable) return;\n",
       "\n",
       "          const docLinkHtml = 'Like what you see? Visit the ' +\n",
       "            '<a target=\"_blank\" href=https://colab.research.google.com/notebooks/data_table.ipynb>data table notebook</a>'\n",
       "            + ' to learn more about interactive tables.';\n",
       "          element.innerHTML = '';\n",
       "          dataTable['output_type'] = 'display_data';\n",
       "          await google.colab.output.renderOutput(dataTable, element);\n",
       "          const docLink = document.createElement('div');\n",
       "          docLink.innerHTML = docLinkHtml;\n",
       "          element.appendChild(docLink);\n",
       "        }\n",
       "      </script>\n",
       "    </div>\n",
       "  </div>\n",
       "  "
      ],
      "text/plain": [
       "          JobInvolvement                                             \n",
       "                   count      mean       std  min  25%  50%  75%  max\n",
       "Attrition                                                            \n",
       "0                 1233.0  2.770479  0.692050  1.0  2.0  3.0  3.0  4.0\n",
       "1                  237.0  2.518987  0.773405  1.0  2.0  3.0  3.0  4.0"
      ]
     },
     "execution_count": 47,
     "metadata": {},
     "output_type": "execute_result"
    }
   ],
   "source": [
    "attrition[['Attrition','JobInvolvement']].groupby(['Attrition']).describe()"
   ]
  },
  {
   "cell_type": "code",
   "execution_count": 48,
   "metadata": {
    "colab": {
     "base_uri": "https://localhost:8080/",
     "height": 351
    },
    "executionInfo": {
     "elapsed": 15,
     "status": "ok",
     "timestamp": 1665312997777,
     "user": {
      "displayName": "SAI.SASI.SEKHAR RALLABANDI",
      "userId": "03962991214365984155"
     },
     "user_tz": -330
    },
    "id": "XszL0kDXgVcW",
    "outputId": "717e70d3-2c3a-4063-b933-8c53fe6795cd"
   },
   "outputs": [
    {
     "name": "stderr",
     "output_type": "stream",
     "text": [
      "/usr/local/lib/python3.7/dist-packages/seaborn/_decorators.py:43: FutureWarning: Pass the following variable as a keyword arg: x. From version 0.12, the only valid positional argument will be `data`, and passing other arguments without an explicit keyword will result in an error or misinterpretation.\n",
      "  FutureWarning\n"
     ]
    },
    {
     "data": {
      "text/plain": [
       "<matplotlib.axes._subplots.AxesSubplot at 0x7fe9d6c9c890>"
      ]
     },
     "execution_count": 48,
     "metadata": {},
     "output_type": "execute_result"
    },
    {
     "data": {
      "image/png": "[encoded data removed]",
      "text/plain": [
       "<Figure size 432x288 with 1 Axes>"
      ]
     },
     "metadata": {
      "needs_background": "light"
     },
     "output_type": "display_data"
    }
   ],
   "source": [
    "sns.countplot('JobInvolvement',data=attrition)"
   ]
  },
  {
   "cell_type": "code",
   "execution_count": 49,
   "metadata": {
    "colab": {
     "base_uri": "https://localhost:8080/",
     "height": 293
    },
    "executionInfo": {
     "elapsed": 22,
     "status": "ok",
     "timestamp": 1665312999011,
     "user": {
      "displayName": "SAI.SASI.SEKHAR RALLABANDI",
      "userId": "03962991214365984155"
     },
     "user_tz": -330
    },
    "id": "MbivSTvl4ho5",
    "outputId": "ef6ae2c2-2b0e-477a-bac5-4b0b9ab0757e"
   },
   "outputs": [
    {
     "data": {
      "text/plain": [
       "<matplotlib.axes._subplots.AxesSubplot at 0x7fe9d6b37ad0>"
      ]
     },
     "execution_count": 49,
     "metadata": {},
     "output_type": "execute_result"
    },
    {
     "data": {
      "image/png": "[encoded data removed]",
      "text/plain": [
       "<Figure size 432x288 with 1 Axes>"
      ]
     },
     "metadata": {
      "needs_background": "light"
     },
     "output_type": "display_data"
    }
   ],
   "source": [
    "ct=pd.crosstab(attrition['JobInvolvement'],attrition['Attrition'], normalize='index')\n",
    "ct.plot.bar(stacked=True)"
   ]
  },
  {
   "cell_type": "code",
   "execution_count": 50,
   "metadata": {
    "colab": {
     "base_uri": "https://localhost:8080/"
    },
    "executionInfo": {
     "elapsed": 20,
     "status": "ok",
     "timestamp": 1665312999011,
     "user": {
      "displayName": "SAI.SASI.SEKHAR RALLABANDI",
      "userId": "03962991214365984155"
     },
     "user_tz": -330
    },
    "id": "k7RK4Y5yrLTn",
    "outputId": "fb5d2bbf-712d-42c9-9eb1-89e82209cf9f"
   },
   "outputs": [
    {
     "name": "stdout",
     "output_type": "stream",
     "text": [
      "1)Total: 1470 \n",
      " 3    868\n",
      "2    375\n",
      "4    144\n",
      "1     83\n",
      "Name: JobInvolvement, dtype: int64 \n",
      "\n",
      "2)table of joint proportion\n",
      " JobInvolvement   1    2    3    4\n",
      "Attrition                        \n",
      "0               55  304  743  131\n",
      "1               28   71  125   13 \n",
      "\n",
      "3)conditional probability conditioned on columns \n",
      " JobInvolvement         1         2         3         4\n",
      "Attrition                                             \n",
      "0               0.662651  0.810667  0.855991  0.909722\n",
      "1               0.337349  0.189333  0.144009  0.090278 \n",
      "\n",
      "4)conditional probability conditioned on rows \n",
      " JobInvolvement         1         2         3         4\n",
      "Attrition                                             \n",
      "0               0.044607  0.246553  0.602595  0.106245\n",
      "1               0.118143  0.299578  0.527426  0.054852\n"
     ]
    }
   ],
   "source": [
    "print('1)Total:',attrition['JobInvolvement'].count(),'\\n',attrition['JobInvolvement'].value_counts(),'\\n')\n",
    "table = pd.crosstab(attrition.Attrition,columns= attrition.JobInvolvement)\n",
    "print('2)table of joint proportion\\n',table,'\\n')\n",
    "coltotal = table.sum(axis = 0)\n",
    "print('3)conditional probability conditioned on columns \\n',table.div(coltotal,axis = 1),'\\n')\n",
    "rowtotal = table.sum(axis=1)\n",
    "print('4)conditional probability conditioned on rows \\n',table.div(rowtotal,axis = 0))"
   ]
  },
  {
   "cell_type": "markdown",
   "metadata": {
    "id": "XA5m3nh7rj3t"
   },
   "source": [
    "-From bar plot we can observe that most of the employees have an above average job invovlement.  \n",
    "-Employees who are having lower job involvement have higher probability of leaving.  "
   ]
  },
  {
   "cell_type": "markdown",
   "metadata": {
    "id": "BNW3qjK6jbfN"
   },
   "source": [
    "### 11) JobLevel"
   ]
  },
  {
   "cell_type": "code",
   "execution_count": 51,
   "metadata": {
    "colab": {
     "base_uri": "https://localhost:8080/",
     "height": 175
    },
    "executionInfo": {
     "elapsed": 19,
     "status": "ok",
     "timestamp": 1665312999012,
     "user": {
      "displayName": "SAI.SASI.SEKHAR RALLABANDI",
      "userId": "03962991214365984155"
     },
     "user_tz": -330
    },
    "id": "h3OpDZPIgVe6",
    "outputId": "1bae77a1-beba-4ca8-f3aa-45371d0f2de2"
   },
   "outputs": [
    {
     "data": {
      "text/html": [
       "\n",
       "  <div id=\"df-3bf1fe3d-7dc5-4300-b356-788031ecdfa3\">\n",
       "    <div class=\"colab-df-container\">\n",
       "      <div>\n",
       "<style scoped>\n",
       "    .dataframe tbody tr th:only-of-type {\n",
       "        vertical-align: middle;\n",
       "    }\n",
       "\n",
       "    .dataframe tbody tr th {\n",
       "        vertical-align: top;\n",
       "    }\n",
       "\n",
       "    .dataframe thead tr th {\n",
       "        text-align: left;\n",
       "    }\n",
       "\n",
       "    .dataframe thead tr:last-of-type th {\n",
       "        text-align: right;\n",
       "    }\n",
       "</style>\n",
       "<table border=\"1\" class=\"dataframe\">\n",
       "  <thead>\n",
       "    <tr>\n",
       "      <th></th>\n",
       "      <th colspan=\"8\" halign=\"left\">JobLevel</th>\n",
       "    </tr>\n",
       "    <tr>\n",
       "      <th></th>\n",
       "      <th>count</th>\n",
       "      <th>mean</th>\n",
       "      <th>std</th>\n",
       "      <th>min</th>\n",
       "      <th>25%</th>\n",
       "      <th>50%</th>\n",
       "      <th>75%</th>\n",
       "      <th>max</th>\n",
       "    </tr>\n",
       "    <tr>\n",
       "      <th>Attrition</th>\n",
       "      <th></th>\n",
       "      <th></th>\n",
       "      <th></th>\n",
       "      <th></th>\n",
       "      <th></th>\n",
       "      <th></th>\n",
       "      <th></th>\n",
       "      <th></th>\n",
       "    </tr>\n",
       "  </thead>\n",
       "  <tbody>\n",
       "    <tr>\n",
       "      <th>0</th>\n",
       "      <td>1233.0</td>\n",
       "      <td>2.145985</td>\n",
       "      <td>1.117933</td>\n",
       "      <td>1.0</td>\n",
       "      <td>1.0</td>\n",
       "      <td>2.0</td>\n",
       "      <td>3.0</td>\n",
       "      <td>5.0</td>\n",
       "    </tr>\n",
       "    <tr>\n",
       "      <th>1</th>\n",
       "      <td>237.0</td>\n",
       "      <td>1.637131</td>\n",
       "      <td>0.940594</td>\n",
       "      <td>1.0</td>\n",
       "      <td>1.0</td>\n",
       "      <td>1.0</td>\n",
       "      <td>2.0</td>\n",
       "      <td>5.0</td>\n",
       "    </tr>\n",
       "  </tbody>\n",
       "</table>\n",
       "</div>\n",
       "      <button class=\"colab-df-convert\" onclick=\"convertToInteractive('df-3bf1fe3d-7dc5-4300-b356-788031ecdfa3')\"\n",
       "              title=\"Convert this dataframe to an interactive table.\"\n",
       "              style=\"display:none;\">\n",
       "        \n",
       "  <svg xmlns=\"http://www.w3.org/2000/svg\" height=\"24px\"viewBox=\"0 0 24 24\"\n",
       "       width=\"24px\">\n",
       "    <path d=\"M0 0h24v24H0V0z\" fill=\"none\"/>\n",
       "    <path d=\"M18.56 5.44l.94 2.06.94-2.06 2.06-.94-2.06-.94-.94-2.06-.94 2.06-2.06.94zm-11 1L8.5 8.5l.94-2.06 2.06-.94-2.06-.94L8.5 2.5l-.94 2.06-2.06.94zm10 10l.94 2.06.94-2.06 2.06-.94-2.06-.94-.94-2.06-.94 2.06-2.06.94z\"/><path d=\"M17.41 7.96l-1.37-1.37c-.4-.4-.92-.59-1.43-.59-.52 0-1.04.2-1.43.59L10.3 9.45l-7.72 7.72c-.78.78-.78 2.05 0 2.83L4 21.41c.39.39.9.59 1.41.59.51 0 1.02-.2 1.41-.59l7.78-7.78 2.81-2.81c.8-.78.8-2.07 0-2.86zM5.41 20L4 18.59l7.72-7.72 1.47 1.35L5.41 20z\"/>\n",
       "  </svg>\n",
       "      </button>\n",
       "      \n",
       "  <style>\n",
       "    .colab-df-container {\n",
       "      display:flex;\n",
       "      flex-wrap:wrap;\n",
       "      gap: 12px;\n",
       "    }\n",
       "\n",
       "    .colab-df-convert {\n",
       "      background-color: #E8F0FE;\n",
       "      border: none;\n",
       "      border-radius: 50%;\n",
       "      cursor: pointer;\n",
       "      display: none;\n",
       "      fill: #1967D2;\n",
       "      height: 32px;\n",
       "      padding: 0 0 0 0;\n",
       "      width: 32px;\n",
       "    }\n",
       "\n",
       "    .colab-df-convert:hover {\n",
       "      background-color: #E2EBFA;\n",
       "      box-shadow: 0px 1px 2px rgba(60, 64, 67, 0.3), 0px 1px 3px 1px rgba(60, 64, 67, 0.15);\n",
       "      fill: #174EA6;\n",
       "    }\n",
       "\n",
       "    [theme=dark] .colab-df-convert {\n",
       "      background-color: #3B4455;\n",
       "      fill: #D2E3FC;\n",
       "    }\n",
       "\n",
       "    [theme=dark] .colab-df-convert:hover {\n",
       "      background-color: #434B5C;\n",
       "      box-shadow: 0px 1px 3px 1px rgba(0, 0, 0, 0.15);\n",
       "      filter: drop-shadow(0px 1px 2px rgba(0, 0, 0, 0.3));\n",
       "      fill: #FFFFFF;\n",
       "    }\n",
       "  </style>\n",
       "\n",
       "      <script>\n",
       "        const buttonEl =\n",
       "          document.querySelector('#df-3bf1fe3d-7dc5-4300-b356-788031ecdfa3 button.colab-df-convert');\n",
       "        buttonEl.style.display =\n",
       "          google.colab.kernel.accessAllowed ? 'block' : 'none';\n",
       "\n",
       "        async function convertToInteractive(key) {\n",
       "          const element = document.querySelector('#df-3bf1fe3d-7dc5-4300-b356-788031ecdfa3');\n",
       "          const dataTable =\n",
       "            await google.colab.kernel.invokeFunction('convertToInteractive',\n",
       "                                                     [key], {});\n",
       "          if (!dataTable) return;\n",
       "\n",
       "          const docLinkHtml = 'Like what you see? Visit the ' +\n",
       "            '<a target=\"_blank\" href=https://colab.research.google.com/notebooks/data_table.ipynb>data table notebook</a>'\n",
       "            + ' to learn more about interactive tables.';\n",
       "          element.innerHTML = '';\n",
       "          dataTable['output_type'] = 'display_data';\n",
       "          await google.colab.output.renderOutput(dataTable, element);\n",
       "          const docLink = document.createElement('div');\n",
       "          docLink.innerHTML = docLinkHtml;\n",
       "          element.appendChild(docLink);\n",
       "        }\n",
       "      </script>\n",
       "    </div>\n",
       "  </div>\n",
       "  "
      ],
      "text/plain": [
       "          JobLevel                                             \n",
       "             count      mean       std  min  25%  50%  75%  max\n",
       "Attrition                                                      \n",
       "0           1233.0  2.145985  1.117933  1.0  1.0  2.0  3.0  5.0\n",
       "1            237.0  1.637131  0.940594  1.0  1.0  1.0  2.0  5.0"
      ]
     },
     "execution_count": 51,
     "metadata": {},
     "output_type": "execute_result"
    }
   ],
   "source": [
    "attrition[['Attrition','JobLevel']].groupby(['Attrition']).describe()"
   ]
  },
  {
   "cell_type": "code",
   "execution_count": 52,
   "metadata": {
    "colab": {
     "base_uri": "https://localhost:8080/",
     "height": 351
    },
    "executionInfo": {
     "elapsed": 18,
     "status": "ok",
     "timestamp": 1665312999012,
     "user": {
      "displayName": "SAI.SASI.SEKHAR RALLABANDI",
      "userId": "03962991214365984155"
     },
     "user_tz": -330
    },
    "id": "WfB_LNVIgVj6",
    "outputId": "5b8fe27b-0388-46fa-e632-b738bcde6cdc"
   },
   "outputs": [
    {
     "name": "stderr",
     "output_type": "stream",
     "text": [
      "/usr/local/lib/python3.7/dist-packages/seaborn/_decorators.py:43: FutureWarning: Pass the following variable as a keyword arg: x. From version 0.12, the only valid positional argument will be `data`, and passing other arguments without an explicit keyword will result in an error or misinterpretation.\n",
      "  FutureWarning\n"
     ]
    },
    {
     "data": {
      "text/plain": [
       "<matplotlib.axes._subplots.AxesSubplot at 0x7fe9d6aa0b50>"
      ]
     },
     "execution_count": 52,
     "metadata": {},
     "output_type": "execute_result"
    },
    {
     "data": {
      "image/png": "[encoded data removed]",
      "text/plain": [
       "<Figure size 432x288 with 1 Axes>"
      ]
     },
     "metadata": {
      "needs_background": "light"
     },
     "output_type": "display_data"
    }
   ],
   "source": [
    "sns.countplot('JobLevel',data=attrition)"
   ]
  },
  {
   "cell_type": "code",
   "execution_count": 53,
   "metadata": {
    "colab": {
     "base_uri": "https://localhost:8080/",
     "height": 293
    },
    "executionInfo": {
     "elapsed": 16,
     "status": "ok",
     "timestamp": 1665312999012,
     "user": {
      "displayName": "SAI.SASI.SEKHAR RALLABANDI",
      "userId": "03962991214365984155"
     },
     "user_tz": -330
    },
    "id": "1ZVufT4_439G",
    "outputId": "5c2c3034-0ce5-4b2d-ef82-df29c3252482"
   },
   "outputs": [
    {
     "data": {
      "text/plain": [
       "<matplotlib.axes._subplots.AxesSubplot at 0x7fe9d6a9cc10>"
      ]
     },
     "execution_count": 53,
     "metadata": {},
     "output_type": "execute_result"
    },
    {
     "data": {
      "image/png": "[encoded data removed]",
      "text/plain": [
       "<Figure size 432x288 with 1 Axes>"
      ]
     },
     "metadata": {
      "needs_background": "light"
     },
     "output_type": "display_data"
    }
   ],
   "source": [
    "ct=pd.crosstab(attrition['JobLevel'],attrition['Attrition'], normalize='index')\n",
    "ct.plot.bar(stacked=True)"
   ]
  },
  {
   "cell_type": "code",
   "execution_count": 54,
   "metadata": {
    "colab": {
     "base_uri": "https://localhost:8080/"
    },
    "executionInfo": {
     "elapsed": 15,
     "status": "ok",
     "timestamp": 1665312999013,
     "user": {
      "displayName": "SAI.SASI.SEKHAR RALLABANDI",
      "userId": "03962991214365984155"
     },
     "user_tz": -330
    },
    "id": "r5sYbuo8rhhy",
    "outputId": "a70cd9e7-73a3-4546-d216-765d361529ac"
   },
   "outputs": [
    {
     "name": "stdout",
     "output_type": "stream",
     "text": [
      "1)Total: 1470 \n",
      " 1    543\n",
      "2    534\n",
      "3    218\n",
      "4    106\n",
      "5     69\n",
      "Name: JobLevel, dtype: int64 \n",
      "\n",
      "2)table of joint proportion\n",
      " JobLevel     1    2    3    4   5\n",
      "Attrition                        \n",
      "0          400  482  186  101  64\n",
      "1          143   52   32    5   5 \n",
      "\n",
      "3)conditional probability conditioned on columns \n",
      " JobLevel          1         2         3        4         5\n",
      "Attrition                                                 \n",
      "0          0.736648  0.902622  0.853211  0.95283  0.927536\n",
      "1          0.263352  0.097378  0.146789  0.04717  0.072464 \n",
      "\n",
      "4)conditional probability conditioned on rows \n",
      " JobLevel          1         2         3         4         5\n",
      "Attrition                                                  \n",
      "0          0.324412  0.390916  0.150852  0.081914  0.051906\n",
      "1          0.603376  0.219409  0.135021  0.021097  0.021097\n"
     ]
    }
   ],
   "source": [
    "print('1)Total:',attrition['JobLevel'].count(),'\\n',attrition['JobLevel'].value_counts(),'\\n')\n",
    "table = pd.crosstab(attrition.Attrition,columns= attrition.JobLevel)\n",
    "print('2)table of joint proportion\\n',table,'\\n')\n",
    "coltotal = table.sum(axis = 0)\n",
    "print('3)conditional probability conditioned on columns \\n',table.div(coltotal,axis = 1),'\\n')\n",
    "rowtotal = table.sum(axis=1)\n",
    "print('4)conditional probability conditioned on rows \\n',table.div(rowtotal,axis = 0))"
   ]
  },
  {
   "cell_type": "markdown",
   "metadata": {
    "id": "vB-PFEnaty9F"
   },
   "source": [
    "-From bar plot we can observe that most employees are in lower job level.  \n",
    "-Employees who are in lower job level has a highest probability of leaving.   \n"
   ]
  },
  {
   "cell_type": "markdown",
   "metadata": {
    "id": "2g_sQzmskSwJ"
   },
   "source": [
    "### 12) JobSatisfaction"
   ]
  },
  {
   "cell_type": "code",
   "execution_count": 55,
   "metadata": {
    "colab": {
     "base_uri": "https://localhost:8080/",
     "height": 175
    },
    "executionInfo": {
     "elapsed": 12,
     "status": "ok",
     "timestamp": 1665312999013,
     "user": {
      "displayName": "SAI.SASI.SEKHAR RALLABANDI",
      "userId": "03962991214365984155"
     },
     "user_tz": -330
    },
    "id": "J_WnSS5CfSUT",
    "outputId": "c416302f-86d2-47e2-d375-d1e17f0f3671"
   },
   "outputs": [
    {
     "data": {
      "text/html": [
       "\n",
       "  <div id=\"df-f388dfda-3273-4306-b80b-54f3be6c8500\">\n",
       "    <div class=\"colab-df-container\">\n",
       "      <div>\n",
       "<style scoped>\n",
       "    .dataframe tbody tr th:only-of-type {\n",
       "        vertical-align: middle;\n",
       "    }\n",
       "\n",
       "    .dataframe tbody tr th {\n",
       "        vertical-align: top;\n",
       "    }\n",
       "\n",
       "    .dataframe thead tr th {\n",
       "        text-align: left;\n",
       "    }\n",
       "\n",
       "    .dataframe thead tr:last-of-type th {\n",
       "        text-align: right;\n",
       "    }\n",
       "</style>\n",
       "<table border=\"1\" class=\"dataframe\">\n",
       "  <thead>\n",
       "    <tr>\n",
       "      <th></th>\n",
       "      <th colspan=\"8\" halign=\"left\">JobSatisfaction</th>\n",
       "    </tr>\n",
       "    <tr>\n",
       "      <th></th>\n",
       "      <th>count</th>\n",
       "      <th>mean</th>\n",
       "      <th>std</th>\n",
       "      <th>min</th>\n",
       "      <th>25%</th>\n",
       "      <th>50%</th>\n",
       "      <th>75%</th>\n",
       "      <th>max</th>\n",
       "    </tr>\n",
       "    <tr>\n",
       "      <th>Attrition</th>\n",
       "      <th></th>\n",
       "      <th></th>\n",
       "      <th></th>\n",
       "      <th></th>\n",
       "      <th></th>\n",
       "      <th></th>\n",
       "      <th></th>\n",
       "      <th></th>\n",
       "    </tr>\n",
       "  </thead>\n",
       "  <tbody>\n",
       "    <tr>\n",
       "      <th>0</th>\n",
       "      <td>1233.0</td>\n",
       "      <td>2.778589</td>\n",
       "      <td>1.093277</td>\n",
       "      <td>1.0</td>\n",
       "      <td>2.0</td>\n",
       "      <td>3.0</td>\n",
       "      <td>4.0</td>\n",
       "      <td>4.0</td>\n",
       "    </tr>\n",
       "    <tr>\n",
       "      <th>1</th>\n",
       "      <td>237.0</td>\n",
       "      <td>2.468354</td>\n",
       "      <td>1.118058</td>\n",
       "      <td>1.0</td>\n",
       "      <td>1.0</td>\n",
       "      <td>3.0</td>\n",
       "      <td>3.0</td>\n",
       "      <td>4.0</td>\n",
       "    </tr>\n",
       "  </tbody>\n",
       "</table>\n",
       "</div>\n",
       "      <button class=\"colab-df-convert\" onclick=\"convertToInteractive('df-f388dfda-3273-4306-b80b-54f3be6c8500')\"\n",
       "              title=\"Convert this dataframe to an interactive table.\"\n",
       "              style=\"display:none;\">\n",
       "        \n",
       "  <svg xmlns=\"http://www.w3.org/2000/svg\" height=\"24px\"viewBox=\"0 0 24 24\"\n",
       "       width=\"24px\">\n",
       "    <path d=\"M0 0h24v24H0V0z\" fill=\"none\"/>\n",
       "    <path d=\"M18.56 5.44l.94 2.06.94-2.06 2.06-.94-2.06-.94-.94-2.06-.94 2.06-2.06.94zm-11 1L8.5 8.5l.94-2.06 2.06-.94-2.06-.94L8.5 2.5l-.94 2.06-2.06.94zm10 10l.94 2.06.94-2.06 2.06-.94-2.06-.94-.94-2.06-.94 2.06-2.06.94z\"/><path d=\"M17.41 7.96l-1.37-1.37c-.4-.4-.92-.59-1.43-.59-.52 0-1.04.2-1.43.59L10.3 9.45l-7.72 7.72c-.78.78-.78 2.05 0 2.83L4 21.41c.39.39.9.59 1.41.59.51 0 1.02-.2 1.41-.59l7.78-7.78 2.81-2.81c.8-.78.8-2.07 0-2.86zM5.41 20L4 18.59l7.72-7.72 1.47 1.35L5.41 20z\"/>\n",
       "  </svg>\n",
       "      </button>\n",
       "      \n",
       "  <style>\n",
       "    .colab-df-container {\n",
       "      display:flex;\n",
       "      flex-wrap:wrap;\n",
       "      gap: 12px;\n",
       "    }\n",
       "\n",
       "    .colab-df-convert {\n",
       "      background-color: #E8F0FE;\n",
       "      border: none;\n",
       "      border-radius: 50%;\n",
       "      cursor: pointer;\n",
       "      display: none;\n",
       "      fill: #1967D2;\n",
       "      height: 32px;\n",
       "      padding: 0 0 0 0;\n",
       "      width: 32px;\n",
       "    }\n",
       "\n",
       "    .colab-df-convert:hover {\n",
       "      background-color: #E2EBFA;\n",
       "      box-shadow: 0px 1px 2px rgba(60, 64, 67, 0.3), 0px 1px 3px 1px rgba(60, 64, 67, 0.15);\n",
       "      fill: #174EA6;\n",
       "    }\n",
       "\n",
       "    [theme=dark] .colab-df-convert {\n",
       "      background-color: #3B4455;\n",
       "      fill: #D2E3FC;\n",
       "    }\n",
       "\n",
       "    [theme=dark] .colab-df-convert:hover {\n",
       "      background-color: #434B5C;\n",
       "      box-shadow: 0px 1px 3px 1px rgba(0, 0, 0, 0.15);\n",
       "      filter: drop-shadow(0px 1px 2px rgba(0, 0, 0, 0.3));\n",
       "      fill: #FFFFFF;\n",
       "    }\n",
       "  </style>\n",
       "\n",
       "      <script>\n",
       "        const buttonEl =\n",
       "          document.querySelector('#df-f388dfda-3273-4306-b80b-54f3be6c8500 button.colab-df-convert');\n",
       "        buttonEl.style.display =\n",
       "          google.colab.kernel.accessAllowed ? 'block' : 'none';\n",
       "\n",
       "        async function convertToInteractive(key) {\n",
       "          const element = document.querySelector('#df-f388dfda-3273-4306-b80b-54f3be6c8500');\n",
       "          const dataTable =\n",
       "            await google.colab.kernel.invokeFunction('convertToInteractive',\n",
       "                                                     [key], {});\n",
       "          if (!dataTable) return;\n",
       "\n",
       "          const docLinkHtml = 'Like what you see? Visit the ' +\n",
       "            '<a target=\"_blank\" href=https://colab.research.google.com/notebooks/data_table.ipynb>data table notebook</a>'\n",
       "            + ' to learn more about interactive tables.';\n",
       "          element.innerHTML = '';\n",
       "          dataTable['output_type'] = 'display_data';\n",
       "          await google.colab.output.renderOutput(dataTable, element);\n",
       "          const docLink = document.createElement('div');\n",
       "          docLink.innerHTML = docLinkHtml;\n",
       "          element.appendChild(docLink);\n",
       "        }\n",
       "      </script>\n",
       "    </div>\n",
       "  </div>\n",
       "  "
      ],
      "text/plain": [
       "          JobSatisfaction                                             \n",
       "                    count      mean       std  min  25%  50%  75%  max\n",
       "Attrition                                                             \n",
       "0                  1233.0  2.778589  1.093277  1.0  2.0  3.0  4.0  4.0\n",
       "1                   237.0  2.468354  1.118058  1.0  1.0  3.0  3.0  4.0"
      ]
     },
     "execution_count": 55,
     "metadata": {},
     "output_type": "execute_result"
    }
   ],
   "source": [
    "attrition[['Attrition','JobSatisfaction']].groupby(['Attrition']).describe()"
   ]
  },
  {
   "cell_type": "code",
   "execution_count": 56,
   "metadata": {
    "colab": {
     "base_uri": "https://localhost:8080/",
     "height": 351
    },
    "executionInfo": {
     "elapsed": 1178,
     "status": "ok",
     "timestamp": 1665313000180,
     "user": {
      "displayName": "SAI.SASI.SEKHAR RALLABANDI",
      "userId": "03962991214365984155"
     },
     "user_tz": -330
    },
    "id": "xe1t0TcyfSa7",
    "outputId": "a7bdf002-fd76-4f22-f1f9-1d913651f38c"
   },
   "outputs": [
    {
     "name": "stderr",
     "output_type": "stream",
     "text": [
      "/usr/local/lib/python3.7/dist-packages/seaborn/_decorators.py:43: FutureWarning: Pass the following variable as a keyword arg: x. From version 0.12, the only valid positional argument will be `data`, and passing other arguments without an explicit keyword will result in an error or misinterpretation.\n",
      "  FutureWarning\n"
     ]
    },
    {
     "data": {
      "text/plain": [
       "<matplotlib.axes._subplots.AxesSubplot at 0x7fe9d69cb410>"
      ]
     },
     "execution_count": 56,
     "metadata": {},
     "output_type": "execute_result"
    },
    {
     "data": {
      "image/png": "[encoded data removed]",
      "text/plain": [
       "<Figure size 432x288 with 1 Axes>"
      ]
     },
     "metadata": {
      "needs_background": "light"
     },
     "output_type": "display_data"
    }
   ],
   "source": [
    "sns.countplot('JobSatisfaction',data=attrition)"
   ]
  },
  {
   "cell_type": "code",
   "execution_count": 57,
   "metadata": {
    "colab": {
     "base_uri": "https://localhost:8080/",
     "height": 293
    },
    "executionInfo": {
     "elapsed": 25,
     "status": "ok",
     "timestamp": 1665313000180,
     "user": {
      "displayName": "SAI.SASI.SEKHAR RALLABANDI",
      "userId": "03962991214365984155"
     },
     "user_tz": -330
    },
    "id": "gUvjAK665BP2",
    "outputId": "fd29fe8c-8321-495d-a77c-2496fc2e8770"
   },
   "outputs": [
    {
     "data": {
      "text/plain": [
       "<matplotlib.axes._subplots.AxesSubplot at 0x7fe9d6937c50>"
      ]
     },
     "execution_count": 57,
     "metadata": {},
     "output_type": "execute_result"
    },
    {
     "data": {
      "image/png": "[encoded data removed]",
      "text/plain": [
       "<Figure size 432x288 with 1 Axes>"
      ]
     },
     "metadata": {
      "needs_background": "light"
     },
     "output_type": "display_data"
    }
   ],
   "source": [
    "ct=pd.crosstab(attrition['JobSatisfaction'],attrition['Attrition'], normalize='index')\n",
    "ct.plot.bar(stacked=True)"
   ]
  },
  {
   "cell_type": "code",
   "execution_count": 58,
   "metadata": {
    "colab": {
     "base_uri": "https://localhost:8080/"
    },
    "executionInfo": {
     "elapsed": 21,
     "status": "ok",
     "timestamp": 1665313000180,
     "user": {
      "displayName": "SAI.SASI.SEKHAR RALLABANDI",
      "userId": "03962991214365984155"
     },
     "user_tz": -330
    },
    "id": "ul_VRErYsP4D",
    "outputId": "51e22017-7b3f-4aea-9089-d68e9daae47f"
   },
   "outputs": [
    {
     "name": "stdout",
     "output_type": "stream",
     "text": [
      "1)Total: 1470 \n",
      " 4    459\n",
      "3    442\n",
      "1    289\n",
      "2    280\n",
      "Name: JobSatisfaction, dtype: int64 \n",
      "\n",
      "2)table of joint proportion\n",
      " JobSatisfaction    1    2    3    4\n",
      "Attrition                          \n",
      "0                223  234  369  407\n",
      "1                 66   46   73   52 \n",
      "\n",
      "3)conditional probability conditioned on columns \n",
      " JobSatisfaction         1         2         3        4\n",
      "Attrition                                             \n",
      "0                0.771626  0.835714  0.834842  0.88671\n",
      "1                0.228374  0.164286  0.165158  0.11329 \n",
      "\n",
      "4)conditional probability conditioned on rows \n",
      " JobSatisfaction         1         2         3         4\n",
      "Attrition                                              \n",
      "0                0.180860  0.189781  0.299270  0.330089\n",
      "1                0.278481  0.194093  0.308017  0.219409\n"
     ]
    }
   ],
   "source": [
    "print('1)Total:',attrition['JobSatisfaction'].count(),'\\n',attrition['JobSatisfaction'].value_counts(),'\\n')\n",
    "table = pd.crosstab(attrition.Attrition,columns= attrition.JobSatisfaction)\n",
    "print('2)table of joint proportion\\n',table,'\\n')\n",
    "coltotal = table.sum(axis = 0)\n",
    "print('3)conditional probability conditioned on columns \\n',table.div(coltotal,axis = 1),'\\n')\n",
    "rowtotal = table.sum(axis=1)\n",
    "print('4)conditional probability conditioned on rows \\n',table.div(rowtotal,axis = 0))"
   ]
  },
  {
   "cell_type": "markdown",
   "metadata": {
    "id": "p641XNNXu2DS"
   },
   "source": [
    "-Around 60% of employees are having higher job satisfaction i.e., levels 3 and 4. Where as 40% of employees are having lower job satisfaction i.e., levels 1 and 2.   \n",
    "-Employees who are having job satisfaction of 1 are having slightly higher probability of leaving company.  "
   ]
  },
  {
   "cell_type": "markdown",
   "metadata": {
    "id": "qfzstVm0koM8"
   },
   "source": [
    "### 13) WorkLifeBalance"
   ]
  },
  {
   "cell_type": "code",
   "execution_count": 59,
   "metadata": {
    "colab": {
     "base_uri": "https://localhost:8080/",
     "height": 175
    },
    "executionInfo": {
     "elapsed": 21,
     "status": "ok",
     "timestamp": 1665313000181,
     "user": {
      "displayName": "SAI.SASI.SEKHAR RALLABANDI",
      "userId": "03962991214365984155"
     },
     "user_tz": -330
    },
    "id": "ivKoZXGwZL6k",
    "outputId": "f98e2f8b-455a-40c9-f92b-c4ef43cbb9e2"
   },
   "outputs": [
    {
     "data": {
      "text/html": [
       "\n",
       "  <div id=\"df-a0256e55-eaa3-4c91-83ef-047c15fc70a8\">\n",
       "    <div class=\"colab-df-container\">\n",
       "      <div>\n",
       "<style scoped>\n",
       "    .dataframe tbody tr th:only-of-type {\n",
       "        vertical-align: middle;\n",
       "    }\n",
       "\n",
       "    .dataframe tbody tr th {\n",
       "        vertical-align: top;\n",
       "    }\n",
       "\n",
       "    .dataframe thead tr th {\n",
       "        text-align: left;\n",
       "    }\n",
       "\n",
       "    .dataframe thead tr:last-of-type th {\n",
       "        text-align: right;\n",
       "    }\n",
       "</style>\n",
       "<table border=\"1\" class=\"dataframe\">\n",
       "  <thead>\n",
       "    <tr>\n",
       "      <th></th>\n",
       "      <th colspan=\"8\" halign=\"left\">WorkLifeBalance</th>\n",
       "    </tr>\n",
       "    <tr>\n",
       "      <th></th>\n",
       "      <th>count</th>\n",
       "      <th>mean</th>\n",
       "      <th>std</th>\n",
       "      <th>min</th>\n",
       "      <th>25%</th>\n",
       "      <th>50%</th>\n",
       "      <th>75%</th>\n",
       "      <th>max</th>\n",
       "    </tr>\n",
       "    <tr>\n",
       "      <th>Attrition</th>\n",
       "      <th></th>\n",
       "      <th></th>\n",
       "      <th></th>\n",
       "      <th></th>\n",
       "      <th></th>\n",
       "      <th></th>\n",
       "      <th></th>\n",
       "      <th></th>\n",
       "    </tr>\n",
       "  </thead>\n",
       "  <tbody>\n",
       "    <tr>\n",
       "      <th>0</th>\n",
       "      <td>1233.0</td>\n",
       "      <td>2.781022</td>\n",
       "      <td>0.681907</td>\n",
       "      <td>1.0</td>\n",
       "      <td>2.0</td>\n",
       "      <td>3.0</td>\n",
       "      <td>3.0</td>\n",
       "      <td>4.0</td>\n",
       "    </tr>\n",
       "    <tr>\n",
       "      <th>1</th>\n",
       "      <td>237.0</td>\n",
       "      <td>2.658228</td>\n",
       "      <td>0.816453</td>\n",
       "      <td>1.0</td>\n",
       "      <td>2.0</td>\n",
       "      <td>3.0</td>\n",
       "      <td>3.0</td>\n",
       "      <td>4.0</td>\n",
       "    </tr>\n",
       "  </tbody>\n",
       "</table>\n",
       "</div>\n",
       "      <button class=\"colab-df-convert\" onclick=\"convertToInteractive('df-a0256e55-eaa3-4c91-83ef-047c15fc70a8')\"\n",
       "              title=\"Convert this dataframe to an interactive table.\"\n",
       "              style=\"display:none;\">\n",
       "        \n",
       "  <svg xmlns=\"http://www.w3.org/2000/svg\" height=\"24px\"viewBox=\"0 0 24 24\"\n",
       "       width=\"24px\">\n",
       "    <path d=\"M0 0h24v24H0V0z\" fill=\"none\"/>\n",
       "    <path d=\"M18.56 5.44l.94 2.06.94-2.06 2.06-.94-2.06-.94-.94-2.06-.94 2.06-2.06.94zm-11 1L8.5 8.5l.94-2.06 2.06-.94-2.06-.94L8.5 2.5l-.94 2.06-2.06.94zm10 10l.94 2.06.94-2.06 2.06-.94-2.06-.94-.94-2.06-.94 2.06-2.06.94z\"/><path d=\"M17.41 7.96l-1.37-1.37c-.4-.4-.92-.59-1.43-.59-.52 0-1.04.2-1.43.59L10.3 9.45l-7.72 7.72c-.78.78-.78 2.05 0 2.83L4 21.41c.39.39.9.59 1.41.59.51 0 1.02-.2 1.41-.59l7.78-7.78 2.81-2.81c.8-.78.8-2.07 0-2.86zM5.41 20L4 18.59l7.72-7.72 1.47 1.35L5.41 20z\"/>\n",
       "  </svg>\n",
       "      </button>\n",
       "      \n",
       "  <style>\n",
       "    .colab-df-container {\n",
       "      display:flex;\n",
       "      flex-wrap:wrap;\n",
       "      gap: 12px;\n",
       "    }\n",
       "\n",
       "    .colab-df-convert {\n",
       "      background-color: #E8F0FE;\n",
       "      border: none;\n",
       "      border-radius: 50%;\n",
       "      cursor: pointer;\n",
       "      display: none;\n",
       "      fill: #1967D2;\n",
       "      height: 32px;\n",
       "      padding: 0 0 0 0;\n",
       "      width: 32px;\n",
       "    }\n",
       "\n",
       "    .colab-df-convert:hover {\n",
       "      background-color: #E2EBFA;\n",
       "      box-shadow: 0px 1px 2px rgba(60, 64, 67, 0.3), 0px 1px 3px 1px rgba(60, 64, 67, 0.15);\n",
       "      fill: #174EA6;\n",
       "    }\n",
       "\n",
       "    [theme=dark] .colab-df-convert {\n",
       "      background-color: #3B4455;\n",
       "      fill: #D2E3FC;\n",
       "    }\n",
       "\n",
       "    [theme=dark] .colab-df-convert:hover {\n",
       "      background-color: #434B5C;\n",
       "      box-shadow: 0px 1px 3px 1px rgba(0, 0, 0, 0.15);\n",
       "      filter: drop-shadow(0px 1px 2px rgba(0, 0, 0, 0.3));\n",
       "      fill: #FFFFFF;\n",
       "    }\n",
       "  </style>\n",
       "\n",
       "      <script>\n",
       "        const buttonEl =\n",
       "          document.querySelector('#df-a0256e55-eaa3-4c91-83ef-047c15fc70a8 button.colab-df-convert');\n",
       "        buttonEl.style.display =\n",
       "          google.colab.kernel.accessAllowed ? 'block' : 'none';\n",
       "\n",
       "        async function convertToInteractive(key) {\n",
       "          const element = document.querySelector('#df-a0256e55-eaa3-4c91-83ef-047c15fc70a8');\n",
       "          const dataTable =\n",
       "            await google.colab.kernel.invokeFunction('convertToInteractive',\n",
       "                                                     [key], {});\n",
       "          if (!dataTable) return;\n",
       "\n",
       "          const docLinkHtml = 'Like what you see? Visit the ' +\n",
       "            '<a target=\"_blank\" href=https://colab.research.google.com/notebooks/data_table.ipynb>data table notebook</a>'\n",
       "            + ' to learn more about interactive tables.';\n",
       "          element.innerHTML = '';\n",
       "          dataTable['output_type'] = 'display_data';\n",
       "          await google.colab.output.renderOutput(dataTable, element);\n",
       "          const docLink = document.createElement('div');\n",
       "          docLink.innerHTML = docLinkHtml;\n",
       "          element.appendChild(docLink);\n",
       "        }\n",
       "      </script>\n",
       "    </div>\n",
       "  </div>\n",
       "  "
      ],
      "text/plain": [
       "          WorkLifeBalance                                             \n",
       "                    count      mean       std  min  25%  50%  75%  max\n",
       "Attrition                                                             \n",
       "0                  1233.0  2.781022  0.681907  1.0  2.0  3.0  3.0  4.0\n",
       "1                   237.0  2.658228  0.816453  1.0  2.0  3.0  3.0  4.0"
      ]
     },
     "execution_count": 59,
     "metadata": {},
     "output_type": "execute_result"
    }
   ],
   "source": [
    "attrition[['Attrition','WorkLifeBalance']].groupby(['Attrition']).describe()"
   ]
  },
  {
   "cell_type": "code",
   "execution_count": 60,
   "metadata": {
    "colab": {
     "base_uri": "https://localhost:8080/",
     "height": 351
    },
    "executionInfo": {
     "elapsed": 20,
     "status": "ok",
     "timestamp": 1665313000181,
     "user": {
      "displayName": "SAI.SASI.SEKHAR RALLABANDI",
      "userId": "03962991214365984155"
     },
     "user_tz": -330
    },
    "id": "7Jk_cnfLkR4c",
    "outputId": "58d77a7f-3c98-4c3d-8671-92938b222440"
   },
   "outputs": [
    {
     "name": "stderr",
     "output_type": "stream",
     "text": [
      "/usr/local/lib/python3.7/dist-packages/seaborn/_decorators.py:43: FutureWarning: Pass the following variable as a keyword arg: x. From version 0.12, the only valid positional argument will be `data`, and passing other arguments without an explicit keyword will result in an error or misinterpretation.\n",
      "  FutureWarning\n"
     ]
    },
    {
     "data": {
      "text/plain": [
       "<matplotlib.axes._subplots.AxesSubplot at 0x7fe9d68ae5d0>"
      ]
     },
     "execution_count": 60,
     "metadata": {},
     "output_type": "execute_result"
    },
    {
     "data": {
      "image/png": "[encoded data removed]",
      "text/plain": [
       "<Figure size 432x288 with 1 Axes>"
      ]
     },
     "metadata": {
      "needs_background": "light"
     },
     "output_type": "display_data"
    }
   ],
   "source": [
    "sns.countplot('WorkLifeBalance',data=attrition)"
   ]
  },
  {
   "cell_type": "code",
   "execution_count": 61,
   "metadata": {
    "colab": {
     "base_uri": "https://localhost:8080/",
     "height": 293
    },
    "executionInfo": {
     "elapsed": 19,
     "status": "ok",
     "timestamp": 1665313000181,
     "user": {
      "displayName": "SAI.SASI.SEKHAR RALLABANDI",
      "userId": "03962991214365984155"
     },
     "user_tz": -330
    },
    "id": "Pr6bcHfH5F6_",
    "outputId": "a06e4e9d-cee4-457c-bc46-fadd45abe21f"
   },
   "outputs": [
    {
     "data": {
      "text/plain": [
       "<matplotlib.axes._subplots.AxesSubplot at 0x7fe9d689df50>"
      ]
     },
     "execution_count": 61,
     "metadata": {},
     "output_type": "execute_result"
    },
    {
     "data": {
      "image/png": "[encoded data removed]",
      "text/plain": [
       "<Figure size 432x288 with 1 Axes>"
      ]
     },
     "metadata": {
      "needs_background": "light"
     },
     "output_type": "display_data"
    }
   ],
   "source": [
    "ct=pd.crosstab(attrition['WorkLifeBalance'],attrition['Attrition'], normalize='index')\n",
    "ct.plot.bar(stacked=True)"
   ]
  },
  {
   "cell_type": "code",
   "execution_count": 62,
   "metadata": {
    "colab": {
     "base_uri": "https://localhost:8080/"
    },
    "executionInfo": {
     "elapsed": 17,
     "status": "ok",
     "timestamp": 1665313000181,
     "user": {
      "displayName": "SAI.SASI.SEKHAR RALLABANDI",
      "userId": "03962991214365984155"
     },
     "user_tz": -330
    },
    "id": "2zuFm4VCsZ0O",
    "outputId": "e17fba82-6198-4542-a850-caafa2443ddd"
   },
   "outputs": [
    {
     "name": "stdout",
     "output_type": "stream",
     "text": [
      "1)Total: 1470 \n",
      " 3    893\n",
      "2    344\n",
      "4    153\n",
      "1     80\n",
      "Name: WorkLifeBalance, dtype: int64 \n",
      "\n",
      "2)table of joint proportion\n",
      " WorkLifeBalance   1    2    3    4\n",
      "Attrition                         \n",
      "0                55  286  766  126\n",
      "1                25   58  127   27 \n",
      "\n",
      "3)conditional probability conditioned on columns \n",
      " WorkLifeBalance       1         2         3         4\n",
      "Attrition                                            \n",
      "0                0.6875  0.831395  0.857783  0.823529\n",
      "1                0.3125  0.168605  0.142217  0.176471 \n",
      "\n",
      "4)conditional probability conditioned on rows \n",
      " WorkLifeBalance         1         2         3         4\n",
      "Attrition                                              \n",
      "0                0.044607  0.231955  0.621249  0.102190\n",
      "1                0.105485  0.244726  0.535865  0.113924\n"
     ]
    }
   ],
   "source": [
    "print('1)Total:',attrition['WorkLifeBalance'].count(),'\\n',attrition['WorkLifeBalance'].value_counts(),'\\n')\n",
    "table = pd.crosstab(attrition.Attrition,columns= attrition.WorkLifeBalance)\n",
    "print('2)table of joint proportion\\n',table,'\\n')\n",
    "coltotal = table.sum(axis = 0)\n",
    "print('3)conditional probability conditioned on columns \\n',table.div(coltotal,axis = 1),'\\n')\n",
    "rowtotal = table.sum(axis=1)\n",
    "print('4)conditional probability conditioned on rows \\n',table.div(rowtotal,axis = 0))"
   ]
  },
  {
   "cell_type": "markdown",
   "metadata": {
    "id": "JH82fOnfv3J9"
   },
   "source": [
    "-Most of the employees having above average worklifebalance so it implies very less employees are having bad worklifebalance.   \n",
    "-If the worklifebalance is 1 the probability of leaving the company is higher. Where as for worklifebalance 2,3,4 the probability of leaving the company is lower.  \n"
   ]
  },
  {
   "cell_type": "markdown",
   "metadata": {
    "id": "r2QIi466k-pG"
   },
   "source": [
    "### 14) BusinessTravel"
   ]
  },
  {
   "cell_type": "code",
   "execution_count": 63,
   "metadata": {
    "colab": {
     "base_uri": "https://localhost:8080/",
     "height": 175
    },
    "executionInfo": {
     "elapsed": 16,
     "status": "ok",
     "timestamp": 1665313000181,
     "user": {
      "displayName": "SAI.SASI.SEKHAR RALLABANDI",
      "userId": "03962991214365984155"
     },
     "user_tz": -330
    },
    "id": "U4C_GSMMkR2d",
    "outputId": "c7c7be05-3f4f-42e7-f0ad-545472997c14"
   },
   "outputs": [
    {
     "data": {
      "text/html": [
       "\n",
       "  <div id=\"df-9f6ad194-8216-4a95-8572-88c2dfdecdef\">\n",
       "    <div class=\"colab-df-container\">\n",
       "      <div>\n",
       "<style scoped>\n",
       "    .dataframe tbody tr th:only-of-type {\n",
       "        vertical-align: middle;\n",
       "    }\n",
       "\n",
       "    .dataframe tbody tr th {\n",
       "        vertical-align: top;\n",
       "    }\n",
       "\n",
       "    .dataframe thead tr th {\n",
       "        text-align: left;\n",
       "    }\n",
       "\n",
       "    .dataframe thead tr:last-of-type th {\n",
       "        text-align: right;\n",
       "    }\n",
       "</style>\n",
       "<table border=\"1\" class=\"dataframe\">\n",
       "  <thead>\n",
       "    <tr>\n",
       "      <th></th>\n",
       "      <th colspan=\"4\" halign=\"left\">BusinessTravel</th>\n",
       "    </tr>\n",
       "    <tr>\n",
       "      <th></th>\n",
       "      <th>count</th>\n",
       "      <th>unique</th>\n",
       "      <th>top</th>\n",
       "      <th>freq</th>\n",
       "    </tr>\n",
       "    <tr>\n",
       "      <th>Attrition</th>\n",
       "      <th></th>\n",
       "      <th></th>\n",
       "      <th></th>\n",
       "      <th></th>\n",
       "    </tr>\n",
       "  </thead>\n",
       "  <tbody>\n",
       "    <tr>\n",
       "      <th>0</th>\n",
       "      <td>1233</td>\n",
       "      <td>3</td>\n",
       "      <td>Travel_Rarely</td>\n",
       "      <td>887</td>\n",
       "    </tr>\n",
       "    <tr>\n",
       "      <th>1</th>\n",
       "      <td>237</td>\n",
       "      <td>3</td>\n",
       "      <td>Travel_Rarely</td>\n",
       "      <td>156</td>\n",
       "    </tr>\n",
       "  </tbody>\n",
       "</table>\n",
       "</div>\n",
       "      <button class=\"colab-df-convert\" onclick=\"convertToInteractive('df-9f6ad194-8216-4a95-8572-88c2dfdecdef')\"\n",
       "              title=\"Convert this dataframe to an interactive table.\"\n",
       "              style=\"display:none;\">\n",
       "        \n",
       "  <svg xmlns=\"http://www.w3.org/2000/svg\" height=\"24px\"viewBox=\"0 0 24 24\"\n",
       "       width=\"24px\">\n",
       "    <path d=\"M0 0h24v24H0V0z\" fill=\"none\"/>\n",
       "    <path d=\"M18.56 5.44l.94 2.06.94-2.06 2.06-.94-2.06-.94-.94-2.06-.94 2.06-2.06.94zm-11 1L8.5 8.5l.94-2.06 2.06-.94-2.06-.94L8.5 2.5l-.94 2.06-2.06.94zm10 10l.94 2.06.94-2.06 2.06-.94-2.06-.94-.94-2.06-.94 2.06-2.06.94z\"/><path d=\"M17.41 7.96l-1.37-1.37c-.4-.4-.92-.59-1.43-.59-.52 0-1.04.2-1.43.59L10.3 9.45l-7.72 7.72c-.78.78-.78 2.05 0 2.83L4 21.41c.39.39.9.59 1.41.59.51 0 1.02-.2 1.41-.59l7.78-7.78 2.81-2.81c.8-.78.8-2.07 0-2.86zM5.41 20L4 18.59l7.72-7.72 1.47 1.35L5.41 20z\"/>\n",
       "  </svg>\n",
       "      </button>\n",
       "      \n",
       "  <style>\n",
       "    .colab-df-container {\n",
       "      display:flex;\n",
       "      flex-wrap:wrap;\n",
       "      gap: 12px;\n",
       "    }\n",
       "\n",
       "    .colab-df-convert {\n",
       "      background-color: #E8F0FE;\n",
       "      border: none;\n",
       "      border-radius: 50%;\n",
       "      cursor: pointer;\n",
       "      display: none;\n",
       "      fill: #1967D2;\n",
       "      height: 32px;\n",
       "      padding: 0 0 0 0;\n",
       "      width: 32px;\n",
       "    }\n",
       "\n",
       "    .colab-df-convert:hover {\n",
       "      background-color: #E2EBFA;\n",
       "      box-shadow: 0px 1px 2px rgba(60, 64, 67, 0.3), 0px 1px 3px 1px rgba(60, 64, 67, 0.15);\n",
       "      fill: #174EA6;\n",
       "    }\n",
       "\n",
       "    [theme=dark] .colab-df-convert {\n",
       "      background-color: #3B4455;\n",
       "      fill: #D2E3FC;\n",
       "    }\n",
       "\n",
       "    [theme=dark] .colab-df-convert:hover {\n",
       "      background-color: #434B5C;\n",
       "      box-shadow: 0px 1px 3px 1px rgba(0, 0, 0, 0.15);\n",
       "      filter: drop-shadow(0px 1px 2px rgba(0, 0, 0, 0.3));\n",
       "      fill: #FFFFFF;\n",
       "    }\n",
       "  </style>\n",
       "\n",
       "      <script>\n",
       "        const buttonEl =\n",
       "          document.querySelector('#df-9f6ad194-8216-4a95-8572-88c2dfdecdef button.colab-df-convert');\n",
       "        buttonEl.style.display =\n",
       "          google.colab.kernel.accessAllowed ? 'block' : 'none';\n",
       "\n",
       "        async function convertToInteractive(key) {\n",
       "          const element = document.querySelector('#df-9f6ad194-8216-4a95-8572-88c2dfdecdef');\n",
       "          const dataTable =\n",
       "            await google.colab.kernel.invokeFunction('convertToInteractive',\n",
       "                                                     [key], {});\n",
       "          if (!dataTable) return;\n",
       "\n",
       "          const docLinkHtml = 'Like what you see? Visit the ' +\n",
       "            '<a target=\"_blank\" href=https://colab.research.google.com/notebooks/data_table.ipynb>data table notebook</a>'\n",
       "            + ' to learn more about interactive tables.';\n",
       "          element.innerHTML = '';\n",
       "          dataTable['output_type'] = 'display_data';\n",
       "          await google.colab.output.renderOutput(dataTable, element);\n",
       "          const docLink = document.createElement('div');\n",
       "          docLink.innerHTML = docLinkHtml;\n",
       "          element.appendChild(docLink);\n",
       "        }\n",
       "      </script>\n",
       "    </div>\n",
       "  </div>\n",
       "  "
      ],
      "text/plain": [
       "          BusinessTravel                           \n",
       "                   count unique            top freq\n",
       "Attrition                                          \n",
       "0                   1233      3  Travel_Rarely  887\n",
       "1                    237      3  Travel_Rarely  156"
      ]
     },
     "execution_count": 63,
     "metadata": {},
     "output_type": "execute_result"
    }
   ],
   "source": [
    "attrition[['Attrition','BusinessTravel']].groupby(['Attrition']).describe()"
   ]
  },
  {
   "cell_type": "code",
   "execution_count": 64,
   "metadata": {
    "colab": {
     "base_uri": "https://localhost:8080/",
     "height": 352
    },
    "executionInfo": {
     "elapsed": 17,
     "status": "ok",
     "timestamp": 1665313000182,
     "user": {
      "displayName": "SAI.SASI.SEKHAR RALLABANDI",
      "userId": "03962991214365984155"
     },
     "user_tz": -330
    },
    "id": "TjUPwKoGkRx5",
    "outputId": "f82a9a6a-da55-4289-e9bc-ee5159062ee0"
   },
   "outputs": [
    {
     "name": "stderr",
     "output_type": "stream",
     "text": [
      "/usr/local/lib/python3.7/dist-packages/seaborn/_decorators.py:43: FutureWarning: Pass the following variable as a keyword arg: x. From version 0.12, the only valid positional argument will be `data`, and passing other arguments without an explicit keyword will result in an error or misinterpretation.\n",
      "  FutureWarning\n"
     ]
    },
    {
     "data": {
      "text/plain": [
       "<matplotlib.axes._subplots.AxesSubplot at 0x7fe9d6bbefd0>"
      ]
     },
     "execution_count": 64,
     "metadata": {},
     "output_type": "execute_result"
    },
    {
     "data": {
      "image/png": "[encoded data removed]",
      "text/plain": [
       "<Figure size 432x288 with 1 Axes>"
      ]
     },
     "metadata": {
      "needs_background": "light"
     },
     "output_type": "display_data"
    }
   ],
   "source": [
    "sns.countplot('BusinessTravel',data=attrition)"
   ]
  },
  {
   "cell_type": "code",
   "execution_count": 65,
   "metadata": {
    "colab": {
     "base_uri": "https://localhost:8080/",
     "height": 374
    },
    "executionInfo": {
     "elapsed": 15,
     "status": "ok",
     "timestamp": 1665313000182,
     "user": {
      "displayName": "SAI.SASI.SEKHAR RALLABANDI",
      "userId": "03962991214365984155"
     },
     "user_tz": -330
    },
    "id": "GButO-bg5VZf",
    "outputId": "e24e01ed-7476-4751-e8d0-82d6e7e747c9"
   },
   "outputs": [
    {
     "data": {
      "text/plain": [
       "<matplotlib.axes._subplots.AxesSubplot at 0x7fe9d72fa9d0>"
      ]
     },
     "execution_count": 65,
     "metadata": {},
     "output_type": "execute_result"
    },
    {
     "data": {
      "image/png": "[encoded data removed]",
      "text/plain": [
       "<Figure size 432x288 with 1 Axes>"
      ]
     },
     "metadata": {
      "needs_background": "light"
     },
     "output_type": "display_data"
    }
   ],
   "source": [
    "ct=pd.crosstab(attrition['BusinessTravel'],attrition['Attrition'], normalize='index')\n",
    "ct.plot.bar(stacked=True)"
   ]
  },
  {
   "cell_type": "code",
   "execution_count": 66,
   "metadata": {
    "colab": {
     "base_uri": "https://localhost:8080/"
    },
    "executionInfo": {
     "elapsed": 14,
     "status": "ok",
     "timestamp": 1665313000182,
     "user": {
      "displayName": "SAI.SASI.SEKHAR RALLABANDI",
      "userId": "03962991214365984155"
     },
     "user_tz": -330
    },
    "id": "hGBZcECgskdx",
    "outputId": "dafb7245-3963-4251-c164-60d0e87c1287"
   },
   "outputs": [
    {
     "name": "stdout",
     "output_type": "stream",
     "text": [
      "1)Total: 1470 \n",
      " Travel_Rarely        1043\n",
      "Travel_Frequently     277\n",
      "Non-Travel            150\n",
      "Name: BusinessTravel, dtype: int64 \n",
      "\n",
      "2)table of joint proportion\n",
      " BusinessTravel  Non-Travel  Travel_Frequently  Travel_Rarely\n",
      "Attrition                                                   \n",
      "0                      138                208            887\n",
      "1                       12                 69            156 \n",
      "\n",
      "3)conditional probability conditioned on columns \n",
      " BusinessTravel  Non-Travel  Travel_Frequently  Travel_Rarely\n",
      "Attrition                                                   \n",
      "0                     0.92           0.750903       0.850431\n",
      "1                     0.08           0.249097       0.149569 \n",
      "\n",
      "4)conditional probability conditioned on rows \n",
      " BusinessTravel  Non-Travel  Travel_Frequently  Travel_Rarely\n",
      "Attrition                                                   \n",
      "0                 0.111922           0.168694       0.719384\n",
      "1                 0.050633           0.291139       0.658228\n"
     ]
    }
   ],
   "source": [
    "print('1)Total:',attrition['BusinessTravel'].count(),'\\n',attrition['BusinessTravel'].value_counts(),'\\n')\n",
    "table = pd.crosstab(attrition.Attrition,columns= attrition.BusinessTravel)\n",
    "print('2)table of joint proportion\\n',table,'\\n')\n",
    "coltotal = table.sum(axis = 0)\n",
    "print('3)conditional probability conditioned on columns \\n',table.div(coltotal,axis = 1),'\\n')\n",
    "rowtotal = table.sum(axis=1)\n",
    "print('4)conditional probability conditioned on rows \\n',table.div(rowtotal,axis = 0))"
   ]
  },
  {
   "cell_type": "code",
   "execution_count": 66,
   "metadata": {
    "executionInfo": {
     "elapsed": 13,
     "status": "ok",
     "timestamp": 1665313000182,
     "user": {
      "displayName": "SAI.SASI.SEKHAR RALLABANDI",
      "userId": "03962991214365984155"
     },
     "user_tz": -330
    },
    "id": "mAux7cdbQTzX"
   },
   "outputs": [],
   "source": []
  },
  {
   "cell_type": "markdown",
   "metadata": {
    "id": "4CUJP3rfw-F3"
   },
   "source": [
    "-Most of the employees rarely travel.  \n",
    "-Around 1/4th of employees travel frequently.  \n",
    "-Out of the employees who travel frequently have significantly higher probability of leaving.  "
   ]
  },
  {
   "cell_type": "markdown",
   "metadata": {
    "id": "hLhwhoynlO6g"
   },
   "source": [
    "### 15) Department"
   ]
  },
  {
   "cell_type": "code",
   "execution_count": 67,
   "metadata": {
    "colab": {
     "base_uri": "https://localhost:8080/",
     "height": 175
    },
    "executionInfo": {
     "elapsed": 636,
     "status": "ok",
     "timestamp": 1665313000805,
     "user": {
      "displayName": "SAI.SASI.SEKHAR RALLABANDI",
      "userId": "03962991214365984155"
     },
     "user_tz": -330
    },
    "id": "t-JZwyRakRvn",
    "outputId": "bca61d8b-13d8-404a-e769-87d066a89d96"
   },
   "outputs": [
    {
     "data": {
      "text/html": [
       "\n",
       "  <div id=\"df-193fea2e-56ff-462d-ba65-baa3f9aa0120\">\n",
       "    <div class=\"colab-df-container\">\n",
       "      <div>\n",
       "<style scoped>\n",
       "    .dataframe tbody tr th:only-of-type {\n",
       "        vertical-align: middle;\n",
       "    }\n",
       "\n",
       "    .dataframe tbody tr th {\n",
       "        vertical-align: top;\n",
       "    }\n",
       "\n",
       "    .dataframe thead tr th {\n",
       "        text-align: left;\n",
       "    }\n",
       "\n",
       "    .dataframe thead tr:last-of-type th {\n",
       "        text-align: right;\n",
       "    }\n",
       "</style>\n",
       "<table border=\"1\" class=\"dataframe\">\n",
       "  <thead>\n",
       "    <tr>\n",
       "      <th></th>\n",
       "      <th colspan=\"4\" halign=\"left\">Department</th>\n",
       "    </tr>\n",
       "    <tr>\n",
       "      <th></th>\n",
       "      <th>count</th>\n",
       "      <th>unique</th>\n",
       "      <th>top</th>\n",
       "      <th>freq</th>\n",
       "    </tr>\n",
       "    <tr>\n",
       "      <th>Attrition</th>\n",
       "      <th></th>\n",
       "      <th></th>\n",
       "      <th></th>\n",
       "      <th></th>\n",
       "    </tr>\n",
       "  </thead>\n",
       "  <tbody>\n",
       "    <tr>\n",
       "      <th>0</th>\n",
       "      <td>1233</td>\n",
       "      <td>3</td>\n",
       "      <td>Research &amp; Development</td>\n",
       "      <td>828</td>\n",
       "    </tr>\n",
       "    <tr>\n",
       "      <th>1</th>\n",
       "      <td>237</td>\n",
       "      <td>3</td>\n",
       "      <td>Research &amp; Development</td>\n",
       "      <td>133</td>\n",
       "    </tr>\n",
       "  </tbody>\n",
       "</table>\n",
       "</div>\n",
       "      <button class=\"colab-df-convert\" onclick=\"convertToInteractive('df-193fea2e-56ff-462d-ba65-baa3f9aa0120')\"\n",
       "              title=\"Convert this dataframe to an interactive table.\"\n",
       "              style=\"display:none;\">\n",
       "        \n",
       "  <svg xmlns=\"http://www.w3.org/2000/svg\" height=\"24px\"viewBox=\"0 0 24 24\"\n",
       "       width=\"24px\">\n",
       "    <path d=\"M0 0h24v24H0V0z\" fill=\"none\"/>\n",
       "    <path d=\"M18.56 5.44l.94 2.06.94-2.06 2.06-.94-2.06-.94-.94-2.06-.94 2.06-2.06.94zm-11 1L8.5 8.5l.94-2.06 2.06-.94-2.06-.94L8.5 2.5l-.94 2.06-2.06.94zm10 10l.94 2.06.94-2.06 2.06-.94-2.06-.94-.94-2.06-.94 2.06-2.06.94z\"/><path d=\"M17.41 7.96l-1.37-1.37c-.4-.4-.92-.59-1.43-.59-.52 0-1.04.2-1.43.59L10.3 9.45l-7.72 7.72c-.78.78-.78 2.05 0 2.83L4 21.41c.39.39.9.59 1.41.59.51 0 1.02-.2 1.41-.59l7.78-7.78 2.81-2.81c.8-.78.8-2.07 0-2.86zM5.41 20L4 18.59l7.72-7.72 1.47 1.35L5.41 20z\"/>\n",
       "  </svg>\n",
       "      </button>\n",
       "      \n",
       "  <style>\n",
       "    .colab-df-container {\n",
       "      display:flex;\n",
       "      flex-wrap:wrap;\n",
       "      gap: 12px;\n",
       "    }\n",
       "\n",
       "    .colab-df-convert {\n",
       "      background-color: #E8F0FE;\n",
       "      border: none;\n",
       "      border-radius: 50%;\n",
       "      cursor: pointer;\n",
       "      display: none;\n",
       "      fill: #1967D2;\n",
       "      height: 32px;\n",
       "      padding: 0 0 0 0;\n",
       "      width: 32px;\n",
       "    }\n",
       "\n",
       "    .colab-df-convert:hover {\n",
       "      background-color: #E2EBFA;\n",
       "      box-shadow: 0px 1px 2px rgba(60, 64, 67, 0.3), 0px 1px 3px 1px rgba(60, 64, 67, 0.15);\n",
       "      fill: #174EA6;\n",
       "    }\n",
       "\n",
       "    [theme=dark] .colab-df-convert {\n",
       "      background-color: #3B4455;\n",
       "      fill: #D2E3FC;\n",
       "    }\n",
       "\n",
       "    [theme=dark] .colab-df-convert:hover {\n",
       "      background-color: #434B5C;\n",
       "      box-shadow: 0px 1px 3px 1px rgba(0, 0, 0, 0.15);\n",
       "      filter: drop-shadow(0px 1px 2px rgba(0, 0, 0, 0.3));\n",
       "      fill: #FFFFFF;\n",
       "    }\n",
       "  </style>\n",
       "\n",
       "      <script>\n",
       "        const buttonEl =\n",
       "          document.querySelector('#df-193fea2e-56ff-462d-ba65-baa3f9aa0120 button.colab-df-convert');\n",
       "        buttonEl.style.display =\n",
       "          google.colab.kernel.accessAllowed ? 'block' : 'none';\n",
       "\n",
       "        async function convertToInteractive(key) {\n",
       "          const element = document.querySelector('#df-193fea2e-56ff-462d-ba65-baa3f9aa0120');\n",
       "          const dataTable =\n",
       "            await google.colab.kernel.invokeFunction('convertToInteractive',\n",
       "                                                     [key], {});\n",
       "          if (!dataTable) return;\n",
       "\n",
       "          const docLinkHtml = 'Like what you see? Visit the ' +\n",
       "            '<a target=\"_blank\" href=https://colab.research.google.com/notebooks/data_table.ipynb>data table notebook</a>'\n",
       "            + ' to learn more about interactive tables.';\n",
       "          element.innerHTML = '';\n",
       "          dataTable['output_type'] = 'display_data';\n",
       "          await google.colab.output.renderOutput(dataTable, element);\n",
       "          const docLink = document.createElement('div');\n",
       "          docLink.innerHTML = docLinkHtml;\n",
       "          element.appendChild(docLink);\n",
       "        }\n",
       "      </script>\n",
       "    </div>\n",
       "  </div>\n",
       "  "
      ],
      "text/plain": [
       "          Department                                    \n",
       "               count unique                     top freq\n",
       "Attrition                                               \n",
       "0               1233      3  Research & Development  828\n",
       "1                237      3  Research & Development  133"
      ]
     },
     "execution_count": 67,
     "metadata": {},
     "output_type": "execute_result"
    }
   ],
   "source": [
    "attrition[['Attrition','Department']].groupby(['Attrition']).describe()"
   ]
  },
  {
   "cell_type": "code",
   "execution_count": 68,
   "metadata": {
    "colab": {
     "base_uri": "https://localhost:8080/",
     "height": 353
    },
    "executionInfo": {
     "elapsed": 21,
     "status": "ok",
     "timestamp": 1665313000806,
     "user": {
      "displayName": "SAI.SASI.SEKHAR RALLABANDI",
      "userId": "03962991214365984155"
     },
     "user_tz": -330
    },
    "id": "DpZ_ZYLekRrF",
    "outputId": "d04e50d1-c947-4051-aeba-49b94c2e21d5"
   },
   "outputs": [
    {
     "name": "stderr",
     "output_type": "stream",
     "text": [
      "/usr/local/lib/python3.7/dist-packages/seaborn/_decorators.py:43: FutureWarning: Pass the following variable as a keyword arg: x. From version 0.12, the only valid positional argument will be `data`, and passing other arguments without an explicit keyword will result in an error or misinterpretation.\n",
      "  FutureWarning\n"
     ]
    },
    {
     "data": {
      "text/plain": [
       "<matplotlib.axes._subplots.AxesSubplot at 0x7fe9d7957e10>"
      ]
     },
     "execution_count": 68,
     "metadata": {},
     "output_type": "execute_result"
    },
    {
     "data": {
      "image/png": "[encoded data removed]",
      "text/plain": [
       "<Figure size 432x288 with 1 Axes>"
      ]
     },
     "metadata": {
      "needs_background": "light"
     },
     "output_type": "display_data"
    }
   ],
   "source": [
    "sns.countplot('Department',data=attrition)"
   ]
  },
  {
   "cell_type": "code",
   "execution_count": 69,
   "metadata": {
    "colab": {
     "base_uri": "https://localhost:8080/",
     "height": 413
    },
    "executionInfo": {
     "elapsed": 20,
     "status": "ok",
     "timestamp": 1665313000807,
     "user": {
      "displayName": "SAI.SASI.SEKHAR RALLABANDI",
      "userId": "03962991214365984155"
     },
     "user_tz": -330
    },
    "id": "pxOMrDBD5nSW",
    "outputId": "2f4050d5-84f4-467e-be4b-ddd7ed73c4b5"
   },
   "outputs": [
    {
     "data": {
      "text/plain": [
       "<matplotlib.axes._subplots.AxesSubplot at 0x7fe9d6df8690>"
      ]
     },
     "execution_count": 69,
     "metadata": {},
     "output_type": "execute_result"
    },
    {
     "data": {
      "image/png": "[encoded data removed]",
      "text/plain": [
       "<Figure size 432x288 with 1 Axes>"
      ]
     },
     "metadata": {
      "needs_background": "light"
     },
     "output_type": "display_data"
    }
   ],
   "source": [
    "ct=pd.crosstab(attrition['Department'],attrition['Attrition'], normalize='index')\n",
    "ct.plot.bar(stacked=True)"
   ]
  },
  {
   "cell_type": "code",
   "execution_count": 70,
   "metadata": {
    "colab": {
     "base_uri": "https://localhost:8080/"
    },
    "executionInfo": {
     "elapsed": 18,
     "status": "ok",
     "timestamp": 1665313000807,
     "user": {
      "displayName": "SAI.SASI.SEKHAR RALLABANDI",
      "userId": "03962991214365984155"
     },
     "user_tz": -330
    },
    "id": "68A-nC76sonu",
    "outputId": "36f9fdf8-c5ea-4096-d8aa-a1c6fabd1e63"
   },
   "outputs": [
    {
     "name": "stdout",
     "output_type": "stream",
     "text": [
      "1)Total: 1470 \n",
      " Research & Development    961\n",
      "Sales                     446\n",
      "Human Resources            63\n",
      "Name: Department, dtype: int64 \n",
      "\n",
      "2)table of joint proportion\n",
      " Department  Human Resources  Research & Development  Sales\n",
      "Attrition                                                 \n",
      "0                        51                     828    354\n",
      "1                        12                     133     92 \n",
      "\n",
      "3)conditional probability conditioned on columns \n",
      " Department  Human Resources  Research & Development     Sales\n",
      "Attrition                                                    \n",
      "0                  0.809524                0.861602  0.793722\n",
      "1                  0.190476                0.138398  0.206278 \n",
      "\n",
      "4)conditional probability conditioned on rows \n",
      " Department  Human Resources  Research & Development     Sales\n",
      "Attrition                                                    \n",
      "0                  0.041363                0.671533  0.287105\n",
      "1                  0.050633                0.561181  0.388186\n"
     ]
    }
   ],
   "source": [
    "print('1)Total:',attrition['Department'].count(),'\\n',attrition['Department'].value_counts(),'\\n')\n",
    "table = pd.crosstab(attrition.Attrition,columns= attrition.Department)\n",
    "print('2)table of joint proportion\\n',table,'\\n')\n",
    "coltotal = table.sum(axis = 0)\n",
    "print('3)conditional probability conditioned on columns \\n',table.div(coltotal,axis = 1),'\\n')\n",
    "rowtotal = table.sum(axis=1)\n",
    "print('4)conditional probability conditioned on rows \\n',table.div(rowtotal,axis = 0))"
   ]
  },
  {
   "cell_type": "markdown",
   "metadata": {
    "id": "hc-kXDg0x0R2"
   },
   "source": [
    "-Most of the employees in the company worked in the R&D Department.  \n",
    "-The probability of the employees leaving the company from the department HR,R&D and sales are 0.19,0.13 and 0.20 respectively. While the employees from HR & sales are having slightly higher probability of leaving the company but it is not significant enough.  "
   ]
  },
  {
   "cell_type": "markdown",
   "metadata": {
    "id": "LwZIgfUmlcUs"
   },
   "source": [
    "### 16) EducationField"
   ]
  },
  {
   "cell_type": "code",
   "execution_count": 71,
   "metadata": {
    "colab": {
     "base_uri": "https://localhost:8080/",
     "height": 175
    },
    "executionInfo": {
     "elapsed": 16,
     "status": "ok",
     "timestamp": 1665313000807,
     "user": {
      "displayName": "SAI.SASI.SEKHAR RALLABANDI",
      "userId": "03962991214365984155"
     },
     "user_tz": -330
    },
    "id": "sLjDh9x6kRob",
    "outputId": "f563a5fe-f5d0-4c9d-9a7c-0166aa01c134"
   },
   "outputs": [
    {
     "data": {
      "text/html": [
       "\n",
       "  <div id=\"df-560c194c-6e4a-4b20-bc15-aa2f20a39f4f\">\n",
       "    <div class=\"colab-df-container\">\n",
       "      <div>\n",
       "<style scoped>\n",
       "    .dataframe tbody tr th:only-of-type {\n",
       "        vertical-align: middle;\n",
       "    }\n",
       "\n",
       "    .dataframe tbody tr th {\n",
       "        vertical-align: top;\n",
       "    }\n",
       "\n",
       "    .dataframe thead tr th {\n",
       "        text-align: left;\n",
       "    }\n",
       "\n",
       "    .dataframe thead tr:last-of-type th {\n",
       "        text-align: right;\n",
       "    }\n",
       "</style>\n",
       "<table border=\"1\" class=\"dataframe\">\n",
       "  <thead>\n",
       "    <tr>\n",
       "      <th></th>\n",
       "      <th colspan=\"4\" halign=\"left\">EducationField</th>\n",
       "    </tr>\n",
       "    <tr>\n",
       "      <th></th>\n",
       "      <th>count</th>\n",
       "      <th>unique</th>\n",
       "      <th>top</th>\n",
       "      <th>freq</th>\n",
       "    </tr>\n",
       "    <tr>\n",
       "      <th>Attrition</th>\n",
       "      <th></th>\n",
       "      <th></th>\n",
       "      <th></th>\n",
       "      <th></th>\n",
       "    </tr>\n",
       "  </thead>\n",
       "  <tbody>\n",
       "    <tr>\n",
       "      <th>0</th>\n",
       "      <td>1233</td>\n",
       "      <td>6</td>\n",
       "      <td>Life Sciences</td>\n",
       "      <td>517</td>\n",
       "    </tr>\n",
       "    <tr>\n",
       "      <th>1</th>\n",
       "      <td>237</td>\n",
       "      <td>6</td>\n",
       "      <td>Life Sciences</td>\n",
       "      <td>89</td>\n",
       "    </tr>\n",
       "  </tbody>\n",
       "</table>\n",
       "</div>\n",
       "      <button class=\"colab-df-convert\" onclick=\"convertToInteractive('df-560c194c-6e4a-4b20-bc15-aa2f20a39f4f')\"\n",
       "              title=\"Convert this dataframe to an interactive table.\"\n",
       "              style=\"display:none;\">\n",
       "        \n",
       "  <svg xmlns=\"http://www.w3.org/2000/svg\" height=\"24px\"viewBox=\"0 0 24 24\"\n",
       "       width=\"24px\">\n",
       "    <path d=\"M0 0h24v24H0V0z\" fill=\"none\"/>\n",
       "    <path d=\"M18.56 5.44l.94 2.06.94-2.06 2.06-.94-2.06-.94-.94-2.06-.94 2.06-2.06.94zm-11 1L8.5 8.5l.94-2.06 2.06-.94-2.06-.94L8.5 2.5l-.94 2.06-2.06.94zm10 10l.94 2.06.94-2.06 2.06-.94-2.06-.94-.94-2.06-.94 2.06-2.06.94z\"/><path d=\"M17.41 7.96l-1.37-1.37c-.4-.4-.92-.59-1.43-.59-.52 0-1.04.2-1.43.59L10.3 9.45l-7.72 7.72c-.78.78-.78 2.05 0 2.83L4 21.41c.39.39.9.59 1.41.59.51 0 1.02-.2 1.41-.59l7.78-7.78 2.81-2.81c.8-.78.8-2.07 0-2.86zM5.41 20L4 18.59l7.72-7.72 1.47 1.35L5.41 20z\"/>\n",
       "  </svg>\n",
       "      </button>\n",
       "      \n",
       "  <style>\n",
       "    .colab-df-container {\n",
       "      display:flex;\n",
       "      flex-wrap:wrap;\n",
       "      gap: 12px;\n",
       "    }\n",
       "\n",
       "    .colab-df-convert {\n",
       "      background-color: #E8F0FE;\n",
       "      border: none;\n",
       "      border-radius: 50%;\n",
       "      cursor: pointer;\n",
       "      display: none;\n",
       "      fill: #1967D2;\n",
       "      height: 32px;\n",
       "      padding: 0 0 0 0;\n",
       "      width: 32px;\n",
       "    }\n",
       "\n",
       "    .colab-df-convert:hover {\n",
       "      background-color: #E2EBFA;\n",
       "      box-shadow: 0px 1px 2px rgba(60, 64, 67, 0.3), 0px 1px 3px 1px rgba(60, 64, 67, 0.15);\n",
       "      fill: #174EA6;\n",
       "    }\n",
       "\n",
       "    [theme=dark] .colab-df-convert {\n",
       "      background-color: #3B4455;\n",
       "      fill: #D2E3FC;\n",
       "    }\n",
       "\n",
       "    [theme=dark] .colab-df-convert:hover {\n",
       "      background-color: #434B5C;\n",
       "      box-shadow: 0px 1px 3px 1px rgba(0, 0, 0, 0.15);\n",
       "      filter: drop-shadow(0px 1px 2px rgba(0, 0, 0, 0.3));\n",
       "      fill: #FFFFFF;\n",
       "    }\n",
       "  </style>\n",
       "\n",
       "      <script>\n",
       "        const buttonEl =\n",
       "          document.querySelector('#df-560c194c-6e4a-4b20-bc15-aa2f20a39f4f button.colab-df-convert');\n",
       "        buttonEl.style.display =\n",
       "          google.colab.kernel.accessAllowed ? 'block' : 'none';\n",
       "\n",
       "        async function convertToInteractive(key) {\n",
       "          const element = document.querySelector('#df-560c194c-6e4a-4b20-bc15-aa2f20a39f4f');\n",
       "          const dataTable =\n",
       "            await google.colab.kernel.invokeFunction('convertToInteractive',\n",
       "                                                     [key], {});\n",
       "          if (!dataTable) return;\n",
       "\n",
       "          const docLinkHtml = 'Like what you see? Visit the ' +\n",
       "            '<a target=\"_blank\" href=https://colab.research.google.com/notebooks/data_table.ipynb>data table notebook</a>'\n",
       "            + ' to learn more about interactive tables.';\n",
       "          element.innerHTML = '';\n",
       "          dataTable['output_type'] = 'display_data';\n",
       "          await google.colab.output.renderOutput(dataTable, element);\n",
       "          const docLink = document.createElement('div');\n",
       "          docLink.innerHTML = docLinkHtml;\n",
       "          element.appendChild(docLink);\n",
       "        }\n",
       "      </script>\n",
       "    </div>\n",
       "  </div>\n",
       "  "
      ],
      "text/plain": [
       "          EducationField                           \n",
       "                   count unique            top freq\n",
       "Attrition                                          \n",
       "0                   1233      6  Life Sciences  517\n",
       "1                    237      6  Life Sciences   89"
      ]
     },
     "execution_count": 71,
     "metadata": {},
     "output_type": "execute_result"
    }
   ],
   "source": [
    "attrition[['Attrition','EducationField']].groupby(['Attrition']).describe()"
   ]
  },
  {
   "cell_type": "code",
   "execution_count": 72,
   "metadata": {
    "colab": {
     "base_uri": "https://localhost:8080/",
     "height": 351
    },
    "executionInfo": {
     "elapsed": 16,
     "status": "ok",
     "timestamp": 1665313000807,
     "user": {
      "displayName": "SAI.SASI.SEKHAR RALLABANDI",
      "userId": "03962991214365984155"
     },
     "user_tz": -330
    },
    "id": "OJdHJEB9kRjh",
    "outputId": "7ff24128-7a78-4cad-80fd-ecb3c289eb09"
   },
   "outputs": [
    {
     "name": "stderr",
     "output_type": "stream",
     "text": [
      "/usr/local/lib/python3.7/dist-packages/seaborn/_decorators.py:43: FutureWarning: Pass the following variable as a keyword arg: x. From version 0.12, the only valid positional argument will be `data`, and passing other arguments without an explicit keyword will result in an error or misinterpretation.\n",
      "  FutureWarning\n"
     ]
    },
    {
     "data": {
      "text/plain": [
       "<matplotlib.axes._subplots.AxesSubplot at 0x7fe9d7093e10>"
      ]
     },
     "execution_count": 72,
     "metadata": {},
     "output_type": "execute_result"
    },
    {
     "data": {
      "image/png": "[encoded data removed]",
      "text/plain": [
       "<Figure size 432x288 with 1 Axes>"
      ]
     },
     "metadata": {
      "needs_background": "light"
     },
     "output_type": "display_data"
    }
   ],
   "source": [
    "sns.countplot('EducationField',data=attrition)"
   ]
  },
  {
   "cell_type": "code",
   "execution_count": 73,
   "metadata": {
    "colab": {
     "base_uri": "https://localhost:8080/",
     "height": 376
    },
    "executionInfo": {
     "elapsed": 15,
     "status": "ok",
     "timestamp": 1665313000808,
     "user": {
      "displayName": "SAI.SASI.SEKHAR RALLABANDI",
      "userId": "03962991214365984155"
     },
     "user_tz": -330
    },
    "id": "vi8Yx2U65u4O",
    "outputId": "1532e811-fcfa-4e72-99f9-e09b29a38e71"
   },
   "outputs": [
    {
     "data": {
      "text/plain": [
       "<matplotlib.axes._subplots.AxesSubplot at 0x7fe9d67306d0>"
      ]
     },
     "execution_count": 73,
     "metadata": {},
     "output_type": "execute_result"
    },
    {
     "data": {
      "image/png": "[encoded data removed]",
      "text/plain": [
       "<Figure size 432x288 with 1 Axes>"
      ]
     },
     "metadata": {
      "needs_background": "light"
     },
     "output_type": "display_data"
    }
   ],
   "source": [
    "ct=pd.crosstab(attrition['EducationField'],attrition['Attrition'], normalize='index')\n",
    "ct.plot.bar(stacked=True)"
   ]
  },
  {
   "cell_type": "code",
   "execution_count": 74,
   "metadata": {
    "colab": {
     "base_uri": "https://localhost:8080/"
    },
    "executionInfo": {
     "elapsed": 14,
     "status": "ok",
     "timestamp": 1665313000808,
     "user": {
      "displayName": "SAI.SASI.SEKHAR RALLABANDI",
      "userId": "03962991214365984155"
     },
     "user_tz": -330
    },
    "id": "nWO_qY1_ssiz",
    "outputId": "5bb07a4b-1ca6-4251-ab4b-ed8cd30165db"
   },
   "outputs": [
    {
     "name": "stdout",
     "output_type": "stream",
     "text": [
      "1)Total: 1470 \n",
      " Life Sciences       606\n",
      "Medical             464\n",
      "Marketing           159\n",
      "Technical Degree    132\n",
      "Other                82\n",
      "Human Resources      27\n",
      "Name: EducationField, dtype: int64 \n",
      "\n",
      "2)table of joint proportion\n",
      " EducationField  Human Resources  Life Sciences  Marketing  Medical  Other  \\\n",
      "Attrition                                                                   \n",
      "0                            20            517        124      401     71   \n",
      "1                             7             89         35       63     11   \n",
      "\n",
      "EducationField  Technical Degree  \n",
      "Attrition                         \n",
      "0                            100  \n",
      "1                             32   \n",
      "\n",
      "3)conditional probability conditioned on columns \n",
      " EducationField  Human Resources  Life Sciences  Marketing   Medical     Other  \\\n",
      "Attrition                                                                       \n",
      "0                      0.740741       0.853135   0.779874  0.864224  0.865854   \n",
      "1                      0.259259       0.146865   0.220126  0.135776  0.134146   \n",
      "\n",
      "EducationField  Technical Degree  \n",
      "Attrition                         \n",
      "0                       0.757576  \n",
      "1                       0.242424   \n",
      "\n",
      "4)conditional probability conditioned on rows \n",
      " EducationField  Human Resources  Life Sciences  Marketing   Medical     Other  \\\n",
      "Attrition                                                                       \n",
      "0                      0.016221       0.419303   0.100568  0.325223  0.057583   \n",
      "1                      0.029536       0.375527   0.147679  0.265823  0.046414   \n",
      "\n",
      "EducationField  Technical Degree  \n",
      "Attrition                         \n",
      "0                       0.081103  \n",
      "1                       0.135021  \n"
     ]
    }
   ],
   "source": [
    "print('1)Total:',attrition['EducationField'].count(),'\\n',attrition['EducationField'].value_counts(),'\\n')\n",
    "table = pd.crosstab(attrition.Attrition,columns= attrition.EducationField)\n",
    "print('2)table of joint proportion\\n',table,'\\n')\n",
    "coltotal = table.sum(axis = 0)\n",
    "print('3)conditional probability conditioned on columns \\n',table.div(coltotal,axis = 1),'\\n')\n",
    "rowtotal = table.sum(axis=1)\n",
    "print('4)conditional probability conditioned on rows \\n',table.div(rowtotal,axis = 0))"
   ]
  },
  {
   "cell_type": "markdown",
   "metadata": {
    "id": "WeHQmzjFy4Ic"
   },
   "source": [
    "-Most of the employees are from Life Sciences and Medical.  \n",
    "-We can observe that employees from HR and Tech Degree are having relatively higher probability of leaving the company compare to other department.  "
   ]
  },
  {
   "cell_type": "markdown",
   "metadata": {
    "id": "5uKNdggxlzt2"
   },
   "source": [
    "### 17) Gender"
   ]
  },
  {
   "cell_type": "code",
   "execution_count": 75,
   "metadata": {
    "colab": {
     "base_uri": "https://localhost:8080/",
     "height": 175
    },
    "executionInfo": {
     "elapsed": 453,
     "status": "ok",
     "timestamp": 1665313001248,
     "user": {
      "displayName": "SAI.SASI.SEKHAR RALLABANDI",
      "userId": "03962991214365984155"
     },
     "user_tz": -330
    },
    "id": "ah7Pg_-PkRcj",
    "outputId": "4a54f5fb-bdad-4473-c501-7ee597310384"
   },
   "outputs": [
    {
     "data": {
      "text/html": [
       "\n",
       "  <div id=\"df-d4564bfa-e57c-4d42-8afd-c79fffa70876\">\n",
       "    <div class=\"colab-df-container\">\n",
       "      <div>\n",
       "<style scoped>\n",
       "    .dataframe tbody tr th:only-of-type {\n",
       "        vertical-align: middle;\n",
       "    }\n",
       "\n",
       "    .dataframe tbody tr th {\n",
       "        vertical-align: top;\n",
       "    }\n",
       "\n",
       "    .dataframe thead tr th {\n",
       "        text-align: left;\n",
       "    }\n",
       "\n",
       "    .dataframe thead tr:last-of-type th {\n",
       "        text-align: right;\n",
       "    }\n",
       "</style>\n",
       "<table border=\"1\" class=\"dataframe\">\n",
       "  <thead>\n",
       "    <tr>\n",
       "      <th></th>\n",
       "      <th colspan=\"4\" halign=\"left\">Gender</th>\n",
       "    </tr>\n",
       "    <tr>\n",
       "      <th></th>\n",
       "      <th>count</th>\n",
       "      <th>unique</th>\n",
       "      <th>top</th>\n",
       "      <th>freq</th>\n",
       "    </tr>\n",
       "    <tr>\n",
       "      <th>Attrition</th>\n",
       "      <th></th>\n",
       "      <th></th>\n",
       "      <th></th>\n",
       "      <th></th>\n",
       "    </tr>\n",
       "  </thead>\n",
       "  <tbody>\n",
       "    <tr>\n",
       "      <th>0</th>\n",
       "      <td>1233</td>\n",
       "      <td>2</td>\n",
       "      <td>Male</td>\n",
       "      <td>732</td>\n",
       "    </tr>\n",
       "    <tr>\n",
       "      <th>1</th>\n",
       "      <td>237</td>\n",
       "      <td>2</td>\n",
       "      <td>Male</td>\n",
       "      <td>150</td>\n",
       "    </tr>\n",
       "  </tbody>\n",
       "</table>\n",
       "</div>\n",
       "      <button class=\"colab-df-convert\" onclick=\"convertToInteractive('df-d4564bfa-e57c-4d42-8afd-c79fffa70876')\"\n",
       "              title=\"Convert this dataframe to an interactive table.\"\n",
       "              style=\"display:none;\">\n",
       "        \n",
       "  <svg xmlns=\"http://www.w3.org/2000/svg\" height=\"24px\"viewBox=\"0 0 24 24\"\n",
       "       width=\"24px\">\n",
       "    <path d=\"M0 0h24v24H0V0z\" fill=\"none\"/>\n",
       "    <path d=\"M18.56 5.44l.94 2.06.94-2.06 2.06-.94-2.06-.94-.94-2.06-.94 2.06-2.06.94zm-11 1L8.5 8.5l.94-2.06 2.06-.94-2.06-.94L8.5 2.5l-.94 2.06-2.06.94zm10 10l.94 2.06.94-2.06 2.06-.94-2.06-.94-.94-2.06-.94 2.06-2.06.94z\"/><path d=\"M17.41 7.96l-1.37-1.37c-.4-.4-.92-.59-1.43-.59-.52 0-1.04.2-1.43.59L10.3 9.45l-7.72 7.72c-.78.78-.78 2.05 0 2.83L4 21.41c.39.39.9.59 1.41.59.51 0 1.02-.2 1.41-.59l7.78-7.78 2.81-2.81c.8-.78.8-2.07 0-2.86zM5.41 20L4 18.59l7.72-7.72 1.47 1.35L5.41 20z\"/>\n",
       "  </svg>\n",
       "      </button>\n",
       "      \n",
       "  <style>\n",
       "    .colab-df-container {\n",
       "      display:flex;\n",
       "      flex-wrap:wrap;\n",
       "      gap: 12px;\n",
       "    }\n",
       "\n",
       "    .colab-df-convert {\n",
       "      background-color: #E8F0FE;\n",
       "      border: none;\n",
       "      border-radius: 50%;\n",
       "      cursor: pointer;\n",
       "      display: none;\n",
       "      fill: #1967D2;\n",
       "      height: 32px;\n",
       "      padding: 0 0 0 0;\n",
       "      width: 32px;\n",
       "    }\n",
       "\n",
       "    .colab-df-convert:hover {\n",
       "      background-color: #E2EBFA;\n",
       "      box-shadow: 0px 1px 2px rgba(60, 64, 67, 0.3), 0px 1px 3px 1px rgba(60, 64, 67, 0.15);\n",
       "      fill: #174EA6;\n",
       "    }\n",
       "\n",
       "    [theme=dark] .colab-df-convert {\n",
       "      background-color: #3B4455;\n",
       "      fill: #D2E3FC;\n",
       "    }\n",
       "\n",
       "    [theme=dark] .colab-df-convert:hover {\n",
       "      background-color: #434B5C;\n",
       "      box-shadow: 0px 1px 3px 1px rgba(0, 0, 0, 0.15);\n",
       "      filter: drop-shadow(0px 1px 2px rgba(0, 0, 0, 0.3));\n",
       "      fill: #FFFFFF;\n",
       "    }\n",
       "  </style>\n",
       "\n",
       "      <script>\n",
       "        const buttonEl =\n",
       "          document.querySelector('#df-d4564bfa-e57c-4d42-8afd-c79fffa70876 button.colab-df-convert');\n",
       "        buttonEl.style.display =\n",
       "          google.colab.kernel.accessAllowed ? 'block' : 'none';\n",
       "\n",
       "        async function convertToInteractive(key) {\n",
       "          const element = document.querySelector('#df-d4564bfa-e57c-4d42-8afd-c79fffa70876');\n",
       "          const dataTable =\n",
       "            await google.colab.kernel.invokeFunction('convertToInteractive',\n",
       "                                                     [key], {});\n",
       "          if (!dataTable) return;\n",
       "\n",
       "          const docLinkHtml = 'Like what you see? Visit the ' +\n",
       "            '<a target=\"_blank\" href=https://colab.research.google.com/notebooks/data_table.ipynb>data table notebook</a>'\n",
       "            + ' to learn more about interactive tables.';\n",
       "          element.innerHTML = '';\n",
       "          dataTable['output_type'] = 'display_data';\n",
       "          await google.colab.output.renderOutput(dataTable, element);\n",
       "          const docLink = document.createElement('div');\n",
       "          docLink.innerHTML = docLinkHtml;\n",
       "          element.appendChild(docLink);\n",
       "        }\n",
       "      </script>\n",
       "    </div>\n",
       "  </div>\n",
       "  "
      ],
      "text/plain": [
       "          Gender                  \n",
       "           count unique   top freq\n",
       "Attrition                         \n",
       "0           1233      2  Male  732\n",
       "1            237      2  Male  150"
      ]
     },
     "execution_count": 75,
     "metadata": {},
     "output_type": "execute_result"
    }
   ],
   "source": [
    "attrition[['Attrition','Gender']].groupby(['Attrition']).describe()"
   ]
  },
  {
   "cell_type": "code",
   "execution_count": 76,
   "metadata": {
    "colab": {
     "base_uri": "https://localhost:8080/",
     "height": 351
    },
    "executionInfo": {
     "elapsed": 14,
     "status": "ok",
     "timestamp": 1665313001249,
     "user": {
      "displayName": "SAI.SASI.SEKHAR RALLABANDI",
      "userId": "03962991214365984155"
     },
     "user_tz": -330
    },
    "id": "ZHHEh8Sdlscy",
    "outputId": "35dc73c3-8734-4f9f-a899-12e122b167fb"
   },
   "outputs": [
    {
     "name": "stderr",
     "output_type": "stream",
     "text": [
      "/usr/local/lib/python3.7/dist-packages/seaborn/_decorators.py:43: FutureWarning: Pass the following variable as a keyword arg: x. From version 0.12, the only valid positional argument will be `data`, and passing other arguments without an explicit keyword will result in an error or misinterpretation.\n",
      "  FutureWarning\n"
     ]
    },
    {
     "data": {
      "text/plain": [
       "<matplotlib.axes._subplots.AxesSubplot at 0x7fe9d66cb290>"
      ]
     },
     "execution_count": 76,
     "metadata": {},
     "output_type": "execute_result"
    },
    {
     "data": {
      "image/png": "[encoded data removed]",
      "text/plain": [
       "<Figure size 432x288 with 1 Axes>"
      ]
     },
     "metadata": {
      "needs_background": "light"
     },
     "output_type": "display_data"
    }
   ],
   "source": [
    "sns.countplot('Gender',data=attrition)"
   ]
  },
  {
   "cell_type": "code",
   "execution_count": 77,
   "metadata": {
    "colab": {
     "base_uri": "https://localhost:8080/",
     "height": 322
    },
    "executionInfo": {
     "elapsed": 13,
     "status": "ok",
     "timestamp": 1665313001249,
     "user": {
      "displayName": "SAI.SASI.SEKHAR RALLABANDI",
      "userId": "03962991214365984155"
     },
     "user_tz": -330
    },
    "id": "24P2l-LN5ymf",
    "outputId": "182e179d-be80-4115-8d63-529f483fd43e"
   },
   "outputs": [
    {
     "data": {
      "text/plain": [
       "<matplotlib.axes._subplots.AxesSubplot at 0x7fe9d6632bd0>"
      ]
     },
     "execution_count": 77,
     "metadata": {},
     "output_type": "execute_result"
    },
    {
     "data": {
      "image/png": "[encoded data removed]",
      "text/plain": [
       "<Figure size 432x288 with 1 Axes>"
      ]
     },
     "metadata": {
      "needs_background": "light"
     },
     "output_type": "display_data"
    }
   ],
   "source": [
    "ct=pd.crosstab(attrition['Gender'],attrition['Attrition'], normalize='index')\n",
    "ct.plot.bar(stacked=True)"
   ]
  },
  {
   "cell_type": "code",
   "execution_count": 78,
   "metadata": {
    "colab": {
     "base_uri": "https://localhost:8080/"
    },
    "executionInfo": {
     "elapsed": 10,
     "status": "ok",
     "timestamp": 1665313001249,
     "user": {
      "displayName": "SAI.SASI.SEKHAR RALLABANDI",
      "userId": "03962991214365984155"
     },
     "user_tz": -330
    },
    "id": "V7wPOw_Es0CW",
    "outputId": "dde58530-da00-410f-a4c0-a58814f736fc"
   },
   "outputs": [
    {
     "name": "stdout",
     "output_type": "stream",
     "text": [
      "1)Total: 1470 \n",
      " Male      882\n",
      "Female    588\n",
      "Name: Gender, dtype: int64 \n",
      "\n",
      "2)table of joint proportion\n",
      " Gender     Female  Male\n",
      "Attrition              \n",
      "0             501   732\n",
      "1              87   150 \n",
      "\n",
      "3)conditional probability conditioned on columns \n",
      " Gender       Female      Male\n",
      "Attrition                    \n",
      "0          0.852041  0.829932\n",
      "1          0.147959  0.170068 \n",
      "\n",
      "4)conditional probability conditioned on rows \n",
      " Gender       Female      Male\n",
      "Attrition                    \n",
      "0          0.406326  0.593674\n",
      "1          0.367089  0.632911\n"
     ]
    }
   ],
   "source": [
    "print('1)Total:',attrition['Gender'].count(),'\\n',attrition['Gender'].value_counts(),'\\n')\n",
    "table = pd.crosstab(attrition.Attrition,columns= attrition.Gender)\n",
    "print('2)table of joint proportion\\n',table,'\\n')\n",
    "coltotal = table.sum(axis = 0)\n",
    "print('3)conditional probability conditioned on columns \\n',table.div(coltotal,axis = 1),'\\n')\n",
    "rowtotal = table.sum(axis=1)\n",
    "print('4)conditional probability conditioned on rows \\n',table.div(rowtotal,axis = 0))"
   ]
  },
  {
   "cell_type": "markdown",
   "metadata": {
    "id": "ZBPpg7y4zdev"
   },
   "source": [
    "-There are more male compared to female in this company probability of attrition given male/female is 0.17/0.14.So, being a particular gender doesnot really affect the attrition much(Male has slightly higher chance of leaving but its not significant enough).  "
   ]
  },
  {
   "cell_type": "markdown",
   "metadata": {
    "id": "SVEsjlI7mAt5"
   },
   "source": [
    "### 18) MaritalStatus"
   ]
  },
  {
   "cell_type": "code",
   "execution_count": 79,
   "metadata": {
    "colab": {
     "base_uri": "https://localhost:8080/",
     "height": 175
    },
    "executionInfo": {
     "elapsed": 9,
     "status": "ok",
     "timestamp": 1665313001249,
     "user": {
      "displayName": "SAI.SASI.SEKHAR RALLABANDI",
      "userId": "03962991214365984155"
     },
     "user_tz": -330
    },
    "id": "zAaDOc43lsZe",
    "outputId": "c6f56bd2-9ff9-4d37-cfb4-53ed60582e84"
   },
   "outputs": [
    {
     "data": {
      "text/html": [
       "\n",
       "  <div id=\"df-80ce006b-bff5-4e1a-b6b4-6dc1ad79e44c\">\n",
       "    <div class=\"colab-df-container\">\n",
       "      <div>\n",
       "<style scoped>\n",
       "    .dataframe tbody tr th:only-of-type {\n",
       "        vertical-align: middle;\n",
       "    }\n",
       "\n",
       "    .dataframe tbody tr th {\n",
       "        vertical-align: top;\n",
       "    }\n",
       "\n",
       "    .dataframe thead tr th {\n",
       "        text-align: left;\n",
       "    }\n",
       "\n",
       "    .dataframe thead tr:last-of-type th {\n",
       "        text-align: right;\n",
       "    }\n",
       "</style>\n",
       "<table border=\"1\" class=\"dataframe\">\n",
       "  <thead>\n",
       "    <tr>\n",
       "      <th></th>\n",
       "      <th colspan=\"4\" halign=\"left\">MaritalStatus</th>\n",
       "    </tr>\n",
       "    <tr>\n",
       "      <th></th>\n",
       "      <th>count</th>\n",
       "      <th>unique</th>\n",
       "      <th>top</th>\n",
       "      <th>freq</th>\n",
       "    </tr>\n",
       "    <tr>\n",
       "      <th>Attrition</th>\n",
       "      <th></th>\n",
       "      <th></th>\n",
       "      <th></th>\n",
       "      <th></th>\n",
       "    </tr>\n",
       "  </thead>\n",
       "  <tbody>\n",
       "    <tr>\n",
       "      <th>0</th>\n",
       "      <td>1233</td>\n",
       "      <td>3</td>\n",
       "      <td>Married</td>\n",
       "      <td>589</td>\n",
       "    </tr>\n",
       "    <tr>\n",
       "      <th>1</th>\n",
       "      <td>237</td>\n",
       "      <td>3</td>\n",
       "      <td>Single</td>\n",
       "      <td>120</td>\n",
       "    </tr>\n",
       "  </tbody>\n",
       "</table>\n",
       "</div>\n",
       "      <button class=\"colab-df-convert\" onclick=\"convertToInteractive('df-80ce006b-bff5-4e1a-b6b4-6dc1ad79e44c')\"\n",
       "              title=\"Convert this dataframe to an interactive table.\"\n",
       "              style=\"display:none;\">\n",
       "        \n",
       "  <svg xmlns=\"http://www.w3.org/2000/svg\" height=\"24px\"viewBox=\"0 0 24 24\"\n",
       "       width=\"24px\">\n",
       "    <path d=\"M0 0h24v24H0V0z\" fill=\"none\"/>\n",
       "    <path d=\"M18.56 5.44l.94 2.06.94-2.06 2.06-.94-2.06-.94-.94-2.06-.94 2.06-2.06.94zm-11 1L8.5 8.5l.94-2.06 2.06-.94-2.06-.94L8.5 2.5l-.94 2.06-2.06.94zm10 10l.94 2.06.94-2.06 2.06-.94-2.06-.94-.94-2.06-.94 2.06-2.06.94z\"/><path d=\"M17.41 7.96l-1.37-1.37c-.4-.4-.92-.59-1.43-.59-.52 0-1.04.2-1.43.59L10.3 9.45l-7.72 7.72c-.78.78-.78 2.05 0 2.83L4 21.41c.39.39.9.59 1.41.59.51 0 1.02-.2 1.41-.59l7.78-7.78 2.81-2.81c.8-.78.8-2.07 0-2.86zM5.41 20L4 18.59l7.72-7.72 1.47 1.35L5.41 20z\"/>\n",
       "  </svg>\n",
       "      </button>\n",
       "      \n",
       "  <style>\n",
       "    .colab-df-container {\n",
       "      display:flex;\n",
       "      flex-wrap:wrap;\n",
       "      gap: 12px;\n",
       "    }\n",
       "\n",
       "    .colab-df-convert {\n",
       "      background-color: #E8F0FE;\n",
       "      border: none;\n",
       "      border-radius: 50%;\n",
       "      cursor: pointer;\n",
       "      display: none;\n",
       "      fill: #1967D2;\n",
       "      height: 32px;\n",
       "      padding: 0 0 0 0;\n",
       "      width: 32px;\n",
       "    }\n",
       "\n",
       "    .colab-df-convert:hover {\n",
       "      background-color: #E2EBFA;\n",
       "      box-shadow: 0px 1px 2px rgba(60, 64, 67, 0.3), 0px 1px 3px 1px rgba(60, 64, 67, 0.15);\n",
       "      fill: #174EA6;\n",
       "    }\n",
       "\n",
       "    [theme=dark] .colab-df-convert {\n",
       "      background-color: #3B4455;\n",
       "      fill: #D2E3FC;\n",
       "    }\n",
       "\n",
       "    [theme=dark] .colab-df-convert:hover {\n",
       "      background-color: #434B5C;\n",
       "      box-shadow: 0px 1px 3px 1px rgba(0, 0, 0, 0.15);\n",
       "      filter: drop-shadow(0px 1px 2px rgba(0, 0, 0, 0.3));\n",
       "      fill: #FFFFFF;\n",
       "    }\n",
       "  </style>\n",
       "\n",
       "      <script>\n",
       "        const buttonEl =\n",
       "          document.querySelector('#df-80ce006b-bff5-4e1a-b6b4-6dc1ad79e44c button.colab-df-convert');\n",
       "        buttonEl.style.display =\n",
       "          google.colab.kernel.accessAllowed ? 'block' : 'none';\n",
       "\n",
       "        async function convertToInteractive(key) {\n",
       "          const element = document.querySelector('#df-80ce006b-bff5-4e1a-b6b4-6dc1ad79e44c');\n",
       "          const dataTable =\n",
       "            await google.colab.kernel.invokeFunction('convertToInteractive',\n",
       "                                                     [key], {});\n",
       "          if (!dataTable) return;\n",
       "\n",
       "          const docLinkHtml = 'Like what you see? Visit the ' +\n",
       "            '<a target=\"_blank\" href=https://colab.research.google.com/notebooks/data_table.ipynb>data table notebook</a>'\n",
       "            + ' to learn more about interactive tables.';\n",
       "          element.innerHTML = '';\n",
       "          dataTable['output_type'] = 'display_data';\n",
       "          await google.colab.output.renderOutput(dataTable, element);\n",
       "          const docLink = document.createElement('div');\n",
       "          docLink.innerHTML = docLinkHtml;\n",
       "          element.appendChild(docLink);\n",
       "        }\n",
       "      </script>\n",
       "    </div>\n",
       "  </div>\n",
       "  "
      ],
      "text/plain": [
       "          MaritalStatus                     \n",
       "                  count unique      top freq\n",
       "Attrition                                   \n",
       "0                  1233      3  Married  589\n",
       "1                   237      3   Single  120"
      ]
     },
     "execution_count": 79,
     "metadata": {},
     "output_type": "execute_result"
    }
   ],
   "source": [
    "attrition[['Attrition','MaritalStatus']].groupby(['Attrition']).describe()"
   ]
  },
  {
   "cell_type": "code",
   "execution_count": 80,
   "metadata": {
    "colab": {
     "base_uri": "https://localhost:8080/",
     "height": 353
    },
    "executionInfo": {
     "elapsed": 10,
     "status": "ok",
     "timestamp": 1665313001250,
     "user": {
      "displayName": "SAI.SASI.SEKHAR RALLABANDI",
      "userId": "03962991214365984155"
     },
     "user_tz": -330
    },
    "id": "hPuMb59AlsU1",
    "outputId": "3ba76302-d969-452b-f27f-34cf92e1a9a5"
   },
   "outputs": [
    {
     "name": "stderr",
     "output_type": "stream",
     "text": [
      "/usr/local/lib/python3.7/dist-packages/seaborn/_decorators.py:43: FutureWarning: Pass the following variable as a keyword arg: x. From version 0.12, the only valid positional argument will be `data`, and passing other arguments without an explicit keyword will result in an error or misinterpretation.\n",
      "  FutureWarning\n"
     ]
    },
    {
     "data": {
      "text/plain": [
       "<matplotlib.axes._subplots.AxesSubplot at 0x7fe9d65c8590>"
      ]
     },
     "execution_count": 80,
     "metadata": {},
     "output_type": "execute_result"
    },
    {
     "data": {
      "image/png": "[encoded data removed]",
      "text/plain": [
       "<Figure size 432x288 with 1 Axes>"
      ]
     },
     "metadata": {
      "needs_background": "light"
     },
     "output_type": "display_data"
    }
   ],
   "source": [
    "sns.countplot('MaritalStatus',data=attrition)"
   ]
  },
  {
   "cell_type": "code",
   "execution_count": 81,
   "metadata": {
    "colab": {
     "base_uri": "https://localhost:8080/",
     "height": 331
    },
    "executionInfo": {
     "elapsed": 660,
     "status": "ok",
     "timestamp": 1665313001902,
     "user": {
      "displayName": "SAI.SASI.SEKHAR RALLABANDI",
      "userId": "03962991214365984155"
     },
     "user_tz": -330
    },
    "id": "RUcg0kU96C5e",
    "outputId": "f304c2f2-fef1-41e1-cde9-e9497142d5a1"
   },
   "outputs": [
    {
     "data": {
      "text/plain": [
       "<matplotlib.axes._subplots.AxesSubplot at 0x7fe9d65b4910>"
      ]
     },
     "execution_count": 81,
     "metadata": {},
     "output_type": "execute_result"
    },
    {
     "data": {
      "image/png": "[encoded data removed]",
      "text/plain": [
       "<Figure size 432x288 with 1 Axes>"
      ]
     },
     "metadata": {
      "needs_background": "light"
     },
     "output_type": "display_data"
    }
   ],
   "source": [
    "ct=pd.crosstab(attrition['MaritalStatus'],attrition['Attrition'], normalize='index')\n",
    "ct.plot.bar(stacked=True)"
   ]
  },
  {
   "cell_type": "code",
   "execution_count": 82,
   "metadata": {
    "colab": {
     "base_uri": "https://localhost:8080/"
    },
    "executionInfo": {
     "elapsed": 12,
     "status": "ok",
     "timestamp": 1665313001902,
     "user": {
      "displayName": "SAI.SASI.SEKHAR RALLABANDI",
      "userId": "03962991214365984155"
     },
     "user_tz": -330
    },
    "id": "Etrz6Mr0s6Q2",
    "outputId": "6b76b222-181b-426c-fba1-152e3a6fd863"
   },
   "outputs": [
    {
     "name": "stdout",
     "output_type": "stream",
     "text": [
      "1)Total: 1470 \n",
      " Married     673\n",
      "Single      470\n",
      "Divorced    327\n",
      "Name: MaritalStatus, dtype: int64 \n",
      "\n",
      "2)table of joint proportion\n",
      " MaritalStatus  Divorced  Married  Single\n",
      "Attrition                               \n",
      "0                   294      589     350\n",
      "1                    33       84     120 \n",
      "\n",
      "3)conditional probability conditioned on columns \n",
      " MaritalStatus  Divorced   Married    Single\n",
      "Attrition                                  \n",
      "0              0.899083  0.875186  0.744681\n",
      "1              0.100917  0.124814  0.255319 \n",
      "\n",
      "4)conditional probability conditioned on rows \n",
      " MaritalStatus  Divorced   Married    Single\n",
      "Attrition                                  \n",
      "0              0.238443  0.477697  0.283861\n",
      "1              0.139241  0.354430  0.506329\n"
     ]
    }
   ],
   "source": [
    "print('1)Total:',attrition['MaritalStatus'].count(),'\\n',attrition['MaritalStatus'].value_counts(),'\\n')\n",
    "table = pd.crosstab(attrition.Attrition,columns = attrition.MaritalStatus)\n",
    "print('2)table of joint proportion\\n',table,'\\n')\n",
    "coltotal = table.sum(axis = 0)\n",
    "print('3)conditional probability conditioned on columns \\n',table.div(coltotal,axis = 1),'\\n')\n",
    "rowtotal = table.sum(axis=1)\n",
    "print('4)conditional probability conditioned on rows \\n',table.div(rowtotal,axis = 0))"
   ]
  },
  {
   "cell_type": "markdown",
   "metadata": {
    "id": "nxVbJixC0bol"
   },
   "source": [
    "-Most of the employees in the company are married.  \n",
    "-Single employees are having higher probability of leaving the company. Where as Divorced and Married employees probably less."
   ]
  },
  {
   "cell_type": "markdown",
   "metadata": {
    "id": "9p0ozpElmMOm"
   },
   "source": [
    "### 19) OverTime"
   ]
  },
  {
   "cell_type": "code",
   "execution_count": 83,
   "metadata": {
    "colab": {
     "base_uri": "https://localhost:8080/",
     "height": 175
    },
    "executionInfo": {
     "elapsed": 11,
     "status": "ok",
     "timestamp": 1665313001903,
     "user": {
      "displayName": "SAI.SASI.SEKHAR RALLABANDI",
      "userId": "03962991214365984155"
     },
     "user_tz": -330
    },
    "id": "ostsYokElsSq",
    "outputId": "76f7e51e-bfcb-4a70-c1c0-48799fc7dd4d"
   },
   "outputs": [
    {
     "data": {
      "text/html": [
       "\n",
       "  <div id=\"df-29e7354a-8b1c-4c91-9661-accdd4f91b37\">\n",
       "    <div class=\"colab-df-container\">\n",
       "      <div>\n",
       "<style scoped>\n",
       "    .dataframe tbody tr th:only-of-type {\n",
       "        vertical-align: middle;\n",
       "    }\n",
       "\n",
       "    .dataframe tbody tr th {\n",
       "        vertical-align: top;\n",
       "    }\n",
       "\n",
       "    .dataframe thead tr th {\n",
       "        text-align: left;\n",
       "    }\n",
       "\n",
       "    .dataframe thead tr:last-of-type th {\n",
       "        text-align: right;\n",
       "    }\n",
       "</style>\n",
       "<table border=\"1\" class=\"dataframe\">\n",
       "  <thead>\n",
       "    <tr>\n",
       "      <th></th>\n",
       "      <th colspan=\"4\" halign=\"left\">OverTime</th>\n",
       "    </tr>\n",
       "    <tr>\n",
       "      <th></th>\n",
       "      <th>count</th>\n",
       "      <th>unique</th>\n",
       "      <th>top</th>\n",
       "      <th>freq</th>\n",
       "    </tr>\n",
       "    <tr>\n",
       "      <th>Attrition</th>\n",
       "      <th></th>\n",
       "      <th></th>\n",
       "      <th></th>\n",
       "      <th></th>\n",
       "    </tr>\n",
       "  </thead>\n",
       "  <tbody>\n",
       "    <tr>\n",
       "      <th>0</th>\n",
       "      <td>1233</td>\n",
       "      <td>2</td>\n",
       "      <td>No</td>\n",
       "      <td>944</td>\n",
       "    </tr>\n",
       "    <tr>\n",
       "      <th>1</th>\n",
       "      <td>237</td>\n",
       "      <td>2</td>\n",
       "      <td>Yes</td>\n",
       "      <td>127</td>\n",
       "    </tr>\n",
       "  </tbody>\n",
       "</table>\n",
       "</div>\n",
       "      <button class=\"colab-df-convert\" onclick=\"convertToInteractive('df-29e7354a-8b1c-4c91-9661-accdd4f91b37')\"\n",
       "              title=\"Convert this dataframe to an interactive table.\"\n",
       "              style=\"display:none;\">\n",
       "        \n",
       "  <svg xmlns=\"http://www.w3.org/2000/svg\" height=\"24px\"viewBox=\"0 0 24 24\"\n",
       "       width=\"24px\">\n",
       "    <path d=\"M0 0h24v24H0V0z\" fill=\"none\"/>\n",
       "    <path d=\"M18.56 5.44l.94 2.06.94-2.06 2.06-.94-2.06-.94-.94-2.06-.94 2.06-2.06.94zm-11 1L8.5 8.5l.94-2.06 2.06-.94-2.06-.94L8.5 2.5l-.94 2.06-2.06.94zm10 10l.94 2.06.94-2.06 2.06-.94-2.06-.94-.94-2.06-.94 2.06-2.06.94z\"/><path d=\"M17.41 7.96l-1.37-1.37c-.4-.4-.92-.59-1.43-.59-.52 0-1.04.2-1.43.59L10.3 9.45l-7.72 7.72c-.78.78-.78 2.05 0 2.83L4 21.41c.39.39.9.59 1.41.59.51 0 1.02-.2 1.41-.59l7.78-7.78 2.81-2.81c.8-.78.8-2.07 0-2.86zM5.41 20L4 18.59l7.72-7.72 1.47 1.35L5.41 20z\"/>\n",
       "  </svg>\n",
       "      </button>\n",
       "      \n",
       "  <style>\n",
       "    .colab-df-container {\n",
       "      display:flex;\n",
       "      flex-wrap:wrap;\n",
       "      gap: 12px;\n",
       "    }\n",
       "\n",
       "    .colab-df-convert {\n",
       "      background-color: #E8F0FE;\n",
       "      border: none;\n",
       "      border-radius: 50%;\n",
       "      cursor: pointer;\n",
       "      display: none;\n",
       "      fill: #1967D2;\n",
       "      height: 32px;\n",
       "      padding: 0 0 0 0;\n",
       "      width: 32px;\n",
       "    }\n",
       "\n",
       "    .colab-df-convert:hover {\n",
       "      background-color: #E2EBFA;\n",
       "      box-shadow: 0px 1px 2px rgba(60, 64, 67, 0.3), 0px 1px 3px 1px rgba(60, 64, 67, 0.15);\n",
       "      fill: #174EA6;\n",
       "    }\n",
       "\n",
       "    [theme=dark] .colab-df-convert {\n",
       "      background-color: #3B4455;\n",
       "      fill: #D2E3FC;\n",
       "    }\n",
       "\n",
       "    [theme=dark] .colab-df-convert:hover {\n",
       "      background-color: #434B5C;\n",
       "      box-shadow: 0px 1px 3px 1px rgba(0, 0, 0, 0.15);\n",
       "      filter: drop-shadow(0px 1px 2px rgba(0, 0, 0, 0.3));\n",
       "      fill: #FFFFFF;\n",
       "    }\n",
       "  </style>\n",
       "\n",
       "      <script>\n",
       "        const buttonEl =\n",
       "          document.querySelector('#df-29e7354a-8b1c-4c91-9661-accdd4f91b37 button.colab-df-convert');\n",
       "        buttonEl.style.display =\n",
       "          google.colab.kernel.accessAllowed ? 'block' : 'none';\n",
       "\n",
       "        async function convertToInteractive(key) {\n",
       "          const element = document.querySelector('#df-29e7354a-8b1c-4c91-9661-accdd4f91b37');\n",
       "          const dataTable =\n",
       "            await google.colab.kernel.invokeFunction('convertToInteractive',\n",
       "                                                     [key], {});\n",
       "          if (!dataTable) return;\n",
       "\n",
       "          const docLinkHtml = 'Like what you see? Visit the ' +\n",
       "            '<a target=\"_blank\" href=https://colab.research.google.com/notebooks/data_table.ipynb>data table notebook</a>'\n",
       "            + ' to learn more about interactive tables.';\n",
       "          element.innerHTML = '';\n",
       "          dataTable['output_type'] = 'display_data';\n",
       "          await google.colab.output.renderOutput(dataTable, element);\n",
       "          const docLink = document.createElement('div');\n",
       "          docLink.innerHTML = docLinkHtml;\n",
       "          element.appendChild(docLink);\n",
       "        }\n",
       "      </script>\n",
       "    </div>\n",
       "  </div>\n",
       "  "
      ],
      "text/plain": [
       "          OverTime                 \n",
       "             count unique  top freq\n",
       "Attrition                          \n",
       "0             1233      2   No  944\n",
       "1              237      2  Yes  127"
      ]
     },
     "execution_count": 83,
     "metadata": {},
     "output_type": "execute_result"
    }
   ],
   "source": [
    "attrition[['Attrition','OverTime']].groupby(['Attrition']).describe()"
   ]
  },
  {
   "cell_type": "code",
   "execution_count": 84,
   "metadata": {
    "colab": {
     "base_uri": "https://localhost:8080/",
     "height": 351
    },
    "executionInfo": {
     "elapsed": 11,
     "status": "ok",
     "timestamp": 1665313001903,
     "user": {
      "displayName": "SAI.SASI.SEKHAR RALLABANDI",
      "userId": "03962991214365984155"
     },
     "user_tz": -330
    },
    "id": "bsr6M0-0lsNe",
    "outputId": "ad70d96b-4fd4-41ed-8adf-7b6fbaea7d8e"
   },
   "outputs": [
    {
     "name": "stderr",
     "output_type": "stream",
     "text": [
      "/usr/local/lib/python3.7/dist-packages/seaborn/_decorators.py:43: FutureWarning: Pass the following variable as a keyword arg: x. From version 0.12, the only valid positional argument will be `data`, and passing other arguments without an explicit keyword will result in an error or misinterpretation.\n",
      "  FutureWarning\n"
     ]
    },
    {
     "data": {
      "text/plain": [
       "<matplotlib.axes._subplots.AxesSubplot at 0x7fe9d64bc210>"
      ]
     },
     "execution_count": 84,
     "metadata": {},
     "output_type": "execute_result"
    },
    {
     "data": {
      "image/png": "[encoded data removed]",
      "text/plain": [
       "<Figure size 432x288 with 1 Axes>"
      ]
     },
     "metadata": {
      "needs_background": "light"
     },
     "output_type": "display_data"
    }
   ],
   "source": [
    "sns.countplot('OverTime',data=attrition)"
   ]
  },
  {
   "cell_type": "code",
   "execution_count": 85,
   "metadata": {
    "colab": {
     "base_uri": "https://localhost:8080/",
     "height": 302
    },
    "executionInfo": {
     "elapsed": 417,
     "status": "ok",
     "timestamp": 1665313002311,
     "user": {
      "displayName": "SAI.SASI.SEKHAR RALLABANDI",
      "userId": "03962991214365984155"
     },
     "user_tz": -330
    },
    "id": "m-LFLPqY6Jtn",
    "outputId": "21099603-1894-43a7-e261-7b3154818d61"
   },
   "outputs": [
    {
     "data": {
      "text/plain": [
       "<matplotlib.axes._subplots.AxesSubplot at 0x7fe9d6483410>"
      ]
     },
     "execution_count": 85,
     "metadata": {},
     "output_type": "execute_result"
    },
    {
     "data": {
      "image/png": "[encoded data removed]",
      "text/plain": [
       "<Figure size 432x288 with 1 Axes>"
      ]
     },
     "metadata": {
      "needs_background": "light"
     },
     "output_type": "display_data"
    }
   ],
   "source": [
    "ct=pd.crosstab(attrition['OverTime'],attrition['Attrition'], normalize='index')\n",
    "ct.plot.bar(stacked=True)"
   ]
  },
  {
   "cell_type": "code",
   "execution_count": 86,
   "metadata": {
    "colab": {
     "base_uri": "https://localhost:8080/"
    },
    "executionInfo": {
     "elapsed": 5,
     "status": "ok",
     "timestamp": 1665313002311,
     "user": {
      "displayName": "SAI.SASI.SEKHAR RALLABANDI",
      "userId": "03962991214365984155"
     },
     "user_tz": -330
    },
    "id": "vcwdVgOclr7M",
    "outputId": "4df2c4ca-3298-4611-cb36-cd8d1cff224a"
   },
   "outputs": [
    {
     "name": "stdout",
     "output_type": "stream",
     "text": [
      "1)Total: 1470 \n",
      " No     1054\n",
      "Yes     416\n",
      "Name: OverTime, dtype: int64 \n",
      "\n",
      "2)table of joint proportion\n",
      " OverTime    No  Yes\n",
      "Attrition          \n",
      "0          944  289\n",
      "1          110  127 \n",
      "\n",
      "3)conditional probability conditioned on columns \n",
      " OverTime         No       Yes\n",
      "Attrition                    \n",
      "0          0.895636  0.694712\n",
      "1          0.104364  0.305288 \n",
      "\n",
      "4)conditional probability conditioned on rows \n",
      " OverTime         No       Yes\n",
      "Attrition                    \n",
      "0          0.765612  0.234388\n",
      "1          0.464135  0.535865\n"
     ]
    }
   ],
   "source": [
    "print('1)Total:',attrition['OverTime'].count(),'\\n',attrition['OverTime'].value_counts(),'\\n')\n",
    "table = pd.crosstab(attrition.Attrition,columns= attrition.OverTime)\n",
    "print('2)table of joint proportion\\n',table,'\\n')\n",
    "coltotal = table.sum(axis = 0)\n",
    "print('3)conditional probability conditioned on columns \\n',table.div(coltotal,axis = 1),'\\n')\n",
    "rowtotal = table.sum(axis=1)\n",
    "print('4)conditional probability conditioned on rows \\n',table.div(rowtotal,axis = 0))"
   ]
  },
  {
   "cell_type": "markdown",
   "metadata": {
    "id": "lc6_qipc0_Ho"
   },
   "source": [
    "-We can observe that 1470 employees only 416 employees work overtime.  \n",
    "-If a person works overtime he has probability of leaving whereas if he doesn't work overtime there is a lesser probability."
   ]
  },
  {
   "cell_type": "markdown",
   "metadata": {
    "id": "fajIPmyywSXc"
   },
   "source": [
    "## From the above factors lets pick few factors that seem to affect the attrition the most\n",
    "\n",
    "- Marital status\n",
    "- Business travel\n",
    "- Overtime\n",
    "- Job involvement\n",
    "- Job level\n",
    "- Age   \n",
    "- Monthly Income    \n",
    "- Total Working Years   \n"
   ]
  },
  {
   "cell_type": "markdown",
   "metadata": {
    "id": "CigkKc9KPaYt"
   },
   "source": [
    "## Multivariate Analysis"
   ]
  },
  {
   "cell_type": "markdown",
   "metadata": {
    "id": "bc_Y1utDEwxD"
   },
   "source": [
    "1) Age:"
   ]
  },
  {
   "cell_type": "markdown",
   "metadata": {
    "id": "Rcl_EiHiFFtk"
   },
   "source": [
    "1) Comparing the variables Age and Monthly Income with respect to attrition"
   ]
  },
  {
   "cell_type": "code",
   "execution_count": 87,
   "metadata": {
    "colab": {
     "base_uri": "https://localhost:8080/",
     "height": 405
    },
    "executionInfo": {
     "elapsed": 3631,
     "status": "ok",
     "timestamp": 1665313005939,
     "user": {
      "displayName": "SAI.SASI.SEKHAR RALLABANDI",
      "userId": "03962991214365984155"
     },
     "user_tz": -330
    },
    "id": "z9A-KTqH_BIy",
    "outputId": "77554d18-1151-43f7-8f5b-cd7999fe8493"
   },
   "outputs": [
    {
     "data": {
      "text/plain": [
       "<Figure size 576x288 with 0 Axes>"
      ]
     },
     "execution_count": 87,
     "metadata": {},
     "output_type": "execute_result"
    },
    {
     "data": {
      "image/png": "[encoded data removed]",
      "text/plain": [
       "<Figure size 360x360 with 1 Axes>"
      ]
     },
     "metadata": {
      "needs_background": "light"
     },
     "output_type": "display_data"
    },
    {
     "data": {
      "text/plain": [
       "<Figure size 576x288 with 0 Axes>"
      ]
     },
     "metadata": {},
     "output_type": "display_data"
    }
   ],
   "source": [
    "\n",
    "g = sns.PairGrid(attrition,x_vars=[\"Age\"],y_vars=\"MonthlyIncome\",hue=\"Attrition\",height=5)\n",
    "g.map(plt.bar,alpha=1)\n",
    "plt.legend(loc=(0))\n",
    "plt.figure(figsize=(8,4))"
   ]
  },
  {
   "cell_type": "markdown",
   "metadata": {
    "id": "8x22lhQIXmvN"
   },
   "source": [
    "- With increase in age, monthly income tends to increase.    \n",
    "- Attrition is more significant in the younger age category and also who are earning less income."
   ]
  },
  {
   "cell_type": "markdown",
   "metadata": {
    "id": "liFA__AmFJna"
   },
   "source": [
    "2) Comparing the age of people with respect to years of stay in the company "
   ]
  },
  {
   "cell_type": "code",
   "execution_count": 88,
   "metadata": {
    "colab": {
     "base_uri": "https://localhost:8080/",
     "height": 405
    },
    "executionInfo": {
     "elapsed": 3761,
     "status": "ok",
     "timestamp": 1665313009698,
     "user": {
      "displayName": "SAI.SASI.SEKHAR RALLABANDI",
      "userId": "03962991214365984155"
     },
     "user_tz": -330
    },
    "id": "2_VY-BcC_BMR",
    "outputId": "743068db-bdbd-468d-ee2e-bdac78219b5c"
   },
   "outputs": [
    {
     "data": {
      "text/plain": [
       "<Figure size 1440x1080 with 0 Axes>"
      ]
     },
     "execution_count": 88,
     "metadata": {},
     "output_type": "execute_result"
    },
    {
     "data": {
      "image/png": "[encoded data removed]",
      "text/plain": [
       "<Figure size 360x360 with 1 Axes>"
      ]
     },
     "metadata": {
      "needs_background": "light"
     },
     "output_type": "display_data"
    },
    {
     "data": {
      "text/plain": [
       "<Figure size 1440x1080 with 0 Axes>"
      ]
     },
     "metadata": {},
     "output_type": "display_data"
    }
   ],
   "source": [
    "g = sns.PairGrid(attrition,x_vars=[\"Age\"],y_vars=\"YearsAtCompany\",hue=\"Attrition\",height=5)\n",
    "g.map(plt.bar,alpha=1)\n",
    "plt.legend(loc=(0))\n",
    "plt.figure(figsize=(20,15))"
   ]
  },
  {
   "cell_type": "markdown",
   "metadata": {
    "id": "l4ZspZkJYUav"
   },
   "source": [
    "- With increase in age, the years the person stays in the company tends to  increase.    \n",
    "- However,the people of all age group with less than 10 years of experience in the current company are more when compared to people staying in the company after 10 years.      \n",
    "- Under our given data, Attrition is seen more for people who stay less in the company(less than 5 years) and age group is less than 40 years   "
   ]
  },
  {
   "cell_type": "markdown",
   "metadata": {
    "id": "1VZH4SFNF2tS"
   },
   "source": [
    "3) What is the relation of age group of employees attrited with respect to their gender?"
   ]
  },
  {
   "cell_type": "code",
   "execution_count": 101,
   "metadata": {
    "colab": {
     "base_uri": "https://localhost:8080/",
     "height": 296
    },
    "executionInfo": {
     "elapsed": 1123,
     "status": "ok",
     "timestamp": 1665313385802,
     "user": {
      "displayName": "SAI.SASI.SEKHAR RALLABANDI",
      "userId": "03962991214365984155"
     },
     "user_tz": -330
    },
    "id": "Ppl0KNtN8LN2",
    "outputId": "c17dbed6-08ed-4445-d5dc-e567667242fa"
   },
   "outputs": [
    {
     "data": {
      "text/plain": [
       "<matplotlib.axes._subplots.AxesSubplot at 0x7fe9d3a1e3d0>"
      ]
     },
     "execution_count": 101,
     "metadata": {},
     "output_type": "execute_result"
    },
    {
     "data": {
      "image/png": "[encoded data removed]",
      "text/plain": [
       "<Figure size 432x288 with 1 Axes>"
      ]
     },
     "metadata": {
      "needs_background": "light"
     },
     "output_type": "display_data"
    }
   ],
   "source": [
    "sns.boxplot(data=attrition,x=\"Attrition\",y=\"Age\",hue=\"Gender\",palette=\"YlGnBu\")"
   ]
  },
  {
   "cell_type": "markdown",
   "metadata": {
    "id": "7pM61JonaT2G"
   },
   "source": [
    "- Both genders(Males/Females) of age group 30 to 35 getting attrited.\n",
    "- Attrition is more significant in Younger age category."
   ]
  },
  {
   "cell_type": "markdown",
   "metadata": {
    "id": "3nphmU7nE2Vc"
   },
   "source": [
    "2) MONTHLY INCOME:"
   ]
  },
  {
   "cell_type": "markdown",
   "metadata": {
    "id": "ocTxw_l1E-aj"
   },
   "source": [
    "1) Comparing the monthly income of employees against overtime with respect to attrition ?"
   ]
  },
  {
   "cell_type": "code",
   "execution_count": 102,
   "metadata": {
    "colab": {
     "base_uri": "https://localhost:8080/",
     "height": 499
    },
    "executionInfo": {
     "elapsed": 891,
     "status": "ok",
     "timestamp": 1665313621324,
     "user": {
      "displayName": "SAI.SASI.SEKHAR RALLABANDI",
      "userId": "03962991214365984155"
     },
     "user_tz": -330
    },
    "id": "7GoGe2G_EzR1",
    "outputId": "b3790ece-2fae-4de1-a7ad-25fbec01302a"
   },
   "outputs": [
    {
     "data": {
      "text/html": [
       "\n",
       "  <div id=\"df-112f2ce2-93f4-4bf7-8c7d-36ced27d2df9\">\n",
       "    <div class=\"colab-df-container\">\n",
       "      <div>\n",
       "<style scoped>\n",
       "    .dataframe tbody tr th:only-of-type {\n",
       "        vertical-align: middle;\n",
       "    }\n",
       "\n",
       "    .dataframe tbody tr th {\n",
       "        vertical-align: top;\n",
       "    }\n",
       "\n",
       "    .dataframe thead tr th {\n",
       "        text-align: left;\n",
       "    }\n",
       "\n",
       "    .dataframe thead tr:last-of-type th {\n",
       "        text-align: right;\n",
       "    }\n",
       "</style>\n",
       "<table border=\"1\" class=\"dataframe\">\n",
       "  <thead>\n",
       "    <tr>\n",
       "      <th></th>\n",
       "      <th></th>\n",
       "      <th colspan=\"3\" halign=\"left\">MonthlyIncome</th>\n",
       "    </tr>\n",
       "    <tr>\n",
       "      <th></th>\n",
       "      <th></th>\n",
       "      <th>mean</th>\n",
       "      <th>median</th>\n",
       "      <th>count</th>\n",
       "    </tr>\n",
       "    <tr>\n",
       "      <th>OverTime</th>\n",
       "      <th>Attrition</th>\n",
       "      <th></th>\n",
       "      <th></th>\n",
       "      <th></th>\n",
       "    </tr>\n",
       "  </thead>\n",
       "  <tbody>\n",
       "    <tr>\n",
       "      <th rowspan=\"2\" valign=\"top\">No</th>\n",
       "      <th>0</th>\n",
       "      <td>6669.690678</td>\n",
       "      <td>5021.5</td>\n",
       "      <td>944</td>\n",
       "    </tr>\n",
       "    <tr>\n",
       "      <th>1</th>\n",
       "      <td>4899.318182</td>\n",
       "      <td>3689.5</td>\n",
       "      <td>110</td>\n",
       "    </tr>\n",
       "    <tr>\n",
       "      <th rowspan=\"2\" valign=\"top\">Yes</th>\n",
       "      <th>0</th>\n",
       "      <td>7365.328720</td>\n",
       "      <td>5666.0</td>\n",
       "      <td>289</td>\n",
       "    </tr>\n",
       "    <tr>\n",
       "      <th>1</th>\n",
       "      <td>4689.889764</td>\n",
       "      <td>2936.0</td>\n",
       "      <td>127</td>\n",
       "    </tr>\n",
       "  </tbody>\n",
       "</table>\n",
       "</div>\n",
       "      <button class=\"colab-df-convert\" onclick=\"convertToInteractive('df-112f2ce2-93f4-4bf7-8c7d-36ced27d2df9')\"\n",
       "              title=\"Convert this dataframe to an interactive table.\"\n",
       "              style=\"display:none;\">\n",
       "        \n",
       "  <svg xmlns=\"http://www.w3.org/2000/svg\" height=\"24px\"viewBox=\"0 0 24 24\"\n",
       "       width=\"24px\">\n",
       "    <path d=\"M0 0h24v24H0V0z\" fill=\"none\"/>\n",
       "    <path d=\"M18.56 5.44l.94 2.06.94-2.06 2.06-.94-2.06-.94-.94-2.06-.94 2.06-2.06.94zm-11 1L8.5 8.5l.94-2.06 2.06-.94-2.06-.94L8.5 2.5l-.94 2.06-2.06.94zm10 10l.94 2.06.94-2.06 2.06-.94-2.06-.94-.94-2.06-.94 2.06-2.06.94z\"/><path d=\"M17.41 7.96l-1.37-1.37c-.4-.4-.92-.59-1.43-.59-.52 0-1.04.2-1.43.59L10.3 9.45l-7.72 7.72c-.78.78-.78 2.05 0 2.83L4 21.41c.39.39.9.59 1.41.59.51 0 1.02-.2 1.41-.59l7.78-7.78 2.81-2.81c.8-.78.8-2.07 0-2.86zM5.41 20L4 18.59l7.72-7.72 1.47 1.35L5.41 20z\"/>\n",
       "  </svg>\n",
       "      </button>\n",
       "      \n",
       "  <style>\n",
       "    .colab-df-container {\n",
       "      display:flex;\n",
       "      flex-wrap:wrap;\n",
       "      gap: 12px;\n",
       "    }\n",
       "\n",
       "    .colab-df-convert {\n",
       "      background-color: #E8F0FE;\n",
       "      border: none;\n",
       "      border-radius: 50%;\n",
       "      cursor: pointer;\n",
       "      display: none;\n",
       "      fill: #1967D2;\n",
       "      height: 32px;\n",
       "      padding: 0 0 0 0;\n",
       "      width: 32px;\n",
       "    }\n",
       "\n",
       "    .colab-df-convert:hover {\n",
       "      background-color: #E2EBFA;\n",
       "      box-shadow: 0px 1px 2px rgba(60, 64, 67, 0.3), 0px 1px 3px 1px rgba(60, 64, 67, 0.15);\n",
       "      fill: #174EA6;\n",
       "    }\n",
       "\n",
       "    [theme=dark] .colab-df-convert {\n",
       "      background-color: #3B4455;\n",
       "      fill: #D2E3FC;\n",
       "    }\n",
       "\n",
       "    [theme=dark] .colab-df-convert:hover {\n",
       "      background-color: #434B5C;\n",
       "      box-shadow: 0px 1px 3px 1px rgba(0, 0, 0, 0.15);\n",
       "      filter: drop-shadow(0px 1px 2px rgba(0, 0, 0, 0.3));\n",
       "      fill: #FFFFFF;\n",
       "    }\n",
       "  </style>\n",
       "\n",
       "      <script>\n",
       "        const buttonEl =\n",
       "          document.querySelector('#df-112f2ce2-93f4-4bf7-8c7d-36ced27d2df9 button.colab-df-convert');\n",
       "        buttonEl.style.display =\n",
       "          google.colab.kernel.accessAllowed ? 'block' : 'none';\n",
       "\n",
       "        async function convertToInteractive(key) {\n",
       "          const element = document.querySelector('#df-112f2ce2-93f4-4bf7-8c7d-36ced27d2df9');\n",
       "          const dataTable =\n",
       "            await google.colab.kernel.invokeFunction('convertToInteractive',\n",
       "                                                     [key], {});\n",
       "          if (!dataTable) return;\n",
       "\n",
       "          const docLinkHtml = 'Like what you see? Visit the ' +\n",
       "            '<a target=\"_blank\" href=https://colab.research.google.com/notebooks/data_table.ipynb>data table notebook</a>'\n",
       "            + ' to learn more about interactive tables.';\n",
       "          element.innerHTML = '';\n",
       "          dataTable['output_type'] = 'display_data';\n",
       "          await google.colab.output.renderOutput(dataTable, element);\n",
       "          const docLink = document.createElement('div');\n",
       "          docLink.innerHTML = docLinkHtml;\n",
       "          element.appendChild(docLink);\n",
       "        }\n",
       "      </script>\n",
       "    </div>\n",
       "  </div>\n",
       "  "
      ],
      "text/plain": [
       "                   MonthlyIncome              \n",
       "                            mean  median count\n",
       "OverTime Attrition                            \n",
       "No       0           6669.690678  5021.5   944\n",
       "         1           4899.318182  3689.5   110\n",
       "Yes      0           7365.328720  5666.0   289\n",
       "         1           4689.889764  2936.0   127"
      ]
     },
     "execution_count": 102,
     "metadata": {},
     "output_type": "execute_result"
    },
    {
     "data": {
      "image/png": "[encoded data removed]",
      "text/plain": [
       "<Figure size 432x288 with 1 Axes>"
      ]
     },
     "metadata": {
      "needs_background": "light"
     },
     "output_type": "display_data"
    }
   ],
   "source": [
    "sns.barplot(x=\"OverTime\",y=\"MonthlyIncome\", hue = \"Attrition\",data=attrition)\n",
    "attrition.groupby([\"OverTime\",\"Attrition\"])[[\"MonthlyIncome\"]].agg([\"mean\",\"median\",\"count\"])"
   ]
  },
  {
   "cell_type": "markdown",
   "metadata": {
    "id": "GKzUx-nqbMwN"
   },
   "source": [
    "- The monthly income of the employees who left the company and staying in the company those do overtime are almost the same.\n",
    "- It also implies that among the people who has done overtime and who hasnt done overtime, the employees got an average salary of less than $5000\n",
    "- So It can be observed that even after doing overtime, they were not getting any signficant impact interms of salary."
   ]
  },
  {
   "cell_type": "code",
   "execution_count": 103,
   "metadata": {
    "colab": {
     "base_uri": "https://localhost:8080/",
     "height": 296
    },
    "executionInfo": {
     "elapsed": 927,
     "status": "ok",
     "timestamp": 1665314948366,
     "user": {
      "displayName": "SAI.SASI.SEKHAR RALLABANDI",
      "userId": "03962991214365984155"
     },
     "user_tz": -330
    },
    "id": "3zEfvkYXEzOG",
    "outputId": "eceff425-4acc-4164-b119-64d11dc2446b"
   },
   "outputs": [
    {
     "data": {
      "text/plain": [
       "<matplotlib.axes._subplots.AxesSubplot at 0x7fe9d2928110>"
      ]
     },
     "execution_count": 103,
     "metadata": {},
     "output_type": "execute_result"
    },
    {
     "data": {
      "image/png": "[encoded data removed]",
      "text/plain": [
       "<Figure size 432x288 with 1 Axes>"
      ]
     },
     "metadata": {
      "needs_background": "light"
     },
     "output_type": "display_data"
    }
   ],
   "source": [
    "sns.boxplot(x=\"Attrition\",y=\"MonthlyIncome\",hue=\"Gender\",data=attrition)"
   ]
  },
  {
   "cell_type": "markdown",
   "metadata": {
    "id": "RwWfbJOsgWEQ"
   },
   "source": [
    "- The monthly income has a significant impact on attrition, In terms of Gender, It is mostly similar "
   ]
  },
  {
   "cell_type": "markdown",
   "metadata": {
    "id": "czUVE3YpGlRO"
   },
   "source": [
    "3) Total working years"
   ]
  },
  {
   "cell_type": "markdown",
   "metadata": {
    "id": "9MR_4Z2OGsRC"
   },
   "source": [
    "Comparing the attrition with respect to total years of experience for genders in the company."
   ]
  },
  {
   "cell_type": "code",
   "execution_count": 92,
   "metadata": {
    "colab": {
     "base_uri": "https://localhost:8080/",
     "height": 296
    },
    "executionInfo": {
     "elapsed": 516,
     "status": "ok",
     "timestamp": 1665313010977,
     "user": {
      "displayName": "SAI.SASI.SEKHAR RALLABANDI",
      "userId": "03962991214365984155"
     },
     "user_tz": -330
    },
    "id": "rCvrpgD-EzJt",
    "outputId": "7b1b02f8-fa6f-4ce2-c312-ee4c818d92a9"
   },
   "outputs": [
    {
     "data": {
      "text/plain": [
       "<matplotlib.axes._subplots.AxesSubplot at 0x7fe9d82b1410>"
      ]
     },
     "execution_count": 92,
     "metadata": {},
     "output_type": "execute_result"
    },
    {
     "data": {
      "image/png": "[encoded data removed]",
      "text/plain": [
       "<Figure size 432x288 with 1 Axes>"
      ]
     },
     "metadata": {
      "needs_background": "light"
     },
     "output_type": "display_data"
    }
   ],
   "source": [
    "sns.barplot(x=\"Attrition\",y=\"TotalWorkingYears\",hue=\"Gender\",data=attrition)\n"
   ]
  },
  {
   "cell_type": "markdown",
   "metadata": {
    "id": "Uuu3yzNnhF_L"
   },
   "source": [
    "- The total working years of both male and female leaving the company are less and nearly 8. But in terms of Gender It is almost uniform, there is no much significant impact"
   ]
  },
  {
   "cell_type": "markdown",
   "metadata": {
    "id": "pKlozoiHG4P-"
   },
   "source": [
    "Are the experienced people getting high salary?In the experienced category who are getting attrited?"
   ]
  },
  {
   "cell_type": "code",
   "execution_count": 93,
   "metadata": {
    "colab": {
     "base_uri": "https://localhost:8080/",
     "height": 405
    },
    "executionInfo": {
     "elapsed": 3535,
     "status": "ok",
     "timestamp": 1665313014510,
     "user": {
      "displayName": "SAI.SASI.SEKHAR RALLABANDI",
      "userId": "03962991214365984155"
     },
     "user_tz": -330
    },
    "id": "nDdd4mQZG324",
    "outputId": "a8286044-c99b-49d7-f530-51c766628790"
   },
   "outputs": [
    {
     "data": {
      "text/plain": [
       "<Figure size 576x288 with 0 Axes>"
      ]
     },
     "execution_count": 93,
     "metadata": {},
     "output_type": "execute_result"
    },
    {
     "data": {
      "image/png": "[encoded data removed]",
      "text/plain": [
       "<Figure size 360x360 with 1 Axes>"
      ]
     },
     "metadata": {
      "needs_background": "light"
     },
     "output_type": "display_data"
    },
    {
     "data": {
      "text/plain": [
       "<Figure size 576x288 with 0 Axes>"
      ]
     },
     "metadata": {},
     "output_type": "display_data"
    }
   ],
   "source": [
    "g = sns.PairGrid(attrition,x_vars=[\"TotalWorkingYears\"],y_vars=\"MonthlyIncome\",hue=\"Attrition\",height=5)\n",
    "g.map(plt.bar,alpha=0.5)\n",
    "plt.legend(loc=(0))\n",
    "plt.figure(figsize=(8,4))"
   ]
  },
  {
   "cell_type": "markdown",
   "metadata": {
    "id": "5Ykdf7_-hr3o"
   },
   "source": [
    "- On an overall view, With the increase in experience, monthly income increasing.\n",
    "- However, The attrition is more significant for employees with less working experience(less than 5 years). Therefore, total working years is also giving a good impact on attrition."
   ]
  },
  {
   "cell_type": "markdown",
   "metadata": {
    "id": "85PbYijqNxI4"
   },
   "source": [
    "4) Job Satisfaction"
   ]
  },
  {
   "cell_type": "markdown",
   "metadata": {
    "id": "ydDzgB2AN24F"
   },
   "source": [
    "Are the people getting attrited due to low job satisaction?"
   ]
  },
  {
   "cell_type": "code",
   "execution_count": 94,
   "metadata": {
    "colab": {
     "base_uri": "https://localhost:8080/",
     "height": 293
    },
    "executionInfo": {
     "elapsed": 637,
     "status": "ok",
     "timestamp": 1665313015144,
     "user": {
      "displayName": "SAI.SASI.SEKHAR RALLABANDI",
      "userId": "03962991214365984155"
     },
     "user_tz": -330
    },
    "id": "JeIWMzFfN0W1",
    "outputId": "06c92a26-9420-46e3-91bc-b9bb54c25404"
   },
   "outputs": [
    {
     "data": {
      "text/plain": [
       "<matplotlib.axes._subplots.AxesSubplot at 0x7fe9d2a20ed0>"
      ]
     },
     "execution_count": 94,
     "metadata": {},
     "output_type": "execute_result"
    },
    {
     "data": {
      "image/png": "[encoded data removed]",
      "text/plain": [
       "<Figure size 432x288 with 1 Axes>"
      ]
     },
     "metadata": {
      "needs_background": "light"
     },
     "output_type": "display_data"
    }
   ],
   "source": [
    "pd.crosstab(attrition[\"JobSatisfaction\"], attrition[\"Attrition\"], normalize=True).plot(kind='bar', stacked=True)"
   ]
  },
  {
   "cell_type": "markdown",
   "metadata": {
    "id": "dpM6uGJGidBL"
   },
   "source": [
    "- The highest attrition can be seen in rating 3 from both above chart and below details but it is not significantly differing from other ratings. "
   ]
  },
  {
   "cell_type": "markdown",
   "metadata": {
    "id": "XNh1EO6TODuq"
   },
   "source": [
    "What is the average salary of employees as per job satisfaction."
   ]
  },
  {
   "cell_type": "code",
   "execution_count": 96,
   "metadata": {
    "colab": {
     "base_uri": "https://localhost:8080/",
     "height": 363
    },
    "executionInfo": {
     "elapsed": 9,
     "status": "ok",
     "timestamp": 1665313015145,
     "user": {
      "displayName": "SAI.SASI.SEKHAR RALLABANDI",
      "userId": "03962991214365984155"
     },
     "user_tz": -330
    },
    "id": "mXXWKJ4pN0Q6",
    "outputId": "c8b76218-67a7-4883-a773-826f7b9a4e61"
   },
   "outputs": [
    {
     "data": {
      "text/html": [
       "\n",
       "  <div id=\"df-cc5be500-4606-4cb1-ab7f-2d7ecf82c199\">\n",
       "    <div class=\"colab-df-container\">\n",
       "      <div>\n",
       "<style scoped>\n",
       "    .dataframe tbody tr th:only-of-type {\n",
       "        vertical-align: middle;\n",
       "    }\n",
       "\n",
       "    .dataframe tbody tr th {\n",
       "        vertical-align: top;\n",
       "    }\n",
       "\n",
       "    .dataframe thead tr th {\n",
       "        text-align: left;\n",
       "    }\n",
       "\n",
       "    .dataframe thead tr:last-of-type th {\n",
       "        text-align: right;\n",
       "    }\n",
       "</style>\n",
       "<table border=\"1\" class=\"dataframe\">\n",
       "  <thead>\n",
       "    <tr>\n",
       "      <th></th>\n",
       "      <th></th>\n",
       "      <th>MonthlyIncome</th>\n",
       "    </tr>\n",
       "    <tr>\n",
       "      <th></th>\n",
       "      <th></th>\n",
       "      <th>median</th>\n",
       "    </tr>\n",
       "    <tr>\n",
       "      <th>Attrition</th>\n",
       "      <th>JobSatisfaction</th>\n",
       "      <th></th>\n",
       "    </tr>\n",
       "  </thead>\n",
       "  <tbody>\n",
       "    <tr>\n",
       "      <th rowspan=\"4\" valign=\"top\">0</th>\n",
       "      <th>1</th>\n",
       "      <td>5373.0</td>\n",
       "    </tr>\n",
       "    <tr>\n",
       "      <th>2</th>\n",
       "      <td>5178.0</td>\n",
       "    </tr>\n",
       "    <tr>\n",
       "      <th>3</th>\n",
       "      <td>5042.0</td>\n",
       "    </tr>\n",
       "    <tr>\n",
       "      <th>4</th>\n",
       "      <td>5231.0</td>\n",
       "    </tr>\n",
       "    <tr>\n",
       "      <th rowspan=\"4\" valign=\"top\">1</th>\n",
       "      <th>1</th>\n",
       "      <td>3260.0</td>\n",
       "    </tr>\n",
       "    <tr>\n",
       "      <th>2</th>\n",
       "      <td>2811.5</td>\n",
       "    </tr>\n",
       "    <tr>\n",
       "      <th>3</th>\n",
       "      <td>3441.0</td>\n",
       "    </tr>\n",
       "    <tr>\n",
       "      <th>4</th>\n",
       "      <td>3167.0</td>\n",
       "    </tr>\n",
       "  </tbody>\n",
       "</table>\n",
       "</div>\n",
       "      <button class=\"colab-df-convert\" onclick=\"convertToInteractive('df-cc5be500-4606-4cb1-ab7f-2d7ecf82c199')\"\n",
       "              title=\"Convert this dataframe to an interactive table.\"\n",
       "              style=\"display:none;\">\n",
       "        \n",
       "  <svg xmlns=\"http://www.w3.org/2000/svg\" height=\"24px\"viewBox=\"0 0 24 24\"\n",
       "       width=\"24px\">\n",
       "    <path d=\"M0 0h24v24H0V0z\" fill=\"none\"/>\n",
       "    <path d=\"M18.56 5.44l.94 2.06.94-2.06 2.06-.94-2.06-.94-.94-2.06-.94 2.06-2.06.94zm-11 1L8.5 8.5l.94-2.06 2.06-.94-2.06-.94L8.5 2.5l-.94 2.06-2.06.94zm10 10l.94 2.06.94-2.06 2.06-.94-2.06-.94-.94-2.06-.94 2.06-2.06.94z\"/><path d=\"M17.41 7.96l-1.37-1.37c-.4-.4-.92-.59-1.43-.59-.52 0-1.04.2-1.43.59L10.3 9.45l-7.72 7.72c-.78.78-.78 2.05 0 2.83L4 21.41c.39.39.9.59 1.41.59.51 0 1.02-.2 1.41-.59l7.78-7.78 2.81-2.81c.8-.78.8-2.07 0-2.86zM5.41 20L4 18.59l7.72-7.72 1.47 1.35L5.41 20z\"/>\n",
       "  </svg>\n",
       "      </button>\n",
       "      \n",
       "  <style>\n",
       "    .colab-df-container {\n",
       "      display:flex;\n",
       "      flex-wrap:wrap;\n",
       "      gap: 12px;\n",
       "    }\n",
       "\n",
       "    .colab-df-convert {\n",
       "      background-color: #E8F0FE;\n",
       "      border: none;\n",
       "      border-radius: 50%;\n",
       "      cursor: pointer;\n",
       "      display: none;\n",
       "      fill: #1967D2;\n",
       "      height: 32px;\n",
       "      padding: 0 0 0 0;\n",
       "      width: 32px;\n",
       "    }\n",
       "\n",
       "    .colab-df-convert:hover {\n",
       "      background-color: #E2EBFA;\n",
       "      box-shadow: 0px 1px 2px rgba(60, 64, 67, 0.3), 0px 1px 3px 1px rgba(60, 64, 67, 0.15);\n",
       "      fill: #174EA6;\n",
       "    }\n",
       "\n",
       "    [theme=dark] .colab-df-convert {\n",
       "      background-color: #3B4455;\n",
       "      fill: #D2E3FC;\n",
       "    }\n",
       "\n",
       "    [theme=dark] .colab-df-convert:hover {\n",
       "      background-color: #434B5C;\n",
       "      box-shadow: 0px 1px 3px 1px rgba(0, 0, 0, 0.15);\n",
       "      filter: drop-shadow(0px 1px 2px rgba(0, 0, 0, 0.3));\n",
       "      fill: #FFFFFF;\n",
       "    }\n",
       "  </style>\n",
       "\n",
       "      <script>\n",
       "        const buttonEl =\n",
       "          document.querySelector('#df-cc5be500-4606-4cb1-ab7f-2d7ecf82c199 button.colab-df-convert');\n",
       "        buttonEl.style.display =\n",
       "          google.colab.kernel.accessAllowed ? 'block' : 'none';\n",
       "\n",
       "        async function convertToInteractive(key) {\n",
       "          const element = document.querySelector('#df-cc5be500-4606-4cb1-ab7f-2d7ecf82c199');\n",
       "          const dataTable =\n",
       "            await google.colab.kernel.invokeFunction('convertToInteractive',\n",
       "                                                     [key], {});\n",
       "          if (!dataTable) return;\n",
       "\n",
       "          const docLinkHtml = 'Like what you see? Visit the ' +\n",
       "            '<a target=\"_blank\" href=https://colab.research.google.com/notebooks/data_table.ipynb>data table notebook</a>'\n",
       "            + ' to learn more about interactive tables.';\n",
       "          element.innerHTML = '';\n",
       "          dataTable['output_type'] = 'display_data';\n",
       "          await google.colab.output.renderOutput(dataTable, element);\n",
       "          const docLink = document.createElement('div');\n",
       "          docLink.innerHTML = docLinkHtml;\n",
       "          element.appendChild(docLink);\n",
       "        }\n",
       "      </script>\n",
       "    </div>\n",
       "  </div>\n",
       "  "
      ],
      "text/plain": [
       "                          MonthlyIncome\n",
       "                                 median\n",
       "Attrition JobSatisfaction              \n",
       "0         1                      5373.0\n",
       "          2                      5178.0\n",
       "          3                      5042.0\n",
       "          4                      5231.0\n",
       "1         1                      3260.0\n",
       "          2                      2811.5\n",
       "          3                      3441.0\n",
       "          4                      3167.0"
      ]
     },
     "execution_count": 96,
     "metadata": {},
     "output_type": "execute_result"
    }
   ],
   "source": [
    "attrition.groupby([\"Attrition\",\"JobSatisfaction\"])[[\"MonthlyIncome\"]].agg([\"median\"])"
   ]
  },
  {
   "cell_type": "markdown",
   "metadata": {
    "id": "2-liM0GdiwCr"
   },
   "source": [
    "- However, the average salary is significantly low for attrited employees. \n",
    "- Monthly Income can be a major reason for attrition of employees in the company. \n",
    "- Job satisfaction is not a major reason for employee attrition in the company. "
   ]
  },
  {
   "cell_type": "markdown",
   "metadata": {
    "id": "2x1kb47yHZ2S"
   },
   "source": [
    "#### 5) YearsSinceLastPromotion"
   ]
  },
  {
   "cell_type": "markdown",
   "metadata": {
    "id": "kOV0EDkgHcs5"
   },
   "source": [
    "Does the monthly income decrease as the years since last promotion rises?"
   ]
  },
  {
   "cell_type": "code",
   "execution_count": 97,
   "metadata": {
    "colab": {
     "base_uri": "https://localhost:8080/",
     "height": 387
    },
    "executionInfo": {
     "elapsed": 3307,
     "status": "ok",
     "timestamp": 1665313018443,
     "user": {
      "displayName": "SAI.SASI.SEKHAR RALLABANDI",
      "userId": "03962991214365984155"
     },
     "user_tz": -330
    },
    "id": "cLMfRFD_G30b",
    "outputId": "42ff391a-20b4-42f1-f507-c75e00518faf"
   },
   "outputs": [
    {
     "data": {
      "image/png": "[encoded data removed]",
      "text/plain": [
       "<Figure size 360x360 with 1 Axes>"
      ]
     },
     "metadata": {
      "needs_background": "light"
     },
     "output_type": "display_data"
    },
    {
     "data": {
      "text/plain": [
       "<Figure size 1440x864 with 0 Axes>"
      ]
     },
     "metadata": {},
     "output_type": "display_data"
    }
   ],
   "source": [
    "g = sns.PairGrid(attrition,x_vars=[\"MonthlyIncome\"],y_vars=\"YearsSinceLastPromotion\",hue=\"Attrition\",height=5)\n",
    "g.map(plt.bar,alpha=1)\n",
    "plt.legend(loc=(0))\n",
    "plt.figure(figsize=(20,12))\n",
    "\n",
    "plt.show()"
   ]
  },
  {
   "cell_type": "markdown",
   "metadata": {
    "id": "uK659WIyjxyH"
   },
   "source": [
    "- Majority of employees get a salary below 10000 for Years Since Last Promotion less than or equal to 4 years which is very less.\n",
    "\n",
    "\n"
   ]
  },
  {
   "cell_type": "markdown",
   "metadata": {
    "id": "itvM_kX5ITU_"
   },
   "source": [
    "Is promotion for an employee is biased by his/her gender?"
   ]
  },
  {
   "cell_type": "code",
   "execution_count": 98,
   "metadata": {
    "colab": {
     "base_uri": "https://localhost:8080/",
     "height": 296
    },
    "executionInfo": {
     "elapsed": 13,
     "status": "ok",
     "timestamp": 1665313018443,
     "user": {
      "displayName": "SAI.SASI.SEKHAR RALLABANDI",
      "userId": "03962991214365984155"
     },
     "user_tz": -330
    },
    "id": "OnYuP0mEG3wt",
    "outputId": "94009cfa-1e11-4195-9229-0730c98bfe28"
   },
   "outputs": [
    {
     "data": {
      "text/plain": [
       "<matplotlib.axes._subplots.AxesSubplot at 0x7fe9d356f0d0>"
      ]
     },
     "execution_count": 98,
     "metadata": {},
     "output_type": "execute_result"
    },
    {
     "data": {
      "image/png": "[encoded data removed]",
      "text/plain": [
       "<Figure size 432x288 with 1 Axes>"
      ]
     },
     "metadata": {
      "needs_background": "light"
     },
     "output_type": "display_data"
    }
   ],
   "source": [
    "sns.boxplot(x=\"Gender\", y=\"YearsSinceLastPromotion\", data = attrition)"
   ]
  },
  {
   "cell_type": "markdown",
   "metadata": {
    "id": "RUgNwIclj6o4"
   },
   "source": [
    "- Promotion doesn't seems to be gender biased. "
   ]
  },
  {
   "cell_type": "markdown",
   "metadata": {
    "id": "dBdKWvhBIfsO"
   },
   "source": [
    "How is attrition impacted by YearsSinceLastPromotion when categorized by MaritalStatus?"
   ]
  },
  {
   "cell_type": "code",
   "execution_count": 106,
   "metadata": {
    "colab": {
     "base_uri": "https://localhost:8080/",
     "height": 648
    },
    "executionInfo": {
     "elapsed": 660,
     "status": "ok",
     "timestamp": 1665316142881,
     "user": {
      "displayName": "SAI.SASI.SEKHAR RALLABANDI",
      "userId": "03962991214365984155"
     },
     "user_tz": -330
    },
    "id": "pokbsqM9G3uR",
    "outputId": "6dcdd9ad-72f2-445a-98a3-eeaaa4d267d2"
   },
   "outputs": [
    {
     "data": {
      "text/plain": [
       "<seaborn.axisgrid.FacetGrid at 0x7fe9d6600bd0>"
      ]
     },
     "execution_count": 106,
     "metadata": {},
     "output_type": "execute_result"
    },
    {
     "data": {
      "image/png": "[encoded data removed]",
      "text/plain": [
       "<Figure size 432x288 with 1 Axes>"
      ]
     },
     "metadata": {
      "needs_background": "light"
     },
     "output_type": "display_data"
    },
    {
     "data": {
      "image/png": "[encoded data removed]",
      "text/plain": [
       "<Figure size 408.625x360 with 1 Axes>"
      ]
     },
     "metadata": {
      "needs_background": "light"
     },
     "output_type": "display_data"
    }
   ],
   "source": [
    "sns.boxplot(x=\"MaritalStatus\", y=\"YearsSinceLastPromotion\", data = attrition)\n",
    "\n",
    "sns.catplot(x=\"MaritalStatus\", hue=\"Attrition\", kind=\"count\",\n",
    "            edgecolor=\"0.6\",\n",
    "            data=attrition)"
   ]
  },
  {
   "cell_type": "markdown",
   "metadata": {
    "id": "bxdBAnkoj_d8"
   },
   "source": [
    "\n",
    "- It seems like Years Since Last Promotion is majorly impacted by the Marital status i.e., married employees.\n",
    "\n",
    "- Attrition is below 100 for married employees which implies that Years Since Last Promotion does not impact the attrition of married employees."
   ]
  },
  {
   "cell_type": "code",
   "execution_count": 100,
   "metadata": {
    "colab": {
     "base_uri": "https://localhost:8080/",
     "height": 387
    },
    "executionInfo": {
     "elapsed": 3358,
     "status": "ok",
     "timestamp": 1665313022435,
     "user": {
      "displayName": "SAI.SASI.SEKHAR RALLABANDI",
      "userId": "03962991214365984155"
     },
     "user_tz": -330
    },
    "id": "cSs2Q698Io7Z",
    "outputId": "d5f6173e-60d5-4f66-e106-e81809e839c4"
   },
   "outputs": [
    {
     "data": {
      "image/png": "[encoded data removed]",
      "text/plain": [
       "<Figure size 360x360 with 1 Axes>"
      ]
     },
     "metadata": {
      "needs_background": "light"
     },
     "output_type": "display_data"
    },
    {
     "data": {
      "text/plain": [
       "<Figure size 576x288 with 0 Axes>"
      ]
     },
     "metadata": {},
     "output_type": "display_data"
    }
   ],
   "source": [
    "g = sns.PairGrid(attrition,x_vars=[\"Age\"],y_vars=\"YearsSinceLastPromotion\",hue=\"Attrition\",height=5)\n",
    "g.map(plt.bar,alpha=0.5)\n",
    "plt.legend(loc=(0))\n",
    "plt.figure(figsize=(8,4))\n",
    "\n",
    "plt.show() "
   ]
  },
  {
   "cell_type": "markdown",
   "metadata": {
    "id": "nxDhxCdDkGe2"
   },
   "source": [
    "- We can observe that even employees of all age group are equally impacted by Years Since Last Promotion. However, most attrition Has taken place at age below 40 with Years Since Last Promotion below 2 years. \n",
    "\n",
    "- From all the analysis we conclude that Years Since Last Promotion doesn't impact majority of employees for attrition. \n",
    "\n",
    "- The impact is very less."
   ]
  },
  {
   "cell_type": "code",
   "execution_count": null,
   "metadata": {
    "id": "d6uj-qXIkKp6"
   },
   "outputs": [],
   "source": []
  }
 ],
 "metadata": {
  "colab": {
   "collapsed_sections": [],
   "provenance": []
  },
  "kernelspec": {
   "display_name": "Python 3 (ipykernel)",
   "language": "python",
   "name": "python3"
  },
  "language_info": {
   "codemirror_mode": {
    "name": "ipython",
    "version": 3
   },
   "file_extension": ".py",
   "mimetype": "text/x-python",
   "name": "python",
   "nbconvert_exporter": "python",
   "pygments_lexer": "ipython3",
   "version": "3.9.12"
  }
 },
 "nbformat": 4,
 "nbformat_minor": 1
}
